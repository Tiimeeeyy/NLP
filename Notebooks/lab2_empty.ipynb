{
 "cells": [
  {
   "cell_type": "markdown",
   "metadata": {
    "collapsed": false,
    "id": "od2YkWY8pSOC",
    "pycharm": {
     "name": "#%% md\n"
    }
   },
   "source": [
    "# NLP 2025\n",
    "# Lab 2: Word Vectors and Information Retrieval\n",
    "\n",
    "During the first few weeks, we discussed various ways to represent text 📝. One key question was: What should be the basic unit of representation? Words are the fundamental building blocks 🧱.\n",
    "\n",
    "In this lab, we will explore different text representation models, such as Bag-of-Words (BoW), TF-IDF and word embeddings 🔤➡️🔢. Among these, word embeddings are the most effective in terms of performance. They represent each word as a vector of numbers, where each vector captures the meaning of the word 🧠📊.\n",
    "\n",
    "These numerical representations (or weights) are learned using machine learning models 🤖. We’ll dive deeper into how these vectors are learned in the next lecture 📚.\n",
    "\n",
    "For now, we’ll focus on how different representation methods affect performance in an information retrieval task 🔍."
   ]
  },
  {
   "cell_type": "markdown",
   "metadata": {
    "collapsed": false,
    "id": "s93LS5bspSOD",
    "pycharm": {
     "name": "#%% md\n"
    }
   },
   "source": [
    "By the end of this lab, you should be able to:\n",
    "\n",
    "+ 🧼🔁 Implement and/or use built-in functions to preprocess your data (once again!)\n",
    "+ 🧱👜 Build a Bag-of-Words representation of the dataset\n",
    "+ 📊✨ Implement TF-IDF\n",
    "+ 📥🔤 Load pre-trained word embeddings\n",
    "+ 🔍🧠 Inspect and test word embedding properties\n",
    "+ 🗣️➡️📐 Use word embeddings to get sentence representations (aka sentence embeddings)\n",
    "+ 🧩🔎 Use sentence embeddings to solve more complex tasks like information retrieval\n",
    "+ 🧪📏 Design evaluation frameworks for specific NLP tasks and assess their difficulty\n",
    "\n",
    "### Score breakdown\n",
    "\n",
    "| Exercise            | Points |\n",
    "|---------------------|--------|\n",
    "| [Exercise 1](#e1)   | 1      |\n",
    "| [Exercise 2](#e2)   | 1      |\n",
    "| [Exercise 3](#e3)   | 1      |\n",
    "| [Exercise 4](#e4)   | 1      |\n",
    "| [Exercise 5](#e5)   | 1      |\n",
    "| [Exercise 6](#e6)   | 2      |\n",
    "| [Exercise 7](#e7)   | 10     |\n",
    "| [Exercise 8](#e8)   | 5      |\n",
    "| [Exercise 9](#e9)   | 15     |\n",
    "| [Exercise 10](#e10) | 10     |\n",
    "| [Exercise 11](#e11) | 10     |\n",
    "| [Exercise 12](#e12) | 5      |\n",
    "| [Exercise 13](#e13) | 15     |\n",
    "| [Exercise 14](#e14) | 3      |\n",
    "| [Exercise 15](#e15) | 10     |\n",
    "| [Exercise 16](#e16) | 10     |\n",
    "| Total               | 100    |\n",
    "\n",
    "This score will be scaled down to 1 and that will be your final lab score.\n",
    "\n",
    "### 📌 **Instructions for Delivery** (📅 **Deadline: 18/Apr 18:00**, 🎭 *wildcards possible*)\n",
    "\n",
    "✅ **Submission Requirements**\n",
    "+ 📄 You need to submit a **PDF of your report** (use the templates provided in **LaTeX** 🖋️ (*preferred*) or **Word** 📑) and a **copy of your notebook** 📓 with the code.\n",
    "+ ⚡ Make sure that **all cells are executed properly** ⚙️ and that **all figures/results/plots** 📊 you include in the report are also visible in your **executed notebook**.\n",
    "\n",
    "✅ **Collaboration & Integrity**\n",
    "+ 🗣️ While you may **discuss** the lab with others, you must **write your solutions with your group only**. If you **discuss specific tasks** with others, please **include their names** in the appendix of the report.\n",
    "+ 📜 **Honor Code applies** to this lab. For more details, check **Syllabus §7.2** ⚖️.\n",
    "+ 📢 **Mandatory Disclosure**:\n",
    "   - Any **websites** 🌐 (e.g., **Stack Overflow** 💡) or **other resources** used must be **listed and disclosed**.\n",
    "   - Any **GenAI tools** 🤖 (e.g., **ChatGPT**) used must be **explicitly mentioned**.\n",
    "   - 🚨 **Failure to disclose these resources is a violation of academic integrity**. See **Syllabus §7.3** for details."
   ]
  },
  {
   "cell_type": "markdown",
   "metadata": {
    "collapsed": false,
    "id": "aHYGq5RUpSOD",
    "pycharm": {
     "name": "#%% md\n"
    }
   },
   "source": [
    "## 0. Setup\n",
    "\n",
    "As in the last lab, we will be using huggingface datasets library ([https://huggingface.co/datasets](https://huggingface.co/datasets)). You can find the detailed documentation and tutorials here: [https://huggingface.co/docs/datasets/en/index](https://huggingface.co/docs/datasets/en/index)\n",
    "\n",
    "If you don't have it installed you can run the code below or install it via `pip` in your terminal. If you are using Google Colab, you can uncomment and run the code below in a code cell. Restarting of the runtime may be required after installation (Runtime/Restart session)."
   ]
  },
  {
   "cell_type": "code",
   "metadata": {
    "id": "rhEG8hKrpSOE",
    "pycharm": {
     "name": "#%%\n"
    },
    "ExecuteTime": {
     "end_time": "2025-04-14T12:16:36.945473Z",
     "start_time": "2025-04-14T12:16:36.942379Z"
    }
   },
   "source": [
    "# ! pip install -U datasets~=3.5.0\n",
    "# ! pip install -U gensim\n",
    "# ! python -m pip install -U matplotlib\n",
    "# ! pip install nltk\n",
    "# ! pip install -U scikit-learn"
   ],
   "outputs": [],
   "execution_count": 14
  },
  {
   "cell_type": "markdown",
   "source": [
    "Previously installed datasets library version of 3.2.0 had an error when combined with numpy version >2. If you encounter an error at some point it might require to update the datasets library to the newer version. You can do that by running the code below. If you are using Google Colab, you can run the code below in a code cell. If you are using Jupyter Notebook, you can run the code below in a code cell or in a terminal."
   ],
   "metadata": {
    "collapsed": false,
    "pycharm": {
     "name": "#%% md\n"
    }
   }
  },
  {
   "cell_type": "code",
   "source": [
    "# ! pip install --upgrade --force-reinstall datasets"
   ],
   "metadata": {
    "collapsed": false,
    "pycharm": {
     "name": "#%%\n"
    },
    "ExecuteTime": {
     "end_time": "2025-04-14T12:16:36.957200Z",
     "start_time": "2025-04-14T12:16:36.953716Z"
    }
   },
   "outputs": [],
   "execution_count": 15
  },
  {
   "cell_type": "markdown",
   "metadata": {
    "collapsed": false,
    "id": "5CCI1TPJpSOF",
    "pycharm": {
     "name": "#%% md\n"
    }
   },
   "source": [
    "As usual, we start by importing some essential Python libraries and we will be using. Apart from `gensim` (which is going to be used for word embeddings), we have already seen the others."
   ]
  },
  {
   "cell_type": "code",
   "metadata": {
    "id": "CRe8W4hKpSOF",
    "pycharm": {
     "name": "#%%\n"
    },
    "ExecuteTime": {
     "end_time": "2025-04-14T12:16:37.020682Z",
     "start_time": "2025-04-14T12:16:37.014517Z"
    }
   },
   "source": [
    "import re\n",
    "\n",
    "import numpy as np\n",
    "import matplotlib.pyplot as plt\n",
    "import datasets\n",
    "import nltk\n",
    "import tqdm\n",
    "import gensim\n",
    "\n",
    "nltk.download('punkt_tab')"
   ],
   "outputs": [
    {
     "name": "stderr",
     "output_type": "stream",
     "text": [
      "[nltk_data] Downloading package punkt_tab to /home/timey/nltk_data...\n",
      "[nltk_data]   Package punkt_tab is already up-to-date!\n"
     ]
    },
    {
     "data": {
      "text/plain": [
       "True"
      ]
     },
     "execution_count": 16,
     "metadata": {},
     "output_type": "execute_result"
    }
   ],
   "execution_count": 16
  },
  {
   "cell_type": "markdown",
   "metadata": {
    "collapsed": false,
    "id": "NXy-1KiCpSOF",
    "pycharm": {
     "name": "#%% md\n"
    }
   },
   "source": [
    "## 1. Load and Preprocess Data\n",
    "\n",
    "*Sentence compression* involves rephrasing sentences to make them shorter while still retaining the original meaning. A reliable compression system would be valuable for mobile devices and could also serve as a component in an extractive summarization system.\n",
    "\n",
    "The dataset we are going to use can be found on [Huggingface](https://huggingface.co/datasets/embedding-data/sentence-compression). It concerns a set of 180,000 pairs of sentences, aka it is a parallel corpus of sentences and their equivalent compressions. It has been collected by harvesting news articles from the Internet where the headline appears to be similar to the first sentence and that property is used to find an \"extractive\" compression of the sentence.\n",
    "\n",
    "For example, for the sentence\n",
    "\n",
    "`\"Regulators Friday shut down a small Florida bank, bringing to 119 the number of US bank failures this year amid mounting loan defaults\"`\n",
    "\n",
    "the compressed equivalent (based on the dataset) is:\n",
    "\n",
    "`\"Regulators shut down small Florida bank\"`.\n",
    "\n",
    "\n",
    "For more information you can read the original paper (from Google) [here](https://aclanthology.org/D13-1155.pdf). We strongly recommend going over the paper to gain further insights. Notice that the paper is from 2013, therefore word embeddings have not been widely introduced yet in NLP tasks, meaning that the methods applied were based on the traditional NLP pipeline (feature extraction + ML)."
   ]
  },
  {
   "cell_type": "markdown",
   "metadata": {
    "collapsed": false,
    "id": "ztJX2GRVpSOF",
    "pycharm": {
     "name": "#%% md\n"
    }
   },
   "source": [
    "### 1.1 Loading the Dataset\n",
    "\n",
    "The dataset will be loaded as a Pandas DataFrame. This may take a few minutes because of the large size of the data.\n",
    "\n",
    "Make sure to inspect the dataset and make sure it is imported properly."
   ]
  },
  {
   "cell_type": "code",
   "metadata": {
    "id": "tay2NXPTpSOG",
    "pycharm": {
     "name": "#%%\n"
    },
    "ExecuteTime": {
     "end_time": "2025-04-14T12:16:38.824559Z",
     "start_time": "2025-04-14T12:16:37.074808Z"
    }
   },
   "source": [
    "ds = datasets.load_dataset('embedding-data/sentence-compression')\n",
    "print(ds)"
   ],
   "outputs": [
    {
     "name": "stdout",
     "output_type": "stream",
     "text": [
      "DatasetDict({\n",
      "    train: Dataset({\n",
      "        features: ['set'],\n",
      "        num_rows: 180000\n",
      "    })\n",
      "})\n"
     ]
    }
   ],
   "execution_count": 17
  },
  {
   "cell_type": "code",
   "metadata": {
    "id": "bUud3eZVpSOH",
    "pycharm": {
     "name": "#%%\n"
    },
    "ExecuteTime": {
     "end_time": "2025-04-14T12:16:38.842704Z",
     "start_time": "2025-04-14T12:16:38.837213Z"
    }
   },
   "source": [
    "for i in range(10):\n",
    "    print(ds['train'][i])"
   ],
   "outputs": [
    {
     "name": "stdout",
     "output_type": "stream",
     "text": [
      "{'set': [\"The USHL completed an expansion draft on Monday as 10 players who were on the rosters of USHL teams during the 2009-10 season were selected by the League's two newest entries, the Muskegon Lumberjacks and Dubuque Fighting Saints.\", 'USHL completes expansion draft']}\n",
      "{'set': ['Major League Baseball Commissioner Bud Selig will be speaking at St. Norbert College next month.', 'Bud Selig to speak at St. Norbert College']}\n",
      "{'set': [\"It's fresh cherry time in Michigan and the best time to enjoy this delicious and nutritious fruit.\", \"It's cherry time\"]}\n",
      "{'set': ['An Evesham man is facing charges in Pennsylvania after he allegedly dragged his girlfriend from the side of his pickup truck on the campus of Kutztown University in the early morning hours of Dec. 5, police said.', 'Evesham man faces charges for Pa.']}\n",
      "{'set': [\"NRT LLC, one of the nation's largest residential real estate brokerage companies, announced several executive appointments within its Coldwell Banker Residential Brokerage operations in Southern California.\", 'NRT announces executive appointments at its Coldwell Banker operations in Southern California']}\n",
      "{'set': ['THE JSE kept toying with an all time high by midday today as resources continued to fuel the bourse.', 'JSE keeps toying with all time high']}\n",
      "{'set': ['The government is defending the latest police crime statistics despite a worrying rise in the recorded amount of violent offending.', 'Government defends crime statistics']}\n",
      "{'set': ['The renovated Marappalam bridge, which had been opened for two-wheelers last week, was opened for other vehicles also on Friday.', 'Marappalam bridge opened']}\n",
      "{'set': ['A new survey shows 30 percent of Californians use Twitter, and more and more of us are using our smart phones to go online.', 'Survey: 30 percent of Californians use Twitter']}\n",
      "{'set': ['Brightpoint ,a provider of logistic services to the mobile industry, has started operations in the Turkish market.', 'Brightpoint starts operations on Turkish market']}\n"
     ]
    }
   ],
   "execution_count": 18
  },
  {
   "cell_type": "markdown",
   "metadata": {
    "collapsed": false,
    "id": "HfJSiWxrpSOH",
    "pycharm": {
     "name": "#%% md\n"
    }
   },
   "source": [
    "The dataset comes with only the `train` split so we will have to split it ourselves."
   ]
  },
  {
   "cell_type": "code",
   "metadata": {
    "id": "tATL53MWpSOH",
    "pycharm": {
     "name": "#%%\n"
    },
    "ExecuteTime": {
     "end_time": "2025-04-14T12:16:38.952542Z",
     "start_time": "2025-04-14T12:16:38.895576Z"
    }
   },
   "source": [
    "split_ds = ds['train'].train_test_split(test_size=0.2)\n",
    "print(split_ds)"
   ],
   "outputs": [
    {
     "name": "stdout",
     "output_type": "stream",
     "text": [
      "DatasetDict({\n",
      "    train: Dataset({\n",
      "        features: ['set'],\n",
      "        num_rows: 144000\n",
      "    })\n",
      "    test: Dataset({\n",
      "        features: ['set'],\n",
      "        num_rows: 36000\n",
      "    })\n",
      "})\n"
     ]
    }
   ],
   "execution_count": 19
  },
  {
   "cell_type": "markdown",
   "metadata": {
    "collapsed": false,
    "id": "L133t3CqpSOH",
    "pycharm": {
     "name": "#%% md\n"
    }
   },
   "source": [
    "### 1.2 Preprocessing the dataset\n",
    "In this section we will prepare the dataset, aka clean the sentences and tokenize.\n",
    "\n",
    "First, let's write the function to clean the text. It can be similar to the one from the previous lab (Lab1) but make sure that it makes sense for this dataset and task.\n",
    "\n",
    "More specifically, think about lower-casing, punctuation, stop-words and lemmatization/stemming and the impact it might have on the dataset. Also reflect on the fact that with word embeddings we want to uncover semantic relationships between words, whereas with bag-of-words we were trying to capture different morphological variations."
   ]
  },
  {
   "cell_type": "markdown",
   "metadata": {
    "collapsed": false,
    "id": "mQszN6GNpSOH",
    "pycharm": {
     "name": "#%% md\n"
    }
   },
   "source": [
    "<a name='e1'></a>\n",
    "### Exercise 1: Clean function\n",
    "(1p) Fill in the following function ot clean the dataset. Implement at least 3 different steps."
   ]
  },
  {
   "cell_type": "code",
   "metadata": {
    "id": "TxjfLQj6pSOH",
    "pycharm": {
     "name": "#%%\n"
    },
    "ExecuteTime": {
     "end_time": "2025-04-14T12:16:38.966591Z",
     "start_time": "2025-04-14T12:16:38.961902Z"
    }
   },
   "source": [
    "def clean(text):\n",
    "    \"\"\"\n",
    "    Cleans the given text\n",
    "    Args:\n",
    "        text: a str with the text to clean\n",
    "\n",
    "    Returns: a str with the cleaned text\n",
    "\n",
    "    \"\"\"\n",
    "\n",
    "    # Empty text\n",
    "    if text == '':\n",
    "        return text\n",
    "\n",
    "    # 'text' from the example can be of type numpy.str_, let's convert it to a python str\n",
    "    text = str(text)\n",
    "\n",
    "    #you might need more\n",
    "    #add them here\n",
    "\n",
    "    ### YOUR CODE HERE\n",
    "    #First we make everything lowercase:\n",
    "    text = text.lower()\n",
    "    # Then we need regex to convert special characters, but keep alphanumeric and whitespace\n",
    "    # Regex was written with the help of copilot\n",
    "    text = re.sub(r'[^\\w\\s]', ' ', text)\n",
    "    # Then we need to replace multiple spaces with a single space:\n",
    "    text = re.sub(r'\\s+', ' ', text)\n",
    "\n",
    "\n",
    "\n",
    "\n",
    "\n",
    "    ### YOUR CODE ENDS HERE\n",
    "\n",
    "    text = text.strip()\n",
    "\n",
    "    # Update the example with the cleaned text\n",
    "    return text"
   ],
   "outputs": [],
   "execution_count": 20
  },
  {
   "cell_type": "markdown",
   "metadata": {
    "collapsed": false,
    "id": "gAqf1AoupSOJ",
    "pycharm": {
     "name": "#%% md\n"
    }
   },
   "source": [
    "The following function will apply the function (sic) you just wrote to the whole dataset. More specifically, it takes the first entry (`sentence`) from the set of uncompressed/compressed pairs, applies the `clean` function and saves the processed sentence in the field `clean_sentence`. The same is dome for the compressed version of the sentence (saved as `clean_compressed`)."
   ]
  },
  {
   "cell_type": "code",
   "metadata": {
    "id": "WZn-M4_vpSOJ",
    "pycharm": {
     "name": "#%%\n"
    },
    "ExecuteTime": {
     "end_time": "2025-04-14T12:16:39.014641Z",
     "start_time": "2025-04-14T12:16:39.010504Z"
    }
   },
   "source": [
    "def clean_dataset(example):\n",
    "    \"\"\"\n",
    "    Cleans the sentence and compressed sentence in the example from the Dataset\n",
    "    Args:\n",
    "        example: an example from the Dataset\n",
    "\n",
    "    Returns: updated example with 'clean_sentence' and 'clean_compressed' cleaned\n",
    "\n",
    "    \"\"\"\n",
    "    sentence, compressed = example['set']\n",
    "    clean_sentence = clean(sentence)\n",
    "    clean_compressed = clean(compressed)\n",
    "    example['clean_sentence'] = clean_sentence\n",
    "    example['clean_compressed'] = clean_compressed\n",
    "    return example"
   ],
   "outputs": [],
   "execution_count": 21
  },
  {
   "cell_type": "markdown",
   "metadata": {
    "collapsed": false,
    "id": "_KVujosKpSOJ",
    "pycharm": {
     "name": "#%% md\n"
    }
   },
   "source": [
    "Below we apply the function to the whole dataset (using `map`) and we can also inspect the result."
   ]
  },
  {
   "cell_type": "code",
   "metadata": {
    "id": "NBS1JbISpSOJ",
    "pycharm": {
     "name": "#%%\n"
    },
    "ExecuteTime": {
     "end_time": "2025-04-14T12:16:57.142214Z",
     "start_time": "2025-04-14T12:16:39.069876Z"
    }
   },
   "source": [
    "split_ds = split_ds.map(clean_dataset)\n",
    "print(split_ds)"
   ],
   "outputs": [
    {
     "name": "stderr",
     "output_type": "stream",
     "text": [
      "Map: 100%|██████████| 144000/144000 [00:14<00:00, 9685.56 examples/s] \n",
      "Map: 100%|██████████| 36000/36000 [00:03<00:00, 11280.15 examples/s]"
     ]
    },
    {
     "name": "stdout",
     "output_type": "stream",
     "text": [
      "DatasetDict({\n",
      "    train: Dataset({\n",
      "        features: ['set', 'clean_sentence', 'clean_compressed'],\n",
      "        num_rows: 144000\n",
      "    })\n",
      "    test: Dataset({\n",
      "        features: ['set', 'clean_sentence', 'clean_compressed'],\n",
      "        num_rows: 36000\n",
      "    })\n",
      "})\n"
     ]
    },
    {
     "name": "stderr",
     "output_type": "stream",
     "text": [
      "\n"
     ]
    }
   ],
   "execution_count": 22
  },
  {
   "cell_type": "markdown",
   "metadata": {
    "collapsed": false,
    "id": "X_ThE9H-pSOJ",
    "pycharm": {
     "name": "#%% md\n"
    }
   },
   "source": [
    "Let's examine some examples from the dataset and make sure that we got the results we wanted. At this step, it might be necessary to revisit some pre-processing steps if you are not happy with the results."
   ]
  },
  {
   "cell_type": "code",
   "metadata": {
    "id": "hP-qOPijpSOJ",
    "pycharm": {
     "name": "#%%\n"
    },
    "ExecuteTime": {
     "end_time": "2025-04-14T12:16:57.156282Z",
     "start_time": "2025-04-14T12:16:57.151748Z"
    }
   },
   "source": [
    "for i in range(10):\n",
    "    print(split_ds['train'][i])"
   ],
   "outputs": [
    {
     "name": "stdout",
     "output_type": "stream",
     "text": [
      "{'set': ['German fixed network operator Versatel has provided network connectivity services to Berlin-based Flatliners, provider of medical consultancy services to the film industry.', 'Versatel provides connectivity services for Flatliners'], 'clean_sentence': 'german fixed network operator versatel has provided network connectivity services to berlin based flatliners provider of medical consultancy services to the film industry', 'clean_compressed': 'versatel provides connectivity services for flatliners'}\n",
      "{'set': ['BC-HKNLightning-Sabres,0245 Stamkos scores 1st 2 NHL goals in Tampa Bay win Eds:', 'Stamkos scores 1st 2 NHL goals in Tampa Bay win'], 'clean_sentence': 'bc hknlightning sabres 0245 stamkos scores 1st 2 nhl goals in tampa bay win eds', 'clean_compressed': 'stamkos scores 1st 2 nhl goals in tampa bay win'}\n",
      "{'set': ['A man was duped of Rs 2 lakh on the promise of being provided with a job in the secretariat.', 'Man duped of Rs 2 lakh'], 'clean_sentence': 'a man was duped of rs 2 lakh on the promise of being provided with a job in the secretariat', 'clean_compressed': 'man duped of rs 2 lakh'}\n",
      "{'set': [\"Officials in the Bahamas who conducted an autopsy Monday on Jett Travolta said the 16-year-old son of actor John Travolta died here last week of a 'seizure,' and that his body showed no signs of head trauma.\", \"Jett Travolta died of 'seizure':\"], 'clean_sentence': 'officials in the bahamas who conducted an autopsy monday on jett travolta said the 16 year old son of actor john travolta died here last week of a seizure and that his body showed no signs of head trauma', 'clean_compressed': 'jett travolta died of seizure'}\n",
      "{'set': ['Bus services across Sussex have been affected by the weather, snow, ice and abandoned cars.', 'Bus services affected by weather'], 'clean_sentence': 'bus services across sussex have been affected by the weather snow ice and abandoned cars', 'clean_compressed': 'bus services affected by weather'}\n",
      "{'set': ['TomTom today brings professional navigation technology to individual truck drivers with the launch of its PRO 5150 TRUCK LIVE.', 'TomTom brings professional navigation technology to individual TRUCK drivers'], 'clean_sentence': 'tomtom today brings professional navigation technology to individual truck drivers with the launch of its pro 5150 truck live', 'clean_compressed': 'tomtom brings professional navigation technology to individual truck drivers'}\n",
      "{'set': ['The North Dakota Game and Fish Department says the first mountain lion of the season has been killed, in Dunn County.', 'First mountain lion of season killed in Dunn County'], 'clean_sentence': 'the north dakota game and fish department says the first mountain lion of the season has been killed in dunn county', 'clean_compressed': 'first mountain lion of season killed in dunn county'}\n",
      "{'set': ['WELL-bred Barangaroo, who was once considered a Thousand Guineas filly, has relished a drop in class to score at Moonee Valley.', 'Barangaroo relishes drop in class'], 'clean_sentence': 'well bred barangaroo who was once considered a thousand guineas filly has relished a drop in class to score at moonee valley', 'clean_compressed': 'barangaroo relishes drop in class'}\n",
      "{'set': [\"Georgia free from ``No Child Left Behind'', so what's next for states, school systems, teachers, and students?\", \"Georgia freed from ``No Child Left Behind''\"], 'clean_sentence': 'georgia free from no child left behind so what s next for states school systems teachers and students', 'clean_compressed': 'georgia freed from no child left behind'}\n",
      "{'set': [\"A former care home manager who lived a life of ''lies, forgery and deceit'' has been jailed for 10 years for killing an elderly resident after stealing patients' drugs to feed her own addiction.\", 'Care home manager jailed for killing elderly resident'], 'clean_sentence': 'a former care home manager who lived a life of lies forgery and deceit has been jailed for 10 years for killing an elderly resident after stealing patients drugs to feed her own addiction', 'clean_compressed': 'care home manager jailed for killing elderly resident'}\n"
     ]
    }
   ],
   "execution_count": 23
  },
  {
   "cell_type": "markdown",
   "metadata": {
    "collapsed": false,
    "id": "7LI2KlfypSOJ",
    "pycharm": {
     "name": "#%% md\n"
    }
   },
   "source": [
    "<a name='e2'></a>\n",
    "### Exercise 2: Tokenize function\n",
    "\n",
    "(1p) As always, we will need to tokenize the dataset in order to create bat-of-words and TF-IDF representations in the next sections. We will use the [Natural Language Toolkit (NLTK) library]([https://www.nltk.org/]) (https://www.nltk.org/). Complete the following function to split the text into tokens using the `word_tokenize()` function. Check the [documentation](https://www.nltk.org/api/nltk.tokenize.word_tokenize.html?highlight=word_tokenize) first.\n",
    "Note that there are different tokenizers e.g. `RegexpTokenizer` where you can enter your own regexp, `WhitespaceTokenizer` (similar to Python's string.split()) and `BlanklineTokenizer`."
   ]
  },
  {
   "cell_type": "code",
   "metadata": {
    "id": "sb-M3V6ApSOK",
    "pycharm": {
     "name": "#%%\n"
    },
    "ExecuteTime": {
     "end_time": "2025-04-14T12:16:57.205060Z",
     "start_time": "2025-04-14T12:16:57.201511Z"
    }
   },
   "source": [
    "def tokenize(text):\n",
    "    \"\"\"\n",
    "    Tokenizes the `text` parameter using nltk library\n",
    "    Args:\n",
    "        text: a string representing a sentence to be tokenized\n",
    "\n",
    "    Returns: a list of tokens (strings)\n",
    "\n",
    "    \"\"\"\n",
    "\n",
    "    ### YOUR CODE HERE\n",
    "    # Here we can simply call the word_tokenize function from nltk tokenize:\n",
    "    from nltk.tokenize import word_tokenize\n",
    "    # And tokenize out input:\n",
    "    tokens = word_tokenize(text)\n",
    "    ### YOUR CODE ENDS HERE\n",
    "    return tokens"
   ],
   "outputs": [],
   "execution_count": 24
  },
  {
   "cell_type": "markdown",
   "metadata": {
    "collapsed": false,
    "id": "gwsHqZc9pSOK",
    "pycharm": {
     "name": "#%% md\n"
    }
   },
   "source": [
    "Next, the function will be applied to the whole dataset (as we did with the pre-processing) and `sentence_tokens` field will be created to store the result."
   ]
  },
  {
   "cell_type": "code",
   "metadata": {
    "id": "6sTX-AcTpSOK",
    "pycharm": {
     "name": "#%%\n"
    },
    "ExecuteTime": {
     "end_time": "2025-04-14T12:16:57.255118Z",
     "start_time": "2025-04-14T12:16:57.251705Z"
    }
   },
   "source": [
    "def tokenize_dataset(example):\n",
    "    \"\"\"\n",
    "    Tokenizes 'clean_sentence' columns in the example from the Dataset\n",
    "    Args:\n",
    "        example: an example from the Dataset\n",
    "\n",
    "    Returns: updated example with 'sentence_tokens' columns\n",
    "\n",
    "    \"\"\"\n",
    "    example['sentence_tokens'] = tokenize(example['clean_sentence'])\n",
    "    example['compressed_tokens'] = tokenize(example['clean_compressed'])\n",
    "    return example"
   ],
   "outputs": [],
   "execution_count": 25
  },
  {
   "cell_type": "code",
   "metadata": {
    "id": "jvwmXLj2pSOK",
    "pycharm": {
     "name": "#%%\n"
    },
    "ExecuteTime": {
     "end_time": "2025-04-14T12:17:30.270471Z",
     "start_time": "2025-04-14T12:16:57.300708Z"
    }
   },
   "source": [
    "split_ds = split_ds.map(tokenize_dataset)"
   ],
   "outputs": [
    {
     "name": "stderr",
     "output_type": "stream",
     "text": [
      "Map: 100%|██████████| 144000/144000 [00:26<00:00, 5472.97 examples/s]\n",
      "Map: 100%|██████████| 36000/36000 [00:06<00:00, 5417.63 examples/s]\n"
     ]
    }
   ],
   "execution_count": 26
  },
  {
   "cell_type": "code",
   "metadata": {
    "id": "yXnje31SpSOK",
    "pycharm": {
     "name": "#%%\n"
    },
    "ExecuteTime": {
     "end_time": "2025-04-14T12:17:30.288871Z",
     "start_time": "2025-04-14T12:17:30.276828Z"
    }
   },
   "source": [
    "for i in range(10):\n",
    "    print(split_ds['train'][i])"
   ],
   "outputs": [
    {
     "name": "stdout",
     "output_type": "stream",
     "text": [
      "{'set': ['German fixed network operator Versatel has provided network connectivity services to Berlin-based Flatliners, provider of medical consultancy services to the film industry.', 'Versatel provides connectivity services for Flatliners'], 'clean_sentence': 'german fixed network operator versatel has provided network connectivity services to berlin based flatliners provider of medical consultancy services to the film industry', 'clean_compressed': 'versatel provides connectivity services for flatliners', 'sentence_tokens': ['german', 'fixed', 'network', 'operator', 'versatel', 'has', 'provided', 'network', 'connectivity', 'services', 'to', 'berlin', 'based', 'flatliners', 'provider', 'of', 'medical', 'consultancy', 'services', 'to', 'the', 'film', 'industry'], 'compressed_tokens': ['versatel', 'provides', 'connectivity', 'services', 'for', 'flatliners']}\n",
      "{'set': ['BC-HKNLightning-Sabres,0245 Stamkos scores 1st 2 NHL goals in Tampa Bay win Eds:', 'Stamkos scores 1st 2 NHL goals in Tampa Bay win'], 'clean_sentence': 'bc hknlightning sabres 0245 stamkos scores 1st 2 nhl goals in tampa bay win eds', 'clean_compressed': 'stamkos scores 1st 2 nhl goals in tampa bay win', 'sentence_tokens': ['bc', 'hknlightning', 'sabres', '0245', 'stamkos', 'scores', '1st', '2', 'nhl', 'goals', 'in', 'tampa', 'bay', 'win', 'eds'], 'compressed_tokens': ['stamkos', 'scores', '1st', '2', 'nhl', 'goals', 'in', 'tampa', 'bay', 'win']}\n",
      "{'set': ['A man was duped of Rs 2 lakh on the promise of being provided with a job in the secretariat.', 'Man duped of Rs 2 lakh'], 'clean_sentence': 'a man was duped of rs 2 lakh on the promise of being provided with a job in the secretariat', 'clean_compressed': 'man duped of rs 2 lakh', 'sentence_tokens': ['a', 'man', 'was', 'duped', 'of', 'rs', '2', 'lakh', 'on', 'the', 'promise', 'of', 'being', 'provided', 'with', 'a', 'job', 'in', 'the', 'secretariat'], 'compressed_tokens': ['man', 'duped', 'of', 'rs', '2', 'lakh']}\n",
      "{'set': [\"Officials in the Bahamas who conducted an autopsy Monday on Jett Travolta said the 16-year-old son of actor John Travolta died here last week of a 'seizure,' and that his body showed no signs of head trauma.\", \"Jett Travolta died of 'seizure':\"], 'clean_sentence': 'officials in the bahamas who conducted an autopsy monday on jett travolta said the 16 year old son of actor john travolta died here last week of a seizure and that his body showed no signs of head trauma', 'clean_compressed': 'jett travolta died of seizure', 'sentence_tokens': ['officials', 'in', 'the', 'bahamas', 'who', 'conducted', 'an', 'autopsy', 'monday', 'on', 'jett', 'travolta', 'said', 'the', '16', 'year', 'old', 'son', 'of', 'actor', 'john', 'travolta', 'died', 'here', 'last', 'week', 'of', 'a', 'seizure', 'and', 'that', 'his', 'body', 'showed', 'no', 'signs', 'of', 'head', 'trauma'], 'compressed_tokens': ['jett', 'travolta', 'died', 'of', 'seizure']}\n",
      "{'set': ['Bus services across Sussex have been affected by the weather, snow, ice and abandoned cars.', 'Bus services affected by weather'], 'clean_sentence': 'bus services across sussex have been affected by the weather snow ice and abandoned cars', 'clean_compressed': 'bus services affected by weather', 'sentence_tokens': ['bus', 'services', 'across', 'sussex', 'have', 'been', 'affected', 'by', 'the', 'weather', 'snow', 'ice', 'and', 'abandoned', 'cars'], 'compressed_tokens': ['bus', 'services', 'affected', 'by', 'weather']}\n",
      "{'set': ['TomTom today brings professional navigation technology to individual truck drivers with the launch of its PRO 5150 TRUCK LIVE.', 'TomTom brings professional navigation technology to individual TRUCK drivers'], 'clean_sentence': 'tomtom today brings professional navigation technology to individual truck drivers with the launch of its pro 5150 truck live', 'clean_compressed': 'tomtom brings professional navigation technology to individual truck drivers', 'sentence_tokens': ['tomtom', 'today', 'brings', 'professional', 'navigation', 'technology', 'to', 'individual', 'truck', 'drivers', 'with', 'the', 'launch', 'of', 'its', 'pro', '5150', 'truck', 'live'], 'compressed_tokens': ['tomtom', 'brings', 'professional', 'navigation', 'technology', 'to', 'individual', 'truck', 'drivers']}\n",
      "{'set': ['The North Dakota Game and Fish Department says the first mountain lion of the season has been killed, in Dunn County.', 'First mountain lion of season killed in Dunn County'], 'clean_sentence': 'the north dakota game and fish department says the first mountain lion of the season has been killed in dunn county', 'clean_compressed': 'first mountain lion of season killed in dunn county', 'sentence_tokens': ['the', 'north', 'dakota', 'game', 'and', 'fish', 'department', 'says', 'the', 'first', 'mountain', 'lion', 'of', 'the', 'season', 'has', 'been', 'killed', 'in', 'dunn', 'county'], 'compressed_tokens': ['first', 'mountain', 'lion', 'of', 'season', 'killed', 'in', 'dunn', 'county']}\n",
      "{'set': ['WELL-bred Barangaroo, who was once considered a Thousand Guineas filly, has relished a drop in class to score at Moonee Valley.', 'Barangaroo relishes drop in class'], 'clean_sentence': 'well bred barangaroo who was once considered a thousand guineas filly has relished a drop in class to score at moonee valley', 'clean_compressed': 'barangaroo relishes drop in class', 'sentence_tokens': ['well', 'bred', 'barangaroo', 'who', 'was', 'once', 'considered', 'a', 'thousand', 'guineas', 'filly', 'has', 'relished', 'a', 'drop', 'in', 'class', 'to', 'score', 'at', 'moonee', 'valley'], 'compressed_tokens': ['barangaroo', 'relishes', 'drop', 'in', 'class']}\n",
      "{'set': [\"Georgia free from ``No Child Left Behind'', so what's next for states, school systems, teachers, and students?\", \"Georgia freed from ``No Child Left Behind''\"], 'clean_sentence': 'georgia free from no child left behind so what s next for states school systems teachers and students', 'clean_compressed': 'georgia freed from no child left behind', 'sentence_tokens': ['georgia', 'free', 'from', 'no', 'child', 'left', 'behind', 'so', 'what', 's', 'next', 'for', 'states', 'school', 'systems', 'teachers', 'and', 'students'], 'compressed_tokens': ['georgia', 'freed', 'from', 'no', 'child', 'left', 'behind']}\n",
      "{'set': [\"A former care home manager who lived a life of ''lies, forgery and deceit'' has been jailed for 10 years for killing an elderly resident after stealing patients' drugs to feed her own addiction.\", 'Care home manager jailed for killing elderly resident'], 'clean_sentence': 'a former care home manager who lived a life of lies forgery and deceit has been jailed for 10 years for killing an elderly resident after stealing patients drugs to feed her own addiction', 'clean_compressed': 'care home manager jailed for killing elderly resident', 'sentence_tokens': ['a', 'former', 'care', 'home', 'manager', 'who', 'lived', 'a', 'life', 'of', 'lies', 'forgery', 'and', 'deceit', 'has', 'been', 'jailed', 'for', '10', 'years', 'for', 'killing', 'an', 'elderly', 'resident', 'after', 'stealing', 'patients', 'drugs', 'to', 'feed', 'her', 'own', 'addiction'], 'compressed_tokens': ['care', 'home', 'manager', 'jailed', 'for', 'killing', 'elderly', 'resident']}\n"
     ]
    }
   ],
   "execution_count": 27
  },
  {
   "cell_type": "markdown",
   "metadata": {
    "collapsed": false,
    "id": "FeF0wFd0pSOL",
    "pycharm": {
     "name": "#%% md\n"
    }
   },
   "source": [
    "Since we will need the tokenized sentences, we can use the following statement to extract them from the `train` split of our dataset."
   ]
  },
  {
   "cell_type": "code",
   "metadata": {
    "id": "qYKfXFxQpSOL",
    "pycharm": {
     "name": "#%%\n"
    },
    "ExecuteTime": {
     "end_time": "2025-04-14T12:17:33.383218Z",
     "start_time": "2025-04-14T12:17:30.323068Z"
    }
   },
   "source": [
    "tokenized_sentences = split_ds['train']['sentence_tokens']\n",
    "print(len(tokenized_sentences))\n",
    "print(tokenized_sentences[:10])"
   ],
   "outputs": [
    {
     "name": "stdout",
     "output_type": "stream",
     "text": [
      "144000\n",
      "[['german', 'fixed', 'network', 'operator', 'versatel', 'has', 'provided', 'network', 'connectivity', 'services', 'to', 'berlin', 'based', 'flatliners', 'provider', 'of', 'medical', 'consultancy', 'services', 'to', 'the', 'film', 'industry'], ['bc', 'hknlightning', 'sabres', '0245', 'stamkos', 'scores', '1st', '2', 'nhl', 'goals', 'in', 'tampa', 'bay', 'win', 'eds'], ['a', 'man', 'was', 'duped', 'of', 'rs', '2', 'lakh', 'on', 'the', 'promise', 'of', 'being', 'provided', 'with', 'a', 'job', 'in', 'the', 'secretariat'], ['officials', 'in', 'the', 'bahamas', 'who', 'conducted', 'an', 'autopsy', 'monday', 'on', 'jett', 'travolta', 'said', 'the', '16', 'year', 'old', 'son', 'of', 'actor', 'john', 'travolta', 'died', 'here', 'last', 'week', 'of', 'a', 'seizure', 'and', 'that', 'his', 'body', 'showed', 'no', 'signs', 'of', 'head', 'trauma'], ['bus', 'services', 'across', 'sussex', 'have', 'been', 'affected', 'by', 'the', 'weather', 'snow', 'ice', 'and', 'abandoned', 'cars'], ['tomtom', 'today', 'brings', 'professional', 'navigation', 'technology', 'to', 'individual', 'truck', 'drivers', 'with', 'the', 'launch', 'of', 'its', 'pro', '5150', 'truck', 'live'], ['the', 'north', 'dakota', 'game', 'and', 'fish', 'department', 'says', 'the', 'first', 'mountain', 'lion', 'of', 'the', 'season', 'has', 'been', 'killed', 'in', 'dunn', 'county'], ['well', 'bred', 'barangaroo', 'who', 'was', 'once', 'considered', 'a', 'thousand', 'guineas', 'filly', 'has', 'relished', 'a', 'drop', 'in', 'class', 'to', 'score', 'at', 'moonee', 'valley'], ['georgia', 'free', 'from', 'no', 'child', 'left', 'behind', 'so', 'what', 's', 'next', 'for', 'states', 'school', 'systems', 'teachers', 'and', 'students'], ['a', 'former', 'care', 'home', 'manager', 'who', 'lived', 'a', 'life', 'of', 'lies', 'forgery', 'and', 'deceit', 'has', 'been', 'jailed', 'for', '10', 'years', 'for', 'killing', 'an', 'elderly', 'resident', 'after', 'stealing', 'patients', 'drugs', 'to', 'feed', 'her', 'own', 'addiction']]\n"
     ]
    }
   ],
   "execution_count": 28
  },
  {
   "cell_type": "code",
   "source": [
    "tokenized_compressed = split_ds['train']['compressed_tokens']\n",
    "print(len(tokenized_compressed))\n",
    "print(tokenized_compressed[:10])"
   ],
   "metadata": {
    "collapsed": false,
    "pycharm": {
     "name": "#%%\n"
    },
    "ExecuteTime": {
     "end_time": "2025-04-14T12:17:34.455964Z",
     "start_time": "2025-04-14T12:17:33.428224Z"
    }
   },
   "outputs": [
    {
     "name": "stdout",
     "output_type": "stream",
     "text": [
      "144000\n",
      "[['versatel', 'provides', 'connectivity', 'services', 'for', 'flatliners'], ['stamkos', 'scores', '1st', '2', 'nhl', 'goals', 'in', 'tampa', 'bay', 'win'], ['man', 'duped', 'of', 'rs', '2', 'lakh'], ['jett', 'travolta', 'died', 'of', 'seizure'], ['bus', 'services', 'affected', 'by', 'weather'], ['tomtom', 'brings', 'professional', 'navigation', 'technology', 'to', 'individual', 'truck', 'drivers'], ['first', 'mountain', 'lion', 'of', 'season', 'killed', 'in', 'dunn', 'county'], ['barangaroo', 'relishes', 'drop', 'in', 'class'], ['georgia', 'freed', 'from', 'no', 'child', 'left', 'behind'], ['care', 'home', 'manager', 'jailed', 'for', 'killing', 'elderly', 'resident']]\n"
     ]
    }
   ],
   "execution_count": 29
  },
  {
   "cell_type": "markdown",
   "metadata": {
    "id": "ZDGwEiZeCA5U",
    "pycharm": {
     "name": "#%% md\n"
    }
   },
   "source": [
    "Notice the difference in the types of the different structures we use. Run the following cell to check the types. Do they make sense to you?"
   ]
  },
  {
   "cell_type": "code",
   "metadata": {
    "id": "wKrkFmcZCtOd",
    "pycharm": {
     "name": "#%%\n"
    },
    "ExecuteTime": {
     "end_time": "2025-04-14T12:17:41.089554Z",
     "start_time": "2025-04-14T12:17:34.501217Z"
    }
   },
   "source": [
    "#type of original dataset\n",
    "print(type(split_ds))\n",
    "print(\"--\")\n",
    "#type of original sentence\n",
    "print(split_ds['train'][1])\n",
    "print(type(split_ds['train'][1]))\n",
    "print(\"--\")\n",
    "#type of pre-proceesed sentence\n",
    "print(split_ds['train']['clean_sentence'][1])\n",
    "print(type(split_ds['train']['clean_sentence'][1]))\n",
    "print(\"--\")\n",
    "#type of tokenized sentence\n",
    "print(split_ds['train']['sentence_tokens'][1])\n",
    "print(type(split_ds['train']['sentence_tokens'][1]))\n",
    "print(\"--\")"
   ],
   "outputs": [
    {
     "name": "stdout",
     "output_type": "stream",
     "text": [
      "<class 'datasets.dataset_dict.DatasetDict'>\n",
      "--\n",
      "{'set': ['BC-HKNLightning-Sabres,0245 Stamkos scores 1st 2 NHL goals in Tampa Bay win Eds:', 'Stamkos scores 1st 2 NHL goals in Tampa Bay win'], 'clean_sentence': 'bc hknlightning sabres 0245 stamkos scores 1st 2 nhl goals in tampa bay win eds', 'clean_compressed': 'stamkos scores 1st 2 nhl goals in tampa bay win', 'sentence_tokens': ['bc', 'hknlightning', 'sabres', '0245', 'stamkos', 'scores', '1st', '2', 'nhl', 'goals', 'in', 'tampa', 'bay', 'win', 'eds'], 'compressed_tokens': ['stamkos', 'scores', '1st', '2', 'nhl', 'goals', 'in', 'tampa', 'bay', 'win']}\n",
      "<class 'dict'>\n",
      "--\n",
      "bc hknlightning sabres 0245 stamkos scores 1st 2 nhl goals in tampa bay win eds\n",
      "<class 'str'>\n",
      "--\n",
      "['bc', 'hknlightning', 'sabres', '0245', 'stamkos', 'scores', '1st', '2', 'nhl', 'goals', 'in', 'tampa', 'bay', 'win', 'eds']\n",
      "<class 'list'>\n",
      "--\n"
     ]
    }
   ],
   "execution_count": 30
  },
  {
   "cell_type": "markdown",
   "source": [
    "## 2. Bag of Words\n",
    "In this section you will built a bag-of-words representation of the dataset. We will use numpy arrays to store the results. The bag-of-words representation is a simple and effective way to represent text data. It involves creating a vocabulary of unique words from the dataset and representing each sentence as a vector of word counts. We first need the vocabulary, which we will build from both the full sentences and the compressed sentences. Similar to the first lab, the vocabulary will be a list of unique words from the dataset."
   ],
   "metadata": {
    "collapsed": false,
    "pycharm": {
     "name": "#%% md\n"
    }
   }
  },
  {
   "cell_type": "markdown",
   "source": [
    "<a name='e3'></a>\n",
    "### Exercise 3: Extracting vocabulary counts\n",
    "\n",
    "(1p) In the following cell, you will implement a function that takes a list of tokenized sentences and returns a dictionary with the counts of each word in the vocabulary. The dictionary should be of the form {word: count}. As in previous lab, you will use the `Counter` class from the `collections` module to do this."
   ],
   "metadata": {
    "collapsed": false,
    "pycharm": {
     "name": "#%% md\n"
    }
   }
  },
  {
   "cell_type": "code",
   "source": [
    "from collections import Counter\n",
    "\n",
    "\n",
    "def extract_vocabulary_counts(tokenized_sentences):\n",
    "    \"\"\"\n",
    "    Extracts the vocabulary from the tokenized sentences\n",
    "    Args:\n",
    "        tokenized_sentences: a list of lists of tokens\n",
    "\n",
    "    Returns: a Counter object with the counts of each word in the vocabulary\n",
    "    \"\"\"\n",
    "\n",
    "    ### YOUR CODE HERE\n",
    "    # First we initialize our counter:\n",
    "    word_counts = Counter()\n",
    "    # Then we iterate over all tokenized sentences and update the counter accordingly\n",
    "    for sentence in tokenized_sentences:\n",
    "        word_counts.update(sentence)\n",
    "    return word_counts\n",
    "\n",
    "\n",
    "    ### YOUR CODE ENDS HERE"
   ],
   "metadata": {
    "collapsed": false,
    "pycharm": {
     "name": "#%%\n"
    },
    "ExecuteTime": {
     "end_time": "2025-04-14T12:17:41.098845Z",
     "start_time": "2025-04-14T12:17:41.096085Z"
    }
   },
   "outputs": [],
   "execution_count": 31
  },
  {
   "cell_type": "code",
   "source": [
    "vocab_counter = extract_vocabulary_counts(tokenized_sentences + tokenized_compressed)\n",
    "print(len(vocab_counter))\n",
    "print(vocab_counter.most_common(10))"
   ],
   "metadata": {
    "collapsed": false,
    "pycharm": {
     "name": "#%%\n"
    },
    "ExecuteTime": {
     "end_time": "2025-04-14T12:17:41.747673Z",
     "start_time": "2025-04-14T12:17:41.140346Z"
    }
   },
   "outputs": [
    {
     "name": "stdout",
     "output_type": "stream",
     "text": [
      "97606\n",
      "[('the', 183169), ('to', 130863), ('a', 117580), ('in', 113645), ('of', 100868), ('and', 68740), ('on', 56415), ('for', 51870), ('has', 39294), ('s', 32450)]\n"
     ]
    }
   ],
   "execution_count": 32
  },
  {
   "cell_type": "markdown",
   "source": [
    "As you can see the size of the vocabulary is quite large. Like the last time, we will limit the vocabulary to the most frequent words. The next cell will create a dictionary that maps each word to an index in the vocabulary. This will be used to create the bag-of-words representation of the sentences."
   ],
   "metadata": {
    "collapsed": false,
    "pycharm": {
     "name": "#%% md\n"
    }
   }
  },
  {
   "cell_type": "code",
   "source": [
    "vocab_size = 10_000\n",
    "vocab = vocab_counter.most_common(vocab_size)\n",
    "token_to_id = {word: i for i, (word, _) in enumerate(vocab)}\n",
    "print(token_to_id)"
   ],
   "metadata": {
    "collapsed": false,
    "pycharm": {
     "name": "#%%\n"
    },
    "ExecuteTime": {
     "end_time": "2025-04-14T12:17:42.271049Z",
     "start_time": "2025-04-14T12:17:41.851217Z"
    }
   },
   "outputs": [
    {
     "name": "stdout",
     "output_type": "stream",
     "text": [
      "{'the': 0, 'to': 1, 'a': 2, 'in': 3, 'of': 4, 'and': 5, 'on': 6, 'for': 7, 'has': 8, 's': 9, 'with': 10, 'at': 11, 'is': 12, 'that': 13, 'from': 14, 'by': 15, 'as': 16, 'new': 17, 'will': 18, 'said': 19, 'after': 20, 'his': 21, 'an': 22, 'its': 23, 'was': 24, 'it': 25, 'be': 26, 'have': 27, 'he': 28, 'man': 29, 'us': 30, 'year': 31, 'are': 32, 'been': 33, 'today': 34, 'two': 35, 'police': 36, 'this': 37, 'their': 38, 'first': 39, 'her': 40, 'over': 41, 'who': 42, 'up': 43, 'announced': 44, 'tuesday': 45, 'not': 46, 'state': 47, 'more': 48, 'wednesday': 49, 'against': 50, 'thursday': 51, 'monday': 52, 'out': 53, 'friday': 54, 'president': 55, 'former': 56, 'one': 57, 'says': 58, '1': 59, 'million': 60, 'into': 61, 'world': 62, 'city': 63, 'last': 64, 'which': 65, 'county': 66, 'were': 67, 'according': 68, 'three': 69, 'may': 70, 'woman': 71, 'week': 72, 'about': 73, 'saturday': 74, 'than': 75, 'government': 76, 'sunday': 77, 'minister': 78, 'years': 79, 'i': 80, 'home': 81, 'company': 82, 'time': 83, 'people': 84, '2': 85, 'day': 86, 'she': 87, 'old': 88, 'all': 89, 'during': 90, '000': 91, 'but': 92, 'india': 93, 'off': 94, 'they': 95, 'night': 96, 'when': 97, 'killed': 98, 'bank': 99, 'south': 100, 'national': 101, 'being': 102, 'second': 103, 'arrested': 104, 'next': 105, 'court': 106, 'morning': 107, 'found': 108, '3': 109, 'school': 110, 'died': 111, '5': 112, 'country': 113, 'set': 114, 'back': 115, 'obama': 116, 't': 117, 'charged': 118, 'had': 119, 'would': 120, 'can': 121, 'no': 122, 'could': 123, 'market': 124, 'group': 125, 'reported': 126, 'down': 127, 'high': 128, 'china': 129, 'season': 130, 'international': 131, 'fire': 132, 'month': 133, 'team': 134, 'business': 135, '10': 136, 'four': 137, 'star': 138, 'oil': 139, 'open': 140, 'house': 141, 'car': 142, 'north': 143, 'while': 144, 'service': 145, '4': 146, 'news': 147, 'early': 148, 'charges': 149, 'inc': 150, 'or': 151, 'united': 152, 'reports': 153, 'prices': 154, 'officials': 155, 'now': 156, 'global': 157, 'hospital': 158, 'plans': 159, 'dies': 160, 'some': 161, 'american': 162, 'report': 163, 'following': 164, 'death': 165, 'guilty': 166, 'billion': 167, 'public': 168, 'five': 169, 'york': 170, 'league': 171, 'hit': 172, 'yesterday': 173, 'him': 174, '6': 175, 'end': 176, 'health': 177, 'released': 178, 'under': 179, 'services': 180, 'near': 181, '2012': 182, 'game': 183, 'west': 184, 'chief': 185, 'show': 186, 'pakistan': 187, 'say': 188, 'federal': 189, 'office': 190, 'made': 191, 'through': 192, 'security': 193, 'just': 194, 'most': 195, 'help': 196, 'financial': 197, 'based': 198, 'take': 199, 'percent': 200, 'third': 201, 'other': 202, 'make': 203, 'won': 204, 'indian': 205, 'months': 206, 'coach': 207, 'economic': 208, 'top': 209, 'before': 210, 'play': 211, 'local': 212, 'we': 213, '7': 214, 'accused': 215, 'expected': 216, 'what': 217, 'you': 218, 'another': 219, 'life': 220, 'per': 221, 'john': 222, 'jobs': 223, 'launched': 224, 'british': 225, 'should': 226, 'party': 227, 'work': 228, 'women': 229, 'official': 230, 'part': 231, 'announces': 232, 'center': 233, 'uk': 234, 'here': 235, 'power': 236, 'dead': 237, 'left': 238, 'university': 239, '2010': 240, 'general': 241, '11': 242, 'record': 243, 'six': 244, 'between': 245, 'european': 246, 'energy': 247, 'win': 248, 'if': 249, 'free': 250, 'held': 251, 'launches': 252, 'trade': 253, 'deal': 254, 'major': 255, 'leader': 256, 'cup': 257, 'quarter': 258, '20': 259, '0': 260, 'shot': 261, 'media': 262, 'air': 263, 'crash': 264, 'told': 265, 'cut': 266, 'head': 267, 'march': 268, '30': 269, 'stocks': 270, '2011': 271, 'gas': 272, 'because': 273, 'return': 274, 'men': 275, 'officer': 276, 'get': 277, 'support': 278, 'days': 279, '8': 280, 'close': 281, 'states': 282, 'department': 283, '12': 284, 'due': 285, 'street': 286, 'london': 287, 'area': 288, 'mobile': 289, '15': 290, 'co': 291, 'online': 292, 'children': 293, 'long': 294, 'since': 295, 'club': 296, 'family': 297, 'weekend': 298, 'drug': 299, 'com': 300, 'economy': 301, 'prime': 302, 'there': 303, 'central': 304, 'child': 305, 'called': 306, 'foreign': 307, 'injured': 308, 'launch': 309, 'dollar': 310, 'run': 311, 'bill': 312, 'st': 313, 'final': 314, 'still': 315, 'sales': 316, 'district': 317, 'road': 318, 'release': 319, 'series': 320, 'capital': 321, 'start': 322, 'tax': 323, 'including': 324, 'best': 325, 'like': 326, 'visit': 327, 'afternoon': 328, 'face': 329, 'students': 330, 'june': 331, 'signed': 332, 'military': 333, 'stock': 334, 'shares': 335, 'how': 336, 'david': 337, 'fall': 338, 'east': 339, 'iran': 340, 'park': 341, 'development': 342, 'tour': 343, 'australia': 344, 'where': 345, 'attack': 346, 'campaign': 347, 'industry': 348, 'board': 349, '2009': 350, 'april': 351, 'football': 352, 'system': 353, '2013': 354, 'election': 355, 'australian': 356, 'way': 357, 'so': 358, 'go': 359, 'film': 360, 'cancer': 361, 'big': 362, 'them': 363, 're': 364, 'despite': 365, '9': 366, 'largest': 367, 'across': 368, 'washington': 369, 'fell': 370, 'markets': 371, 'water': 372, 'barack': 373, 'wins': 374, 'actor': 375, 'pay': 376, 'corp': 377, 'late': 378, 'growth': 379, 'afghanistan': 380, '25': 381, 'contract': 382, 'meeting': 383, 'leading': 384, 'director': 385, 'data': 386, 'manager': 387, 'food': 388, 'law': 389, 'around': 390, 'sentenced': 391, 'money': 392, 'council': 393, 'management': 394, 'buy': 395, 'only': 396, '100': 397, 'agency': 398, 'revealed': 399, 'again': 400, 'right': 401, 'case': 402, 'plan': 403, 'gold': 404, 'host': 405, 'talks': 406, 'number': 407, 'rate': 408, 'price': 409, 'research': 410, 'tv': 411, 'san': 412, 'confirmed': 413, 'england': 414, 'medical': 415, 'authorities': 416, 'conference': 417, 'test': 418, 'crisis': 419, '14': 420, 'move': 421, 'prison': 422, 'allegedly': 423, 'well': 424, 'murder': 425, '13': 426, 'white': 427, 'games': 428, 'firm': 429, 'chinese': 430, 'network': 431, 'program': 432, 'annual': 433, 'several': 434, 'private': 435, '16': 436, 'union': 437, 'political': 438, 'community': 439, 'wife': 440, 'michael': 441, 'july': 442, 'technology': 443, 'music': 444, 'town': 445, 'girl': 446, '50': 447, 'do': 448, 'russia': 449, 'wants': 450, 'increase': 451, 'higher': 452, '17': 453, 'america': 454, 'agreement': 455, 'making': 456, 'press': 457, 'actress': 458, '18': 459, 'japan': 460, 'any': 461, 'secretary': 462, 'saying': 463, 'recent': 464, 'recently': 465, 'good': 466, 'investment': 467, 'closed': 468, 'surgery': 469, 'continue': 470, 'red': 471, 'share': 472, 'canada': 473, 'workers': 474, 'companies': 475, 'budget': 476, 'live': 477, 'line': 478, 'young': 479, 'hold': 480, 'college': 481, 'action': 482, 'away': 483, 'singer': 484, 'shooting': 485, 'lead': 486, 'los': 487, 'demand': 488, 'sign': 489, 'study': 490, 'age': 491, 'senior': 492, 'taking': 493, 'become': 494, 'opened': 495, 'latest': 496, 'nearly': 497, 'am': 498, 'store': 499, 'many': 500, 'care': 501, 'use': 502, 'pm': 503, 'sex': 504, 'half': 505, 'place': 506, 'special': 507, 'provider': 508, 'body': 509, 'my': 510, 'trial': 511, 'offer': 512, 'rose': 513, 'al': 514, 'war': 515, 'korea': 516, 'congress': 517, 'french': 518, 'angeles': 519, '2008': 520, 'rise': 521, 'fight': 522, 'named': 523, 'southern': 524, 'seven': 525, 'signs': 526, 'lower': 527, 'baby': 528, 'forces': 529, 'region': 530, 'senate': 531, 'texas': 532, 'centre': 533, 'times': 534, 'opens': 535, 'video': 536, 'accident': 537, 'cent': 538, 'fourth': 539, 'production': 540, 'rs': 541, 'assault': 542, 'meet': 543, 'africa': 544, 'likely': 545, 'credit': 546, 'updated': 547, 'social': 548, 'real': 549, 'rights': 550, 'investors': 551, 'nation': 552, 'going': 553, 'debt': 554, 'israel': 555, 'rates': 556, 'january': 557, 'own': 558, 'profit': 559, 'also': 560, 'weeks': 561, 'faces': 562, 'judge': 563, 'trading': 564, 'europe': 565, 'm': 566, 'presidential': 567, 'charge': 568, 'mark': 569, 'strong': 570, 'points': 571, 'google': 572, 'coast': 573, 'fund': 574, 'round': 575, 'emergency': 576, 'building': 577, 'ahead': 578, '24': 579, 'france': 580, 'boy': 581, 'members': 582, 'russian': 583, 'nuclear': 584, 'california': 585, 'premier': 586, 'facing': 587, 'governor': 588, 'information': 589, 'apple': 590, 'filed': 591, 'loss': 592, 'title': 593, 'small': 594, 'hours': 595, 'chairman': 596, 'even': 597, 'paul': 598, 'student': 599, 'products': 600, 'side': 601, 'issued': 602, 'software': 603, 'amid': 604, 'february': 605, 'players': 606, 'ministry': 607, 'player': 608, 'plant': 609, 'summer': 610, 'ago': 611, 'order': 612, 'future': 613, 'results': 614, 'executive': 615, 'grand': 616, 'heart': 617, 'delhi': 618, 'working': 619, 'german': 620, 'least': 621, 'both': 622, 'force': 623, 'race': 624, 'residents': 625, 'driver': 626, 'match': 627, 'led': 628, 'florida': 629, 'pleaded': 630, 'project': 631, 'past': 632, 'post': 633, 'agreed': 634, 'leave': 635, 'sell': 636, 'took': 637, 'interest': 638, '21': 639, 'cash': 640, 'leaders': 641, 'without': 642, '19': 643, 'full': 644, 'september': 645, '500': 646, 'banks': 647, 'pleads': 648, 'exchange': 649, 'calls': 650, 'call': 651, 'site': 652, 'beat': 653, 'canadian': 654, 'asian': 655, 'role': 656, 'much': 657, 'forward': 658, 'sector': 659, 'vehicle': 660, 'earlier': 661, 'claims': 662, 'further': 663, 'coming': 664, 'stop': 665, 'reportedly': 666, 'injury': 667, 'taken': 668, 'army': 669, 'bus': 670, 'our': 671, 'corporation': 672, 'makes': 673, 'northern': 674, 'james': 675, '22': 676, 'low': 677, 'education': 678, 'human': 679, 'opening': 680, 'november': 681, 'falls': 682, 'change': 683, 'traffic': 684, 'operations': 685, 'lake': 686, 'october': 687, 'returns': 688, 'bid': 689, 'great': 690, 'anti': 691, 'cuts': 692, 'running': 693, 'job': 694, 'come': 695, 'need': 696, 'planning': 697, 'republican': 698, 'schools': 699, 'jail': 700, 'lost': 701, 'victory': 702, 'looking': 703, 'station': 704, 'level': 705, 'brown': 706, 'policy': 707, 'eight': 708, 'gov': 709, 'fans': 710, 'website': 711, 'internet': 712, 'member': 713, 'river': 714, 'issue': 715, 'chris': 716, 'issues': 717, 'airlines': 718, 'israeli': 719, 'continues': 720, 'association': 721, 'training': 722, 'august': 723, 'evening': 724, 'your': 725, 'december': 726, 'driving': 727, 'album': 728, 'keep': 729, 'suspended': 730, 'george': 731, 'airport': 732, 'ready': 733, 'parliament': 734, 'green': 735, 'manchester': 736, 'used': 737, 'key': 738, 'domestic': 739, 'control': 740, 'sports': 741, 'strike': 742, 'biggest': 743, 'border': 744, 'offering': 745, 'missing': 746, 'killing': 747, 'black': 748, 'better': 749, 'got': 750, 'euro': 751, 'guard': 752, 'insurance': 753, 'hall': 754, 'african': 755, 'countries': 756, 'chicago': 757, 'arrest': 758, 'soon': 759, 'consumer': 760, 'britain': 761, 'sale': 762, 'takes': 763, 'term': 764, 'must': 765, '40': 766, 'remains': 767, 'mother': 768, 'remain': 769, 'winning': 770, 'giant': 771, 'raise': 772, '23': 773, 'train': 774, 'very': 775, 'son': 776, 'award': 777, 'commission': 778, 'getting': 779, 'put': 780, 'safety': 781, 'brand': 782, 'weather': 783, 'vote': 784, 'ended': 785, 'having': 786, 'western': 787, 'stage': 788, 'event': 789, 'iraq': 790, 'construction': 791, 'received': 792, 'current': 793, 'trying': 794, 'troops': 795, 'join': 796, 'want': 797, 'elections': 798, 'property': 799, 'see': 800, 'island': 801, 'field': 802, 'robert': 803, 'cost': 804, 'search': 805, 'career': 806, 'committee': 807, 'officers': 808, 'investigating': 809, 'session': 810, 'little': 811, 'cricket': 812, 'sold': 813, 'statement': 814, 'shows': 815, 'give': 816, 'facebook': 817, 'hollywood': 818, 'sexual': 819, 'rock': 820, 'regional': 821, 'outside': 822, '26': 823, 'behind': 824, 'customers': 825, 'movie': 826, 'jackson': 827, 'tonight': 828, 'violence': 829, 'champion': 830, 'among': 831, 'finance': 832, 'don': 833, 'thousands': 834, 'admitted': 835, 'announce': 836, 'risk': 837, 'bankruptcy': 838, 'himself': 839, 'suicide': 840, 'staff': 841, '27': 842, 'target': 843, 'retail': 844, 'germany': 845, 'o': 846, 'space': 847, 'awards': 848, 'gains': 849, 'upcoming': 850, 'couple': 851, 'singh': 852, 'ban': 853, 'turkey': 854, 'selling': 855, 'phone': 856, 'debut': 857, 'sen': 858, 'husband': 859, 'growing': 860, 'love': 861, 'storm': 862, 'maker': 863, 'systems': 864, '28': 865, 'sri': 866, 'e': 867, 'performance': 868, 'mortgage': 869, 'struck': 870, 'along': 871, 'middle': 872, 'solutions': 873, 'warned': 874, 'wall': 875, 'later': 876, 'build': 877, 'opposition': 878, 'fuel': 879, 'name': 880, 'anniversary': 881, 'asia': 882, 'recovery': 883, 'such': 884, 'championship': 885, 'practice': 886, 'single': 887, 'ex': 888, 'non': 889, 'ever': 890, 'vice': 891, 'history': 892, 'using': 893, 'beach': 894, 'festival': 895, 'mayor': 896, 'protest': 897, 'miss': 898, 'owner': 899, 'until': 900, 'valley': 901, 'zealand': 902, 'same': 903, 'justice': 904, 'needs': 905, 'mumbai': 906, 'claimed': 907, 'mexico': 908, 'un': 909, 'peace': 910, 'decision': 911, 'known': 912, 'leaving': 913, 'offers': 914, 'ltd': 915, 'break': 916, 'sent': 917, 'drive': 918, 'olympic': 919, 'provide': 920, 'bay': 921, 'almost': 922, 'within': 923, 'those': 924, 'protection': 925, 'father': 926, 'candidate': 927, 'loan': 928, 'flu': 929, 'less': 930, 'eastern': 931, 'robbery': 932, 'positive': 933, 'act': 934, 'microsoft': 935, 'officially': 936, 'soldiers': 937, 'spending': 938, 'point': 939, '200': 940, 'employees': 941, 'travel': 942, 'captain': 943, 'given': 944, 'worth': 945, 'housing': 946, 'nine': 947, 'hotel': 948, 'battle': 949, 'list': 950, 'acquire': 951, 'truck': 952, 'super': 953, 'japanese': 954, 'losses': 955, 'funds': 956, 'too': 957, 'williams': 958, 'confidence': 959, 'possible': 960, 'attacks': 961, 'changes': 962, 'sheriff': 963, 'johnson': 964, 'raised': 965, 'double': 966, 'continued': 967, 'church': 968, 'georgia': 969, 'fraud': 970, 'me': 971, 'television': 972, 'natural': 973, 'reserve': 974, 'joint': 975, 'few': 976, 'rally': 977, 'deputy': 978, 'showed': 979, 'sources': 980, 'files': 981, 'soldier': 982, 'd': 983, 'legal': 984, 'survey': 985, 'smith': 986, 'radio': 987, 'approved': 988, 'plane': 989, 'pressure': 990, 'turned': 991, 'democratic': 992, 'de': 993, 'interview': 994, 'defense': 995, 'serious': 996, 'alleged': 997, 'step': 998, 'daughter': 999, 'aid': 1000, 'declared': 1001, 'daily': 1002, 'boston': 1003, 'digital': 1004, 'costs': 1005, 'armed': 1006, 'businesses': 1007, 'fired': 1008, 'gay': 1009, 'never': 1010, 'christmas': 1011, 'web': 1012, 'joe': 1013, 'girls': 1014, 'asked': 1015, 'veteran': 1016, 'division': 1017, 'returned': 1018, '31': 1019, 'mike': 1020, 'bush': 1021, 'heavy': 1022, 'administration': 1023, 'lady': 1024, 'supply': 1025, 'warning': 1026, 'hopes': 1027, 'increased': 1028, 'dr': 1029, 'seen': 1030, 'operation': 1031, 'falling': 1032, 'drop': 1033, 'common': 1034, 'fiscal': 1035, 'stars': 1036, 'gets': 1037, 'winter': 1038, 'basketball': 1039, '29': 1040, 'main': 1041, 'khan': 1042, 'syria': 1043, 'bond': 1044, 'convicted': 1045, 'front': 1046, 'defence': 1047, 'look': 1048, 'jailed': 1049, 'spring': 1050, 'book': 1051, 'appointed': 1052, 'whose': 1053, 'flight': 1054, 'futures': 1055, 'straight': 1056, 'rep': 1057, 'nations': 1058, 'carolina': 1059, 'ground': 1060, 'starting': 1061, 'champions': 1062, 'land': 1063, 'popular': 1064, 'stay': 1065, 'areas': 1066, 'highway': 1067, 'twitter': 1068, 'justin': 1069, 'martin': 1070, 'acquired': 1071, 'calif': 1072, 'paid': 1073, 'large': 1074, 'met': 1075, 'homes': 1076, 'might': 1077, 'class': 1078, 'dropped': 1079, 'once': 1080, 'find': 1081, 'jones': 1082, 'facility': 1083, 'does': 1084, 'commercial': 1085, 'begin': 1086, 'recession': 1087, 'total': 1088, 'drugs': 1089, 'went': 1090, 'pakistani': 1091, 'king': 1092, 'joined': 1093, 'prince': 1094, 'nfl': 1095, 'did': 1096, 'stadium': 1097, 'why': 1098, 'italian': 1099, 'teacher': 1100, 'person': 1101, 'light': 1102, 'palestinian': 1103, 'attorney': 1104, 'boost': 1105, 'expand': 1106, 'dog': 1107, 'watch': 1108, 'concerns': 1109, 'nato': 1110, 'playing': 1111, 'baseball': 1112, 'injuries': 1113, 'flights': 1114, 'projects': 1115, 'passed': 1116, 'unit': 1117, 'moving': 1118, 'scheduled': 1119, 'each': 1120, 'completed': 1121, 'tom': 1122, 'net': 1123, 'striker': 1124, 'index': 1125, 'suffered': 1126, 'supreme': 1127, 'boss': 1128, 'bomb': 1129, 'steve': 1130, 'spain': 1131, 'gun': 1132, 'inflation': 1133, 'ireland': 1134, 'failed': 1135, 'partner': 1136, 'ohio': 1137, 'decided': 1138, 'know': 1139, 'connection': 1140, 'published': 1141, 'begins': 1142, 'every': 1143, 'holding': 1144, 'range': 1145, 'ceo': 1146, 'criminal': 1147, 'agent': 1148, 'suspected': 1149, 'band': 1150, 'spokesman': 1151, 'investigation': 1152, 'efforts': 1153, 'girlfriend': 1154, 'civil': 1155, 'earnings': 1156, 'afghan': 1157, 'hits': 1158, 'reached': 1159, 'partnership': 1160, 'stores': 1161, 'lanka': 1162, 'added': 1163, 'la': 1164, 'turkish': 1165, 'ryan': 1166, 'hundreds': 1167, 'releases': 1168, 'abuse': 1169, 'levels': 1170, 'houston': 1171, 'sydney': 1172, 'started': 1173, 'yet': 1174, 'create': 1175, 'taylor': 1176, 'together': 1177, 'problems': 1178, 'short': 1179, 'giving': 1180, 'stake': 1181, 'earthquake': 1182, 'suspect': 1183, 'finally': 1184, 'magazine': 1185, 'banking': 1186, 'producer': 1187, 'lawsuit': 1188, 'treatment': 1189, 'michigan': 1190, 'forced': 1191, 'industrial': 1192, 'assembly': 1193, 'birth': 1194, 'kim': 1195, 'bring': 1196, 'marriage': 1197, 'unemployment': 1198, 'hard': 1199, 'senator': 1200, 'conditions': 1201, 'access': 1202, 'goes': 1203, 'joins': 1204, 'already': 1205, 'parts': 1206, 'syrian': 1207, 'reach': 1208, 'illegal': 1209, 'attacked': 1210, 'retirement': 1211, 'robbed': 1212, 'involved': 1213, 'base': 1214, 'peter': 1215, 'caught': 1216, 'dubai': 1217, 'ambassador': 1218, 'communications': 1219, 'corruption': 1220, 'iranian': 1221, 'save': 1222, 'seeking': 1223, 'camp': 1224, 'sea': 1225, 'banned': 1226, '60': 1227, 'crashed': 1228, 'funding': 1229, 'eu': 1230, 'liverpool': 1231, 'assets': 1232, 'blue': 1233, 'cross': 1234, 'saudi': 1235, 'toronto': 1236, 'whether': 1237, 'leaves': 1238, 'stand': 1239, 'crime': 1240, 'fifth': 1241, 'equity': 1242, 'reduce': 1243, 'track': 1244, 'romney': 1245, 'soccer': 1246, 'steel': 1247, 'province': 1248, 'minor': 1249, 'direct': 1250, 'pre': 1251, 'revenue': 1252, 'raises': 1253, 'entertainment': 1254, 'holiday': 1255, 'platform': 1256, 'caused': 1257, 'corporate': 1258, 'singapore': 1259, 'kill': 1260, 'focus': 1261, 'unveiled': 1262, 'egypt': 1263, 'marketing': 1264, 'celebrate': 1265, 'youth': 1266, 'crude': 1267, 'process': 1268, 'rising': 1269, 'taiwan': 1270, 'condition': 1271, 'arrived': 1272, 'stabbed': 1273, 'patients': 1274, 'related': 1275, 'incident': 1276, 'above': 1277, 'jan': 1278, 'turn': 1279, 'minnesota': 1280, 'ordered': 1281, 'scott': 1282, 'jury': 1283, 'ruled': 1284, 'wanted': 1285, 'divorce': 1286, 'cars': 1287, 'available': 1288, 'gulf': 1289, 'tournament': 1290, 'birthday': 1291, 'card': 1292, 'spanish': 1293, 'ship': 1294, 'admits': 1295, 'x': 1296, 'model': 1297, 'far': 1298, 'perform': 1299, 'manufacturing': 1300, 'fort': 1301, 'channel': 1302, 'lee': 1303, 'users': 1304, 'period': 1305, 'fashion': 1306, 'improve': 1307, 'living': 1308, 'disease': 1309, 'concert': 1310, 'jersey': 1311, 'appeal': 1312, 'midfielder': 1313, 'rest': 1314, 'personal': 1315, 'stolen': 1316, 'miami': 1317, 'posted': 1318, 'solar': 1319, 'below': 1320, 'clinton': 1321, 'independent': 1322, 'rape': 1323, 'tony': 1324, 'records': 1325, 'jennifer': 1326, 'technologies': 1327, 'taliban': 1328, 'review': 1329, 'tomorrow': 1330, 'cases': 1331, 'pro': 1332, 'extended': 1333, 'cooperation': 1334, 'royal': 1335, 'calling': 1336, 'damage': 1337, 'kansas': 1338, 'researchers': 1339, 'urged': 1340, 'primary': 1341, 'split': 1342, 'kevin': 1343, 'worldwide': 1344, 'multi': 1345, 'louis': 1346, 'paris': 1347, 'village': 1348, 'korean': 1349, 'figures': 1350, 'italy': 1351, 'apartment': 1352, 'dollars': 1353, 'fox': 1354, 'gives': 1355, 'income': 1356, 'iphone': 1357, 'think': 1358, 'potential': 1359, 'bridge': 1360, 'newspaper': 1361, 'pop': 1362, 'resources': 1363, 'proposed': 1364, 'competition': 1365, 'relations': 1366, 'americans': 1367, 'cabinet': 1368, 'others': 1369, 'cutting': 1370, 'came': 1371, 'institute': 1372, 'operator': 1373, 'nba': 1374, 'comes': 1375, 'expects': 1376, 'elected': 1377, 'ceremony': 1378, 'returning': 1379, '300': 1380, 'orders': 1381, 'celebrates': 1382, 'broke': 1383, 'dividend': 1384, 'tiger': 1385, 'suffering': 1386, 'source': 1387, 'overnight': 1388, '35': 1389, 'rules': 1390, 'felony': 1391, 'ali': 1392, 'then': 1393, 'threat': 1394, 'losing': 1395, 'friends': 1396, 'hour': 1397, 'played': 1398, 'brother': 1399, 'rises': 1400, 'writer': 1401, 'chelsea': 1402, 'acquisition': 1403, 'detroit': 1404, 'challenge': 1405, 'deficit': 1406, 'form': 1407, 'society': 1408, 'began': 1409, 'programme': 1410, 'fresh': 1411, 'worker': 1412, 'highest': 1413, 'discuss': 1414, 'strategic': 1415, 'coal': 1416, 'pregnant': 1417, 'barrel': 1418, 'planned': 1419, 'massive': 1420, 'brazil': 1421, 'affairs': 1422, 'greece': 1423, 'receive': 1424, 'quality': 1425, 'auto': 1426, 'wide': 1427, 'partners': 1428, 'appear': 1429, 'inside': 1430, 'charity': 1431, 'previous': 1432, 'scientists': 1433, 'port': 1434, 'cause': 1435, 'helped': 1436, 'las': 1437, 'room': 1438, 'talk': 1439, 'downtown': 1440, 'll': 1441, 'offered': 1442, 'firefighters': 1443, 'bad': 1444, 'parents': 1445, 'perry': 1446, 'acquires': 1447, 'queen': 1448, 'product': 1449, 'ties': 1450, 'militants': 1451, 'buying': 1452, 'libya': 1453, 'operating': 1454, 'female': 1455, 'aircraft': 1456, 'limited': 1457, 'hand': 1458, 'scheme': 1459, 'leads': 1460, 'fatal': 1461, 'seek': 1462, 'airline': 1463, 'winner': 1464, 'teen': 1465, 'flood': 1466, 'rain': 1467, 'stealing': 1468, 'defender': 1469, 'heard': 1470, 'estate': 1471, 'draft': 1472, 'mining': 1473, 'address': 1474, 'adding': 1475, 'receives': 1476, 'controversial': 1477, 'colorado': 1478, 'teachers': 1479, 'quarterly': 1480, 'gaza': 1481, 'average': 1482, 'weak': 1483, 'starts': 1484, 'blood': 1485, 'moved': 1486, 'arizona': 1487, 'computer': 1488, 'indicted': 1489, 'boat': 1490, 'dallas': 1491, 'irish': 1492, 'iowa': 1493, 'terms': 1494, 'pacific': 1495, 'n': 1496, 'doctors': 1497, 'investigate': 1498, 'jim': 1499, 'labor': 1500, 'virginia': 1501, 'owned': 1502, 'cloud': 1503, 'bail': 1504, 'allow': 1505, 'madrid': 1506, 'boyfriend': 1507, 'mp': 1508, 'vegas': 1509, 'academy': 1510, '400': 1511, 'doesn': 1512, 'beating': 1513, 'looks': 1514, 'francisco': 1515, 'attempt': 1516, 'voted': 1517, 'authority': 1518, 'fighting': 1519, 'azerbaijan': 1520, 'wedding': 1521, 'towards': 1522, 'rescue': 1523, 'defeat': 1524, 'response': 1525, 'farm': 1526, 'hospitalized': 1527, 'bills': 1528, 'denied': 1529, 'andrew': 1530, 'hill': 1531, 'compared': 1532, 'van': 1533, 'fair': 1534, 'illinois': 1535, 'measures': 1536, 'malaysia': 1537, 'morgan': 1538, 'snow': 1539, 'exports': 1540, 'vehicles': 1541, 'groups': 1542, 'spot': 1543, 'alex': 1544, 'fined': 1545, 'climate': 1546, 'committed': 1547, 'feb': 1548, 'poor': 1549, 'grant': 1550, 'view': 1551, 'lot': 1552, 'mission': 1553, 'doing': 1554, 'atlanta': 1555, 'situation': 1556, 'gave': 1557, 'airways': 1558, 'mccain': 1559, 'course': 1560, 'teams': 1561, 'tried': 1562, 'sells': 1563, 'critical': 1564, 'claim': 1565, '70': 1566, 'date': 1567, 'diego': 1568, 'restaurant': 1569, 'closing': 1570, 'voters': 1571, 'developer': 1572, '45': 1573, 'effort': 1574, 'fame': 1575, 'currency': 1576, 'b': 1577, 'republic': 1578, 'benefits': 1579, 'enough': 1580, 'legend': 1581, 'memorial': 1582, 'kelly': 1583, 'rangers': 1584, 'farmers': 1585, 'beijing': 1586, 'celebrity': 1587, 'venture': 1588, 'organization': 1589, 'present': 1590, 'victims': 1591, 'protect': 1592, 'separate': 1593, 'block': 1594, 'elderly': 1595, 'electric': 1596, 'kong': 1597, 'draw': 1598, 'reform': 1599, 'engaged': 1600, 'dispute': 1601, 'hong': 1602, 'swine': 1603, 'protesters': 1604, 'rescued': 1605, '2007': 1606, 'rating': 1607, 'friend': 1608, 'equipment': 1609, 'slightly': 1610, 'chase': 1611, 'victim': 1612, 'flat': 1613, 'lose': 1614, 'rugby': 1615, 'contest': 1616, 'greek': 1617, 'worst': 1618, 'squad': 1619, 'currently': 1620, 'commerce': 1621, 'shut': 1622, 'fast': 1623, '75': 1624, 'tennis': 1625, 'securities': 1626, 've': 1627, 'founder': 1628, 'wireless': 1629, 'ben': 1630, 'additional': 1631, 'arrives': 1632, 'rebels': 1633, 'woods': 1634, 'celebrated': 1635, 'effective': 1636, 'broken': 1637, 'completes': 1638, 'kate': 1639, 'retire': 1640, 'becoming': 1641, 'though': 1642, 'summit': 1643, 'events': 1644, 'rival': 1645, 'wind': 1646, 'hurricane': 1647, 'chain': 1648, 'usa': 1649, 'custody': 1650, 'foot': 1651, 'beginning': 1652, 'considering': 1653, 'hockey': 1654, 'pirates': 1655, 'hot': 1656, 'matt': 1657, 'forecast': 1658, 'holds': 1659, 'aug': 1660, 'dec': 1661, 'knee': 1662, 'saw': 1663, 'art': 1664, 'navy': 1665, 'kardashian': 1666, 'cities': 1667, 'transfer': 1668, 'tim': 1669, 'richard': 1670, 'pulled': 1671, 'hearing': 1672, 'develop': 1673, 'kashmir': 1674, 'different': 1675, 'bonds': 1676, 'story': 1677, 'ending': 1678, 'hope': 1679, 'introduced': 1680, 'andy': 1681, 'boys': 1682, 'golf': 1683, 'families': 1684, 'nov': 1685, 'charlie': 1686, 'package': 1687, 'ap': 1688, 'meets': 1689, 'decline': 1690, 'threatened': 1691, 'marijuana': 1692, 'severe': 1693, 'position': 1694, 'multiple': 1695, 'carrier': 1696, 'quarterback': 1697, 'important': 1698, 'conduct': 1699, 'moves': 1700, 'row': 1701, 'turns': 1702, 'reporting': 1703, 'headed': 1704, 'commissioner': 1705, 'environment': 1706, 'labour': 1707, 'believes': 1708, 'reality': 1709, 'cell': 1710, 'harry': 1711, 'invest': 1712, 'launching': 1713, 'bringing': 1714, 'replace': 1715, 'lawmakers': 1716, 'tree': 1717, 'millions': 1718, 'benefit': 1719, 'loans': 1720, 'brain': 1721, 'trust': 1722, 'successful': 1723, 'mixed': 1724, 'theft': 1725, 'films': 1726, 'kids': 1727, 'version': 1728, 'mid': 1729, 'mr': 1730, 'forest': 1731, 'william': 1732, 'value': 1733, 'parties': 1734, 'relationship': 1735, 'indiana': 1736, 'journal': 1737, 'owners': 1738, 'zone': 1739, 'oscar': 1740, 'bollywood': 1741, 'professional': 1742, 'believe': 1743, 'resume': 1744, 'ford': 1745, 'motor': 1746, 'gaga': 1747, 'leg': 1748, 'seattle': 1749, 'moscow': 1750, 'foundation': 1751, 'animal': 1752, '80': 1753, 'indonesia': 1754, 'needed': 1755, 'via': 1756, 'speed': 1757, 'sets': 1758, 'square': 1759, 'brought': 1760, 'chance': 1761, 'tourism': 1762, 'weapons': 1763, 'heat': 1764, 'english': 1765, 'progress': 1766, 'classic': 1767, 'sir': 1768, 'profits': 1769, 'headquarters': 1770, 'became': 1771, 'die': 1772, 'ice': 1773, 'shop': 1774, 'signing': 1775, 'ratings': 1776, 'involving': 1777, '600': 1778, 'oct': 1779, 'ends': 1780, 'missouri': 1781, 'safe': 1782, 'terror': 1783, 'result': 1784, 'passes': 1785, 'seriously': 1786, 'avoid': 1787, 'industries': 1788, 'jason': 1789, 'doctor': 1790, 'raising': 1791, 'account': 1792, 'capacity': 1793, 'bowl': 1794, 'goal': 1795, 'drivers': 1796, 'solution': 1797, 'wayne': 1798, 'effect': 1799, 'science': 1800, 'tribute': 1801, 'steps': 1802, 'always': 1803, 'design': 1804, 'rick': 1805, 'impact': 1806, 'recovering': 1807, 'cleared': 1808, '90': 1809, 'runs': 1810, 'metro': 1811, 'alliance': 1812, 'song': 1813, 'consumers': 1814, 'citizens': 1815, 'remained': 1816, 'activity': 1817, 'ministers': 1818, 'things': 1819, 'terrorism': 1820, 'huge': 1821, 'kills': 1822, 'problem': 1823, 'retailer': 1824, 'motors': 1825, 'advanced': 1826, 'mass': 1827, 'tests': 1828, 'gone': 1829, 'minutes': 1830, 'complex': 1831, 'simon': 1832, 'fears': 1833, 'environmental': 1834, 'visits': 1835, 'fan': 1836, 'seeks': 1837, 'application': 1838, 'milan': 1839, 'cleveland': 1840, 'entered': 1841, 'rupee': 1842, 'app': 1843, 'manufacturer': 1844, 'showing': 1845, 'carrying': 1846, 'strikes': 1847, 'sony': 1848, 'protests': 1849, 'helping': 1850, 'married': 1851, 'directors': 1852, 'r': 1853, 'bar': 1854, 'strategy': 1855, 'expecting': 1856, 'outlook': 1857, 'content': 1858, 'feels': 1859, 'awarded': 1860, 'gordon': 1861, 'grow': 1862, 'debate': 1863, 'various': 1864, 'trip': 1865, 'ukraine': 1866, 'assistant': 1867, 'township': 1868, 'metal': 1869, 'lohan': 1870, 'landing': 1871, 'jack': 1872, 'stewart': 1873, 'distribution': 1874, 'charles': 1875, 'arsenal': 1876, 'degree': 1877, 'holdings': 1878, 'sox': 1879, 'patent': 1880, 'scored': 1881, 'wisconsin': 1882, 'crore': 1883, 'scotland': 1884, 'mail': 1885, 'brian': 1886, 'philadelphia': 1887, 'increasing': 1888, 'historic': 1889, 'arts': 1890, 'crashes': 1891, 'lindsay': 1892, 'employee': 1893, 'investor': 1894, 'transport': 1895, 'regular': 1896, 'idol': 1897, 'el': 1898, 'citing': 1899, 'mountain': 1900, 'attempted': 1901, 'crimes': 1902, 'arab': 1903, 'quit': 1904, 'increases': 1905, 'punjab': 1906, 'placed': 1907, 'sanctions': 1908, 'pick': 1909, 'appoints': 1910, 'politics': 1911, 'causing': 1912, 'factor': 1913, 'associated': 1914, 'struggling': 1915, 'prevent': 1916, 'rule': 1917, 'happy': 1918, 'experts': 1919, 'tech': 1920, 'send': 1921, 'battery': 1922, 'barcelona': 1923, 'giants': 1924, 'avenue': 1925, 'spend': 1926, 'toyota': 1927, 'bob': 1928, 'anthony': 1929, 'motorcycle': 1930, 'poll': 1931, 'customer': 1932, 'aimed': 1933, 'infrastructure': 1934, 'add': 1935, 'pilot': 1936, 'santa': 1937, 'receiver': 1938, 'allen': 1939, 'jr': 1940, 'embassy': 1941, 'swiss': 1942, 'ii': 1943, 'unveils': 1944, 'thomas': 1945, 'extend': 1946, 'stephen': 1947, 'bbc': 1948, 'expansion': 1949, 'schedule': 1950, 'box': 1951, 'purchase': 1952, 'vs': 1953, 'seat': 1954, 'cents': 1955, 'c': 1956, 'friendly': 1957, 'leadership': 1958, '00': 1959, 'cameron': 1960, 'standard': 1961, 'bjp': 1962, 'telecom': 1963, 'able': 1964, 'disaster': 1965, 'developed': 1966, 'newly': 1967, 'sexually': 1968, 'dutch': 1969, 'melbourne': 1970, 'candidates': 1971, 'generation': 1972, 'jose': 1973, 'really': 1974, 'file': 1975, 'dc': 1976, 'lawyer': 1977, 'clear': 1978, 'ten': 1979, 'allegations': 1980, 'shopping': 1981, 'olympics': 1982, 'healthcare': 1983, 'fc': 1984, 'samsung': 1985, 'plants': 1986, 'joining': 1987, 'lines': 1988, 'tackle': 1989, 'patrick': 1990, 'kentucky': 1991, 'decade': 1992, 'violent': 1993, 'sun': 1994, 'nationwide': 1995, 'wake': 1996, 'breaks': 1997, 'closer': 1998, 'firms': 1999, 'democracy': 2000, 'comedy': 2001, 'didn': 2002, 'campus': 2003, 'bangladesh': 2004, 'expectations': 2005, 'bieber': 2006, 'sharply': 2007, 'davis': 2008, 'daniel': 2009, 'islamic': 2010, 'toward': 2011, 'relief': 2012, 'rare': 2013, 'offices': 2014, 'disabled': 2015, 'applications': 2016, 'offensive': 2017, 'cruise': 2018, 'analysts': 2019, 'works': 2020, 'immigration': 2021, 'recall': 2022, 'activists': 2023, 'gain': 2024, 'patrol': 2025, 'weekly': 2026, 'let': 2027, 'networks': 2028, 'failing': 2029, 'allowed': 2030, 'satellite': 2031, 'secret': 2032, 'victoria': 2033, 'failure': 2034, 'serve': 2035, 'enter': 2036, 'reveals': 2037, 'jets': 2038, 'spent': 2039, 'apparently': 2040, 'defensive': 2041, 'delivery': 2042, 'majority': 2043, 'homicide': 2044, 'export': 2045, '150': 2046, 'denies': 2047, 'jessica': 2048, 'activities': 2049, 'complete': 2050, 'ongoing': 2051, 'comments': 2052, 'possession': 2053, 'mitt': 2054, 'linked': 2055, 'p': 2056, 'muslim': 2057, 'seized': 2058, 'stimulus': 2059, 'cast': 2060, 'ill': 2061, 'warns': 2062, 'brazilian': 2063, 'rural': 2064, 'approves': 2065, 'parliamentary': 2066, 'electronic': 2067, 'advertising': 2068, 'cole': 2069, 'developing': 2070, 'attend': 2071, 'clash': 2072, 'detained': 2073, 'declares': 2074, 'try': 2075, 'significant': 2076, 'auction': 2077, 'lives': 2078, 'consider': 2079, 'polls': 2080, 'closes': 2081, 'advisory': 2082, 'created': 2083, 'author': 2084, 'nick': 2085, 'agree': 2086, 'technical': 2087, 'orleans': 2088, 'breaking': 2089, 'throughout': 2090, 'voice': 2091, 'wales': 2092, 'extension': 2093, 'gary': 2094, 'consecutive': 2095, 'chemical': 2096, 'stabbing': 2097, 'posts': 2098, 'hamilton': 2099, 'prize': 2100, 'brad': 2101, 'expands': 2102, 'golden': 2103, 'iron': 2104, 'hands': 2105, 'zimbabwe': 2106, 'jet': 2107, 'forum': 2108, 'crew': 2109, 'christian': 2110, 'plc': 2111, 'pass': 2112, 'kennedy': 2113, 'success': 2114, 'fires': 2115, 'sarah': 2116, 'confirms': 2117, 'yahoo': 2118, 'arabia': 2119, 'heading': 2120, 'carbon': 2121, 'selected': 2122, 'qatar': 2123, 'duty': 2124, 'designed': 2125, 'discovered': 2126, 'coalition': 2127, 'passengers': 2128, 'providing': 2129, 'sending': 2130, 'windows': 2131, 'pounds': 2132, 'previously': 2133, 'overseas': 2134, 'electronics': 2135, 'democrats': 2136, 'alcohol': 2137, 'deadly': 2138, 'southwest': 2139, 'threatening': 2140, '2014': 2141, 'helicopter': 2142, 'teenager': 2143, 'voting': 2144, 'photo': 2145, 'granted': 2146, 'tennessee': 2147, 'beaten': 2148, 'thought': 2149, 'these': 2150, 'experience': 2151, 'pace': 2152, 'concern': 2153, 'hills': 2154, 'tokyo': 2155, 'electricity': 2156, '32': 2157, 'speak': 2158, 'mexican': 2159, 'russell': 2160, 'activist': 2161, 'done': 2162, 'continuing': 2163, 'promote': 2164, 'setting': 2165, 'pradesh': 2166, 'speech': 2167, 'destroyed': 2168, 'scandal': 2169, 'elizabeth': 2170, 'phoenix': 2171, 'identified': 2172, 'bin': 2173, 'changed': 2174, 'assaulting': 2175, 'longer': 2176, 'taxes': 2177, 'visited': 2178, 'subsidiary': 2179, 'adds': 2180, 'cover': 2181, 'frank': 2182, 'express': 2183, 'loses': 2184, 'egyptian': 2185, 'oklahoma': 2186, 'expanding': 2187, 'sixth': 2188, 'overall': 2189, 'decades': 2190, 'terrorist': 2191, 'alabama': 2192, 'counts': 2193, 'amy': 2194, 'brothers': 2195, 'surprise': 2196, 'aged': 2197, 'passenger': 2198, 'devices': 2199, 'beckham': 2200, 'ensure': 2201, 'theatre': 2202, '700': 2203, 'route': 2204, 'dating': 2205, 'broadband': 2206, 'adam': 2207, 'built': 2208, 'freedom': 2209, 'lewis': 2210, 'threats': 2211, 'trend': 2212, 'tough': 2213, 'claiming': 2214, 'iraqi': 2215, 'usd': 2216, 'vietnam': 2217, 'streets': 2218, 'evidence': 2219, 'chapter': 2220, 'honored': 2221, 'recovered': 2222, 'campbell': 2223, 'prosecutors': 2224, 'appears': 2225, 'burglary': 2226, 'sept': 2227, 'supplies': 2228, 'fees': 2229, 'enterprise': 2230, 'shareholders': 2231, 'born': 2232, 'engineering': 2233, 'engine': 2234, 'hosting': 2235, 'receiving': 2236, 'palm': 2237, 'agriculture': 2238, 'hired': 2239, '55': 2240, 'indians': 2241, 'fine': 2242, '800': 2243, 'kyrgyzstan': 2244, 'pittsburgh': 2245, 'silver': 2246, 'jay': 2247, 'catholic': 2248, 'assaulted': 2249, 'feel': 2250, 'parking': 2251, 'announcement': 2252, 'introduces': 2253, 'ipad': 2254, 'refused': 2255, 'territory': 2256, 'wild': 2257, 'investments': 2258, 'update': 2259, 'treasury': 2260, 'numbers': 2261, 'rail': 2262, 'dealers': 2263, '33': 2264, 'settlement': 2265, 'jordan': 2266, 'diagnosed': 2267, 'beats': 2268, 'nelson': 2269, 'fargo': 2270, 'panel': 2271, 'cuba': 2272, 'mine': 2273, 'sport': 2274, 'question': 2275, 'stroke': 2276, 'finds': 2277, 'nigeria': 2278, 'philippines': 2279, 'racing': 2280, 'analyst': 2281, 'crews': 2282, 'uae': 2283, 'laid': 2284, 'marine': 2285, 'medal': 2286, 'facilities': 2287, 'agencies': 2288, 'letter': 2289, 'studio': 2290, 'appearance': 2291, 'tamil': 2292, 'serving': 2293, 'resigned': 2294, 'clean': 2295, 'dangerous': 2296, 'laws': 2297, 'nokia': 2298, 'extends': 2299, 'sites': 2300, 'statistics': 2301, 'walk': 2302, 'android': 2303, 'patient': 2304, 'pope': 2305, 'artist': 2306, 'sentence': 2307, 'hosts': 2308, 'ghana': 2309, 'cocaine': 2310, 'undergo': 2311, 'hillary': 2312, 'rapper': 2313, 'treated': 2314, 'bought': 2315, 'j': 2316, 'semi': 2317, 'paper': 2318, 'yen': 2319, 'michelle': 2320, '34': 2321, 'austin': 2322, 'feature': 2323, 'pitcher': 2324, 'wounded': 2325, 'deliver': 2326, 'moore': 2327, 'denver': 2328, 'interior': 2329, 'keeping': 2330, 'alert': 2331, 'murray': 2332, 'stone': 2333, 'strip': 2334, 'breast': 2335, 'tata': 2336, 'units': 2337, 'rehab': 2338, 'goods': 2339, 'scottish': 2340, 'targets': 2341, 'resign': 2342, 'eye': 2343, 'thanks': 2344, 'programs': 2345, 'cable': 2346, 'agents': 2347, 'pattinson': 2348, 'ruling': 2349, 'venezuela': 2350, 'triple': 2351, '36': 2352, 'anna': 2353, 'roads': 2354, 'options': 2355, 'sees': 2356, 'yemen': 2357, 'plea': 2358, 'assistance': 2359, 'improved': 2360, 'wilson': 2361, 'stronger': 2362, 'ring': 2363, 'prix': 2364, 'screen': 2365, 'shoot': 2366, 'weight': 2367, 'negative': 2368, 'formally': 2369, 'bear': 2370, 'cbs': 2371, '250': 2372, 'hire': 2373, 'expanded': 2374, 'appeared': 2375, 'reuters': 2376, '42': 2377, 'successfully': 2378, 'status': 2379, 'lowest': 2380, 'wrong': 2381, 'movement': 2382, 'testing': 2383, 'ray': 2384, 'foods': 2385, 'push': 2386, 'branch': 2387, 'stated': 2388, 'milwaukee': 2389, 'jon': 2390, 'becomes': 2391, 'although': 2392, 'lack': 2393, 'greater': 2394, 'dance': 2395, 'true': 2396, 'cape': 2397, '48': 2398, 'ocean': 2399, 'wells': 2400, 'toll': 2401, 'ny': 2402, 'inter': 2403, 'northwest': 2404, 'elementary': 2405, 'factory': 2406, 'rice': 2407, 'urges': 2408, 'license': 2409, 'produce': 2410, 'certain': 2411, 'provides': 2412, 'fellow': 2413, 'cold': 2414, 'twins': 2415, 'abu': 2416, 'collision': 2417, 'portfolio': 2418, 'museum': 2419, 'traders': 2420, 'speculation': 2421, 'message': 2422, 'harris': 2423, 'arms': 2424, 'explosion': 2425, 'lifted': 2426, 'hitting': 2427, 'drops': 2428, 'visiting': 2429, 'libyan': 2430, 'spread': 2431, 'nifty': 2432, 'supporters': 2433, 'orange': 2434, 'storage': 2435, 'hurt': 2436, 'combat': 2437, 'newcastle': 2438, 'w': 2439, 'bulgaria': 2440, 'famous': 2441, '38': 2442, 'miller': 2443, 'rich': 2444, 'powerful': 2445, 'proposal': 2446, 'drama': 2447, 'sheen': 2448, 'lebanon': 2449, 'residential': 2450, 'note': 2451, 'library': 2452, 'musical': 2453, 'bureau': 2454, 'extra': 2455, 'causes': 2456, 'rihanna': 2457, 'religious': 2458, 'deals': 2459, 'fully': 2460, 'herself': 2461, 'representative': 2462, 'sued': 2463, 'arm': 2464, 'rejected': 2465, 'payment': 2466, 'formula': 2467, 'earth': 2468, 'believed': 2469, '65': 2470, 'palin': 2471, 'atlantic': 2472, 'device': 2473, 'located': 2474, 'alive': 2475, 'window': 2476, 'acting': 2477, 'suspicion': 2478, 'details': 2479, 'lions': 2480, 'kept': 2481, 'approval': 2482, 'strength': 2483, 'ball': 2484, 'stations': 2485, 'check': 2486, 'independence': 2487, 'reaches': 2488, 'tigers': 2489, 'collection': 2490, 'stable': 2491, '44': 2492, 'shown': 2493, 'backed': 2494, 'yankees': 2495, 'teenage': 2496, 'massachusetts': 2497, 'hero': 2498, 'twice': 2499, 'myanmar': 2500, 'bodies': 2501, 'phones': 2502, 'resident': 2503, 'amazon': 2504, 'rather': 2505, '09': 2506, 'include': 2507, 'dogs': 2508, 'existing': 2509, 'journalist': 2510, 'sharp': 2511, 'healthy': 2512, 'cards': 2513, 'abc': 2514, 'employment': 2515, 'homeless': 2516, 'missed': 2517, 'gang': 2518, 'amount': 2519, 'tropical': 2520, 'enforcement': 2521, 'resort': 2522, 'katie': 2523, '41': 2524, 'initial': 2525, 'nomination': 2526, 'repair': 2527, 'stopped': 2528, 'shoulder': 2529, 'springs': 2530, 'miles': 2531, 'reduced': 2532, 'copper': 2533, 'suffers': 2534, 'buys': 2535, 'welcome': 2536, 'immediate': 2537, 'bailout': 2538, 'oregon': 2539, 'dozens': 2540, 'strengthen': 2541, 'conservative': 2542, 'affected': 2543, 'broadway': 2544, 'legislation': 2545, 'challenges': 2546, 'putting': 2547, 'highly': 2548, 'heads': 2549, 'prisoners': 2550, 'vancouver': 2551, 'nominated': 2552, 'nationals': 2553, 'monetary': 2554, 'columbus': 2555, 'horse': 2556, 'ontario': 2557, 'ticket': 2558, 'waste': 2559, 'thailand': 2560, 'discovery': 2561, 'superstar': 2562, 'comeback': 2563, 'notes': 2564, 'option': 2565, 'instead': 2566, 'supports': 2567, 'networking': 2568, 'argentina': 2569, 'chiefs': 2570, 'apparent': 2571, 'sam': 2572, '37': 2573, 'hoping': 2574, 'recalled': 2575, 'tickets': 2576, 'dancing': 2577, 'questions': 2578, 'missile': 2579, 'finish': 2580, '85': 2581, 'madonna': 2582, 'policies': 2583, 'eric': 2584, 'sa': 2585, 'rio': 2586, 'style': 2587, 'smart': 2588, 'itself': 2589, 'exercise': 2590, 'jerry': 2591, 'spears': 2592, 'malaysian': 2593, 'contracts': 2594, 'buffalo': 2595, 'stanley': 2596, 'enters': 2597, 'resigns': 2598, 'bp': 2599, '49': 2600, 'honor': 2601, 'killer': 2602, 'sudan': 2603, 'sensex': 2604, 'sought': 2605, 'votes': 2606, 'penalty': 2607, 'agrees': 2608, 'asks': 2609, 'deadline': 2610, 'evacuated': 2611, 'advance': 2612, 'self': 2613, 'zardari': 2614, 'kumar': 2615, 'cheryl': 2616, 'presence': 2617, 'begun': 2618, 'creating': 2619, 'deaths': 2620, 'funeral': 2621, 'entire': 2622, 'diplomatic': 2623, 'touch': 2624, 'anderson': 2625, 'speaker': 2626, 'delayed': 2627, 'kicked': 2628, 'gandhi': 2629, 'pool': 2630, 'removed': 2631, 'veterans': 2632, 'designer': 2633, 'culture': 2634, 'dream': 2635, 'fish': 2636, 'regime': 2637, 'simpson': 2638, 'exclusive': 2639, 'phil': 2640, 'shanghai': 2641, 'collapsed': 2642, 'pension': 2643, 'lending': 2644, 'ad': 2645, 'rivals': 2646, 'madison': 2647, 'somali': 2648, 'pain': 2649, '39': 2650, 'cancelled': 2651, 'mary': 2652, 'plays': 2653, 'tells': 2654, 'however': 2655, 'preliminary': 2656, 'serbia': 2657, 'del': 2658, 'bit': 2659, 'offshore': 2660, 'demi': 2661, 'hudson': 2662, 'hamas': 2663, 'disney': 2664, 'virus': 2665, 'floor': 2666, 'fear': 2667, 'asset': 2668, 'championships': 2669, 'jimmy': 2670, 'monthly': 2671, 'palestinians': 2672, 'communities': 2673, 'aviation': 2674, 'dialogue': 2675, 'congressional': 2676, 'basis': 2677, 'katy': 2678, 'orlando': 2679, 'invited': 2680, 'angelina': 2681, 'asking': 2682, 'britney': 2683, 'initiative': 2684, 'elect': 2685, 'expert': 2686, 'birmingham': 2687, 'goals': 2688, 'secure': 2689, 'jolie': 2690, 'regarding': 2691, 'ron': 2692, 'pennsylvania': 2693, 'payments': 2694, 'noon': 2695, 'franchise': 2696, 'sabha': 2697, 'welcomed': 2698, 'filing': 2699, 'recover': 2700, 'modern': 2701, 'contact': 2702, 'manslaughter': 2703, 'jeff': 2704, 'clinic': 2705, 'utah': 2706, 'pull': 2707, 'nothing': 2708, '47': 2709, 'themselves': 2710, 'howard': 2711, 'finals': 2712, '08': 2713, 'reporters': 2714, 'fatally': 2715, 'emerging': 2716, 'antonio': 2717, 'garden': 2718, '43': 2719, 'baltimore': 2720, 'commander': 2721, '54': 2722, 'carlos': 2723, 'ways': 2724, 'nsw': 2725, 'journalists': 2726, 'reporter': 2727, 'conflict': 2728, 'demands': 2729, 'alaska': 2730, 'native': 2731, 'dakota': 2732, 'deep': 2733, 'opportunities': 2734, 'nbc': 2735, 'delegation': 2736, 'brands': 2737, 'probe': 2738, 'pair': 2739, 'vowed': 2740, 'negotiations': 2741, 'pedestrian': 2742, 'retired': 2743, 'follow': 2744, 'fact': 2745, 'pipeline': 2746, 'terrorists': 2747, 'arena': 2748, 'galaxy': 2749, 'ranked': 2750, 'diamond': 2751, 'pound': 2752, 'conducted': 2753, 'azerbaijani': 2754, 'movies': 2755, 'outstanding': 2756, 'temporary': 2757, 'henry': 2758, 'winds': 2759, 'sky': 2760, 'approximately': 2761, '46': 2762, 'offender': 2763, 'performing': 2764, 'positions': 2765, 'qaeda': 2766, 'jumped': 2767, 'talent': 2768, 'complaint': 2769, 'sugar': 2770, 'dedicated': 2771, 'tampa': 2772, 'considered': 2773, '05': 2774, 'slow': 2775, 'managed': 2776, 'boxing': 2777, 'traded': 2778, 'roll': 2779, 'postponed': 2780, 'figure': 2781, 'intelligence': 2782, 'edwards': 2783, 'waters': 2784, 'turning': 2785, 'junior': 2786, 'penn': 2787, 'promotion': 2788, 'active': 2789, 'gop': 2790, 'edward': 2791, 'luxury': 2792, 'bahrain': 2793, '56': 2794, 'doors': 2795, 'expect': 2796, 'books': 2797, 'spotted': 2798, 'sprint': 2799, 'transportation': 2800, 'awareness': 2801, 'bears': 2802, 'sean': 2803, 'nhl': 2804, 'targeting': 2805, 'eurozone': 2806, 'ankle': 2807, 'standards': 2808, 'sworn': 2809, 'lawyers': 2810, 'roger': 2811, 'blast': 2812, 'kazakhstan': 2813, '72': 2814, 'notice': 2815, 'recalls': 2816, 'celebrating': 2817, 'clients': 2818, 'youtube': 2819, 'ease': 2820, 'canceled': 2821, 'century': 2822, 'false': 2823, 'listed': 2824, 'dan': 2825, 'properties': 2826, 'drunk': 2827, 'financing': 2828, 'import': 2829, 'felt': 2830, 'handed': 2831, 'accounts': 2832, 'something': 2833, 'coverage': 2834, 'legendary': 2835, 'fishing': 2836, 'preparing': 2837, 'hospitals': 2838, 'creek': 2839, 'helps': 2840, 'mississippi': 2841, 'casino': 2842, 'fitness': 2843, 'reforms': 2844, 'chavez': 2845, 'biden': 2846, 'imports': 2847, 'especially': 2848, 'drinking': 2849, 'counties': 2850, 'immediately': 2851, 'betting': 2852, 'documents': 2853, 'stole': 2854, 'warren': 2855, 'winehouse': 2856, 'presented': 2857, 'franklin': 2858, 'troubled': 2859, 'tell': 2860, 'steven': 2861, 'specialist': 2862, 'illness': 2863, 'longtime': 2864, 'smartphone': 2865, 'raid': 2866, 'marks': 2867, 'pornography': 2868, 'mall': 2869, 'switzerland': 2870, 'exhibition': 2871, 'phase': 2872, 'judges': 2873, 'bc': 2874, 'businessman': 2875, 'alan': 2876, 'scene': 2877, 'matches': 2878, 'searching': 2879, 'manmohan': 2880, 'congressman': 2881, 'normal': 2882, 'escaped': 2883, 'learned': 2884, 'kings': 2885, 'tender': 2886, 'scientific': 2887, 'output': 2888, 'pitch': 2889, 'benchmark': 2890, 'goldman': 2891, 'probation': 2892, 'opener': 2893, 'tourists': 2894, 'supplier': 2895, 'railway': 2896, 'confident': 2897, 'circuit': 2898, 'arkansas': 2899, 'choice': 2900, 'declined': 2901, 'bilateral': 2902, '82': 2903, 'southeast': 2904, 'columbia': 2905, 'places': 2906, 'republicans': 2907, 'utility': 2908, '53': 2909, 'persons': 2910, 'residence': 2911, 'mutual': 2912, 'fighter': 2913, 'swedish': 2914, 'perfect': 2915, 'lift': 2916, 'population': 2917, 'suspends': 2918, 'fishermen': 2919, 'queensland': 2920, 'weaker': 2921, 'oakland': 2922, 'edge': 2923, '51': 2924, 'processing': 2925, 'restructuring': 2926, 'tight': 2927, 'mac': 2928, 'welcomes': 2929, 'dhabi': 2930, 'ask': 2931, 'seems': 2932, 'renewed': 2933, 'carry': 2934, 'guy': 2935, 'representatives': 2936, 'federation': 2937, 'connecticut': 2938, 'buildings': 2939, 'feet': 2940, 'easy': 2941, 'rocket': 2942, 'battling': 2943, 'fake': 2944, 'kristen': 2945, '52': 2946, 'page': 2947, 'craig': 2948, 'neighborhood': 2949, 'democrat': 2950, 'everything': 2951, 'tehran': 2952, 'producers': 2953, 'czech': 2954, 'shortage': 2955, 'insists': 2956, 'scam': 2957, 'espn': 2958, 'charlotte': 2959, 'busy': 2960, 'tonnes': 2961, 'invasion': 2962, 'resolution': 2963, 'sentiment': 2964, 'core': 2965, 'sends': 2966, 'responsible': 2967, 'personnel': 2968, 'paying': 2969, 'ibm': 2970, 'jewish': 2971, 'drowned': 2972, 'fit': 2973, 'andre': 2974, '68': 2975, 'suspects': 2976, 'hip': 2977, 'tested': 2978, 'warrant': 2979, 'suspicious': 2980, 'identity': 2981, 'professor': 2982, 'transit': 2983, 'cnn': 2984, 'cooper': 2985, 'alexander': 2986, 'language': 2987, 'kick': 2988, 'defends': 2989, 'louisiana': 2990, 'fallen': 2991, 'convention': 2992, 'assigned': 2993, '10th': 2994, 'tons': 2995, 'waiting': 2996, 'cyrus': 2997, 'pitt': 2998, 'difficult': 2999, 'hosted': 3000, 'fee': 3001, 'plus': 3002, 'fifa': 3003, 'provincial': 3004, 'proud': 3005, 'settle': 3006, 'incidents': 3007, 'tied': 3008, 'reading': 3009, 'provided': 3010, 'defend': 3011, 'josh': 3012, 'recorded': 3013, 'request': 3014, 'means': 3015, 'location': 3016, 'visa': 3017, 'rushed': 3018, 'tea': 3019, 'ferguson': 3020, 'learning': 3021, 'fastest': 3022, 'ag': 3023, 'cuban': 3024, 'steady': 3025, 'expressed': 3026, 'maryland': 3027, 'matter': 3028, 'sweden': 3029, 'images': 3030, 'sachs': 3031, '58': 3032, 'kenya': 3033, 'clashes': 3034, 'informed': 3035, 'cargo': 3036, 'wave': 3037, 'onto': 3038, 'ncaa': 3039, 'remove': 3040, 'shots': 3041, 'trophy': 3042, 'ukrainian': 3043, 'participate': 3044, 'happened': 3045, 'edition': 3046, 'features': 3047, 'sister': 3048, 'pak': 3049, 'estimates': 3050, 'mental': 3051, 'terry': 3052, 'cowboys': 3053, 'targeted': 3054, 'lopez': 3055, 'civilians': 3056, 'nasa': 3057, 'deputies': 3058, 'derby': 3059, 'medicine': 3060, 'flying': 3061, 'belarus': 3062, 'neil': 3063, 'eagles': 3064, 'jump': 3065, 'announcing': 3066, 'cardinals': 3067, 'lay': 3068, 'decide': 3069, 'aims': 3070, 'portland': 3071, 'bell': 3072, 'virgin': 3073, 'boeing': 3074, 'miley': 3075, 'institutions': 3076, 'display': 3077, 'tie': 3078, 'aniston': 3079, 'savings': 3080, 'male': 3081, 'ride': 3082, 'managing': 3083, 'delay': 3084, 'nashville': 3085, 'wood': 3086, 'internal': 3087, 'nicole': 3088, 'commitment': 3089, 'flag': 3090, 'maintain': 3091, 'anything': 3092, 'cowell': 3093, 'dark': 3094, 'rookie': 3095, 'robin': 3096, 'masters': 3097, 'haiti': 3098, 'coffee': 3099, 'eve': 3100, 'often': 3101, 'kidnapped': 3102, 'pays': 3103, 'mandela': 3104, 'intel': 3105, 'gates': 3106, 'cancels': 3107, 'beyond': 3108, 'blackberry': 3109, 'finished': 3110, 'philippine': 3111, 'criticism': 3112, 'constitution': 3113, 'parent': 3114, 'seasons': 3115, 'upper': 3116, 'northeast': 3117, 'delays': 3118, 'smoke': 3119, 'suspension': 3120, 'marry': 3121, 'traditional': 3122, 'image': 3123, 'introduce': 3124, 'feeling': 3125, 'tornado': 3126, 'worked': 3127, 'globe': 3128, 'slowdown': 3129, 'moon': 3130, 'shah': 3131, 'maintenance': 3132, 'suggested': 3133, 'supporting': 3134, 'nascar': 3135, 'defeated': 3136, 'gunpoint': 3137, 'indonesian': 3138, 'approach': 3139, 'ufc': 3140, 'crossing': 3141, 'cap': 3142, 'dealer': 3143, 'dismissed': 3144, 'reliance': 3145, 'centers': 3146, 'camera': 3147, 'volunteers': 3148, 'bruce': 3149, 'improving': 3150, 'danny': 3151, 'saint': 3152, '62': 3153, 'compensation': 3154, '67': 3155, 'standing': 3156, 'engagement': 3157, 'taxi': 3158, 'inmate': 3159, 'johnny': 3160, 'compete': 3161, 'fail': 3162, 'drew': 3163, 'learn': 3164, 'ed': 3165, 'scale': 3166, 'integrated': 3167, 'trafficking': 3168, 'registered': 3169, 'door': 3170, 'suggests': 3171, 'cincinnati': 3172, 'accept': 3173, 'arrive': 3174, 'fixed': 3175, 'scores': 3176, 'brings': 3177, 'undisclosed': 3178, 'rob': 3179, 'everyone': 3180, 'euros': 3181, 'adults': 3182, 'districts': 3183, 'produced': 3184, 'tottenham': 3185, 'interim': 3186, 'direction': 3187, 'arrests': 3188, 'llc': 3189, 'talking': 3190, 'jazz': 3191, 'appeals': 3192, 'upon': 3193, 'spill': 3194, 'emirates': 3195, 'bulgarian': 3196, 'kingdom': 3197, 'registration': 3198, 'escape': 3199, 'defended': 3200, 'reasons': 3201, 'table': 3202, 'pictures': 3203, '2006': 3204, 'wildlife': 3205, 'ran': 3206, 'faced': 3207, 'k': 3208, 'unions': 3209, 'era': 3210, 'bull': 3211, 'clark': 3212, 'investigators': 3213, '76': 3214, 'bengal': 3215, 'crown': 3216, 'wikileaks': 3217, 'dinner': 3218, 'colombia': 3219, 'blow': 3220, '59': 3221, 'drunken': 3222, 'mount': 3223, 'indianapolis': 3224, 'carried': 3225, 'crowd': 3226, 'carter': 3227, 'violating': 3228, 'warner': 3229, 'interstate': 3230, 'kicks': 3231, 'pilots': 3232, 'ac': 3233, 'focused': 3234, '66': 3235, 'wait': 3236, 'islands': 3237, 'prepare': 3238, 'haven': 3239, 'jamie': 3240, 'petrol': 3241, '57': 3242, 'vows': 3243, 'swift': 3244, 'armenian': 3245, 'knife': 3246, 'adopted': 3247, 'register': 3248, 'swimming': 3249, 'lawrence': 3250, 'god': 3251, 'barbara': 3252, 'nepal': 3253, 'resistance': 3254, 'reaching': 3255, 'burning': 3256, 'liberal': 3257, 'sure': 3258, 'shuttle': 3259, 'improvement': 3260, 'maria': 3261, 'hedge': 3262, 'cultural': 3263, 'roster': 3264, 'temporarily': 3265, 'includes': 3266, 'downturn': 3267, 'ricky': 3268, 'thing': 3269, 'montreal': 3270, 'word': 3271, 'thai': 3272, 'secured': 3273, 'collins': 3274, 'threatens': 3275, 'items': 3276, 'merger': 3277, 'broadcast': 3278, 'barclays': 3279, 'isn': 3280, 'premiere': 3281, 'gained': 3282, 'roy': 3283, 'twin': 3284, 'marathon': 3285, 'charter': 3286, 'minute': 3287, 'material': 3288, 'armstrong': 3289, 'chennai': 3290, 'zoo': 3291, 'upgraded': 3292, 'organizations': 3293, 'retailers': 3294, 'firefighter': 3295, 'hilton': 3296, '63': 3297, 'remaining': 3298, 'armenia': 3299, 'nebraska': 3300, 'bobby': 3301, 'bound': 3302, 'balance': 3303, 'flooding': 3304, 'hawaii': 3305, 'promised': 3306, 'toddler': 3307, 'alternative': 3308, 'similar': 3309, 'arson': 3310, 'barry': 3311, 'idea': 3312, 'damaged': 3313, 'lane': 3314, 'verizon': 3315, 'lincoln': 3316, 'picture': 3317, 'sunderland': 3318, 'murdering': 3319, 'villa': 3320, 'performed': 3321, 'cited': 3322, '95': 3323, 'seventh': 3324, 'hp': 3325, 'email': 3326, 'featuring': 3327, 'kidnapping': 3328, 'nevada': 3329, 'code': 3330, 'streak': 3331, 'recalling': 3332, 'landed': 3333, 'legislature': 3334, 'meetings': 3335, 'fleet': 3336, '900': 3337, 'dublin': 3338, 'lender': 3339, 'hike': 3340, 'pole': 3341, 'bristol': 3342, 'celebration': 3343, 'billy': 3344, 'halt': 3345, 'clubs': 3346, 'netherlands': 3347, 'murdered': 3348, 'materials': 3349, 'kapoor': 3350, 'mostly': 3351, 'speaks': 3352, 'liam': 3353, '07': 3354, 'episode': 3355, 'dates': 3356, 'suing': 3357, 'parks': 3358, 'asif': 3359, 'petroleum': 3360, 'kind': 3361, 'described': 3362, 'names': 3363, 'influence': 3364, '71': 3365, 'exploration': 3366, 'undergoing': 3367, 'violations': 3368, 'occurred': 3369, 'grants': 3370, 'medvedev': 3371, 'entry': 3372, 'regulators': 3373, 'u': 3374, 'diabetes': 3375, 'musharraf': 3376, 'hughes': 3377, 'opportunity': 3378, 'revenues': 3379, 'restore': 3380, 'judicial': 3381, 'aaron': 3382, '61': 3383, 'watson': 3384, 'commonwealth': 3385, 'comedian': 3386, 'nominee': 3387, 'regulatory': 3388, 'employers': 3389, 'honda': 3390, 'temple': 3391, 'casey': 3392, 'considers': 3393, 'roberts': 3394, 'retiring': 3395, 'formed': 3396, 'duke': 3397, 'nicolas': 3398, 'chrysler': 3399, 'tourist': 3400, 'forthcoming': 3401, 'lama': 3402, 'lankan': 3403, 'rand': 3404, 'allowing': 3405, 'picked': 3406, 'establish': 3407, 'quickly': 3408, 'suit': 3409, 'fitch': 3410, 'actually': 3411, 'delivered': 3412, 'bradley': 3413, 'master': 3414, 'walker': 3415, 'joseph': 3416, 'infection': 3417, 'agreements': 3418, 'greg': 3419, 'emerged': 3420, 'estimated': 3421, 'pat': 3422, 'dave': 3423, 'size': 3424, 'classes': 3425, 'patriots': 3426, 'shortly': 3427, 'parker': 3428, 'softball': 3429, 'outfielder': 3430, 'pub': 3431, 'guns': 3432, 'hugo': 3433, 'trillion': 3434, 'kolkata': 3435, 'dramatic': 3436, 'bars': 3437, 'ross': 3438, 'linebacker': 3439, 'urban': 3440, 'commodity': 3441, 'comprehensive': 3442, 'jammu': 3443, 'regions': 3444, 'withdraws': 3445, '69': 3446, 'tools': 3447, 'goalkeeper': 3448, 'cook': 3449, 'enhance': 3450, 'earned': 3451, 'risks': 3452, 'fly': 3453, 'cyprus': 3454, 'adult': 3455, 'reid': 3456, 'wearing': 3457, 'bulls': 3458, 'reopen': 3459, 'grew': 3460, 'kosovo': 3461, 'hires': 3462, 'automotive': 3463, 'saved': 3464, 'mar': 3465, 'caribbean': 3466, 'dalai': 3467, 'probably': 3468, 'houses': 3469, 'changing': 3470, 'profile': 3471, 'link': 3472, 'bird': 3473, 'struggle': 3474, 'maine': 3475, 'restored': 3476, 'hotels': 3477, 'hiring': 3478, 'customs': 3479, 'till': 3480, 'diesel': 3481, 'guide': 3482, 'physical': 3483, 'plastic': 3484, 'welfare': 3485, 'rush': 3486, 'sacramento': 3487, 'drink': 3488, 'blamed': 3489, 'accepted': 3490, 'score': 3491, 'section': 3492, 'prepared': 3493, 'plead': 3494, 'organisation': 3495, 'stepping': 3496, 'written': 3497, 'whole': 3498, 'politicians': 3499, 'latin': 3500, 'collaboration': 3501, 'larry': 3502, 'qantas': 3503, 'alone': 3504, 'extending': 3505, 'stress': 3506, 'competitive': 3507, 'moment': 3508, 'malik': 3509, 'minority': 3510, 'advantage': 3511, 'directed': 3512, 'matthew': 3513, 'shoots': 3514, 'pushed': 3515, 'resignation': 3516, 'v': 3517, 'palace': 3518, 'responsibility': 3519, 'magic': 3520, 'coordinator': 3521, 'speaking': 3522, 'threw': 3523, 'shipping': 3524, 'someone': 3525, 'baghdad': 3526, 'older': 3527, 'auckland': 3528, 'playoff': 3529, 'virtual': 3530, 'captured': 3531, 'imposed': 3532, 'benedict': 3533, 'read': 3534, 'machine': 3535, 'hampshire': 3536, 'smoking': 3537, 'humanitarian': 3538, 'dry': 3539, 'metals': 3540, 'kerala': 3541, 'motion': 3542, 'strongly': 3543, 'afp': 3544, 'accidentally': 3545, 'deutsche': 3546, 'required': 3547, 'demanded': 3548, 'prominent': 3549, 'poland': 3550, 'municipal': 3551, 'established': 3552, 'wing': 3553, 'www': 3554, 'executives': 3555, 'attention': 3556, 'label': 3557, 'fisher': 3558, 'condemned': 3559, 'fed': 3560, 'trailer': 3561, 'shore': 3562, 'hair': 3563, 'asylum': 3564, 'nigerian': 3565, 'sound': 3566, 'islamabad': 3567, 'pharmaceutical': 3568, 'capitol': 3569, 'recording': 3570, 'drilling': 3571, 'undergoes': 3572, 'checks': 3573, 'raping': 3574, 'rafael': 3575, 'thinks': 3576, 'fla': 3577, 'collapse': 3578, 'buyers': 3579, 'count': 3580, 'beauty': 3581, 'f': 3582, 'storms': 3583, 'ashley': 3584, 'gift': 3585, 'anyone': 3586, 'kenny': 3587, 'tyler': 3588, 'athletic': 3589, 'fiji': 3590, '77': 3591, 'hiv': 3592, 'tracking': 3593, 'streaming': 3594, 'permanent': 3595, 'restaurants': 3596, '64': 3597, 'inquiry': 3598, 'stability': 3599, 'kris': 3600, 'gaming': 3601, 'salman': 3602, 'reason': 3603, 'tool': 3604, 'measure': 3605, 'lok': 3606, 'worries': 3607, 'currencies': 3608, 'witnesses': 3609, 'abroad': 3610, 'tribal': 3611, 'putin': 3612, 'walking': 3613, 'brisbane': 3614, 'interested': 3615, 'h1n1': 3616, 'tablet': 3617, 'endorses': 3618, 'sarkozy': 3619, 'hear': 3620, 'l': 3621, 'muslims': 3622, 'knocked': 3623, 'seize': 3624, 'tower': 3625, 'dow': 3626, 'gujarat': 3627, 'defending': 3628, 'chile': 3629, 'heavyweight': 3630, 'delta': 3631, 'knowledge': 3632, 'exit': 3633, 'motorcyclist': 3634, 'conviction': 3635, 'grade': 3636, 'principal': 3637, 'rolling': 3638, 'depression': 3639, 'pc': 3640, 'presents': 3641, 'cells': 3642, 'rains': 3643, 'entering': 3644, 'fields': 3645, 'kyle': 3646, 'christina': 3647, 'releasing': 3648, 'increasingly': 3649, 'graham': 3650, 'icon': 3651, 'naval': 3652, 'lands': 3653, 'driven': 3654, 'roof': 3655, 'kanye': 3656, 'individual': 3657, 'abortion': 3658, 'loves': 3659, 'controlled': 3660, 'montana': 3661, 'downgraded': 3662, 'milk': 3663, 'prosecutor': 3664, 'anticipated': 3665, 'jonathan': 3666, 'wear': 3667, 'sustained': 3668, 'injuring': 3669, '3d': 3670, 'g': 3671, 'task': 3672, 'trees': 3673, 'powers': 3674, 'passing': 3675, 'fun': 3676, 'ian': 3677, 'lord': 3678, 'withdraw': 3679, 'sciences': 3680, 'sue': 3681, 'hunger': 3682, 'marking': 3683, 'saints': 3684, 'analysis': 3685, 'everton': 3686, 'maoists': 3687, 'type': 3688, 'munich': 3689, 'nc': 3690, 'winger': 3691, 'drought': 3692, 'ore': 3693, 'rome': 3694, 'foreclosure': 3695, 'thompson': 3696, 'honoured': 3697, 'berlin': 3698, 'skin': 3699, 'coaching': 3700, 'highs': 3701, 'quite': 3702, 'providers': 3703, 'raw': 3704, 'carl': 3705, 'parade': 3706, 'fails': 3707, '74': 3708, 'fbi': 3709, 'minimum': 3710, 'cubs': 3711, 'intends': 3712, 'brett': 3713, 'raped': 3714, 'wine': 3715, 'tensions': 3716, 'included': 3717, 'controversy': 3718, 'limits': 3719, 'studies': 3720, 'respect': 3721, 'sleep': 3722, 'affect': 3723, 'praised': 3724, 'innovation': 3725, 'iii': 3726, 'lightning': 3727, 'rogers': 3728, 'assad': 3729, 'hub': 3730, 'interactive': 3731, 'freed': 3732, 'publicly': 3733, 'served': 3734, 'athletes': 3735, 'salary': 3736, 'http': 3737, 'shane': 3738, 'throwing': 3739, 'zuma': 3740, 'chancellor': 3741, 'editor': 3742, 'creative': 3743, 'innovative': 3744, 'resumed': 3745, 'computers': 3746, 'laden': 3747, '04': 3748, 'brandon': 3749, 'sharing': 3750, 'finding': 3751, 'underwent': 3752, 'reveal': 3753, 'lenders': 3754, 'mukherjee': 3755, 'quits': 3756, 'limit': 3757, 'trucks': 3758, 'hole': 3759, 'ranks': 3760, 'cat': 3761, 'leak': 3762, 'sides': 3763, 'jesse': 3764, 'citizen': 3765, 'keith': 3766, 'unexpectedly': 3767, 'imf': 3768, 'adams': 3769, 'guidance': 3770, 'tank': 3771, 'reduction': 3772, 'workforce': 3773, 'neck': 3774, 'milestone': 3775, 'dodgers': 3776, 'billionaire': 3777, 'crack': 3778, 'revolution': 3779, 'animals': 3780, 'burned': 3781, 'aids': 3782, 'hunt': 3783, 'murphy': 3784, 'potentially': 3785, 'promoted': 3786, 'terminal': 3787, 'retires': 3788, 'courts': 3789, 'keen': 3790, 'trouble': 3791, 'interests': 3792, 'chip': 3793, 'dick': 3794, 'original': 3795, 'communist': 3796, '88': 3797, 'georgian': 3798, 'thrown': 3799, 'rebound': 3800, 'aston': 3801, 'starring': 3802, 'marked': 3803, 'unique': 3804, 'communication': 3805, 'demanding': 3806, 'universal': 3807, 'foster': 3808, 'adviser': 3809, 'guards': 3810, 'leeds': 3811, 'unveil': 3812, 'poised': 3813, '2015': 3814, 'solid': 3815, 'douglas': 3816, 'sterling': 3817, 'fewer': 3818, 'unchanged': 3819, 'sparked': 3820, 'militant': 3821, '120': 3822, 'writes': 3823, 'visitors': 3824, 'royals': 3825, 'jobless': 3826, 'fa': 3827, 'cameras': 3828, 'standoff': 3829, 'effects': 3830, 'zero': 3831, 'accuses': 3832, 'significantly': 3833, 'burns': 3834, 'memory': 3835, 'transaction': 3836, 'hander': 3837, 'jean': 3838, 'routes': 3839, 'wheat': 3840, 'attacking': 3841, 'outbreak': 3842, 'weapon': 3843, 'holmes': 3844, 'resolve': 3845, 'operators': 3846, 'structure': 3847, 'marshall': 3848, 'warriors': 3849, 'romania': 3850, 'heritage': 3851, 'bigger': 3852, 'kuwait': 3853, 'jeremy': 3854, 'tsunami': 3855, 'bangalore': 3856, 'encounter': 3857, 'ahmadinejad': 3858, 'ted': 3859, 'bike': 3860, 'edged': 3861, 'skills': 3862, 'illegally': 3863, 'raiders': 3864, 'reopened': 3865, 'remarks': 3866, 'faster': 3867, 'dealing': 3868, 'eagle': 3869, 'worse': 3870, 'publisher': 3871, 'pledged': 3872, 'parish': 3873, 'pet': 3874, 'motorola': 3875, 'restrictions': 3876, '84': 3877, 'photos': 3878, 'shareholder': 3879, '86': 3880, 'pharmaceuticals': 3881, 'lung': 3882, 'critically': 3883, 'tracks': 3884, 'waivers': 3885, 'endorsed': 3886, 'familiar': 3887, 'gap': 3888, 'coaches': 3889, 'lying': 3890, 'character': 3891, 'eighth': 3892, 'gaddafi': 3893, 'knight': 3894, 'prove': 3895, 'lance': 3896, 'sectors': 3897, 'perth': 3898, 'mom': 3899, 'sponsor': 3900, 'lineup': 3901, 'gm': 3902, 'opera': 3903, 'prior': 3904, 'practices': 3905, 'accepting': 3906, 'wright': 3907, 'unlikely': 3908, 'hunting': 3909, 'wage': 3910, '73': 3911, 'airbus': 3912, 'bihar': 3913, 'managers': 3914, 'upgrade': 3915, 'bat': 3916, 'mets': 3917, 'indies': 3918, 'citigroup': 3919, 'defenseman': 3920, 'path': 3921, 'determined': 3922, 'promoting': 3923, 'blog': 3924, '83': 3925, 'wholesale': 3926, '79': 3927, 'catch': 3928, 'puts': 3929, 'tries': 3930, 'renewable': 3931, 'rolls': 3932, 'beer': 3933, 'lakh': 3934, 'lakers': 3935, 'rallied': 3936, 'julian': 3937, 'jerusalem': 3938, 'mps': 3939, 'write': 3940, 'buried': 3941, 'twenty20': 3942, 'legislative': 3943, 'mills': 3944, 'vatican': 3945, 'monitoring': 3946, 'dui': 3947, 'supported': 3948, 'saving': 3949, 'discharged': 3950, 'dell': 3951, 'nadal': 3952, 'bachchan': 3953, 'bottom': 3954, 'refuses': 3955, 'wealth': 3956, 'conspiracy': 3957, 'stands': 3958, 'sep': 3959, 'mtv': 3960, 'momentum': 3961, 'prepares': 3962, 'northwestern': 3963, 'blues': 3964, 'hunter': 3965, 'prescription': 3966, 'kent': 3967, 'mill': 3968, 'holidays': 3969, 'springfield': 3970, 'lebanese': 3971, 'susan': 3972, 'colombian': 3973, 'promises': 3974, 'trapped': 3975, 'awaited': 3976, 'possibility': 3977, 'dolphins': 3978, 'dropping': 3979, 'settled': 3980, 'skipper': 3981, 'raza': 3982, 'governments': 3983, 'select': 3984, 'alongside': 3985, 'attempting': 3986, 'pti': 3987, 'contractor': 3988, 'torn': 3989, 'smartphones': 3990, 'grove': 3991, 'nj': 3992, 'envoy': 3993, 'memphis': 3994, 'mccartney': 3995, 'motorists': 3996, 'rejects': 3997, 'bryant': 3998, 'wreck': 3999, 'wrote': 4000, 'misdemeanor': 4001, 'sustainable': 4002, 'songs': 4003, 'kerry': 4004, 'spokeswoman': 4005, 'islam': 4006, 'broncos': 4007, 'mahmoud': 4008, 'qualifying': 4009, 'mile': 4010, 'article': 4011, 'witness': 4012, 'kidney': 4013, 'withdrawn': 4014, 'upset': 4015, 'proposes': 4016, 'declines': 4017, 'agricultural': 4018, 'resource': 4019, 'commits': 4020, 'text': 4021, 'theater': 4022, 'mind': 4023, 'crucial': 4024, 'afl': 4025, 'easter': 4026, 'acres': 4027, 'drone': 4028, 'solo': 4029, 'selection': 4030, 'blaze': 4031, 'trail': 4032, 'actions': 4033, 'ottawa': 4034, 'anne': 4035, 'mario': 4036, 'idaho': 4037, 'crashing': 4038, 'developers': 4039, 'urging': 4040, 'insisted': 4041, '11th': 4042, 'middleton': 4043, 'affair': 4044, 'favourite': 4045, 'addition': 4046, 'studios': 4047, 'sporting': 4048, 'pushing': 4049, 'pleased': 4050, 'harper': 4051, 'refugees': 4052, 'bans': 4053, 'featured': 4054, 'recycling': 4055, 'throws': 4056, 'pulls': 4057, 'vikings': 4058, 'eddie': 4059, 'variety': 4060, 'presidency': 4061, 'links': 4062, 'tributes': 4063, 'y': 4064, 'gilani': 4065, 'brief': 4066, 'evans': 4067, 'priority': 4068, 'prospect': 4069, 'category': 4070, 'rajasthan': 4071, 'sues': 4072, 'neutral': 4073, 'musician': 4074, 'rooney': 4075, 'cairo': 4076, 'writing': 4077, 'aim': 4078, 'volleyball': 4079, 'cyclist': 4080, 'firing': 4081, 'computing': 4082, 'wellington': 4083, 'either': 4084, 'adopt': 4085, 'slip': 4086, 'implement': 4087, 'immigrants': 4088, 'rollover': 4089, 'roman': 4090, 'crackdown': 4091, 'refinance': 4092, 'assange': 4093, 'mubarak': 4094, 'guest': 4095, 'h': 4096, 'enterprises': 4097, 'grammy': 4098, 'inning': 4099, 'liberty': 4100, 'tendulkar': 4101, 'jacob': 4102, 'sub': 4103, 'takeover': 4104, 'unknown': 4105, 'papers': 4106, 'integration': 4107, 'walked': 4108, 'rochester': 4109, 'telecommunications': 4110, 'sessions': 4111, 'advice': 4112, 'vladimir': 4113, 'danger': 4114, 'salt': 4115, 'uses': 4116, 'backs': 4117, 'reserves': 4118, 'juan': 4119, 'remote': 4120, 'jacksonville': 4121, 'quick': 4122, 'dean': 4123, '06': 4124, 'angry': 4125, 'venezuelan': 4126, 'poverty': 4127, 'involvement': 4128, 'consulting': 4129, 'prostitution': 4130, 'forcing': 4131, 'words': 4132, 'sovereign': 4133, 'celtic': 4134, 'teens': 4135, '87': 4136, 'baseman': 4137, 'affordable': 4138, 'superior': 4139, 'magnitude': 4140, 'approve': 4141, 'rebel': 4142, 'assignment': 4143, 'counter': 4144, 'rolled': 4145, 'spokesperson': 4146, 'membership': 4147, 'doping': 4148, 'slipped': 4149, 'spirit': 4150, 'answer': 4151, 'tommy': 4152, 'ambulance': 4153, 'farmer': 4154, 'treat': 4155, 'assist': 4156, 'conservation': 4157, 'shock': 4158, 'wish': 4159, 'abdullah': 4160, 'picks': 4161, 'followed': 4162, 'sharks': 4163, 'drowns': 4164, 'resumes': 4165, 'abandoned': 4166, 'telling': 4167, 'emissions': 4168, 'bombing': 4169, 'lucky': 4170, 'vessel': 4171, 'petition': 4172, 'brooklyn': 4173, 'flash': 4174, 'bomber': 4175, 'ability': 4176, 'efficiency': 4177, 'ken': 4178, 'apply': 4179, '350': 4180, 'forecasts': 4181, 'mars': 4182, 'salem': 4183, 'gene': 4184, 'portsmouth': 4185, 'external': 4186, 'ham': 4187, 'manage': 4188, 'weakened': 4189, 'adelaide': 4190, 'landmark': 4191, 'string': 4192, 'clothing': 4193, 'eating': 4194, 'concerned': 4195, 'senators': 4196, 'stakes': 4197, 'faith': 4198, 'revised': 4199, 'vaccine': 4200, 'shift': 4201, 'tops': 4202, 'montgomery': 4203, 'auburn': 4204, 'emma': 4205, 'nightclub': 4206, 'producing': 4207, 'nursing': 4208, 'proposals': 4209, 'chosen': 4210, 'equities': 4211, 'seats': 4212, 'closure': 4213, 'stranded': 4214, 'riding': 4215, 'replaced': 4216, 'gomez': 4217, 'locations': 4218, 'lil': 4219, 'flames': 4220, 'trains': 4221, 'earn': 4222, 'regulations': 4223, 'jefferson': 4224, 'midnight': 4225, 'forms': 4226, 'ann': 4227, 'piece': 4228, 'porn': 4229, 'donated': 4230, 'supermarket': 4231, 'chidambaram': 4232, 'roberto': 4233, 'costa': 4234, 'favorite': 4235, 'surge': 4236, 'apa': 4237, 'floods': 4238, 'attempts': 4239, 'suspend': 4240, 'pending': 4241, 'chest': 4242, 'underway': 4243, 'secondary': 4244, 'stops': 4245, 'pete': 4246, 'monitor': 4247, 'complaints': 4248, 'cyber': 4249, 'blame': 4250, 'somalia': 4251, 'overcome': 4252, 'slash': 4253, 'dj': 4254, 'cruelty': 4255, 'recognized': 4256, 'documentary': 4257, 'berlusconi': 4258, 'temperatures': 4259, 'quoted': 4260, 'voluntary': 4261, 'rockets': 4262, 'inducted': 4263, '03': 4264, 'karachi': 4265, 'appointment': 4266, 'bloomberg': 4267, 'stepped': 4268, 'rahul': 4269, 'shelter': 4270, 'prostate': 4271, 'haryana': 4272, 'cbi': 4273, 'expenses': 4274, 'bed': 4275, 'user': 4276, 'gunmen': 4277, 'rumors': 4278, 'heidi': 4279, 'opinion': 4280, 'commissioners': 4281, 'greatest': 4282, 'evasion': 4283, 'serial': 4284, 'mitchell': 4285, 'fighters': 4286, 'max': 4287, 'operate': 4288, 'abbas': 4289, 'surplus': 4290, 'austerity': 4291, 'heroin': 4292, 'polish': 4293, 'burn': 4294, '94': 4295, 'eat': 4296, 'absence': 4297, 'karnataka': 4298, 'concussion': 4299, 'rodriguez': 4300, 'ward': 4301, 'pizza': 4302, 'workshop': 4303, 'marc': 4304, 'ronaldo': 4305, 'slammed': 4306, 'strauss': 4307, 'nhs': 4308, 'merkel': 4309, 'spencer': 4310, 'heights': 4311, 'prospects': 4312, 'innings': 4313, 'nobel': 4314, 'christie': 4315, 'filmmaker': 4316, 'oracle': 4317, 'shed': 4318, 'maharashtra': 4319, 'overhaul': 4320, 'initiatives': 4321, 'comic': 4322, 'sons': 4323, 'stream': 4324, 'nissan': 4325, 'watching': 4326, 'abdul': 4327, 'mason': 4328, 'aggravated': 4329, 'keeps': 4330, 'prevention': 4331, 'peaceful': 4332, 'discussed': 4333, 'donald': 4334, 'glass': 4335, 'muhammad': 4336, 'tanker': 4337, 'modi': 4338, 'boosted': 4339, 'crystal': 4340, 'lifetime': 4341, 'redskins': 4342, 'finland': 4343, 'drove': 4344, 'attending': 4345, 'privately': 4346, 'deposit': 4347, 'serbian': 4348, 'phillips': 4349, 'babies': 4350, 'phillies': 4351, 'praises': 4352, 'bag': 4353, 'recognition': 4354, 'premium': 4355, 'pit': 4356, '50th': 4357, 'celtics': 4358, 'todd': 4359, 'constitutional': 4360, 'amanda': 4361, 'uranium': 4362, 'bmw': 4363, 'lion': 4364, 'widespread': 4365, 'switch': 4366, 'branded': 4367, 'julia': 4368, 'delaware': 4369, 'louisville': 4370, 'bayern': 4371, 'lloyd': 4372, 'watched': 4373, 'opec': 4374, 'cancel': 4375, 'cliff': 4376, 'photographer': 4377, 'corner': 4378, 'frozen': 4379, 'hopeful': 4380, 'robinson': 4381, 'obesity': 4382, 'carey': 4383, 'privacy': 4384, 'chamber': 4385, 'species': 4386, 'lily': 4387, 'hostage': 4388, 'trades': 4389, 'martinez': 4390, 'seed': 4391, 'rachel': 4392, 'arnold': 4393, 'apologizes': 4394, 'outdoor': 4395, 'lovato': 4396, 'volume': 4397, 'mini': 4398, 'browns': 4399, 'wimbledon': 4400, 'allows': 4401, 'mean': 4402, 'hanging': 4403, 'branches': 4404, 'baldwin': 4405, '92': 4406, 'ace': 4407, 'athens': 4408, 'identify': 4409, 'occupy': 4410, 'thieves': 4411, 'argument': 4412, 'throw': 4413, 'discussion': 4414, 'plunged': 4415, 'achieved': 4416, 'eur': 4417, 'braves': 4418, 'ethnic': 4419, 'blasts': 4420, 'client': 4421, 'websites': 4422, 'titled': 4423, 'celebrations': 4424, 'clothes': 4425, '20th': 4426, 'novel': 4427, 'hailed': 4428, 'economies': 4429, '02': 4430, '81': 4431, 'reducing': 4432, 'syed': 4433, 'pride': 4434, 'collapses': 4435, 'audience': 4436, 'timberlake': 4437, 'messages': 4438, '78': 4439, 'newton': 4440, 'trials': 4441, 'athletics': 4442, 'guitarist': 4443, 'pregnancy': 4444, 'steelers': 4445, 'wwe': 4446, 'confirm': 4447, 'predicted': 4448, 'completely': 4449, 'disappointing': 4450, 'ninth': 4451, 'wire': 4452, 'cinema': 4453, 'holy': 4454, 'titans': 4455, 'advised': 4456, 'hyderabad': 4457, 'actors': 4458, 'cotton': 4459, 'disputed': 4460, 'offences': 4461, 'seeing': 4462, 'pricing': 4463, 'concluded': 4464, 'bernanke': 4465, 'swept': 4466, 'possibly': 4467, 'discrimination': 4468, 'command': 4469, 'htc': 4470, 'feared': 4471, 'condemns': 4472, 'universities': 4473, 'songwriter': 4474, 'subject': 4475, 'broad': 4476, 'misses': 4477, 'childhood': 4478, 'rod': 4479, 'detention': 4480, 'centres': 4481, 'bone': 4482, 'fundraising': 4483, 'models': 4484, 'clinical': 4485, 'gibson': 4486, 'maritime': 4487, 'corps': 4488, 'priest': 4489, 'clarke': 4490, 'netanyahu': 4491, 'observed': 4492, 'affiliate': 4493, 'dame': 4494, 'sing': 4495, 'apologized': 4496, 'refusing': 4497, 'versus': 4498, 'enjoy': 4499, 'scrap': 4500, 'suburban': 4501, 'fares': 4502, 'hate': 4503, 'spoke': 4504, 'accusing': 4505, 'sachin': 4506, '99': 4507, 'dairy': 4508, 'aide': 4509, 'artists': 4510, 'investigated': 4511, 'bishop': 4512, 'blackburn': 4513, 'tri': 4514, 'torch': 4515, 'dozen': 4516, 'portugal': 4517, 'specialty': 4518, 'licence': 4519, 'broadcaster': 4520, 'fernando': 4521, 'honour': 4522, 'richmond': 4523, 'coroner': 4524, 'accidents': 4525, 'teaching': 4526, 'aggressive': 4527, 'performs': 4528, 'karzai': 4529, 'finger': 4530, 'sharif': 4531, 'commodities': 4532, 'unable': 4533, 'brussels': 4534, 'norway': 4535, 'inspired': 4536, 'requirements': 4537, 'chef': 4538, 'particularly': 4539, 'jesus': 4540, 'pickup': 4541, 'meat': 4542, 'hsbc': 4543, 'crushed': 4544, 'topped': 4545, 'ravens': 4546, 'selena': 4547, 'bernard': 4548, 'wenger': 4549, 'sandy': 4550, 'sense': 4551, 'attract': 4552, 'warehouse': 4553, 'preseason': 4554, 'newest': 4555, 'elbow': 4556, '12th': 4557, 'prisoner': 4558, 'reds': 4559, 'sitting': 4560, 'robbie': 4561, 'potter': 4562, 'tibetan': 4563, 'creation': 4564, 'watchdog': 4565, 'yemeni': 4566, 'looked': 4567, 'sisters': 4568, 'rental': 4569, 'owen': 4570, 'planes': 4571, 'johannesburg': 4572, 'winners': 4573, 'eased': 4574, 'diplomat': 4575, 'scenes': 4576, 'vodafone': 4577, 'clerk': 4578, '89': 4579, 'mega': 4580, 'liquor': 4581, 'compliance': 4582, 'ferrari': 4583, 'monroe': 4584, '91': 4585, 'bolton': 4586, 'baku': 4587, 'freeze': 4588, 'counterpart': 4589, 'edmonton': 4590, 'pilgrims': 4591, 'slowed': 4592, 'rumours': 4593, 'acts': 4594, 'manhattan': 4595, 'publishing': 4596, 'lottery': 4597, 'hungary': 4598, 'hasn': 4599, 'briefly': 4600, 'uncertainty': 4601, 'yes': 4602, 'anc': 4603, 'judiciary': 4604, 'postal': 4605, 'pranab': 4606, 'warm': 4607, 'destination': 4608, 'gasoline': 4609, 'violation': 4610, 'respond': 4611, 'refinery': 4612, 'contain': 4613, 'locked': 4614, 'ownership': 4615, 'shops': 4616, 'billions': 4617, 'critics': 4618, 'minneapolis': 4619, 'escapes': 4620, 'agenda': 4621, 'suite': 4622, 'rebounds': 4623, 'consumption': 4624, 'vacant': 4625, 'castro': 4626, 'scoring': 4627, 'rapid': 4628, 'warn': 4629, 'honorary': 4630, 'drawing': 4631, 'lawmaker': 4632, 'dmitry': 4633, 'improves': 4634, 'purchases': 4635, 'installed': 4636, 'sick': 4637, 'shell': 4638, 'emotional': 4639, 'investing': 4640, 'roadside': 4641, 'robber': 4642, '2005': 4643, 'peak': 4644, 'playstation': 4645, 'importance': 4646, 'cambridge': 4647, 'thanksgiving': 4648, 'cisco': 4649, '130': 4650, 'slashed': 4651, 'cycling': 4652, 'unidentified': 4653, 'volunteer': 4654, 'suggesting': 4655, 'amendment': 4656, 'scare': 4657, 'lows': 4658, 'roles': 4659, 'ubs': 4660, 'warming': 4661, 'nadu': 4662, 'colin': 4663, 'doubled': 4664, 'garage': 4665, 'referendum': 4666, 'deer': 4667, 'ericsson': 4668, 'kitchen': 4669, 'lights': 4670, 'advisor': 4671, 'uttar': 4672, 'fled': 4673, 'surrounding': 4674, 'oldest': 4675, 'vital': 4676, 'seoul': 4677, 'basic': 4678, 'survived': 4679, 'runner': 4680, 'bounce': 4681, 'penguins': 4682, 'signal': 4683, 'upgrades': 4684, 'feed': 4685, 'plot': 4686, 'manufacturers': 4687, 'sacked': 4688, 'pentagon': 4689, 'necessary': 4690, 'unity': 4691, 'civilian': 4692, 'rocker': 4693, 'doubles': 4694, 'vision': 4695, 'unrest': 4696, 'rapids': 4697, 'offset': 4698, 'beverly': 4699, 'occupied': 4700, 'directly': 4701, 'remember': 4702, 'marcus': 4703, 'mentally': 4704, 'races': 4705, 'channels': 4706, 'pharmacy': 4707, 'naked': 4708, 'diplomats': 4709, 'politician': 4710, 'ski': 4711, 'pga': 4712, 'professionals': 4713, 'abbott': 4714, 'z': 4715, 'randy': 4716, 'moss': 4717, 'exposure': 4718, 'coastal': 4719, 'tractor': 4720, 'filled': 4721, 'values': 4722, 'larger': 4723, 'rider': 4724, 'uefa': 4725, 'colleges': 4726, 'osbourne': 4727, 'grid': 4728, 'spectrum': 4729, 'viewers': 4730, 'determine': 4731, 'fat': 4732, 'graduate': 4733, 'transition': 4734, 'pervez': 4735, 'audio': 4736, 'convenience': 4737, 'yard': 4738, 'capture': 4739, 'damages': 4740, 'mugabe': 4741, 'easily': 4742, 'acquitted': 4743, 'lunch': 4744, 'chances': 4745, 'rupert': 4746, 'francis': 4747, 'xinhua': 4748, 'administrative': 4749, 'chart': 4750, 'abducted': 4751, 'comment': 4752, 'broadcasting': 4753, 'attended': 4754, 'replacement': 4755, 'insider': 4756, 'tmz': 4757, 'ca': 4758, 'alberta': 4759, 'slams': 4760, 'jonas': 4761, 'brewers': 4762, '1st': 4763, 'xbox': 4764, 'eva': 4765, 'moderate': 4766, 'designated': 4767, 'boycott': 4768, 'nature': 4769, 'declining': 4770, 'missiles': 4771, '01': 4772, 'beef': 4773, 'covering': 4774, 'aberdeen': 4775, 'educational': 4776, 'promising': 4777, 'glasgow': 4778, 'stem': 4779, 'mel': 4780, 'inquest': 4781, 'youths': 4782, 'behaviour': 4783, 'oscars': 4784, 'nearby': 4785, 'nintendo': 4786, 'infant': 4787, 'grocery': 4788, 'sheikh': 4789, 'robbing': 4790, 'gear': 4791, 'nancy': 4792, 'gunman': 4793, 'print': 4794, 'audit': 4795, 'pink': 4796, 'catches': 4797, 'dumped': 4798, 'desperate': 4799, 'belgium': 4800, 'hu': 4801, 'staying': 4802, '360': 4803, 'unanimously': 4804, 'apart': 4805, 'jewelry': 4806, 'ceasefire': 4807, 'advances': 4808, 'damascus': 4809, 'fireworks': 4810, 'broker': 4811, 'odds': 4812, 'apology': 4813, 'household': 4814, 'twilight': 4815, 'mahindra': 4816, 'southeastern': 4817, 'shootout': 4818, 'barnes': 4819, 'ships': 4820, 'treaty': 4821, 'blake': 4822, 'boyle': 4823, 'mart': 4824, 'hybrid': 4825, 'telephone': 4826, 'slide': 4827, 'mines': 4828, 'lived': 4829, 'jays': 4830, 'applied': 4831, 'diet': 4832, 'extreme': 4833, 'easing': 4834, 'norman': 4835, 'blocked': 4836, '101': 4837, 'whom': 4838, 'soft': 4839, 'ballot': 4840, 'hamid': 4841, 'bashar': 4842, 'kabul': 4843, 'dennis': 4844, 'gather': 4845, 'quebec': 4846, 'outfit': 4847, 'bowling': 4848, 'murdoch': 4849, 'hometown': 4850, 'transplant': 4851, 'fi': 4852, 'racist': 4853, 'quinn': 4854, 'sandra': 4855, 'sonia': 4856, 'ultimate': 4857, 'grain': 4858, 'makers': 4859, 'tribune': 4860, 'oak': 4861, 'omaha': 4862, 'estranged': 4863, 'formal': 4864, 'representing': 4865, 'decisions': 4866, 'cool': 4867, 'syracuse': 4868, 'swim': 4869, 'screening': 4870, 'airports': 4871, 'responding': 4872, 'steal': 4873, 'defeats': 4874, 'argentine': 4875, 'endorse': 4876, 'northeastern': 4877, 'census': 4878, 'wasn': 4879, 'robberies': 4880, 'manny': 4881, 'pacquiao': 4882, 'quoting': 4883, 'disclosed': 4884, 'crowned': 4885, 'ecuador': 4886, 'abusing': 4887, 'permission': 4888, 'angels': 4889, 'maximum': 4890, 'creator': 4891, 'atomic': 4892, 'gallagher': 4893, 'beautiful': 4894, 'juventus': 4895, 'suffer': 4896, 'blind': 4897, 'definitely': 4898, 'pioneer': 4899, 'inmates': 4900, 'refugee': 4901, 'tobacco': 4902, 'dad': 4903, 'longest': 4904, 'elton': 4905, 'regulator': 4906, 'accepts': 4907, 'submitted': 4908, '750': 4909, 'obtained': 4910, 'machines': 4911, 'eyes': 4912, 'heath': 4913, 'breakfast': 4914, 'suzuki': 4915, 'chair': 4916, 'lynch': 4917, 'wildfire': 4918, 'destroys': 4919, 'engineers': 4920, 'peru': 4921, 'poker': 4922, '2004': 4923, 'happen': 4924, 'achieve': 4925, 'packers': 4926, 'donations': 4927, 'smaller': 4928, 'enhanced': 4929, 'pastor': 4930, 'titles': 4931, 'declare': 4932, 'tape': 4933, 'inaugural': 4934, 'commit': 4935, 'ashton': 4936, 'gross': 4937, 'homeowners': 4938, 'drinks': 4939, 'stuck': 4940, 'newspapers': 4941, 'expo': 4942, 'shared': 4943, 'executed': 4944, 'hull': 4945, 'electrical': 4946, 'guru': 4947, 'dress': 4948, 'surveillance': 4949, 'posting': 4950, 'empire': 4951, 'exploded': 4952, 'indicated': 4953, 'floyd': 4954, 'continental': 4955, 'permits': 4956, 'iconic': 4957, 'borders': 4958, 'default': 4959, 'theme': 4960, 'gathered': 4961, 'chronic': 4962, 'crop': 4963, 'guarantee': 4964, 'responded': 4965, 'differences': 4966, 'pleading': 4967, 'elephant': 4968, 'emmy': 4969, 'recommended': 4970, 'unless': 4971, 'staged': 4972, 'verdict': 4973, 'operational': 4974, 'wings': 4975, 'packaging': 4976, 'fix': 4977, 'slowing': 4978, 'combined': 4979, 'fred': 4980, 'extremely': 4981, 'austria': 4982, 'lakes': 4983, 'cheating': 4984, 'herald': 4985, 'spurs': 4986, 'datuk': 4987, 'norwich': 4988, 'lt': 4989, 'miners': 4990, 'weakness': 4991, 'insurer': 4992, 'efficient': 4993, 'charleston': 4994, 'micro': 4995, 'teenagers': 4996, 'freight': 4997, 'cope': 4998, 'serena': 4999, 'burglaries': 5000, 'arctic': 5001, 'semiconductor': 5002, 'automaker': 5003, 'shoppers': 5004, 'composer': 5005, 'pledge': 5006, 'smuggling': 5007, 'survive': 5008, 'sit': 5009, 'prestigious': 5010, 'fill': 5011, 'albert': 5012, 'sweep': 5013, 'recruiting': 5014, 'platinum': 5015, 'seminar': 5016, '93': 5017, 'statewide': 5018, 'federer': 5019, 'leon': 5020, 'entitled': 5021, 'rallies': 5022, 'nominations': 5023, 'eliminate': 5024, 'updates': 5025, 'essential': 5026, 'buses': 5027, 'academic': 5028, 'soul': 5029, 'stripped': 5030, 'slump': 5031, 'luke': 5032, 'nurse': 5033, 'backing': 5034, 'policeman': 5035, 'farms': 5036, 'climbed': 5037, 'sc': 5038, 'icc': 5039, 'berry': 5040, 'sharma': 5041, 'spy': 5042, 'silence': 5043, 'inaugurated': 5044, 'darren': 5045, 'ipl': 5046, 'brush': 5047, 'definitive': 5048, 'flagship': 5049, 'views': 5050, 'rivers': 5051, 'nrl': 5052, 'angel': 5053, 'closely': 5054, 'execution': 5055, 'developments': 5056, 'governance': 5057, 'indefinitely': 5058, '25th': 5059, '100th': 5060, 'swap': 5061, 'reopens': 5062, 'keys': 5063, 'tens': 5064, 'apologised': 5065, 'migrants': 5066, 'intervention': 5067, 'bags': 5068, 'ram': 5069, 'lexington': 5070, 'orioles': 5071, 'corn': 5072, 'misconduct': 5073, 'transferred': 5074, 'ahmed': 5075, 'santorum': 5076, 'le': 5077, 'sebastian': 5078, 'numerous': 5079, 'shape': 5080, 'philip': 5081, 'belgian': 5082, 'harassment': 5083, 'gambling': 5084, 'princess': 5085, 'appealing': 5086, 'tag': 5087, 'reward': 5088, 'guidelines': 5089, 'anchor': 5090, 'evacuation': 5091, 'bronze': 5092, 'tulsa': 5093, 'siemens': 5094, 'medals': 5095, 'whitney': 5096, 'harrison': 5097, 'arbitration': 5098, 'amber': 5099, 'selects': 5100, 'gaining': 5101, 'enable': 5102, 'favor': 5103, 'seahawks': 5104, 'rehabilitation': 5105, 'playoffs': 5106, 'cruz': 5107, 'calgary': 5108, 'parole': 5109, 'reviews': 5110, 'delivers': 5111, 'strengthened': 5112, 'collided': 5113, 'intersection': 5114, 'wolves': 5115, 'placement': 5116, 'joel': 5117, 'exposed': 5118, 'skip': 5119, 'eco': 5120, 'bench': 5121, 'rockies': 5122, 'employer': 5123, 'freddie': 5124, 'ads': 5125, 'jane': 5126, 'loved': 5127, 'gen': 5128, 'promise': 5129, 'thousand': 5130, 'aside': 5131, 'bids': 5132, 'volatile': 5133, 'luis': 5134, 'couldn': 5135, 'heavily': 5136, 'underground': 5137, 'taipei': 5138, 'allies': 5139, 'pupils': 5140, 'pensions': 5141, 'charging': 5142, 'hiding': 5143, 'sheffield': 5144, 'desert': 5145, 'levy': 5146, 'frontman': 5147, 'bombs': 5148, 'midwest': 5149, 'spin': 5150, 'christopher': 5151, 'osama': 5152, 'prompting': 5153, 'modest': 5154, 'dna': 5155, 'quiet': 5156, 'beyonce': 5157, 'xvi': 5158, 'peninsula': 5159, 'silicon': 5160, 'surged': 5161, 'norfolk': 5162, 'scientist': 5163, 'hugh': 5164, 'regulation': 5165, 'crunch': 5166, 'unprecedented': 5167, 'grave': 5168, 'capable': 5169, 'sensation': 5170, 'mariners': 5171, 'grown': 5172, 'discount': 5173, 'flow': 5174, 'medicare': 5175, 'rams': 5176, 'gate': 5177, 'jumps': 5178, 'pattern': 5179, 'blocks': 5180, 'boosting': 5181, 'batsman': 5182, 'yields': 5183, 'chad': 5184, 'sensitive': 5185, 'defeating': 5186, 'chemicals': 5187, 'pa': 5188, 'lifestyle': 5189, 'harbor': 5190, 'bosses': 5191, 'mainly': 5192, 'striking': 5193, 'fought': 5194, 'mild': 5195, 'furniture': 5196, 'sponsored': 5197, 'fundraiser': 5198, 'letters': 5199, 'christians': 5200, 'lg': 5201, 'canadians': 5202, 'mo': 5203, 'bolster': 5204, 'wages': 5205, 'simple': 5206, 'bust': 5207, 'expensive': 5208, 'dawn': 5209, 'unpaid': 5210, 'diseases': 5211, 'unbeaten': 5212, 'mercedes': 5213, 'mate': 5214, 'mohammed': 5215, 'manning': 5216, 'blair': 5217, 'norwegian': 5218, 'fugitive': 5219, 'younger': 5220, 'amnesty': 5221, 'suv': 5222, 'qualify': 5223, 'economist': 5224, 'download': 5225, 'bath': 5226, 'â': 5227, 'easier': 5228, 'valued': 5229, 'pollution': 5230, 'cannabis': 5231, 'pulling': 5232, 'ranking': 5233, 'athlete': 5234, 'cycle': 5235, 'outlets': 5236, 'warnings': 5237, 'moody': 5238, 'departments': 5239, 'eliminated': 5240, 'cardiff': 5241, 'medium': 5242, 'brent': 5243, 'boats': 5244, 'lesbian': 5245, 'lineman': 5246, 'ist': 5247, '125': 5248, 'shark': 5249, 'insurgents': 5250, 'swansea': 5251, '2nd': 5252, 'participation': 5253, 'individuals': 5254, 'aguilera': 5255, '110': 5256, 'organized': 5257, 'tribunal': 5258, 'knot': 5259, 'butler': 5260, 'andhra': 5261, 'favre': 5262, 'dental': 5263, 'angela': 5264, 'intensive': 5265, 'therapy': 5266, 'understanding': 5267, 'reverse': 5268, 'pact': 5269, 'equal': 5270, 'dirty': 5271, 'understand': 5272, 'prosecution': 5273, 'optimism': 5274, 'aiming': 5275, 'wrestling': 5276, 'romance': 5277, 'engineer': 5278, 'borrowing': 5279, 'romanian': 5280, 'leaked': 5281, 'organised': 5282, 'myers': 5283, 'punishment': 5284, 'chicken': 5285, 'raj': 5286, 'swing': 5287, 'pump': 5288, 'brien': 5289, 'hop': 5290, 'liver': 5291, 'institution': 5292, 'replacing': 5293, 'finnish': 5294, 'malta': 5295, 'trainer': 5296, 'bullock': 5297, 'birds': 5298, 'hardware': 5299, 'remembered': 5300, 'cardiac': 5301, 'amitabh': 5302, 'preferred': 5303, 'donates': 5304, 'tablets': 5305, 'archbishop': 5306, 'mortgages': 5307, 'autism': 5308, 'delivering': 5309, 'declaration': 5310, 'weighed': 5311, 'framework': 5312, 'monsoon': 5313, 'disorder': 5314, 'brady': 5315, 'nz': 5316, 'dam': 5317, 'coleman': 5318, 'suggest': 5319, 'towns': 5320, 'neal': 5321, 'nude': 5322, 'mystery': 5323, 'gallery': 5324, 'completion': 5325, 'server': 5326, 'pneumonia': 5327, 'lease': 5328, 'invitation': 5329, 'paso': 5330, 'edinburgh': 5331, 'challenging': 5332, 'ashes': 5333, 'survival': 5334, 'bradford': 5335, 'christchurch': 5336, 'schwarzenegger': 5337, 'downgrades': 5338, 'criminals': 5339, 'jpmorgan': 5340, 'kahn': 5341, 'kicking': 5342, 'na': 5343, 'curb': 5344, 'renews': 5345, 'newport': 5346, 'cautious': 5347, 'newman': 5348, 'rudd': 5349, 'lab': 5350, 'filming': 5351, 'originally': 5352, 'derek': 5353, '18th': 5354, 'lisa': 5355, 'airtel': 5356, 'preparation': 5357, 'accounting': 5358, 'ethics': 5359, 'unconscious': 5360, 'nathan': 5361, 'wheel': 5362, 'yuan': 5363, 'itunes': 5364, 'gray': 5365, 'opponents': 5366, 'pledges': 5367, 'footballer': 5368, 'wichita': 5369, 'strain': 5370, 'trooper': 5371, 'lifts': 5372, 'navigation': 5373, 'aboard': 5374, 'decrease': 5375, 'cats': 5376, 'catcher': 5377, 'questioned': 5378, 'origin': 5379, 'gillard': 5380, 'conrad': 5381, 'challenged': 5382, 'camps': 5383, 'retained': 5384, 'emerge': 5385, 'zambia': 5386, 'deposits': 5387, 'tragedy': 5388, 'ancient': 5389, 'os': 5390, 'tesco': 5391, 'tours': 5392, 'relatives': 5393, 'triggered': 5394, 'widely': 5395, 'crossed': 5396, 'oman': 5397, 'routine': 5398, 'sierra': 5399, 'seconds': 5400, 'bharti': 5401, 'benjamin': 5402, 'renew': 5403, 'appoint': 5404, 'duties': 5405, 'recruit': 5406, 'distributor': 5407, 'cemetery': 5408, 'explore': 5409, 'kenyan': 5410, 'recruitment': 5411, 'indefinite': 5412, 'genocide': 5413, 'restraining': 5414, 'nurses': 5415, 'ridge': 5416, '160': 5417, 'mccarthy': 5418, 'michele': 5419, 'johansson': 5420, 'substantial': 5421, 'layoffs': 5422, 'plate': 5423, 'eds': 5424, 'taxpayers': 5425, 'boxer': 5426, 'struggles': 5427, 'pretty': 5428, 'vince': 5429, 'largely': 5430, 'wickets': 5431, 'swat': 5432, 'subscribers': 5433, 'concept': 5434, 'seniors': 5435, 'bowler': 5436, 'et': 5437, 'spell': 5438, 'vendor': 5439, 'hearts': 5440, 'buffett': 5441, 'relay': 5442, 'controls': 5443, 'implementation': 5444, 'newark': 5445, 'blacks': 5446, 'mt': 5447, 'wigan': 5448, 'reiterated': 5449, 'turkmenistan': 5450, 'tunisia': 5451, 'talked': 5452, 'sioux': 5453, 'turmoil': 5454, 'demonstration': 5455, 'behalf': 5456, 'ms': 5457, 'fines': 5458, 'thin': 5459, 'listing': 5460, 'mcdonald': 5461, 'sanjay': 5462, 'brook': 5463, 'fulham': 5464, 'withdrew': 5465, 'diaz': 5466, 'vanessa': 5467, 'apr': 5468, 'jamaica': 5469, 'survives': 5470, 'focusing': 5471, 'sindh': 5472, 'housewives': 5473, 'ferry': 5474, 'picking': 5475, 'stones': 5476, 'proceedings': 5477, 'favour': 5478, 'lock': 5479, 'apps': 5480, 'carriers': 5481, 'jharkhand': 5482, 'shield': 5483, 'breach': 5484, 'surface': 5485, 'th': 5486, 'praise': 5487, 'stages': 5488, 'baker': 5489, 'statements': 5490, 'booked': 5491, 'ones': 5492, 'represent': 5493, 'renault': 5494, 'betty': 5495, 'hazare': 5496, 'peterson': 5497, 'albany': 5498, 'bang': 5499, 'jong': 5500, 'availability': 5501, 'shoes': 5502, '911': 5503, 'lahore': 5504, 'nasdaq': 5505, 'cricketer': 5506, 'glee': 5507, 'document': 5508, 'knows': 5509, 'rubber': 5510, 'kiss': 5511, 'holder': 5512, 'admitting': 5513, 'thunder': 5514, 'oath': 5515, 'acquiring': 5516, 'ivory': 5517, 'ucla': 5518, 'calm': 5519, '14th': 5520, 'chargers': 5521, 'infringement': 5522, 'handling': 5523, 'offenders': 5524, 'stevens': 5525, 'carpet': 5526, 'hd': 5527, 'assured': 5528, '180': 5529, 'spreading': 5530, 'impressive': 5531, 'genetic': 5532, 'likes': 5533, 'sap': 5534, 'marion': 5535, 'pack': 5536, '17th': 5537, 'bhp': 5538, 'renowned': 5539, 'slam': 5540, 'disciplinary': 5541, 'wade': 5542, 'domain': 5543, 'heroes': 5544, 'il': 5545, 'molestation': 5546, 'hathaway': 5547, 'winnipeg': 5548, 'des': 5549, 'xi': 5550, 'devastating': 5551, 'tibet': 5552, 'toss': 5553, 'belt': 5554, 'difference': 5555, 'horror': 5556, 'bolt': 5557, '13th': 5558, 'climb': 5559, 'somerset': 5560, 'vulnerable': 5561, 'horses': 5562, 'rays': 5563, 'fresno': 5564, 'bryan': 5565, 'canal': 5566, 'expelled': 5567, 'mounting': 5568, 'walter': 5569, 'suu': 5570, 'kyi': 5571, 'suburb': 5572, 'voter': 5573, 'regrets': 5574, 'strategies': 5575, 'citizenship': 5576, 'cuomo': 5577, 'tips': 5578, 'pond': 5579, 'nice': 5580, 'depp': 5581, 'discussions': 5582, 'licenses': 5583, 'lsu': 5584, 'mad': 5585, 'policemen': 5586, 'compromise': 5587, 'wounds': 5588, 'covered': 5589, 'civic': 5590, 'exporters': 5591, 'cox': 5592, 'explain': 5593, 'else': 5594, 'blockbuster': 5595, 'speedway': 5596, 'sustainability': 5597, 'spiritual': 5598, 'knew': 5599, 'experienced': 5600, 'innocent': 5601, 'wyoming': 5602, 'mercury': 5603, 'jumping': 5604, 'singing': 5605, 'rovers': 5606, 'morris': 5607, 'colombo': 5608, 'denmark': 5609, 'rocky': 5610, 'button': 5611, 'railways': 5612, 'encouraged': 5613, 'correspondent': 5614, 'drill': 5615, 'natalie': 5616, 'naomi': 5617, 'runway': 5618, 'mohammad': 5619, 'vincent': 5620, 'bullet': 5621, 'walmart': 5622, 'trends': 5623, 'apologises': 5624, 'secures': 5625, 'concerts': 5626, 'jake': 5627, 'mayer': 5628, 'doubt': 5629, 'reynolds': 5630, 'reconciliation': 5631, 'tire': 5632, 'scarlett': 5633, 'hartford': 5634, 'assam': 5635, 'waived': 5636, 'danish': 5637, 'arsene': 5638, 'cola': 5639, 'insisting': 5640, 'electoral': 5641, 'willing': 5642, 'publication': 5643, 'mohamed': 5644, 'map': 5645, 'inspection': 5646, 'discover': 5647, 'par': 5648, 'require': 5649, '2016': 5650, 'sanchez': 5651, 'sentencing': 5652, 'mistakes': 5653, 'clearing': 5654, 'muammar': 5655, 'racial': 5656, 'confessed': 5657, 'maoist': 5658, 'worried': 5659, 'capabilities': 5660, 'detective': 5661, 'urge': 5662, 'miliband': 5663, 'grows': 5664, 'briefing': 5665, 'grass': 5666, 'ally': 5667, '15th': 5668, 'severely': 5669, 'readers': 5670, 'fantasy': 5671, 'supermodel': 5672, 'wishes': 5673, 'cornerback': 5674, 'possessing': 5675, 'resulted': 5676, 'extensive': 5677, 'kg': 5678, 'pursue': 5679, 'traveling': 5680, 'harvest': 5681, 'maple': 5682, 'rehman': 5683, 'substance': 5684, 'economists': 5685, 'councillors': 5686, 'coca': 5687, 'kobe': 5688, 'lambert': 5689, 'semifinals': 5690, 'ipo': 5691, 'gathering': 5692, 'certification': 5693, 'chopra': 5694, 'carroll': 5695, 'satyam': 5696, 'safely': 5697, 'autumn': 5698, 'alberto': 5699, '450': 5700, 'welsh': 5701, 'nawaz': 5702, 'circle': 5703, '96': 5704, 'deported': 5705, 'starbucks': 5706, 'lp': 5707, 'richards': 5708, 'longoria': 5709, 'guitar': 5710, 'mosque': 5711, 'silvio': 5712, 'elite': 5713, '4th': 5714, 'romantic': 5715, 'merge': 5716, 'tension': 5717, 'brawl': 5718, 'suisse': 5719, 'gifts': 5720, 'lucas': 5721, 'qualified': 5722, 'ppp': 5723, 'turner': 5724, 'thriller': 5725, 'superintendent': 5726, 'function': 5727, 'indecent': 5728, 'km': 5729, 'kid': 5730, 'mum': 5731, 'planet': 5732, 'raja': 5733, 'essex': 5734, '3g': 5735, 'vermont': 5736, 'orissa': 5737, 'appointments': 5738, 'excited': 5739, 'intent': 5740, 'webber': 5741, 'riot': 5742, 'clooney': 5743, 'vacation': 5744, 'appearing': 5745, 'richie': 5746, 'creates': 5747, 'stemming': 5748, 'orchestra': 5749, 'install': 5750, 'golfer': 5751, 'guinea': 5752, 'catherine': 5753, 'complications': 5754, 'meters': 5755, 'garcia': 5756, 'shoe': 5757, 'bruins': 5758, 'foul': 5759, 'transmission': 5760, 'unified': 5761, 'excessive': 5762, 'jewellery': 5763, 'mogul': 5764, 'da': 5765, 'historical': 5766, 'laser': 5767, 'margin': 5768, 'crush': 5769, 'defamation': 5770, 'foreigners': 5771, 'connect': 5772, 'duncan': 5773, 'risen': 5774, 'bennett': 5775, 'ranch': 5776, 'paise': 5777, 'michaels': 5778, 'fleeing': 5779, 'conn': 5780, 'wallace': 5781, 'dismisses': 5782, 'cheap': 5783, 'dragged': 5784, 'colts': 5785, 'fabio': 5786, 'advisers': 5787, 'treasurer': 5788, 'liquidity': 5789, 'durham': 5790, 'paterson': 5791, 'jun': 5792, 'niagara': 5793, 'licensing': 5794, 'narrowly': 5795, 'overturned': 5796, 'ios': 5797, 'pipe': 5798, 'stories': 5799, 'rounds': 5800, 'protesting': 5801, 'beta': 5802, 'bangkok': 5803, 'janata': 5804, 'mamata': 5805, 'hindu': 5806, 'maintained': 5807, 'wi': 5808, 'woes': 5809, 'assessment': 5810, '140': 5811, 'logo': 5812, 'checkpoint': 5813, 'pose': 5814, 'dying': 5815, '225': 5816, 'ronnie': 5817, 'promotions': 5818, 'infielder': 5819, 'radical': 5820, 'glenn': 5821, 'overdose': 5822, 'walsh': 5823, 'quake': 5824, 'settles': 5825, 'oprah': 5826, 'finances': 5827, 'couples': 5828, 'throat': 5829, 'skype': 5830, 'grounds': 5831, 'holders': 5832, 'absolutely': 5833, 'uganda': 5834, 'bankers': 5835, 'arrival': 5836, 'affecting': 5837, 'thackeray': 5838, 'writers': 5839, 'shootings': 5840, 'govt': 5841, 'bout': 5842, 'turbine': 5843, 'leicester': 5844, 'purchased': 5845, 'donation': 5846, 'analytics': 5847, 'tip': 5848, 'sweet': 5849, 'rbi': 5850, 'bros': 5851, 'canyon': 5852, 'prompted': 5853, 'wal': 5854, 'acquisitions': 5855, 'specific': 5856, 'yellow': 5857, 'drives': 5858, 'lessons': 5859, 'adele': 5860, 'q': 5861, 'cedar': 5862, 'reduces': 5863, 'neighbor': 5864, 'bonuses': 5865, 'massacre': 5866, 'attractive': 5867, 'punched': 5868, 'frontier': 5869, 'dhoni': 5870, 'simply': 5871, 'harvard': 5872, 'imran': 5873, 'nile': 5874, 'homeland': 5875, 'dvd': 5876, 'grace': 5877, 'extraordinary': 5878, 'revealing': 5879, 'thinking': 5880, 'billboard': 5881, 'touched': 5882, 'imported': 5883, 'splits': 5884, 'travis': 5885, 'giffords': 5886, 'meant': 5887, 'barn': 5888, 'metropolitan': 5889, '7th': 5890, 'tumor': 5891, 'percentage': 5892, 'mourinho': 5893, 'format': 5894, 'finishing': 5895, 'hang': 5896, 'volkswagen': 5897, 'bruno': 5898, 'threaten': 5899, 'sudden': 5900, 'kingston': 5901, 'fights': 5902, 'ventures': 5903, 'improvements': 5904, 'bachmann': 5905, 'carlisle': 5906, 'marco': 5907, 'recovers': 5908, 'consultancy': 5909, 'ash': 5910, 'boulevard': 5911, 'folk': 5912, 'iceland': 5913, 'sofia': 5914, 'convertible': 5915, 'revive': 5916, 'jintao': 5917, 'aren': 5918, 'occasion': 5919, 'jakarta': 5920, 'challenger': 5921, 'partial': 5922, 'tentative': 5923, 'nose': 5924, 'strict': 5925, 'containing': 5926, 'excellent': 5927, 'logistics': 5928, 'mavericks': 5929, 'portal': 5930, 'violated': 5931, 'hornets': 5932, 'seem': 5933, 'kutcher': 5934, 'acclaimed': 5935, 'helen': 5936, 'slated': 5937, 'ports': 5938, 'miner': 5939, 'exactly': 5940, 'muscle': 5941, 'cheney': 5942, 'hopkins': 5943, 'intention': 5944, 'colleagues': 5945, 'advocates': 5946, 'answers': 5947, 'choose': 5948, 'lyon': 5949, 'lowered': 5950, 'cement': 5951, 'deployed': 5952, 'carson': 5953, 'mariah': 5954, 'rajya': 5955, 'honors': 5956, 'nyc': 5957, 'projected': 5958, 'maruti': 5959, 'katrina': 5960, 'travelling': 5961, 'marlins': 5962, 'flags': 5963, 'portuguese': 5964, 'ge': 5965, 'richardson': 5966, 'manuel': 5967, 'congratulates': 5968, 'quest': 5969, 'destroy': 5970, 'rankings': 5971, 'ebay': 5972, 'retain': 5973, 'stuart': 5974, 'youngest': 5975, 'boom': 5976, 'contribute': 5977, 'kirk': 5978, 'djokovic': 5979, 'associate': 5980, 'seal': 5981, 'badly': 5982, 'truth': 5983, 'ryder': 5984, 'speeding': 5985, 'tucson': 5986, 'miranda': 5987, 'tear': 5988, 'religion': 5989, 'shipments': 5990, 'geneva': 5991, 'thomson': 5992, 'juvenile': 5993, 'henderson': 5994, 'minn': 5995, 'pune': 5996, 'ages': 5997, 'hijacked': 5998, 'busch': 5999, 'exciting': 6000, 'wrist': 6001, 'wouldn': 6002, 'mouth': 6003, 'radiation': 6004, 'newborn': 6005, 'quotes': 6006, 'harvey': 6007, 'trump': 6008, 'valencia': 6009, 'torture': 6010, 'mainland': 6011, 'providence': 6012, 'notre': 6013, 'whale': 6014, 'downs': 6015, 'barton': 6016, 'doherty': 6017, 'sharapova': 6018, 'autopsy': 6019, 'cues': 6020, 'yorkshire': 6021, 'spice': 6022, 'encouraging': 6023, 'hinted': 6024, 'bottle': 6025, 'laura': 6026, 'spider': 6027, 'margaret': 6028, 'provinces': 6029, 'appealed': 6030, '2000': 6031, 'laundering': 6032, 'stressed': 6033, '4g': 6034, 'withdrawal': 6035, 'concrete': 6036, 'tripoli': 6037, 'ave': 6038, 'effectively': 6039, 'parked': 6040, 'hamburg': 6041, 'addressed': 6042, 'ethiopia': 6043, 'neighbors': 6044, 'di': 6045, 'sharon': 6046, 'credits': 6047, 'wholly': 6048, 'salaries': 6049, 'tinto': 6050, 'rukh': 6051, 'journey': 6052, 'solve': 6053, 'petersburg': 6054, 'flyers': 6055, 'sponsorship': 6056, 'cruises': 6057, 'steep': 6058, 'hungarian': 6059, 'sullivan': 6060, 'adrian': 6061, 'cannon': 6062, 'quarterfinals': 6063, 'neighbours': 6064, 'manila': 6065, 'ea': 6066, 'contained': 6067, 'coyotes': 6068, 'patil': 6069, 'issuing': 6070, 'troy': 6071, 'ailing': 6072, 'boris': 6073, 'stretch': 6074, 'riverside': 6075, 'inventories': 6076, 'abused': 6077, 'congratulated': 6078, 'procedure': 6079, 'ideas': 6080, 'hanged': 6081, 'narendra': 6082, 'southwestern': 6083, 'slovenia': 6084, 'cage': 6085, 'courthouse': 6086, 'du': 6087, 'huntington': 6088, '97': 6089, 'duo': 6090, 'generate': 6091, 'va': 6092, 'yousuf': 6093, 'activated': 6094, 'sena': 6095, 'aussie': 6096, 'acute': 6097, 'brutal': 6098, 'wash': 6099, 'explosive': 6100, 'goa': 6101, 'burst': 6102, 'rapidly': 6103, 'roma': 6104, 'gala': 6105, 'load': 6106, 'valentine': 6107, 'universe': 6108, 'teammate': 6109, 'hosni': 6110, 'subscription': 6111, 'qaida': 6112, 'tap': 6113, 'knicks': 6114, 'guests': 6115, 'astronaut': 6116, 'councillor': 6117, 'develops': 6118, 'qb': 6119, 'ryanair': 6120, '2020': 6121, 'statue': 6122, 'repairs': 6123, 'intense': 6124, 'rainfall': 6125, 'gdp': 6126, 'eyed': 6127, 'sec': 6128, 'purpose': 6129, 'dominique': 6130, 'crazy': 6131, 'singles': 6132, 'daytona': 6133, 'rebounded': 6134, 'economics': 6135, 'alleging': 6136, 'ranging': 6137, 'fisherman': 6138, 'stoke': 6139, 'bundesliga': 6140, 'soaring': 6141, 'bribery': 6142, 'blew': 6143, 'offense': 6144, 'motel': 6145, 'wars': 6146, 'buzz': 6147, 'weakens': 6148, 'container': 6149, 'karl': 6150, 'consensus': 6151, 'encourage': 6152, 'hikes': 6153, 'nikkei': 6154, 'cardinal': 6155, 'rap': 6156, 'restructure': 6157, 'surprised': 6158, 'workplace': 6159, 'extradition': 6160, 'lebron': 6161, 'erie': 6162, 'banerjee': 6163, 'mansion': 6164, 'magistrate': 6165, 'mclaren': 6166, 'oxford': 6167, 'asean': 6168, 'seekers': 6169, 'performances': 6170, 'geithner': 6171, 'slain': 6172, 'texans': 6173, 'influential': 6174, 'certificate': 6175, 'perhaps': 6176, 'austrian': 6177, 'drawn': 6178, 'carrie': 6179, 'ladies': 6180, 'mae': 6181, 'reception': 6182, 'lighting': 6183, 'capello': 6184, 'investigations': 6185, 'invested': 6186, 'jaguars': 6187, 'arraigned': 6188, 'symbol': 6189, 'heather': 6190, 'powered': 6191, 'courses': 6192, 'quarters': 6193, 'puerto': 6194, 'maintains': 6195, 'carnival': 6196, 'windsor': 6197, 'accusations': 6198, 'enjoyed': 6199, 'cooperate': 6200, 'reckless': 6201, 'addresses': 6202, 'presenter': 6203, 'bailey': 6204, 'brooks': 6205, 'contribution': 6206, 'disappointed': 6207, 'declaring': 6208, 'globally': 6209, 'tattoo': 6210, 'castle': 6211, 'lie': 6212, 'dpa': 6213, 'sluggish': 6214, 'participating': 6215, 'posed': 6216, 'soil': 6217, 'borough': 6218, 'celebrities': 6219, 'hbo': 6220, 'lieutenant': 6221, 'hawks': 6222, 'doubleheader': 6223, 'fate': 6224, 'tyson': 6225, 'enjoying': 6226, 'palmer': 6227, 'apparel': 6228, 'ip': 6229, 'addressing': 6230, 'donate': 6231, 'griffin': 6232, 'istanbul': 6233, '2002': 6234, 'pan': 6235, 'vehicular': 6236, 'hart': 6237, 'villages': 6238, 'disorderly': 6239, 'priced': 6240, 'stomach': 6241, 'breakthrough': 6242, 'riley': 6243, 'showcase': 6244, 'angola': 6245, 'survivors': 6246, 'walks': 6247, 'marries': 6248, 'benitez': 6249, 'retains': 6250, 'dominated': 6251, 'farewell': 6252, 'connected': 6253, 'plunge': 6254, 'humans': 6255, 'length': 6256, 'sheet': 6257, 'omar': 6258, 'brokerage': 6259, 'nor': 6260, 'proper': 6261, 'handle': 6262, 'aaa': 6263, 'victor': 6264, 'noble': 6265, 'wii': 6266, 'blagojevich': 6267, 'glen': 6268, 'portion': 6269, 'sorry': 6270, 'finale': 6271, 'sleeping': 6272, 'recognize': 6273, 'pensioner': 6274, 'participants': 6275, 'medicaid': 6276, 'halted': 6277, 'sanford': 6278, 'ferdinand': 6279, 'krishna': 6280, 'segment': 6281, 'cream': 6282, 'maps': 6283, 'battled': 6284, 'pelosi': 6285, 'stern': 6286, 'ipod': 6287, 'vick': 6288, 'noel': 6289, 'collective': 6290, 'freshman': 6291, 'timothy': 6292, 'displaced': 6293, 'consolidation': 6294, 'bombings': 6295, 'humphries': 6296, 'guardian': 6297, 'upa': 6298, 'bright': 6299, 'powell': 6300, 'diving': 6301, 'depot': 6302, 'joey': 6303, 'diana': 6304, 'personality': 6305, 'stick': 6306, 'cristiano': 6307, 'mistake': 6308, 'hacked': 6309, 'minogue': 6310, 'boil': 6311, 'winfrey': 6312, 'railroad': 6313, 'requested': 6314, 'metres': 6315, 'videos': 6316, 'hat': 6317, 'marie': 6318, 'pratt': 6319, 'reed': 6320, 'usc': 6321, 'productivity': 6322, 'chips': 6323, 'ahmad': 6324, 'amtrak': 6325, 'sweeping': 6326, 'patel': 6327, 'compact': 6328, 'kyrgyz': 6329, 'schemes': 6330, 'premiership': 6331, 'plenty': 6332, 'saskatchewan': 6333, 'pml': 6334, 'pointed': 6335, 'aerospace': 6336, 'plaza': 6337, 'components': 6338, 'posing': 6339, 'wolf': 6340, 'proved': 6341, 'finishes': 6342, 'smashed': 6343, 'outsourcing': 6344, 'subway': 6345, 'voluntarily': 6346, 'combine': 6347, 'pierce': 6348, 'counterparts': 6349, 'tweet': 6350, 'organisers': 6351, 'dubbed': 6352, 'implemented': 6353, 'deployment': 6354, 'canucks': 6355, 'referee': 6356, 'rebuild': 6357, 'aden': 6358, 'cain': 6359, 'institutional': 6360, 'hackers': 6361, 'partially': 6362, 'quitting': 6363, 'explains': 6364, 'outage': 6365, 'europa': 6366, 'nicki': 6367, 'minaj': 6368, 'method': 6369, 'belfast': 6370, 'bitter': 6371, 'symptoms': 6372, 'invites': 6373, 'warrants': 6374, 'zsa': 6375, 'earns': 6376, 'plymouth': 6377, 'inappropriate': 6378, 'desire': 6379, 'struggled': 6380, 'witherspoon': 6381, 'seeded': 6382, 'empty': 6383, 'owns': 6384, 'relating': 6385, 'noted': 6386, 'snap': 6387, 'jul': 6388, 'gps': 6389, 'piracy': 6390, 'caps': 6391, 'damaging': 6392, 'thunderstorm': 6393, 'packed': 6394, 'patents': 6395, 'dip': 6396, 'laboratory': 6397, 'households': 6398, 'md': 6399, 'meaning': 6400, 'slowly': 6401, 'molesting': 6402, 'gym': 6403, 'proceeds': 6404, 'wonder': 6405, 'arlington': 6406, 'fruit': 6407, 'mercy': 6408, 'saves': 6409, 'contractors': 6410, 'moments': 6411, 'spoken': 6412, 'sidelines': 6413, 'detected': 6414, 'maiden': 6415, 'optimistic': 6416, 'dayton': 6417, 'spree': 6418, 'fierce': 6419, 'coventry': 6420, 'remanded': 6421, 'precious': 6422, 'degrees': 6423, 'advocate': 6424, 'trigger': 6425, 'australians': 6426, 'uncertain': 6427, 'poisoning': 6428, 'knox': 6429, 'eid': 6430, 'buyer': 6431, 'dengue': 6432, 'alicia': 6433, 'inspector': 6434, 'hamstring': 6435, 'mothers': 6436, 'etihad': 6437, 'utilities': 6438, 'roots': 6439, 'sidelined': 6440, 'burglar': 6441, 'strengthening': 6442, 'unusual': 6443, 'reject': 6444, 'transparency': 6445, 'horizon': 6446, 'novak': 6447, 'ceiling': 6448, 'airlifted': 6449, '21st': 6450, 'builder': 6451, '170': 6452, 'nets': 6453, 'jockey': 6454, 'nervous': 6455, 'midday': 6456, 'endorsement': 6457, 'rwanda': 6458, 'messaging': 6459, 'popularity': 6460, 'attorneys': 6461, 'floating': 6462, 'islamist': 6463, 'spray': 6464, 'shutting': 6465, 'scholarship': 6466, 'gardens': 6467, 'biopic': 6468, 'chuck': 6469, 'rev': 6470, 'typhoon': 6471, 'sana': 6472, 'jd': 6473, 'gender': 6474, 'trevor': 6475, 'pressures': 6476, 'reference': 6477, 'retreat': 6478, 'fixing': 6479, 'ramp': 6480, 'bullying': 6481, 'marketplace': 6482, 'robbers': 6483, 'lte': 6484, 'prayer': 6485, 'padres': 6486, 'solidarity': 6487, 'incumbent': 6488, 'gilbert': 6489, 'vijay': 6490, 'fractured': 6491, 'permanently': 6492, 'shortfall': 6493, 'palestine': 6494, 'amsterdam': 6495, 'municipality': 6496, 'edges': 6497, 'hails': 6498, 'tuition': 6499, 'tragic': 6500, 'dreams': 6501, 'destinations': 6502, 'volcano': 6503, 'erupted': 6504, 'hostile': 6505, 'remake': 6506, 'diamondbacks': 6507, 'bridges': 6508, 'chilean': 6509, 'penalties': 6510, 'excellence': 6511, 'broader': 6512, 'stood': 6513, 'organic': 6514, 'adjourned': 6515, 'ki': 6516, 'helicopters': 6517, 'loaded': 6518, 'aamir': 6519, '6th': 6520, 'veto': 6521, 'endeavour': 6522, 'mlb': 6523, 'founded': 6524, 'aol': 6525, 'greenhouse': 6526, 'joy': 6527, 'goodwill': 6528, 'protected': 6529, 'lawsuits': 6530, 'printing': 6531, 'overtime': 6532, 'trader': 6533, 'halifax': 6534, 'volatility': 6535, 'alarm': 6536, 'regain': 6537, 'inch': 6538, '40th': 6539, 'disrupted': 6540, 'completing': 6541, 'crawford': 6542, 'riders': 6543, 'panthers': 6544, 'collected': 6545, 'tel': 6546, 'myspace': 6547, 'les': 6548, 'legs': 6549, 'troopers': 6550, 'merrill': 6551, 'avalanche': 6552, 'greene': 6553, 'falcons': 6554, 'batch': 6555, 'deciding': 6556, 'scout': 6557, 'entrepreneurs': 6558, 'doug': 6559, 'acid': 6560, 'exchanges': 6561, 'panic': 6562, 'automation': 6563, 'reese': 6564, 'isle': 6565, 'chat': 6566, 'welterweight': 6567, 'governing': 6568, 'reflecting': 6569, 'rim': 6570, 'walt': 6571, 'dragon': 6572, 'maintaining': 6573, 'bullish': 6574, 'astros': 6575, 'mancini': 6576, 'unite': 6577, 'matters': 6578, 'der': 6579, 'panasonic': 6580, 'buyout': 6581, 'tevez': 6582, 'anthem': 6583, 'bones': 6584, 'toxic': 6585, 'sudanese': 6586, 'patch': 6587, 'rated': 6588, 'contributions': 6589, 'assassination': 6590, 'ultra': 6591, 'demonstrators': 6592, 'opposed': 6593, 'chrome': 6594, 'ton': 6595, 'trained': 6596, 'rodgers': 6597, 'debts': 6598, 'checked': 6599, 'repeat': 6600, 'adoption': 6601, 'ramirez': 6602, 'bancorp': 6603, 'suppliers': 6604, 'toys': 6605, 'stanford': 6606, 'batting': 6607, 'brendan': 6608, 'overweight': 6609, 'damon': 6610, 'andrews': 6611, 'bet': 6612, 'fda': 6613, 'ledger': 6614, 'rover': 6615, 'succeed': 6616, 'immigrant': 6617, 'associates': 6618, 'engines': 6619, 'broking': 6620, 'narrow': 6621, 'testify': 6622, '19th': 6623, 'crane': 6624, 'hammer': 6625, 'seasonal': 6626, 'dhaka': 6627, 'dutt': 6628, 'mph': 6629, 'decides': 6630, 'yoga': 6631, 'axe': 6632, 'baptist': 6633, 'restricted': 6634, 'shuts': 6635, 'postpones': 6636, 'addiction': 6637, 'satellites': 6638, 'allocation': 6639, 'thief': 6640, 'underage': 6641, 'relegation': 6642, 'algeria': 6643, 'hospitalised': 6644, 'li': 6645, 'pine': 6646, 'dressed': 6647, 'programmes': 6648, 'parkway': 6649, 'intended': 6650, 'drake': 6651, 'khloe': 6652, 'tier': 6653, 'error': 6654, 'distribute': 6655, 'ditch': 6656, 'thus': 6657, 'pistorius': 6658, 'tanzania': 6659, 'anil': 6660, 'mandatory': 6661, 'raids': 6662, 'circumstances': 6663, 'disputes': 6664, 'tougher': 6665, 'ballots': 6666, 'demolition': 6667, 'comfortable': 6668, 'yacht': 6669, 'founding': 6670, 'ponting': 6671, 'subsidiaries': 6672, 'khalifa': 6673, 'reliever': 6674, 'prairie': 6675, 'mountains': 6676, 'facial': 6677, 'revival': 6678, 'counterfeit': 6679, 'banning': 6680, '3rd': 6681, 'billiton': 6682, 'pills': 6683, 'travelers': 6684, 'shaun': 6685, 'bold': 6686, 'cellular': 6687, 'rhode': 6688, 'scouts': 6689, 'evacuate': 6690, 'campaigns': 6691, 'faculty': 6692, 'legislators': 6693, 'hidden': 6694, 'infosys': 6695, 'hell': 6696, 'fm': 6697, 'exclusively': 6698, 'ellis': 6699, 'invests': 6700, 'predict': 6701, 'clippers': 6702, 'daughters': 6703, 'publicist': 6704, 'approached': 6705, 'bee': 6706, 'arthur': 6707, 'repeatedly': 6708, 'wipro': 6709, 'slower': 6710, 'valuable': 6711, 'bounced': 6712, 'fever': 6713, 'laying': 6714, 'governors': 6715, 'advani': 6716, 'suddenly': 6717, 'cops': 6718, 'consultation': 6719, 'smash': 6720, 'gosselin': 6721, 'creditors': 6722, 'mandate': 6723, 'garbage': 6724, 'eventually': 6725, 'zac': 6726, 'tonne': 6727, 'imprisonment': 6728, 'villagers': 6729, '2003': 6730, 'drummer': 6731, 'facilitate': 6732, 'lacrosse': 6733, 'introducing': 6734, 'caroline': 6735, 'submit': 6736, 'bend': 6737, 'firearms': 6738, 'consequences': 6739, 'nielsen': 6740, 'sometime': 6741, 'wider': 6742, 'burma': 6743, 'explosives': 6744, 'tumbled': 6745, 'barrels': 6746, 'wilmington': 6747, 'removal': 6748, 'altercation': 6749, 'lobby': 6750, 'ministerial': 6751, 'oliver': 6752, 'hurricanes': 6753, 'meals': 6754, 'heating': 6755, 'hundred': 6756, 'presidents': 6757, 'plotting': 6758, 'jenkins': 6759, 'spends': 6760, 'lays': 6761, 'plug': 6762, 'ejected': 6763, 'teeth': 6764, 'asthma': 6765, 'replaces': 6766, 'marines': 6767, 'anonymous': 6768, 'pierre': 6769, 'pets': 6770, 'sat': 6771, 'contender': 6772, 'perez': 6773, 'impose': 6774, 'chocolate': 6775, '30th': 6776, 'swan': 6777, 'lauren': 6778, 'burlington': 6779, 'caution': 6780, 'hoped': 6781, 'studying': 6782, 'reviewing': 6783, 'td': 6784, 'bombers': 6785, '16th': 6786, 'wed': 6787, 'claude': 6788, 'macedonia': 6789, 'marginally': 6790, 'ounce': 6791, 'boards': 6792, 'shocked': 6793, 'nd': 6794, 'sting': 6795, 'generic': 6796, 'monica': 6797, 'pointing': 6798, 'reactor': 6799, 'simmons': 6800, 'particular': 6801, 'devastated': 6802, 'raul': 6803, 'cavaliers': 6804, 'pirate': 6805, 'approaching': 6806, 'devils': 6807, 'fiery': 6808, 'sergio': 6809, 'vampire': 6810, 'citi': 6811, 'herman': 6812, 'friendship': 6813, 'hezbollah': 6814, 'cigarette': 6815, 'legacy': 6816, 'qualifier': 6817, 'wizards': 6818, 'reunion': 6819, 'commuters': 6820, 'engage': 6821, 'canberra': 6822, 'yield': 6823, 'dump': 6824, 'strengthens': 6825, 'jp': 6826, 'shake': 6827, 'expresses': 6828, 'forecasters': 6829, 'wallabies': 6830, 'hacking': 6831, 'nationally': 6832, 'minors': 6833, 'gadhafi': 6834, 'disabilities': 6835, 'cnbc': 6836, 'claire': 6837, 'distributed': 6838, 'oasis': 6839, 'coral': 6840, 'killings': 6841, 'rage': 6842, 'eligible': 6843, 'mobility': 6844, 'apartments': 6845, 'santos': 6846, 'ousted': 6847, 'bankrupt': 6848, 'skating': 6849, 'ripped': 6850, 'transactions': 6851, 'rogue': 6852, 'rough': 6853, 'resorts': 6854, 'merchant': 6855, 'backup': 6856, 'toilet': 6857, 'brunswick': 6858, 'cia': 6859, 'collect': 6860, 'designs': 6861, 'kidnap': 6862, 'organizers': 6863, 'eases': 6864, 'shocking': 6865, 'barrier': 6866, 'prefer': 6867, 'sexy': 6868, 'vietnamese': 6869, 'nobody': 6870, 'calendar': 6871, 'graduation': 6872, 'councils': 6873, 'thank': 6874, 'grandmother': 6875, 'medicines': 6876, 'repeated': 6877, 'intellectual': 6878, 'lansing': 6879, 'megan': 6880, 'height': 6881, 'platforms': 6882, 'detectives': 6883, 'surcharge': 6884, 'itv': 6885, 'albums': 6886, 'washed': 6887, 'lynn': 6888, 'jackpot': 6889, 'examiner': 6890, 'kidman': 6891, 'permit': 6892, 'cop': 6893, 'repeal': 6894, 'holland': 6895, 'afc': 6896, 'councilman': 6897, 'samuel': 6898, '104': 6899, 'lashed': 6900, 'gonzalez': 6901, 'hernandez': 6902, 'consolidate': 6903, 'planting': 6904, 'bargain': 6905, 'enhancing': 6906, 'yards': 6907, 'coma': 6908, 'manitoba': 6909, 'felipe': 6910, 'frankfurt': 6911, 'sailor': 6912, 'stayed': 6913, 'preserve': 6914, '98': 6915, 'telegraph': 6916, 'halle': 6917, 'ordinary': 6918, 'pig': 6919, 'blackhawks': 6920, 'unemployed': 6921, 'covers': 6922, 'indeed': 6923, 'suffolk': 6924, 'bharatiya': 6925, 'dominican': 6926, 'pawlenty': 6927, 'sponsors': 6928, 'ambitious': 6929, 'tenn': 6930, 'puppy': 6931, 'mali': 6932, 'passport': 6933, 'carmaker': 6934, 'disappeared': 6935, 'aung': 6936, 'undercover': 6937, 'amazing': 6938, 'charities': 6939, 'myself': 6940, 'offerings': 6941, 'handset': 6942, 'loose': 6943, 'brave': 6944, 'aviv': 6945, 'suns': 6946, 'unexpected': 6947, 'pyongyang': 6948, 'criticised': 6949, 'bingo': 6950, 'polling': 6951, 'statutory': 6952, 'faulty': 6953, 'winston': 6954, 'battered': 6955, 'incentives': 6956, 'mix': 6957, 'steam': 6958, 'questioning': 6959, 'opposes': 6960, 'textile': 6961, 'florence': 6962, 'brokers': 6963, 'swings': 6964, 'seizure': 6965, 'en': 6966, 'toledo': 6967, 'specifically': 6968, 'sara': 6969, 'plains': 6970, 'preston': 6971, 'montag': 6972, 'serie': 6973, 'lowers': 6974, 'presenting': 6975, 'revolutionary': 6976, 'ma': 6977, 'ak': 6978, 'bedroom': 6979, 'desktop': 6980, '2001': 6981, 'bicycle': 6982, 'epic': 6983, 'playboy': 6984, 'atletico': 6985, 'mesa': 6986, 'dock': 6987, 'blasted': 6988, 'vettel': 6989, 'alice': 6990, 'temperature': 6991, 'peoples': 6992, 'clayton': 6993, 'bullpen': 6994, 'happiness': 6995, 'panels': 6996, '175': 6997, 'procedures': 6998, 'wet': 6999, 'balotelli': 7000, 'johnston': 7001, 'paulo': 7002, '3m': 7003, 'strained': 7004, 'aliyev': 7005, 'telstra': 7006, 'chester': 7007, 'tanks': 7008, 'nyse': 7009, 'sank': 7010, 'instruments': 7011, 'integrity': 7012, 'prop': 7013, 'yadav': 7014, 'gig': 7015, 'laptop': 7016, 'recommendations': 7017, 'arrangements': 7018, 'confrontation': 7019, 'enemy': 7020, 'kurdish': 7021, 'gazprom': 7022, 'funny': 7023, 'jeffrey': 7024, 'respectively': 7025, 'invitational': 7026, 'adjusted': 7027, 'forever': 7028, 'hannah': 7029, 'carlo': 7030, 'ellen': 7031, 'pitches': 7032, 'jorge': 7033, 'pietersen': 7034, 'resigning': 7035, 'shortstop': 7036, 'conducting': 7037, 'paula': 7038, 'dogg': 7039, 'tighten': 7040, 'portable': 7041, 'publishes': 7042, 'crosby': 7043, 'tsvangirai': 7044, 'adopts': 7045, 'rescues': 7046, 'testimony': 7047, 'irvine': 7048, 'virtually': 7049, 'canterbury': 7050, 'wheelchair': 7051, 'agreeing': 7052, 'kraft': 7053, 'widened': 7054, 'teammates': 7055, 'ria': 7056, 'lionel': 7057, 'browser': 7058, 'flew': 7059, 'leonardo': 7060, 'afraid': 7061, 'dodge': 7062, 'pepper': 7063, 'crops': 7064, 'operated': 7065, 'coronation': 7066, 'clashed': 7067, 'croatian': 7068, 'aurora': 7069, 'lanes': 7070, 'redknapp': 7071, 'cal': 7072, 'certified': 7073, 'mw': 7074, 'setback': 7075, 'columnist': 7076, 'janet': 7077, 'mode': 7078, 'territorial': 7079, 'ghost': 7080, 'initially': 7081, 'abbey': 7082, 'orbit': 7083, 'stamford': 7084, 'subsidies': 7085, 'silva': 7086, 'achievement': 7087, 'neglect': 7088, 'sore': 7089, 'physically': 7090, 'nottingham': 7091, 'painting': 7092, 'distributing': 7093, 'exam': 7094, 'survivor': 7095, 'midland': 7096, 'resolved': 7097, 'chose': 7098, 'greenback': 7099, 'fiat': 7100, 'o2': 7101, 'restoration': 7102, 'gossip': 7103, 'seri': 7104, 'poet': 7105, 'flooded': 7106, 'underwood': 7107, 'signature': 7108, 'lancaster': 7109, 'installation': 7110, 'presentation': 7111, 'deny': 7112, 'cab': 7113, 'proof': 7114, 'reddy': 7115, 'mayo': 7116, 'rico': 7117, 'victorian': 7118, 'slows': 7119, 'competing': 7120, 'hussain': 7121, 'priyanka': 7122, 'punch': 7123, 'kingfisher': 7124, 'groin': 7125, 'sweeps': 7126, 'blames': 7127, 'symphony': 7128, 'cheated': 7129, 'miguel': 7130, 'burton': 7131, 'slight': 7132, 'lone': 7133, 'maybe': 7134, 'bengals': 7135, 'concerning': 7136, '850': 7137, 'pfizer': 7138, 'alley': 7139, 'sanders': 7140, 'delighted': 7141, 'anand': 7142, 'swung': 7143, 'moines': 7144, 'lockout': 7145, 'soviet': 7146, 'admit': 7147, 'attendance': 7148, 'trademark': 7149, 'boise': 7150, 'berkeley': 7151, 'cathedral': 7152, 'pancreatic': 7153, 'rifle': 7154, 'flee': 7155, 'fairfax': 7156, 'coup': 7157, 'behavior': 7158, 'administrators': 7159, 'relative': 7160, 'reservation': 7161, 'doubts': 7162, 'publish': 7163, 'inn': 7164, 'bloody': 7165, 'protecting': 7166, 'rossi': 7167, 'imminent': 7168, 'katherine': 7169, 'ducks': 7170, 'dumping': 7171, 'packages': 7172, 'inspectors': 7173, 'nuggets': 7174, 'vernon': 7175, 'hemsworth': 7176, 'millionaire': 7177, 'tiny': 7178, 'bnp': 7179, 'davidson': 7180, 'burnt': 7181, 'myrtle': 7182, 'compound': 7183, 'malaria': 7184, 'shadow': 7185, 'clears': 7186, 'wrap': 7187, 'roethlisberger': 7188, 'accreditation': 7189, 'brewer': 7190, 'lehman': 7191, 'jackie': 7192, 'surrender': 7193, 'oppose': 7194, 'contempt': 7195, 'promotes': 7196, 'requests': 7197, 'criticized': 7198, 'westminster': 7199, 'arquette': 7200, 'reno': 7201, 'approaches': 7202, 'connor': 7203, 'rig': 7204, 'hilary': 7205, 'surrey': 7206, 'preparations': 7207, 'proposing': 7208, 'tycoon': 7209, 'watford': 7210, 'aquino': 7211, 'regard': 7212, 'wilkinson': 7213, 'funded': 7214, 'payroll': 7215, 'consortium': 7216, 'predicts': 7217, 'indigenous': 7218, 'removing': 7219, 'paltrow': 7220, 'mls': 7221, 'charts': 7222, 'climbing': 7223, 'linking': 7224, 'stalking': 7225, 'georgetown': 7226, 'croatia': 7227, 'roughly': 7228, 'pitching': 7229, 'rory': 7230, 'sized': 7231, 'heels': 7232, 'aware': 7233, 'vista': 7234, 'arriving': 7235, 'snapped': 7236, 'earning': 7237, 'chartered': 7238, 'malawi': 7239, 'neill': 7240, 'nova': 7241, 'programming': 7242, 'ok': 7243, 'dancer': 7244, 'shahid': 7245, 'prayers': 7246, 'startup': 7247, 'chaos': 7248, 'reputation': 7249, 'uniform': 7250, 'butt': 7251, 'franco': 7252, 'bump': 7253, 'outages': 7254, 'stricken': 7255, 'locker': 7256, 'morrison': 7257, 'notebook': 7258, 'ike': 7259, 'corrupt': 7260, 'inauguration': 7261, 'morocco': 7262, 'negotiating': 7263, 'mich': 7264, 'reinstated': 7265, 'tracy': 7266, 'explained': 7267, 'hayden': 7268, 'rcmp': 7269, 'javier': 7270, 'cease': 7271, 'reunited': 7272, 'liability': 7273, 'levi': 7274, 'rear': 7275, 'gunshot': 7276, 'gingrich': 7277, 'explodes': 7278, 'flown': 7279, 'srinagar': 7280, 'sparks': 7281, 'bafana': 7282, 'telekom': 7283, 'upside': 7284, 'belmont': 7285, 'mayweather': 7286, 'embattled': 7287, 'toy': 7288, 'gunfire': 7289, '23rd': 7290, 'pure': 7291, 'ralph': 7292, 'sequel': 7293, 'researcher': 7294, 'lots': 7295, 'laurent': 7296, 'novosti': 7297, 'nitish': 7298, 'messi': 7299, 'spirits': 7300, 'ab': 7301, 'kamal': 7302, 'willis': 7303, 'concludes': 7304, 'karabakh': 7305, 'beaches': 7306, 'spectacular': 7307, 'hunters': 7308, 'burke': 7309, 'debuts': 7310, 'usain': 7311, 'pearl': 7312, 'sometimes': 7313, 'sailing': 7314, 'ltte': 7315, 'toshiba': 7316, 'silent': 7317, 'draws': 7318, 'twenty': 7319, 'filipino': 7320, 'duchess': 7321, 'mysterious': 7322, 'opponent': 7323, 'infections': 7324, 'entrepreneur': 7325, 'middleweight': 7326, 'freeway': 7327, 'hispanic': 7328, 'huffington': 7329, 'hide': 7330, 'stance': 7331, 'bret': 7332, 'sp': 7333, 'hindi': 7334, 'augusta': 7335, 'kindle': 7336, 'lets': 7337, 'f1': 7338, 'revenge': 7339, 'formation': 7340, 'amir': 7341, 'donor': 7342, 'majors': 7343, 'punk': 7344, 'kodak': 7345, 'constable': 7346, 'famed': 7347, 'hassan': 7348, 'progressive': 7349, 'riots': 7350, 'starter': 7351, 'graduates': 7352, 'indoor': 7353, 'spotlight': 7354, 'acknowledged': 7355, 'debris': 7356, 'mirza': 7357, 'controller': 7358, 'willie': 7359, 'exercises': 7360, 'bearish': 7361, 'scanner': 7362, 'portman': 7363, 'speeds': 7364, 'diane': 7365, 'raleigh': 7366, 'wen': 7367, 'wbc': 7368, 'tipped': 7369, 'immunity': 7370, 'clemens': 7371, 'poses': 7372, 'secretly': 7373, 'indie': 7374, 'dual': 7375, 'westwood': 7376, 'monument': 7377, 'fielder': 7378, 'matthews': 7379, 'weakening': 7380, 'kurt': 7381, 'antony': 7382, 'editorial': 7383, 'gwyneth': 7384, 'discusses': 7385, 'dated': 7386, 'triumph': 7387, 'paterno': 7388, 'anger': 7389, 'uzbekistan': 7390, 'rica': 7391, 'marsh': 7392, 'jade': 7393, 'tunnel': 7394, 'openly': 7395, 'olmert': 7396, 'volumes': 7397, 'curtis': 7398, 'pursuit': 7399, 'earthquakes': 7400, 'bae': 7401, 'exhibit': 7402, 'hospitality': 7403, 'strictly': 7404, 'whatever': 7405, 'mcdonnell': 7406, 'dale': 7407, 'lover': 7408, 'elements': 7409, 'radcliffe': 7410, 'taste': 7411, 'indexes': 7412, 'sentences': 7413, 'youngsters': 7414, 'mri': 7415, 'snoop': 7416, 'satisfaction': 7417, 'martial': 7418, 'database': 7419, 'skilled': 7420, 'consultant': 7421, 'commissioned': 7422, 'disruption': 7423, 'fairfield': 7424, 'inches': 7425, 'gerard': 7426, 'tebow': 7427, 'pot': 7428, 'usual': 7429, 'stating': 7430, 'administrator': 7431, 'stunning': 7432, 'baba': 7433, '5th': 7434, 'queens': 7435, 'bhd': 7436, 'bombay': 7437, 'hodgson': 7438, 'meth': 7439, 'congo': 7440, 'monster': 7441, 'opposite': 7442, 'cigarettes': 7443, 'clegg': 7444, 'albion': 7445, 'sunny': 7446, 'waive': 7447, 'lies': 7448, 'hewlett': 7449, 'turnover': 7450, 'dipped': 7451, 'endangered': 7452, 'contemporary': 7453, 'sad': 7454, 'grey': 7455, 'mayoral': 7456, 'ups': 7457, 'successor': 7458, '650': 7459, 'hewitt': 7460, 'ministries': 7461, 'introduction': 7462, 'astronauts': 7463, 'thunderstorms': 7464, 'impaired': 7465, 'surgeon': 7466, 'rent': 7467, 'sounds': 7468, 'harbour': 7469, 'penny': 7470, 'fare': 7471, 'gateway': 7472, 'courtney': 7473, 'combination': 7474, 'capsized': 7475, 'grenade': 7476, 'zimbabwean': 7477, 'sand': 7478, 'lucknow': 7479, 'shiv': 7480, 'gabrielle': 7481, 'pages': 7482, 'conglomerate': 7483, 'businessmen': 7484, 'daniels': 7485, 'bonus': 7486, 'convert': 7487, 'resulting': 7488, 'depth': 7489, 'gubernatorial': 7490, 'psychiatric': 7491, 'goaltender': 7492, 'inner': 7493, 'sum': 7494, 'schumacher': 7495, 'moral': 7496, 'clock': 7497, 'deserve': 7498, 'eleven': 7499, 'aging': 7500, 'withdrawing': 7501, 'palo': 7502, 'reaction': 7503, 'wa': 7504, 'chandigarh': 7505, 'secrets': 7506, 'shale': 7507, 'firmer': 7508, 'cyclone': 7509, 'nazi': 7510, 'amateur': 7511, 'havana': 7512, 'taiwanese': 7513, 'neighbouring': 7514, 'gallon': 7515, 'mick': 7516, 'sabah': 7517, 'estimate': 7518, 'italia': 7519, 'obsessed': 7520, 'venue': 7521, 'indices': 7522, 'restart': 7523, 'sergeant': 7524, 'advisors': 7525, 'christ': 7526, 'cabin': 7527, 'gerrard': 7528, 'widens': 7529, 'knoxville': 7530, 'battles': 7531, 'constituency': 7532, 'fiance': 7533, 'shutdown': 7534, 'fraser': 7535, 'scrapped': 7536, 'stopping': 7537, 'passage': 7538, 'cpi': 7539, '135': 7540, 'slid': 7541, 'denying': 7542, 'honolulu': 7543, 'richest': 7544, 'hood': 7545, 'bases': 7546, 'boosts': 7547, 'beatles': 7548, 'theaters': 7549, 'zach': 7550, 'vale': 7551, 'recreation': 7552, 'hampton': 7553, 'maradona': 7554, 'organisations': 7555, 'efron': 7556, 'findings': 7557, '550': 7558, 'macau': 7559, 'eugene': 7560, 'drain': 7561, 'cooking': 7562, 'jointly': 7563, 'soap': 7564, 'wounding': 7565, 'downloads': 7566, 'item': 7567, 'netflix': 7568, 'repay': 7569, 'demonstrations': 7570, 'sailors': 7571, 'abandon': 7572, 'strange': 7573, 'treatments': 7574, 'harm': 7575, 'urgent': 7576, 'endangerment': 7577, 'distance': 7578, 'audi': 7579, 'murders': 7580, 'spinner': 7581, 'lou': 7582, 'lawn': 7583, 'peacefully': 7584, 'derivatives': 7585, 'arabian': 7586, 'visual': 7587, 'tightened': 7588, 'sprained': 7589, 'junction': 7590, 'alec': 7591, 'burden': 7592, 'bucks': 7593, 'reservoir': 7594, 'equality': 7595, 'torres': 7596, 'maldives': 7597, 'embezzlement': 7598, 'robust': 7599, 'ecb': 7600, 'jse': 7601, 'suburbs': 7602, 'handing': 7603, 'shaw': 7604, 'namibia': 7605, 'upbeat': 7606, 'tweets': 7607, 'himachal': 7608, 'clemson': 7609, 'letterman': 7610, 'lodge': 7611, 'example': 7612, 'blogger': 7613, 'recommends': 7614, 'slips': 7615, 'meter': 7616, 'packard': 7617, 'seng': 7618, 'indicating': 7619, 'generations': 7620, 'panama': 7621, 'avoiding': 7622, 'beirut': 7623, 'visas': 7624, 'wr': 7625, 'sidney': 7626, 'duff': 7627, 'confirmation': 7628, 'graphics': 7629, 'errors': 7630, 'interesting': 7631, 'boots': 7632, 'forbes': 7633, 'flexible': 7634, 'sitcom': 7635, 'malcolm': 7636, 'hungry': 7637, 'remainder': 7638, 'servants': 7639, 'reunite': 7640, 'departure': 7641, 'initiated': 7642, 'guys': 7643, 'nexus': 7644, 'minsk': 7645, 'volvo': 7646, 'deploy': 7647, 'trustees': 7648, 'followers': 7649, 'shortages': 7650, 'zurich': 7651, 'raymond': 7652, 'factories': 7653, 'sole': 7654, 'champ': 7655, 'madoff': 7656, 'rounder': 7657, 'abduction': 7658, 'leigh': 7659, 'mitsubishi': 7660, 'vandals': 7661, 'detection': 7662, 'breakdown': 7663, 'amidst': 7664, 'minerals': 7665, 'requiring': 7666, 'scared': 7667, 'cambodia': 7668, 'counsel': 7669, 'glory': 7670, 'con': 7671, 'gloucester': 7672, 'huntsman': 7673, 'clearly': 7674, 'isaac': 7675, 'bible': 7676, 'curry': 7677, 'grandfather': 7678, 'salvation': 7679, 'hostages': 7680, 'medication': 7681, 'treating': 7682, 'happens': 7683, 'clarkson': 7684, '60th': 7685, 'responds': 7686, 'describing': 7687, 'signals': 7688, 'leafs': 7689, 'rutgers': 7690, 'sewer': 7691, 'earl': 7692, 'lightweight': 7693, 'skies': 7694, 'relationships': 7695, 'tweeted': 7696, 'divisions': 7697, 'tunisian': 7698, 'lafayette': 7699, 'reiterates': 7700, 'activate': 7701, 'haul': 7702, 'desk': 7703, '5m': 7704, 'conferences': 7705, 'experiences': 7706, 'chevron': 7707, 'spa': 7708, 'rank': 7709, 'reorganization': 7710, 'outlet': 7711, 'dementia': 7712, 'requires': 7713, 'outperform': 7714, 'arrivals': 7715, 'disorders': 7716, 'capitals': 7717, 'walters': 7718, 'lorry': 7719, 'clay': 7720, 'offseason': 7721, 'profitability': 7722, 'telecoms': 7723, 'bernie': 7724, 'classroom': 7725, 'bride': 7726, 'reliable': 7727, 'exploitation': 7728, 'vandalism': 7729, 'saga': 7730, 'diamonds': 7731, 'michel': 7732, 'foreclosures': 7733, 'arguing': 7734, 'consulate': 7735, 'indicates': 7736, 'sovereignty': 7737, 'burger': 7738, 'accessories': 7739, 'binghamton': 7740, 'mvp': 7741, 'dover': 7742, 'eden': 7743, 'wicket': 7744, 'von': 7745, 'ceremonies': 7746, 'automatic': 7747, 'surf': 7748, 'confirming': 7749, 'telangana': 7750, 'surrendered': 7751, 'ear': 7752, 'dictator': 7753, 'egg': 7754, 'kay': 7755, 'alto': 7756, 'albuquerque': 7757, 'copyright': 7758, 'vienna': 7759, 'busted': 7760, 'tradition': 7761, 'makeover': 7762, 'conan': 7763, 'insurers': 7764, 'experimental': 7765, 'fannie': 7766, 'id': 7767, 'admission': 7768, 'purdue': 7769, 'exceed': 7770, 'ethanol': 7771, 'forming': 7772, 'alonso': 7773, 'dentist': 7774, 'represents': 7775, 'turnout': 7776, 'nolan': 7777, 'loud': 7778, 'newt': 7779, 'pray': 7780, 'klitschko': 7781, 'halloween': 7782, 'airtran': 7783, 'booking': 7784, 'tomas': 7785, 'ftse': 7786, 'salon': 7787, 'syndrome': 7788, 'trio': 7789, 'burnley': 7790, 'teach': 7791, 'certainly': 7792, 'highways': 7793, 'zones': 7794, 'chess': 7795, 'guantanamo': 7796, 'transfers': 7797, 'informs': 7798, 'vic': 7799, 'besides': 7800, 'doctorate': 7801, 'kerr': 7802, 'infected': 7803, 'casualties': 7804, 'catching': 7805, 'carr': 7806, 'mirror': 7807, 'lecture': 7808, 'ethiopian': 7809, 'bow': 7810, 'difficulties': 7811, 'rocked': 7812, 'chevrolet': 7813, 'pains': 7814, 'eggs': 7815, 'zimmerman': 7816, 'shannon': 7817, 'atlantis': 7818, 'contestant': 7819, 'describes': 7820, 'notorious': 7821, 'mcilroy': 7822, 'appropriate': 7823, 'awaiting': 7824, 'corridor': 7825, 'salmonella': 7826, 'contamination': 7827, 'implications': 7828, 'tan': 7829, 'cooperative': 7830, 'surpassed': 7831, 'carol': 7832, 'reconstruction': 7833, 'literacy': 7834, 'hague': 7835, 'operative': 7836, 'safer': 7837, 'au': 7838, 'msnbc': 7839, 'blockade': 7840, 'publishers': 7841, 'languages': 7842, 'observers': 7843, 'travellers': 7844, 'metric': 7845, 'methods': 7846, 'waves': 7847, 'amongst': 7848, 'avoided': 7849, 'dana': 7850, 'vegetables': 7851, 'bermuda': 7852, 'attendant': 7853, 'rescuers': 7854, 'sandusky': 7855, 'collections': 7856, 'topeka': 7857, 'tone': 7858, 'cure': 7859, 'ibrahim': 7860, 'suspending': 7861, 'consideration': 7862, 'snyder': 7863, 'fog': 7864, 'cumberland': 7865, 'clinics': 7866, 'vitamin': 7867, 'mila': 7868, 'discussing': 7869, 'laptops': 7870, 'greenville': 7871, 'placing': 7872, 'mob': 7873, 'dylan': 7874, 'cattle': 7875, 'operates': 7876, 'marched': 7877, 'unilever': 7878, 'ugly': 7879, 'ga': 7880, 'zuckerberg': 7881, 'protested': 7882, 'ritchie': 7883, 'notices': 7884, 'gavin': 7885, 'winslet': 7886, 'muamba': 7887, 'bentley': 7888, 'indictment': 7889, 'stint': 7890, 'upward': 7891, 'deepening': 7892, 'narcotics': 7893, 'internationally': 7894, 'cavendish': 7895, 'nutrition': 7896, 'hazardous': 7897, 'appreciation': 7898, 'nvidia': 7899, 'appearances': 7900, 'generating': 7901, 'clinched': 7902, 'prosperity': 7903, 'boot': 7904, 'adaptation': 7905, 'macon': 7906, 'samantha': 7907, 'hitachi': 7908, 'snowmobile': 7909, 'doha': 7910, 'lashes': 7911, 'boutique': 7912, 'premises': 7913, 'incorporated': 7914, 'statistical': 7915, 'accelerate': 7916, 'bizarre': 7917, 'daytime': 7918, 'formerly': 7919, 'exporter': 7920, 'defrauding': 7921, 'bathroom': 7922, 'accidental': 7923, 'attracting': 7924, 'buenos': 7925, 'aires': 7926, 'ashok': 7927, 'wesley': 7928, 'courtroom': 7929, 'factors': 7930, 'weigh': 7931, 'physician': 7932, 'renovation': 7933, 'bracing': 7934, 'bias': 7935, 'humanity': 7936, 'meltdown': 7937, 'commuter': 7938, '49ers': 7939, 'bolivia': 7940, 'balanced': 7941, 'poultry': 7942, '9th': 7943, 'ana': 7944, 'alzheimer': 7945, 'animation': 7946, 'jews': 7947, 'treasure': 7948, 'headline': 7949, 'calf': 7950, 'rid': 7951, 'stamp': 7952, 'inventory': 7953, 'patterson': 7954, '8th': 7955, 'strokes': 7956, 'qld': 7957, 'islanders': 7958, 'qualifiers': 7959, '280': 7960, 'recognised': 7961, 'mrs': 7962, 'unfair': 7963, 'marvel': 7964, 'protestors': 7965, 'kilometres': 7966, 'garrett': 7967, 'entrance': 7968, 'elects': 7969, 'connectivity': 7970, 'auditorium': 7971, 'purchasing': 7972, 'anywhere': 7973, 'wanderers': 7974, 'hyundai': 7975, 'blackpool': 7976, 'lehigh': 7977, 'brooke': 7978, '107': 7979, 'rocks': 7980, 'pubs': 7981, 'allied': 7982, 'freestyle': 7983, 'searched': 7984, 'sunshine': 7985, 'basu': 7986, 'magistrates': 7987, 'propose': 7988, 'nearing': 7989, 'alexandra': 7990, 'paralympic': 7991, 'incentive': 7992, '105': 7993, 'preview': 7994, 'stupid': 7995, 'daylight': 7996, 'conservatives': 7997, 'klum': 7998, 'enjoys': 7999, 'transformation': 8000, 'acre': 8001, 'burglars': 8002, 'monitors': 8003, 'eli': 8004, 'evaluation': 8005, 'deliberately': 8006, 'samajwadi': 8007, 'automobile': 8008, 'repurchase': 8009, 'highlight': 8010, 'uprising': 8011, 'icici': 8012, 'imaging': 8013, 'renewal': 8014, 'aftermath': 8015, 'scotia': 8016, 'shook': 8017, 'lengthy': 8018, 'pharma': 8019, 'affiliated': 8020, 'manipur': 8021, 'designers': 8022, 'connections': 8023, 'thermal': 8024, 'experiencing': 8025, 'wrapped': 8026, 'ft': 8027, 'smokers': 8028, 'libel': 8029, 'hurley': 8030, 'ind': 8031, 'mln': 8032, 'java': 8033, 'copa': 8034, 'bass': 8035, 'oval': 8036, 'roommate': 8037, '106': 8038, 'luck': 8039, 'kunis': 8040, 'protocol': 8041, 'fragile': 8042, 'characters': 8043, 'cannes': 8044, 'menu': 8045, 'jermaine': 8046, 'array': 8047, 'dividends': 8048, 'malley': 8049, 'dynamics': 8050, 'robertson': 8051, 'restoring': 8052, 'norton': 8053, 'ti': 8054, 'webster': 8055, 'daly': 8056, 'establishes': 8057, 'reflect': 8058, 'accelerated': 8059, 'synthetic': 8060, 'processor': 8061, 'stalled': 8062, 'neighbour': 8063, 'accountability': 8064, 'jiabao': 8065, 'principle': 8066, 'dawson': 8067, 'modified': 8068, 'heathrow': 8069, 'fletcher': 8070, 'viral': 8071, 'commencement': 8072, 'annually': 8073, 'lithuania': 8074, 'dicaprio': 8075, 'detailed': 8076, 'lokpal': 8077, 'persistent': 8078, 'refuge': 8079, 'fedex': 8080, 'attracted': 8081, 'serves': 8082, 'laboratories': 8083, 'didier': 8084, 'bart': 8085, 'dwi': 8086, 'rawalpindi': 8087, 'bosnia': 8088, 'linda': 8089, 'yankee': 8090, 'pedro': 8091, 'requirement': 8092, 'anz': 8093, 'opted': 8094, 'parkinson': 8095, 'continent': 8096, 'ehud': 8097, '240': 8098, 'adventure': 8099, 'warship': 8100, 'newsday': 8101, 'correctional': 8102, 'raided': 8103, 'macquarie': 8104, 'lautner': 8105, 'blown': 8106, 'crist': 8107, 'clinch': 8108, 'spate': 8109, 'math': 8110, 'issuer': 8111, '24th': 8112, 'occupation': 8113, 'timor': 8114, 'eclipse': 8115, 'ho': 8116, 'xperia': 8117, 'expense': 8118, 'shrank': 8119, 'lists': 8120, 'gutted': 8121, 'discipline': 8122, 'showdown': 8123, 'optical': 8124, 'jenna': 8125, 'saeed': 8126, 'kuala': 8127, 'lloyds': 8128, 'pieces': 8129, 'tornadoes': 8130, 'patience': 8131, 'johns': 8132, 'overwhelming': 8133, 'southampton': 8134, 'negotiate': 8135, 'dismissal': 8136, 'jackets': 8137, 'insight': 8138, 'literature': 8139, 'deportation': 8140, 'audiences': 8141, 'goodbye': 8142, 'cleric': 8143, 'consent': 8144, 'tenants': 8145, 'accord': 8146, 'manufacture': 8147, '102': 8148, 'cleanup': 8149, 'ramdev': 8150, 'cheaper': 8151, 'tsx': 8152, 'episodes': 8153, 'manner': 8154, 'lined': 8155, 'pike': 8156, 'gore': 8157, 'cave': 8158, 'disasters': 8159, 'shelf': 8160, 'alba': 8161, 'candidacy': 8162, 'vast': 8163, 'midlands': 8164, 'borrow': 8165, 'holocaust': 8166, 'scholarships': 8167, 'designate': 8168, 'sheboygan': 8169, 'destruction': 8170, 'exist': 8171, 'comcast': 8172, 'sussex': 8173, 'touring': 8174, 'successive': 8175, 'grabbed': 8176, 'deeper': 8177, 'wembley': 8178, 'rss': 8179, 'supermarkets': 8180, 'talented': 8181, 'sinking': 8182, 'kourtney': 8183, 'interbank': 8184, 'reinstate': 8185, 'cosmetic': 8186, 'worcester': 8187, 'ensuring': 8188, 'mayawati': 8189, 'mediterranean': 8190, 'prolonged': 8191, 'org': 8192, 'provision': 8193, 'sparking': 8194, 'rajapaksa': 8195, 'americas': 8196, 'pork': 8197, 'slim': 8198, 'felix': 8199, 'footprint': 8200, 'module': 8201, 'bloc': 8202, 'orthodox': 8203, 'emily': 8204, 'truly': 8205, 'duck': 8206, 'irene': 8207, 'bruised': 8208, 'durban': 8209, 'belonging': 8210, 'balloon': 8211, 'invite': 8212, 'heated': 8213, 'lauderdale': 8214, 'learnt': 8215, 'leonard': 8216, 'kuwaiti': 8217, 'achievements': 8218, 'impossible': 8219, 'complained': 8220, 'liquid': 8221, 'budgets': 8222, 'escalating': 8223, 'wachovia': 8224, 'fisheries': 8225, 'cables': 8226, 'spike': 8227, 'khyber': 8228, 'injection': 8229, 'ariz': 8230, 'homer': 8231, 'livingston': 8232, 'wrongful': 8233, 'nda': 8234, 'harsh': 8235, 'banker': 8236, 'ligament': 8237, 'stray': 8238, 'anaheim': 8239, 'choices': 8240, 'instant': 8241, 'promoter': 8242, 'obligations': 8243, 'finalized': 8244, 'gesture': 8245, 'trim': 8246, 'hillsborough': 8247, 'peters': 8248, 'anchorage': 8249, 'afford': 8250, 'linux': 8251, 'debates': 8252, 'owens': 8253, 'shetty': 8254, 'separated': 8255, 'polk': 8256, 'biel': 8257, 'spared': 8258, 'bitten': 8259, 'committees': 8260, 'cleaning': 8261, 'legends': 8262, 'reader': 8263, 'extremists': 8264, 'deepika': 8265, 'pared': 8266, 'slovakia': 8267, 'helm': 8268, 'breakaway': 8269, 'transparent': 8270, 'litre': 8271, 'rai': 8272, 'pratibha': 8273, 'mentor': 8274, 'freezes': 8275, 'steroids': 8276, 'slashes': 8277, 'dunn': 8278, 'forgery': 8279, 'denise': 8280, 'disgraced': 8281, 'pcs': 8282, 'slumped': 8283, 'rumor': 8284, 'dissident': 8285, 'naples': 8286, 'lethal': 8287, 'carlton': 8288, 'northampton': 8289, 'emission': 8290, 'sort': 8291, 'bulldogs': 8292, 'spreads': 8293, 'landlord': 8294, 'condolences': 8295, 'harlem': 8296, 'fortune': 8297, 'everywhere': 8298, 'shia': 8299, 'finalist': 8300, 'prepaid': 8301, 'ambush': 8302, 'remarkable': 8303, 'worsening': 8304, 'measuring': 8305, 'forestry': 8306, 'preventing': 8307, 'belgrade': 8308, 'bse': 8309, 'headquartered': 8310, 'situations': 8311, 'vessels': 8312, 'lowering': 8313, 'trash': 8314, 'biological': 8315, 'derailed': 8316, 'bread': 8317, 'jaipur': 8318, 'iris': 8319, 'apologise': 8320, 'havoc': 8321, 'rodney': 8322, 'accra': 8323, 'ramesh': 8324, 'llp': 8325, 'boxes': 8326, 'physicians': 8327, 'lagos': 8328, 'disturbance': 8329, 'rao': 8330, 'gearing': 8331, 'tall': 8332, 'destroying': 8333, 'automated': 8334, 'snack': 8335, 'freezing': 8336, 'biotechnology': 8337, 'heineken': 8338, 'splash': 8339, 'judgment': 8340, 'organ': 8341, 'rooms': 8342, 'theory': 8343, 'pleas': 8344, 'curfew': 8345, 'deeply': 8346, 'bargaining': 8347, 'stays': 8348, 'oilers': 8349, 'rewards': 8350, 'contador': 8351, 'breaching': 8352, 'bulk': 8353, 'expires': 8354, 'everybody': 8355, 'bt': 8356, 'checking': 8357, 'trent': 8358, 'arbor': 8359, 'asda': 8360, 'savannah': 8361, 'umpire': 8362, 'collide': 8363, 'porsche': 8364, 'favourites': 8365, 'amended': 8366, 'larceny': 8367, 'shrine': 8368, 'triggering': 8369, 'lap': 8370, 'paypal': 8371, 'realty': 8372, 'bayer': 8373, 'bon': 8374, 'livestock': 8375, 'sight': 8376, 'indo': 8377, '230': 8378, 'directing': 8379, 'minorities': 8380, 'panda': 8381, 'obese': 8382, 'aa': 8383, 'workout': 8384, 'casinos': 8385, 'arcelormittal': 8386, 'travolta': 8387, 'nixon': 8388, 'lotus': 8389, 'uss': 8390, 'cork': 8391, 'airspace': 8392, 'purse': 8393, 'composite': 8394, 'dominate': 8395, '1960s': 8396, 'scratched': 8397, 'towers': 8398, 'leisure': 8399, 'sevilla': 8400, '190': 8401, 'rupees': 8402, 'hiked': 8403, 'iphones': 8404, 'jamaican': 8405, 'fence': 8406, 'barrymore': 8407, 'opt': 8408, 'upstate': 8409, 'abraham': 8410, 'committing': 8411, 'fallon': 8412, 'coldplay': 8413, 'mozambique': 8414, 'liberals': 8415, 'interviewed': 8416, 'mtn': 8417, 'aground': 8418, 'garner': 8419, 'tajikistan': 8420, 'airasia': 8421, 'chesapeake': 8422, 'albania': 8423, 'conversation': 8424, 'highlighting': 8425, 'cohen': 8426, 'bottles': 8427, 'polar': 8428, 'ravaged': 8429, 'relegated': 8430, 'jude': 8431, 'jindal': 8432, 'novelist': 8433, 'productions': 8434, 'shepherd': 8435, 'loyal': 8436, 'alpha': 8437, 'booming': 8438, 'spelling': 8439, 'braced': 8440, 'russians': 8441, 'aliens': 8442, 'flame': 8443, 'tory': 8444, 'musicians': 8445, 'pakistanis': 8446, 'outreach': 8447, 'switching': 8448, 'straw': 8449, 'highlights': 8450, 'meyer': 8451, 'pitched': 8452, 'peers': 8453, 'sultan': 8454, 'landslide': 8455, 'gradually': 8456, 'respects': 8457, 'expression': 8458, 'melissa': 8459, 'halftime': 8460, 'killers': 8461, 'actively': 8462, 'slot': 8463, 'payable': 8464, 'captures': 8465, 'comparison': 8466, 'gp': 8467, 'firmly': 8468, 'margins': 8469, 'lucrative': 8470, 'examine': 8471, 'fidel': 8472, 'jihad': 8473, 'relatively': 8474, 'infamous': 8475, 'casual': 8476, 'subdued': 8477, 'africans': 8478, 'webb': 8479, 'evil': 8480, 'rubbish': 8481, 'sim': 8482, 'blaming': 8483, 'bangladeshi': 8484, 'divided': 8485, 'filling': 8486, 'banner': 8487, 'totally': 8488, 'motogp': 8489, 'dominant': 8490, 'shrink': 8491, 'rebecca': 8492, 'seth': 8493, 'arroyo': 8494, 'eager': 8495, 'pleasant': 8496, 'hospice': 8497, 'impersonating': 8498, 'auctioned': 8499, 'bands': 8500, 'keane': 8501, 'rampage': 8502, 'tbilisi': 8503, 'shifted': 8504, 'canton': 8505, 'billings': 8506, 'dust': 8507, 'holly': 8508, 'adobe': 8509, 'haley': 8510, 'mgm': 8511, 'mercer': 8512, 'devon': 8513, 'assess': 8514, 'fiber': 8515, 'ronson': 8516, 'attends': 8517, 'waiver': 8518, 'reversing': 8519, 'machinery': 8520, 'hints': 8521, 'nano': 8522, 'se': 8523, 'controlling': 8524, 'testified': 8525, 'commitments': 8526, 'principles': 8527, 'carries': 8528, 'corning': 8529, 'basket': 8530, 'borrowers': 8531, 'resistances': 8532, '220': 8533, 'eminem': 8534, 'establishing': 8535, 'hogan': 8536, 'tightening': 8537, 'osborne': 8538, 'exceeded': 8539, 'liberation': 8540, 'boulder': 8541, 'bahraini': 8542, 'deliveries': 8543, 'types': 8544, 'grande': 8545, 'junk': 8546, 'taxation': 8547, 'color': 8548, 'gabriel': 8549, '112': 8550, 'evan': 8551, 'predators': 8552, 'autobiography': 8553, 'samoa': 8554, 'blunt': 8555, 'demolished': 8556, 'casting': 8557, 'honduras': 8558, 'honours': 8559, 'frequent': 8560, 'stunned': 8561, 'relation': 8562, 'tears': 8563, 'absolute': 8564, 'crow': 8565, 'supervisors': 8566, 'leno': 8567, 'cricketers': 8568, 'barely': 8569, 'ammunition': 8570, 'thatcher': 8571, 'disclosure': 8572, 'nights': 8573, 'contracted': 8574, 'marina': 8575, 'wis': 8576, 'leone': 8577, 'knock': 8578, 'precision': 8579, 'narrowed': 8580, 'jaguar': 8581, 'immune': 8582, 'sao': 8583, 'prefers': 8584, 'please': 8585, 'sections': 8586, 'milton': 8587, 'attacker': 8588, 'thermo': 8589, 'attached': 8590, 'letting': 8591, 'cardiovascular': 8592, 'webcast': 8593, 'backyard': 8594, 'peruvian': 8595, 'jared': 8596, 'shiite': 8597, 'lumpur': 8598, 'snake': 8599, 'dundee': 8600, 'rey': 8601, 'establishment': 8602, 'rivera': 8603, 'commons': 8604, 'pawar': 8605, 'ul': 8606, 'advocacy': 8607, 'monaco': 8608, 'phillip': 8609, 'tumble': 8610, 'washing': 8611, 'voiced': 8612, 'davies': 8613, 'yang': 8614, 'baxter': 8615, 'landfall': 8616, 'chambers': 8617, 'patriot': 8618, 'spying': 8619, 'colleague': 8620, 'respiratory': 8621, 'ranbir': 8622, 'campaigning': 8623, 'explorer': 8624, 'critic': 8625, 'caterpillar': 8626, 'widow': 8627, 'logan': 8628, 'outcome': 8629, 'mainstream': 8630, 'peer': 8631, 'sword': 8632, 'smartrend': 8633, 'refuse': 8634, 'vmware': 8635, 'injures': 8636, 'icahn': 8637, 'hepatitis': 8638, 'builds': 8639, 'bahamas': 8640, 'conjunction': 8641, 'polio': 8642, 'sellers': 8643, 'provisions': 8644, 'jessie': 8645, 'bishops': 8646, 'migration': 8647, 'contrary': 8648, 'regret': 8649, 'pictured': 8650, 'johan': 8651, 'beck': 8652, 'hancock': 8653, 'scenario': 8654, 'examination': 8655, 'diverted': 8656, 'locals': 8657, 'twist': 8658, 'disappointment': 8659, '1970s': 8660, 'contaminated': 8661, 'eliminating': 8662, 'securing': 8663, 'reelection': 8664, 'radar': 8665, 'downgrade': 8666, 'commemorate': 8667, 'nassau': 8668, 'olivia': 8669, 'collapsing': 8670, 'balls': 8671, 'decisive': 8672, 'camden': 8673, 'lodged': 8674, 'capped': 8675, 'piper': 8676, 'kit': 8677, 'custom': 8678, 'splitting': 8679, 'concessions': 8680, 'submarine': 8681, 'joan': 8682, 'wellness': 8683, 'seafood': 8684, 'convinced': 8685, 'tube': 8686, 'correction': 8687, 'concentrate': 8688, 'speedy': 8689, 'seemed': 8690, 'surrounded': 8691, 'separation': 8692, 'nike': 8693, 'knocking': 8694, 'freeman': 8695, 'bidding': 8696, 'pill': 8697, 'undergone': 8698, 'hates': 8699, 'keegan': 8700, 'roddick': 8701, 'labourers': 8702, 'properly': 8703, 'akron': 8704, 'focuses': 8705, 'tune': 8706, 'lea': 8707, 'lure': 8708, 'warships': 8709, 'cautioned': 8710, 'tymoshenko': 8711, 'reactors': 8712, 'hangs': 8713, 'handsets': 8714, 'afghans': 8715, 'priorities': 8716, 'headlines': 8717, 'moratorium': 8718, 'hobbit': 8719, 'indicate': 8720, 'roses': 8721, 'rouge': 8722, 'yeddyurappa': 8723, 'batman': 8724, 'revamped': 8725, 'kristin': 8726, 'sacred': 8727, 'frederick': 8728, 'aust': 8729, 'putnam': 8730, 'wound': 8731, 'philips': 8732, 'crossings': 8733, 'uruguay': 8734, 'wooden': 8735, 'deserves': 8736, 'ins': 8737, 'taught': 8738, 'premiums': 8739, 'bikini': 8740, 'rejecting': 8741, 'closures': 8742, 'disrupt': 8743, 'perdue': 8744, 'paedophile': 8745, 'avery': 8746, 'staples': 8747, 'upheld': 8748, 'bite': 8749, 'luxembourg': 8750, 'patna': 8751, 'commenced': 8752, 'unmanned': 8753, 'otherwise': 8754, 'uc': 8755, 'batteries': 8756, 'gotten': 8757, 'groupon': 8758, 'moammar': 8759, 'nonprofit': 8760, 'maid': 8761, 'alexandria': 8762, 'divorced': 8763, 'aj': 8764, 'mechanism': 8765, 'ballet': 8766, 'santana': 8767, 'consolidated': 8768, 'joplin': 8769, 'medalist': 8770, 'blocking': 8771, 'diva': 8772, 'galway': 8773, 'clijsters': 8774, 'underwear': 8775, 'wrestler': 8776, 'prevented': 8777, 'salisbury': 8778, 'runners': 8779, 'methodist': 8780, 'builders': 8781, 'blu': 8782, 'brigade': 8783, 'chandler': 8784, '000th': 8785, 'mirren': 8786, 'pupil': 8787, 'concord': 8788, 'memoir': 8789, 'oral': 8790, 'laureate': 8791, 'booker': 8792, 'courtesy': 8793, 'indycar': 8794, 'viktor': 8795, 'chapel': 8796, 'cutler': 8797, 'lindsey': 8798, 'mineral': 8799, 'chaudhry': 8800, 'autonomous': 8801, 'osce': 8802, 'emc': 8803, 'chan': 8804, 'salvador': 8805, 'wonderful': 8806, 'nigel': 8807, 'pumps': 8808, 'cafe': 8809, 'vendors': 8810, 'rd': 8811, 'auctions': 8812, 'viewing': 8813, 'aluminum': 8814, 'overwhelmingly': 8815, 'harare': 8816, 'witnessed': 8817, 'carlyle': 8818, 'shawn': 8819, 'steals': 8820, 'owes': 8821, 'comics': 8822, 'lifting': 8823, 'karunanidhi': 8824, 'rumored': 8825, 'auditor': 8826, 'downing': 8827, 'baron': 8828, 'gerald': 8829, 'coli': 8830, 'mickey': 8831, 'knights': 8832, 'paint': 8833, 'sedan': 8834, 'beverage': 8835, 'imperial': 8836, 'reagan': 8837, 'darling': 8838, 'pocket': 8839, 'sas': 8840, 'kaif': 8841, 'luther': 8842, 'highlighted': 8843, 'ethical': 8844, 'ilham': 8845, 'pepsi': 8846, 'bypass': 8847, 'consultations': 8848, 'intoxicated': 8849, 'neighboring': 8850, 'donnell': 8851, 'fiction': 8852, 'convoy': 8853, 'conceded': 8854, 'goody': 8855, 'candlestick': 8856, 'passion': 8857, 'counting': 8858, 'hacker': 8859, 'detainees': 8860, 'uncle': 8861, 'jc': 8862, 'plunges': 8863, 'pushes': 8864, 'weaken': 8865, 'soared': 8866, 'donors': 8867, 'attendants': 8868, 'smallest': 8869, 'animated': 8870, 'exploring': 8871, 'mahendra': 8872, 'latter': 8873, 'bio': 8874, 'detect': 8875, 'touching': 8876, 'freak': 8877, 'unanimous': 8878, 'wba': 8879, 'indication': 8880, 'payne': 8881, 'spare': 8882, 'landscape': 8883, 'colo': 8884, 'shelves': 8885, 'highland': 8886, 'furious': 8887, 'ugandan': 8888, 'pearson': 8889, 'maestro': 8890, 'plain': 8891, 'apartheid': 8892, 'dustin': 8893, 'ing': 8894, 'dynamo': 8895, '2018': 8896, 'screens': 8897, 'smooth': 8898, 'nv': 8899, 'speakers': 8900, 'phelps': 8901, 'brighton': 8902, 'emerges': 8903, 'divers': 8904, 'shifting': 8905, 'lisbon': 8906, 'edwin': 8907, 'enrollment': 8908, 'hai': 8909, 'pursuing': 8910, 'nate': 8911, 'fraudulent': 8912, 'dressing': 8913, 'entertainer': 8914, 'aides': 8915, 'outgoing': 8916, 'stafford': 8917, 'scrutiny': 8918, 'bismarck': 8919, 'historian': 8920, 'obtain': 8921, 'settlers': 8922, 'aloud': 8923, 'chhattisgarh': 8924, 'territories': 8925, 'dramatically': 8926, 'discounts': 8927, 'thefts': 8928, 'showers': 8929, 'jubilee': 8930, 'beam': 8931, 'relevant': 8932, 'consultants': 8933, 'worlds': 8934, 'martha': 8935, 'bronx': 8936, 'harder': 8937, 'jaime': 8938, 'sotomayor': 8939, 'pensioners': 8940, 'ashore': 8941, 'labrador': 8942, 'grains': 8943, 'carpenter': 8944, 'impressed': 8945, 'antitrust': 8946, 'drogba': 8947, 'lowe': 8948, 'architecture': 8949, 'psychological': 8950, 'troubles': 8951, 'joke': 8952, 'mounted': 8953, 'marilyn': 8954, 'precautionary': 8955, 'elsewhere': 8956, 'flintoff': 8957, 'stallone': 8958, 'verge': 8959, 'flows': 8960, 'arrow': 8961, 'slaying': 8962, 'erin': 8963, 'restive': 8964, 'royce': 8965, 'massa': 8966, 'spector': 8967, 'appetite': 8968, 'sikh': 8969, 'pretoria': 8970, 'teaming': 8971, 'hotspur': 8972, 'conclusion': 8973, 'none': 8974, 'hydro': 8975, 'contacts': 8976, 'injunction': 8977, 'float': 8978, 'schmidt': 8979, 'benson': 8980, 'tariffs': 8981, 'fantastic': 8982, 'demonstrate': 8983, 'crusaders': 8984, 'shoaib': 8985, 'abdominal': 8986, 'bacteria': 8987, 'socialist': 8988, 'drills': 8989, 'breathing': 8990, 'kashmiri': 8991, 'breached': 8992, 'fenway': 8993, 'astana': 8994, 'belarusian': 8995, 'hurdle': 8996, 'procurement': 8997, 'engulfing': 8998, 'valuation': 8999, 'donovan': 9000, 'jo': 9001, 'meredith': 9002, 'collides': 9003, 'barker': 9004, 'fabrice': 9005, 'fergie': 9006, 'detain': 9007, 'achieves': 9008, 'grades': 9009, 'tina': 9010, 'supplying': 9011, 'intoxication': 9012, 'breaches': 9013, 'ipswich': 9014, 'ole': 9015, 'undefeated': 9016, 'colon': 9017, 'weighing': 9018, 'listen': 9019, 'liga': 9020, 'hoax': 9021, 'byrd': 9022, 'therapeutics': 9023, 'touchdown': 9024, 'regina': 9025, 'roanoke': 9026, 'dismal': 9027, 'benz': 9028, 'whip': 9029, 'yusuf': 9030, 'basin': 9031, 'sewage': 9032, 'marred': 9033, 'nagorno': 9034, 'roland': 9035, 'sgt': 9036, 'woody': 9037, 'ronald': 9038, 'integrate': 9039, 'naming': 9040, 'festive': 9041, 'shower': 9042, 'spark': 9043, 'starred': 9044, 'dealt': 9045, 'dixon': 9046, 'driveway': 9047, 'sienna': 9048, 'duluth': 9049, 'chatham': 9050, 'senegal': 9051, 'supervisor': 9052, 'clara': 9053, '22nd': 9054, 'hearings': 9055, 'stakeholders': 9056, 'reaffirmed': 9057, 'pac': 9058, 'circus': 9059, 'arthritis': 9060, 'wrongly': 9061, 'approvals': 9062, 'brewing': 9063, 'meal': 9064, 'voices': 9065, 'powder': 9066, 'affirmed': 9067, 'happening': 9068, 'intelligent': 9069, 'acc': 9070, 'guided': 9071, 'indy': 9072, 'norms': 9073, 'chi': 9074, 'architect': 9075, 'cory': 9076, 'libraries': 9077, 'directions': 9078, 'jackman': 9079, 'produces': 9080, 'reads': 9081, 'visitor': 9082, 'paribas': 9083, 'hook': 9084, 'trick': 9085, 'honoring': 9086, 'incredible': 9087, 'ossetia': 9088, 'slashing': 9089, 'shropshire': 9090, 'recognizes': 9091, 'shirley': 9092, 'diversified': 9093, 'disability': 9094, 'apprentice': 9095, 'spotify': 9096, '2g': 9097, 'dining': 9098, 'loyalty': 9099, 'hottest': 9100, 'julio': 9101, 'frame': 9102, 'gamble': 9103, 'aquarium': 9104, '31st': 9105, 'quota': 9106, 'balochistan': 9107, 'debit': 9108, 'balcony': 9109, 'nash': 9110, 'decreased': 9111, 'supervision': 9112, 'piers': 9113, 'mcafee': 9114, 'mideast': 9115, 'conditioning': 9116, 'yerevan': 9117, 'tariff': 9118, 'marvin': 9119, 'nickel': 9120, 'kylie': 9121, 'jill': 9122, 'sheep': 9123, 'cooling': 9124, 'cornwall': 9125, 'mammoth': 9126, 'robs': 9127, 'quincy': 9128, 'sack': 9129, 'finalists': 9130, '4s': 9131, 'nicholas': 9132, 'extradited': 9133, 'chooses': 9134, 'misleading': 9135, 'knocks': 9136, 'prasad': 9137, 'copies': 9138, 'bachelor': 9139, 'contention': 9140, 'sail': 9141, 'counseling': 9142, 'gurgaon': 9143, 'reilly': 9144, 'surfaced': 9145, 'paulson': 9146, 'ringgit': 9147, 'interviews': 9148, 'sonic': 9149, 'deficits': 9150, 'geo': 9151, 'telugu': 9152, 'lend': 9153, 'revoked': 9154, 'switched': 9155, 'semifinal': 9156, 'turtle': 9157, 'repaired': 9158, 'stormed': 9159, 'corrections': 9160, 'odi': 9161, 'mouse': 9162, '1999': 9163, 'jurors': 9164, 'understands': 9165, 'mahama': 9166, 'postpone': 9167, 'keeper': 9168, 'mitch': 9169, 'trafford': 9170, 'bloom': 9171, 'im': 9172, 'shipment': 9173, 'raceway': 9174, 'expired': 9175, 'automakers': 9176, '28th': 9177, 'limerick': 9178, 'articles': 9179, 'dragons': 9180, 'closet': 9181, 'promotional': 9182, 'britons': 9183, 'brilliant': 9184, 'kia': 9185, 'pal': 9186, 'porter': 9187, 'intercontinental': 9188, 'delegates': 9189, 'marcos': 9190, 'leaking': 9191, 'embezzling': 9192, 'lamar': 9193, '145': 9194, 'jenner': 9195, 'marseille': 9196, 'dev': 9197, 'enemies': 9198, 'steering': 9199, 'calhoun': 9200, 'thrashers': 9201, 'wore': 9202, 'dane': 9203, 'scherzinger': 9204, 'choppy': 9205, 'collecting': 9206, 'est': 9207, 'colbert': 9208, 'rahman': 9209, 'seller': 9210, 'chivas': 9211, 'lunar': 9212, 'dwight': 9213, 'attitude': 9214, 'g20': 9215, 'baton': 9216, 'waterloo': 9217, '109': 9218, 'bribes': 9219, 'follows': 9220, 'imposes': 9221, 'clint': 9222, 'applying': 9223, 'lingerie': 9224, 'epidemic': 9225, 'crushing': 9226, 'kane': 9227, 'sonoma': 9228, 'paternity': 9229, 'nl': 9230, 'ortiz': 9231, 'acceptance': 9232, 'fundamental': 9233, 'assemblyman': 9234, 'dmk': 9235, 'settlements': 9236, 'refining': 9237, 'candy': 9238, 'boca': 9239, 'seasonally': 9240, 'console': 9241, 'hudgens': 9242, 'pools': 9243, 'grammer': 9244, 'murderer': 9245, 'associations': 9246, 'eastman': 9247, 'slalom': 9248, 'acted': 9249, 'evolution': 9250, 'punish': 9251, 'gareth': 9252, 'quietly': 9253, 'modestly': 9254, 'shahrukh': 9255, 'imagine': 9256, 'enables': 9257, 'ahmedabad': 9258, 'daryl': 9259, 'mateo': 9260, 'tide': 9261, 'belief': 9262, 'aggregate': 9263, 'sophomore': 9264, 'workshops': 9265, 'multimedia': 9266, 'spokane': 9267, 'shelton': 9268, 'warne': 9269, 'barrett': 9270, 'forests': 9271, 'miracle': 9272, 'vaccines': 9273, 'catastrophic': 9274, 'hayes': 9275, 'weisz': 9276, 'elimination': 9277, 'shahbaz': 9278, 'soar': 9279, 'noting': 9280, 'jain': 9281, 'rainbow': 9282, 'memories': 9283, 'usher': 9284, 'conspiring': 9285, 'lara': 9286, 'respective': 9287, 'aer': 9288, 'climbs': 9289, 'affirms': 9290, 'lingering': 9291, 'reopening': 9292, 'tenure': 9293, 'ulster': 9294, 'aviva': 9295, 'karan': 9296, 'spinal': 9297, 'rotary': 9298, 'personally': 9299, 'deepen': 9300, 'carla': 9301, 'paramount': 9302, 'whilst': 9303, 'tables': 9304, 'tense': 9305, 'communal': 9306, 'extortion': 9307, 'guinness': 9308, 'monkey': 9309, 'connecting': 9310, 'sprinter': 9311, 'nod': 9312, 'gupta': 9313, 'fault': 9314, 'leighton': 9315, 'pedestrians': 9316, 'locally': 9317, 'oj': 9318, 'limiting': 9319, 'campaigners': 9320, 'casualty': 9321, 'sbi': 9322, 'spots': 9323, 'unsecured': 9324, 'directorial': 9325, 'richter': 9326, 'slugger': 9327, 'instructor': 9328, 'competitiveness': 9329, 'anticipation': 9330, 'innovations': 9331, 'qpr': 9332, 'isolated': 9333, 'twelve': 9334, 'assurance': 9335, 'iranians': 9336, '27th': 9337, 'extinction': 9338, 'colour': 9339, 'slept': 9340, 'ajay': 9341, 'slapped': 9342, 'jeter': 9343, 'sits': 9344, 'strait': 9345, 'manufactured': 9346, 'comfort': 9347, 'grab': 9348, 'televised': 9349, 'react': 9350, 'foray': 9351, 'moreno': 9352, 'runaway': 9353, 'licences': 9354, 'moose': 9355, 'hazard': 9356, 'observer': 9357, 'peacekeepers': 9358, 'entirely': 9359, 'oversight': 9360, 'halfway': 9361, 'petraeus': 9362, 'nfc': 9363, 'trips': 9364, 'lovers': 9365, 'chasing': 9366, 'versions': 9367, 'ideal': 9368, 'conway': 9369, 'displays': 9370, 'quad': 9371, 'billing': 9372, 'journalism': 9373, 'bcci': 9374, 'fingers': 9375, 'colonel': 9376, 'fairbanks': 9377, 'taxpayer': 9378, 'ark': 9379, 'beloved': 9380, 'nh': 9381, 'newfoundland': 9382, 'napa': 9383, 'liz': 9384, 'nina': 9385, 'bassist': 9386, 'berkshire': 9387, 'shriver': 9388, 'cheat': 9389, 'neither': 9390, 'rosa': 9391, 'lancashire': 9392, 'xerox': 9393, 'careers': 9394, 'kandahar': 9395, 'polo': 9396, 'churches': 9397, 'suarez': 9398, 'virtualization': 9399, 'cis': 9400, 'boone': 9401, 'timing': 9402, 'wears': 9403, 'looming': 9404, 'harrington': 9405, 'cheltenham': 9406, 'nordstrom': 9407, 'ignored': 9408, 'reshuffle': 9409, 'venus': 9410, 'afridi': 9411, 'leaf': 9412, 'surges': 9413, 'ep': 9414, 'outing': 9415, 'panetta': 9416, 'monoxide': 9417, 'uttarakhand': 9418, 'legion': 9419, 'tactics': 9420, 'unlimited': 9421, 'bethlehem': 9422, 'wildfires': 9423, 'polanski': 9424, 'snowfall': 9425, 'harrisburg': 9426, 'barred': 9427, 'fellowship': 9428, 'monte': 9429, 'akhtar': 9430, 'whales': 9431, 'jenny': 9432, 'surgical': 9433, 'bosnian': 9434, 'swayze': 9435, 'bald': 9436, 'tab': 9437, 'trainers': 9438, 'handgun': 9439, 'moyes': 9440, 'seizes': 9441, 'condemn': 9442, 'commissions': 9443, 'overturns': 9444, 'trauma': 9445, 'middlesbrough': 9446, 'fiancee': 9447, 'fullback': 9448, 'specialists': 9449, 'budapest': 9450, 'nephew': 9451, 'habits': 9452, 'peas': 9453, 'except': 9454, 'ballistic': 9455, 'cult': 9456, 'sectarian': 9457, 'closest': 9458, 'deserved': 9459, 'shooter': 9460, 'trusted': 9461, 'geological': 9462, 'bicyclist': 9463, 'crowds': 9464, 'drag': 9465, 'appliances': 9466, 'brit': 9467, 'commentator': 9468, 'identifying': 9469, 'reductions': 9470, 'adequate': 9471, 'olive': 9472, 'cry': 9473, 'soup': 9474, 'conversion': 9475, 'affleck': 9476, 'feelings': 9477, 'servers': 9478, 'westfield': 9479, 'dirt': 9480, 'darfur': 9481, 'hon': 9482, 'ubisoft': 9483, 'voip': 9484, 'graphic': 9485, 'financially': 9486, 'ankara': 9487, 'lilly': 9488, 'bash': 9489, 'ultimately': 9490, 'harold': 9491, 'runoff': 9492, 'bigg': 9493, 'endorsing': 9494, 'licensed': 9495, 'atmosphere': 9496, 'demonstrated': 9497, 'functions': 9498, 'firearm': 9499, 'lied': 9500, 'tired': 9501, 'axis': 9502, 'conflicts': 9503, 'punching': 9504, 'perkins': 9505, 'strongest': 9506, 'socialite': 9507, 'racism': 9508, 'advancing': 9509, 'ha': 9510, 'armenians': 9511, 'stephanie': 9512, 'paramedics': 9513, 'cindy': 9514, 'sealed': 9515, 'shores': 9516, 'petrochemical': 9517, 'touches': 9518, 'timberwolves': 9519, 'scottsdale': 9520, 'transmitted': 9521, 'schalke': 9522, 'treasuries': 9523, 'victories': 9524, 'harley': 9525, 'penelope': 9526, 'hawke': 9527, 'biting': 9528, 'provisional': 9529, 'linkedin': 9530, 'gill': 9531, 'merit': 9532, 'mask': 9533, '1000': 9534, 'proving': 9535, 'lennon': 9536, 'mound': 9537, 'defined': 9538, 'bhutto': 9539, 'racket': 9540, 'malibu': 9541, 'mickelson': 9542, 'stan': 9543, 'norris': 9544, 'alcoholic': 9545, 'fertilizer': 9546, 'lewd': 9547, 'commence': 9548, 'ambassadors': 9549, 'contributing': 9550, 'rubio': 9551, 'herbert': 9552, 'pacers': 9553, 'quarterfinal': 9554, 'ala': 9555, 'natal': 9556, 'transform': 9557, 'chattanooga': 9558, '2017': 9559, 'aspen': 9560, 'paraguay': 9561, 'wardrobe': 9562, 'confiscated': 9563, 'cornell': 9564, 'expenditure': 9565, 'lin': 9566, 'upto': 9567, 'napoli': 9568, 'slipping': 9569, 'observe': 9570, 'arch': 9571, 'intimate': 9572, 'aretha': 9573, 'gears': 9574, 'caretaker': 9575, 'ladder': 9576, 'buccaneers': 9577, 'trans': 9578, 'highlands': 9579, 'amar': 9580, 'ramadan': 9581, 'elephants': 9582, 'finalised': 9583, 'militia': 9584, 'ivan': 9585, 'rib': 9586, 'cairn': 9587, 'farrell': 9588, 'halts': 9589, 'inaugurates': 9590, 'guarantees': 9591, 'mercantile': 9592, 'technological': 9593, 'competitors': 9594, 'courteney': 9595, 'stamps': 9596, 'overtake': 9597, 'stuff': 9598, 'knightley': 9599, 'dynamic': 9600, 'ipads': 9601, 'prostitute': 9602, 'hulk': 9603, 'lk': 9604, 'sufficient': 9605, 'vandalized': 9606, 'collaborate': 9607, 'pt': 9608, 'flowers': 9609, 'akbar': 9610, 'handful': 9611, 'outrage': 9612, 'guild': 9613, 'skiing': 9614, 'ratio': 9615, 'denny': 9616, 'brutally': 9617, 'lit': 9618, 'vigil': 9619, 'frustrated': 9620, 'motorway': 9621, 'cartel': 9622, 'rebate': 9623, 'geoff': 9624, 'kissing': 9625, 'stab': 9626, 'byrne': 9627, 'pasadena': 9628, 'spacecraft': 9629, 'improper': 9630, 'banquet': 9631, 'adverse': 9632, 'patrols': 9633, 'vonn': 9634, 'intentionally': 9635, 'extremism': 9636, 'bare': 9637, 'disturbing': 9638, 'profitable': 9639, 'sketch': 9640, 'inflationary': 9641, 'outer': 9642, 'gangster': 9643, 'multinational': 9644, 'participated': 9645, 'pile': 9646, 'cherokee': 9647, 'doncaster': 9648, 'karen': 9649, 'booth': 9650, 'julius': 9651, '108': 9652, 'filmed': 9653, 'hung': 9654, '260': 9655, 'loving': 9656, 'cameroon': 9657, 'cousin': 9658, '1bn': 9659, 'mellon': 9660, 'sk': 9661, 'lasting': 9662, 'lpga': 9663, 'stimulate': 9664, 'indicators': 9665, 'symposium': 9666, 'bb': 9667, 'youngster': 9668, 'vegetable': 9669, 'flexibility': 9670, 'equivalent': 9671, 'guaranteed': 9672, 'bean': 9673, 'backdrop': 9674, 'mastercard': 9675, 'spaniard': 9676, 'rings': 9677, 'aerial': 9678, 'nairobi': 9679, 'irs': 9680, 'averages': 9681, 'sights': 9682, 'continuous': 9683, 'raft': 9684, 'hi': 9685, 'yourself': 9686, 'kazakh': 9687, 'forged': 9688, 'noise': 9689, 'anglo': 9690, 'knifepoint': 9691, 'singers': 9692, 'cypriot': 9693, 'degeneres': 9694, 'triangle': 9695, 'assaults': 9696, 'solomon': 9697, 'concession': 9698, 'honest': 9699, 'leinster': 9700, 'dismiss': 9701, 'mccoy': 9702, 'brace': 9703, 'plagued': 9704, 'hijack': 9705, 'vat': 9706, 'prisons': 9707, 'romeo': 9708, 'xavier': 9709, 'aluminium': 9710, 'bashir': 9711, 'beau': 9712, 'footage': 9713, 'lesson': 9714, 'fontana': 9715, 'penske': 9716, 'memorandum': 9717, 'eastenders': 9718, 'tow': 9719, 'romo': 9720, 'vicious': 9721, 'shakes': 9722, 'sinks': 9723, 'nominates': 9724, 'legislator': 9725, 'sainsbury': 9726, 'stockton': 9727, 'cord': 9728, 'achieving': 9729, 'politically': 9730, 'elena': 9731, 'papua': 9732, 'perjury': 9733, 'hitter': 9734, 'groundbreaking': 9735, 'vow': 9736, 'kiev': 9737, 'farming': 9738, 'literally': 9739, 'smashing': 9740, 'artificial': 9741, 'cartoon': 9742, 'seals': 9743, 'digit': 9744, 'copenhagen': 9745, 'meningitis': 9746, 'interfax': 9747, 'bucharest': 9748, 'cancellation': 9749, 'icy': 9750, 'dominic': 9751, 'uniforms': 9752, 'pistons': 9753, '70s': 9754, 'keynote': 9755, 'flint': 9756, 'bullets': 9757, 'disqualified': 9758, 'headley': 9759, 'complaining': 9760, 'contributed': 9761, 'mahinda': 9762, 'dispatch': 9763, 'deemed': 9764, 'tendon': 9765, 'deadliest': 9766, 'trinity': 9767, 'offenses': 9768, 'irrigation': 9769, 'publicity': 9770, 'petty': 9771, 'therefore': 9772, 'owing': 9773, 'grounded': 9774, 'apollo': 9775, 'impending': 9776, 'seacrest': 9777, 'containers': 9778, 'disposal': 9779, 'booze': 9780, 'isd': 9781, 'converted': 9782, 'choosing': 9783, 'movements': 9784, 'photographs': 9785, 'rip': 9786, 'grim': 9787, 'exchanged': 9788, 'zynga': 9789, 'outskirts': 9790, 'receivers': 9791, 'relieved': 9792, 'redistricting': 9793, 'rides': 9794, 'flats': 9795, 'marshal': 9796, 'drones': 9797, 'uconn': 9798, 'butter': 9799, 'processors': 9800, 'gazette': 9801, 'albans': 9802, 'pamela': 9803, 'paradise': 9804, 'widening': 9805, 'fuelled': 9806, 'rodham': 9807, 'surviving': 9808, 'canadiens': 9809, 'flick': 9810, 'pearce': 9811, 'mistakenly': 9812, 'alter': 9813, 'grandson': 9814, 'ordinance': 9815, 'cellphone': 9816, 'supposed': 9817, 'wakefield': 9818, 'samples': 9819, 'anxiety': 9820, 'bribe': 9821, 'shaken': 9822, 'column': 9823, 'desmond': 9824, 'bynes': 9825, '200th': 9826, 'bubble': 9827, 'sharad': 9828, 'component': 9829, 'felonies': 9830, 'root': 9831, 'rita': 9832, 'elvis': 9833, 'greens': 9834, 'hardy': 9835, 'churchill': 9836, 'germans': 9837, 'waziristan': 9838, 'skier': 9839, 'mosley': 9840, 'derry': 9841, 'enrichment': 9842, 'educators': 9843, 'klein': 9844, 'regularly': 9845, 'knockout': 9846, 'fragrance': 9847, 'pulitzer': 9848, 'corey': 9849, 'motivated': 9850, 'ventura': 9851, 'paving': 9852, 'shirt': 9853, 'crosses': 9854, 'recruits': 9855, 'substitute': 9856, 'abuses': 9857, 'flower': 9858, 'ruth': 9859, 'categories': 9860, 'practicing': 9861, 'facts': 9862, 'francois': 9863, '290': 9864, 'tolerance': 9865, 'reply': 9866, 'habitat': 9867, 'elk': 9868, 'answered': 9869, 'ghanaian': 9870, 'jam': 9871, 'prizes': 9872, 'leap': 9873, 'sonny': 9874, 'predicting': 9875, 'lorenzo': 9876, 'titan': 9877, 'noah': 9878, 'cam': 9879, 'usually': 9880, 'sunrise': 9881, 'gabor': 9882, 'aishwarya': 9883, 'viagra': 9884, 'danielle': 9885, 'downward': 9886, 'affects': 9887, 'examined': 9888, 'fold': 9889, '200m': 9890, 'pepsico': 9891, 'surrenders': 9892, 'calvin': 9893, 'alumni': 9894, 'playground': 9895, 'shrinks': 9896, 'basement': 9897, 'saskatoon': 9898, 'deck': 9899, 'existence': 9900, 'credible': 9901, 'wta': 9902, 'employed': 9903, 'dot': 9904, 'scams': 9905, 'serb': 9906, 'explosions': 9907, 'migrant': 9908, '270': 9909, 'mdc': 9910, 'liberia': 9911, 'outcomes': 9912, 'assists': 9913, 'cska': 9914, 'delaying': 9915, 'condemning': 9916, 'colonial': 9917, 'caucasus': 9918, 'vaccination': 9919, 'tortured': 9920, 'poster': 9921, 'atop': 9922, 'seaside': 9923, '100m': 9924, 'rivalry': 9925, 'lockdown': 9926, 'sophie': 9927, 'expertise': 9928, 'snapping': 9929, 'spur': 9930, 'underlying': 9931, 'shoplifting': 9932, 'waterfront': 9933, 'weighs': 9934, 'kimberly': 9935, 'choreographer': 9936, 'belong': 9937, 'exporting': 9938, 'reef': 9939, 'airplane': 9940, 'clarence': 9941, 'emails': 9942, 'caucus': 9943, 'guam': 9944, 'denounced': 9945, 'peterborough': 9946, 'jenson': 9947, 'ink': 9948, '5bn': 9949, 'tongue': 9950, 'topic': 9951, 'robinho': 9952, 'ai': 9953, 'stun': 9954, 'learns': 9955, 'malfunction': 9956, 'luncheon': 9957, 'mentioned': 9958, 'separatist': 9959, 'meaningful': 9960, 'aggression': 9961, 'summoned': 9962, 'safeguard': 9963, 'homage': 9964, 'weston': 9965, 'gainesville': 9966, 'fischer': 9967, 'bali': 9968, 'donating': 9969, 'interaction': 9970, 'cesar': 9971, 'mosquito': 9972, 'electrocuted': 9973, 'boating': 9974, 'metre': 9975, 'stabilise': 9976, 'concedes': 9977, 'prakash': 9978, 'unesco': 9979, 'joyce': 9980, 'inspiration': 9981, 'kendra': 9982, 'structures': 9983, 'shifts': 9984, 'barney': 9985, 'mention': 9986, 'insurgent': 9987, 'duet': 9988, 'expressing': 9989, 'walgreens': 9990, 'cruces': 9991, 'abkhazia': 9992, 'impeachment': 9993, 'copy': 9994, 'ajax': 9995, 'anfield': 9996, 'peshawar': 9997, 'annan': 9998, 'partly': 9999}\n"
     ]
    }
   ],
   "execution_count": 33
  },
  {
   "cell_type": "markdown",
   "source": [
    "<a name='e4'></a>\n",
    "### Exercise 4: Bag of Words\n",
    "(1p) Here we will create the bag-of-words representation of the sentences. The function will take a single sentence (list of tokens) and return an array of size `vocab_size` with the counts of each word in the vocabulary. The\n",
    "`vocab_size` is calculated as the length of the passed `token_to_id` dictionary. The resulting array should have zeros everywhere but the indices corresponding to the words in the vocabulary where it should have the counts of the words in the sentence. For example, if the sentence is `['fox', 'and', 'deer']` and the vocabulary is `{'fox': 0, 'and': 1, 'deer': 2}`, the resulting array should be `[1, 1, 1]`. If the sentence is `['fox', 'and', 'fox', 'deer']`, the resulting array should be `[2, 1, 1]`."
   ],
   "metadata": {
    "collapsed": false,
    "pycharm": {
     "name": "#%% md\n"
    }
   }
  },
  {
   "cell_type": "code",
   "source": [
    "def bag_of_words(sentence, token_to_id):\n",
    "    \"\"\"\n",
    "    Creates a bag-of-words representation of the sentence\n",
    "    Args:\n",
    "        sentence: a list of tokens\n",
    "        token_to_id: a dictionary mapping each word to an index in the vocabulary\n",
    "\n",
    "    Returns:: a numpy array of size vocab_size with the counts of each word in the vocabulary\n",
    "\n",
    "    \"\"\"\n",
    "    vocab_size = len(token_to_id)\n",
    "    bow = np.zeros(vocab_size, dtype=int)\n",
    "\n",
    "    ### YOUR CODE HERE\n",
    "    # First we iterate over all tokens in the sentence:\n",
    "    for token in sentence:\n",
    "        # Then we check if the token is in our desired tokens:\n",
    "        if token in token_to_id:\n",
    "            # Finally we add it to the bow array:\n",
    "            bow[token_to_id[token]] += 1\n",
    "\n",
    "\n",
    "\n",
    "    ### YOUR CODE ENDS HERE\n",
    "\n",
    "    return bow"
   ],
   "metadata": {
    "collapsed": false,
    "pycharm": {
     "name": "#%%\n"
    },
    "ExecuteTime": {
     "end_time": "2025-04-14T12:17:42.385727Z",
     "start_time": "2025-04-14T12:17:42.382191Z"
    }
   },
   "outputs": [],
   "execution_count": 34
  },
  {
   "cell_type": "markdown",
   "source": [
    "Let's see how the function works on a single sentence. The output should be a numpy array of size `vocab_size` with the counts of each word in the vocabulary."
   ],
   "metadata": {
    "collapsed": false,
    "pycharm": {
     "name": "#%% md\n"
    }
   }
  },
  {
   "cell_type": "code",
   "source": [
    "print('Tokenized sentence:')\n",
    "print(tokenized_sentences[0])\n",
    "sentence_bow = bag_of_words(tokenized_sentences[0], token_to_id)\n",
    "\n",
    "print('Bag of words:')\n",
    "print(sentence_bow)\n",
    "print('Type of bag of words:')\n",
    "print(type(sentence_bow))\n",
    "print('Shape of bag of words:')\n",
    "print(sentence_bow.shape)\n",
    "print('Non-zero elements in bag of words:')\n",
    "print(np.nonzero(sentence_bow)[0])"
   ],
   "metadata": {
    "collapsed": false,
    "pycharm": {
     "name": "#%%\n"
    },
    "ExecuteTime": {
     "end_time": "2025-04-14T12:17:42.498237Z",
     "start_time": "2025-04-14T12:17:42.493958Z"
    }
   },
   "outputs": [
    {
     "name": "stdout",
     "output_type": "stream",
     "text": [
      "Tokenized sentence:\n",
      "['german', 'fixed', 'network', 'operator', 'versatel', 'has', 'provided', 'network', 'connectivity', 'services', 'to', 'berlin', 'based', 'flatliners', 'provider', 'of', 'medical', 'consultancy', 'services', 'to', 'the', 'film', 'industry']\n",
      "Bag of words:\n",
      "[1 2 0 ... 0 0 0]\n",
      "Type of bag of words:\n",
      "<class 'numpy.ndarray'>\n",
      "Shape of bag of words:\n",
      "(10000,)\n",
      "Non-zero elements in bag of words:\n",
      "[   0    1    4    8  180  198  348  360  415  431  508  620 1373 3010\n",
      " 3175 3698 5909 7970]\n"
     ]
    }
   ],
   "execution_count": 35
  },
  {
   "cell_type": "markdown",
   "source": [
    "We can also check in detail what words and their counts are in the bag-of-words representation."
   ],
   "metadata": {
    "collapsed": false,
    "pycharm": {
     "name": "#%% md\n"
    }
   }
  },
  {
   "cell_type": "code",
   "source": [
    "sentence_non_zero_bow = np.nonzero(sentence_bow)[0]\n",
    "print('Non-zero elements in bag of words:')\n",
    "print(sentence_non_zero_bow)\n",
    "for i in sentence_non_zero_bow:\n",
    "    print(vocab[i][0], ':', sentence_bow[i])"
   ],
   "metadata": {
    "collapsed": false,
    "pycharm": {
     "name": "#%%\n"
    },
    "ExecuteTime": {
     "end_time": "2025-04-14T12:17:42.770448Z",
     "start_time": "2025-04-14T12:17:42.766184Z"
    }
   },
   "outputs": [
    {
     "name": "stdout",
     "output_type": "stream",
     "text": [
      "Non-zero elements in bag of words:\n",
      "[   0    1    4    8  180  198  348  360  415  431  508  620 1373 3010\n",
      " 3175 3698 5909 7970]\n",
      "the : 1\n",
      "to : 2\n",
      "of : 1\n",
      "has : 1\n",
      "services : 2\n",
      "based : 1\n",
      "industry : 1\n",
      "film : 1\n",
      "medical : 1\n",
      "network : 2\n",
      "provider : 1\n",
      "german : 1\n",
      "operator : 1\n",
      "provided : 1\n",
      "fixed : 1\n",
      "berlin : 1\n",
      "consultancy : 1\n",
      "connectivity : 1\n"
     ]
    }
   ],
   "execution_count": 36
  },
  {
   "cell_type": "markdown",
   "source": [
    "The following function will apply all the steps we implemented to a single sentence. It returns a bag of words representation that we will use to calculate the similarity between different sentences."
   ],
   "metadata": {
    "collapsed": false,
    "pycharm": {
     "name": "#%% md\n"
    }
   }
  },
  {
   "cell_type": "code",
   "source": [
    "def embed_text(text, clean_fn, tokenize_fn, embed_fn):\n",
    "    cleaned = clean_fn(text)\n",
    "    tokens = tokenize_fn(cleaned)\n",
    "    embedding = embed_fn(tokens)\n",
    "    return embedding"
   ],
   "metadata": {
    "collapsed": false,
    "pycharm": {
     "name": "#%%\n"
    },
    "ExecuteTime": {
     "end_time": "2025-04-14T12:17:42.784275Z",
     "start_time": "2025-04-14T12:17:42.781601Z"
    }
   },
   "outputs": [],
   "execution_count": 37
  },
  {
   "cell_type": "markdown",
   "source": [
    "<a name='e5'></a>\n",
    "### Exercise 5: Cosine Similarity between two vectors\n",
    "\n",
    "(1p) Complete the following function that given any two vectors will compute the cosine similarity. If you don't remember the formula for the cosine similarity, revisit the course material. Notice that the function receives numpy arrays and recall that you can express cosine similarity as a dot product. Use numpy functions to write an efficient implementation."
   ],
   "metadata": {
    "collapsed": false,
    "pycharm": {
     "name": "#%% md\n"
    }
   }
  },
  {
   "cell_type": "code",
   "source": [
    "def cosine_similarity(vector1, vector2):\n",
    "    \"\"\"\n",
    "    Computes the cosine similarity between two vectors\n",
    "    Args:\n",
    "        vector1: numpy array of the first vector\n",
    "        vector2: numpy array of the second vector\n",
    "\n",
    "    Returns: cosine similarity\n",
    "\n",
    "    \"\"\"\n",
    "    ### YOUR CODE HERE\n",
    "    # First we need to compute the dot product:\n",
    "    dot_product = np.dot(vector1, vector2)\n",
    "\n",
    "    # Then we compute the magnitude of the vectors:\n",
    "    mag1 = np.linalg.norm(vector1)\n",
    "    mag2 = np.linalg.norm(vector2)\n",
    "\n",
    "    # Now we need to handle the case where either vector has a magnitude of 0:\n",
    "    if mag1 == 0 or mag2 == 0:\n",
    "        return 0.0\n",
    "\n",
    "    # Finally we calculate  the cosine similarity:\n",
    "    return dot_product / (mag1 * mag2)\n",
    "\n",
    "    ### YOUR CODE ENDS HERE"
   ],
   "metadata": {
    "collapsed": false,
    "pycharm": {
     "name": "#%%\n"
    },
    "ExecuteTime": {
     "end_time": "2025-04-14T12:17:42.938185Z",
     "start_time": "2025-04-14T12:17:42.935118Z"
    }
   },
   "outputs": [],
   "execution_count": 38
  },
  {
   "cell_type": "code",
   "source": [
    "cosine_similarity(np.array([0, 1, 2]), np.array([0, 2, 4]))"
   ],
   "metadata": {
    "collapsed": false,
    "pycharm": {
     "name": "#%%\n"
    },
    "ExecuteTime": {
     "end_time": "2025-04-14T12:17:43.080647Z",
     "start_time": "2025-04-14T12:17:43.076905Z"
    }
   },
   "outputs": [
    {
     "data": {
      "text/plain": [
       "0.9999999999999998"
      ]
     },
     "execution_count": 39,
     "metadata": {},
     "output_type": "execute_result"
    }
   ],
   "execution_count": 39
  },
  {
   "cell_type": "code",
   "source": [
    "sentences = [\n",
    "    'The quick brown fox jumps over the lazy dog.',\n",
    "    'Some interesting document containin sentences.',\n",
    "    'The quick brown fox jumps over the lazy cat and some other stuff.',\n",
    "    'Fox and deer are not friends.',\n",
    "    'Fox and deer are not friends. But this document is a lot longer than the previous one. We can add sentence by sentence and see how the embeddings change.',\n",
    "]\n",
    "embedded_sentences = [\n",
    "    embed_text(sentence, clean, tokenize, lambda x: bag_of_words(x, token_to_id))\n",
    "    for sentence in sentences\n",
    "]\n",
    "\n",
    "query = 'fox and deer'\n",
    "embedded_query = embed_text(query, clean, tokenize, lambda x: bag_of_words(x, token_to_id))\n",
    "\n",
    "cosine_similarities = [\n",
    "    cosine_similarity(embedded_query, embedded_sentence)\n",
    "    for embedded_sentence in embedded_sentences\n",
    "]\n",
    "print(f'Query: {query}')\n",
    "for sent, cos_sim in zip(sentences, cosine_similarities):\n",
    "    print(f'Cosine Similarity: {cos_sim:.4f} - Sentence: {sent}')"
   ],
   "metadata": {
    "collapsed": false,
    "pycharm": {
     "name": "#%%\n"
    },
    "ExecuteTime": {
     "end_time": "2025-04-14T12:17:43.366251Z",
     "start_time": "2025-04-14T12:17:43.349885Z"
    }
   },
   "outputs": [
    {
     "name": "stdout",
     "output_type": "stream",
     "text": [
      "Query: fox and deer\n",
      "Cosine Similarity: 0.1826 - Sentence: The quick brown fox jumps over the lazy dog.\n",
      "Cosine Similarity: 0.0000 - Sentence: Some interesting document containin sentences.\n",
      "Cosine Similarity: 0.3086 - Sentence: The quick brown fox jumps over the lazy cat and some other stuff.\n",
      "Cosine Similarity: 0.7071 - Sentence: Fox and deer are not friends.\n",
      "Cosine Similarity: 0.3961 - Sentence: Fox and deer are not friends. But this document is a lot longer than the previous one. We can add sentence by sentence and see how the embeddings change.\n"
     ]
    }
   ],
   "execution_count": 40
  },
  {
   "cell_type": "markdown",
   "source": [
    "We will apply the function to the whole dataset. This might take a while, so be patient. The result will be stored in the `sentence_bow` and `compressed_bow` fields of the dataset."
   ],
   "metadata": {
    "collapsed": false,
    "pycharm": {
     "name": "#%% md\n"
    }
   }
  },
  {
   "cell_type": "code",
   "source": [
    "def bag_of_words_dataset(example):\n",
    "    \"\"\"\n",
    "    Creates a bag-of-words representation of the sentence and compressed sentence in the example from the Dataset\n",
    "    Args:\n",
    "        example: an example from the Dataset\n",
    "\n",
    "    Returns: updated example with 'sentence_bow' and 'compressed_bow' columns\n",
    "\n",
    "    \"\"\"\n",
    "    sentence_tokens = example['sentence_tokens']\n",
    "    compressed_tokens = example['compressed_tokens']\n",
    "\n",
    "    sentence_bow = bag_of_words(sentence_tokens, token_to_id)\n",
    "    compressed_bow = bag_of_words(compressed_tokens, token_to_id)\n",
    "\n",
    "    example['sentence_bow'] = sentence_bow\n",
    "    example['compressed_bow'] = compressed_bow\n",
    "    return example"
   ],
   "metadata": {
    "collapsed": false,
    "pycharm": {
     "name": "#%%\n"
    },
    "ExecuteTime": {
     "end_time": "2025-04-14T12:17:43.380420Z",
     "start_time": "2025-04-14T12:17:43.377280Z"
    }
   },
   "outputs": [],
   "execution_count": 41
  },
  {
   "cell_type": "markdown",
   "source": [
    "The following cell will apply the function to the whole dataset. The result will be stored in the `sentence_bow` and `compressed_bow` fields of the dataset. We will also convert the dataset's fields `sentence_bow` and `compressed_bow` to numpy format for easier manipulation."
   ],
   "metadata": {
    "collapsed": false,
    "pycharm": {
     "name": "#%% md\n"
    }
   }
  },
  {
   "cell_type": "code",
   "source": [
    "test_ds = split_ds['test'].map(bag_of_words_dataset)\n",
    "test_ds = test_ds.with_format('np', columns=['sentence_bow', 'compressed_bow'], dtype=float)\n",
    "print(test_ds)"
   ],
   "metadata": {
    "collapsed": false,
    "pycharm": {
     "name": "#%%\n"
    },
    "ExecuteTime": {
     "end_time": "2025-04-14T12:17:58.104898Z",
     "start_time": "2025-04-14T12:17:43.514887Z"
    }
   },
   "outputs": [
    {
     "name": "stderr",
     "output_type": "stream",
     "text": [
      "Map: 100%|██████████| 36000/36000 [00:14<00:00, 2474.54 examples/s]"
     ]
    },
    {
     "name": "stdout",
     "output_type": "stream",
     "text": [
      "Dataset({\n",
      "    features: ['set', 'clean_sentence', 'clean_compressed', 'sentence_tokens', 'compressed_tokens', 'sentence_bow', 'compressed_bow'],\n",
      "    num_rows: 36000\n",
      "})\n"
     ]
    },
    {
     "name": "stderr",
     "output_type": "stream",
     "text": [
      "\n"
     ]
    }
   ],
   "execution_count": 42
  },
  {
   "cell_type": "markdown",
   "source": [
    "Let's check the results. The `sentence_bow` and `compressed_bow` fields should contain the bag-of-words representation of the sentences and compressed sentences, respectively."
   ],
   "metadata": {
    "collapsed": false,
    "pycharm": {
     "name": "#%% md\n"
    }
   }
  },
  {
   "cell_type": "code",
   "source": [
    "print(test_ds[0])"
   ],
   "metadata": {
    "collapsed": false,
    "pycharm": {
     "name": "#%%\n"
    },
    "ExecuteTime": {
     "end_time": "2025-04-14T12:17:58.223951Z",
     "start_time": "2025-04-14T12:17:58.219547Z"
    }
   },
   "outputs": [
    {
     "name": "stdout",
     "output_type": "stream",
     "text": [
      "{'sentence_bow': array([0., 0., 3., ..., 0., 0., 0.]), 'compressed_bow': array([0., 0., 0., ..., 0., 0., 0.])}\n"
     ]
    }
   ],
   "execution_count": 43
  },
  {
   "cell_type": "code",
   "source": [
    "sentences_bows = test_ds['sentence_bow']\n",
    "print(sentences_bows.shape)"
   ],
   "metadata": {
    "collapsed": false,
    "pycharm": {
     "name": "#%%\n"
    },
    "ExecuteTime": {
     "end_time": "2025-04-14T12:18:10.335790Z",
     "start_time": "2025-04-14T12:17:58.339162Z"
    }
   },
   "outputs": [
    {
     "name": "stdout",
     "output_type": "stream",
     "text": [
      "(36000, 10000)\n"
     ]
    }
   ],
   "execution_count": 44
  },
  {
   "cell_type": "markdown",
   "source": [
    "Now we can start building a retriever based on the bag of words representation. The first step is to calculate the cosine similarity between two vectors."
   ],
   "metadata": {
    "collapsed": false,
    "pycharm": {
     "name": "#%% md\n"
    }
   }
  },
  {
   "cell_type": "markdown",
   "source": [
    "<a name='e6'></a>\n",
    "### Exercise 6: Cosine Similarity between a vector and an array of vectors\n",
    "\n",
    "(2p) The next step in our retrieval system, would be to calculate the proximity of a query to our retrieval corpus (in our case that is all the sentences).\n",
    "\n",
    "Complete the following function to calculate the cosine similarity between a vector (first parameter `vector`, that will usually be the query vector) and all other vectors (second parameter `other_vectors`, that will be the sentence embeddings in our case). Note that the `other_vectors` parameter is a single numpy array of size `N x D`, where $N$ is the number of vectors and $D$ is the dimension of each vector.\n",
    "\n",
    "For maximum efficiency (we will need it) do not use loops. Try to write the implementation with numpy functions. Hint: matrix multiplication can be seen as calculating the dot product between rows and columns of the multiplied matrices."
   ],
   "metadata": {
    "collapsed": false,
    "pycharm": {
     "name": "#%% md\n"
    }
   }
  },
  {
   "cell_type": "code",
   "metadata": {
    "id": "LgaV2b3fpSOR",
    "pycharm": {
     "name": "#%%\n"
    },
    "ExecuteTime": {
     "end_time": "2025-04-14T12:23:25.464688Z",
     "start_time": "2025-04-14T12:23:25.459091Z"
    }
   },
   "source": [
    "def cosine_similarity_1_to_n(vector, other_vectors):\n",
    "    \"\"\"\n",
    "    Calculates the cosine similarity between a single vector and other vectors.\n",
    "    Args:\n",
    "        vector: a numpy array representing a vector of D dimensions\n",
    "        other_vectors: a 2D numpy array representing other vectors (of the size NxD, where N is the number of vectors and D is their dimension)\n",
    "\n",
    "    Returns: a 1D numpy array of size N containing the cosine similarity between the vector and all the other vectors\n",
    "\n",
    "    \"\"\"\n",
    "\n",
    "    #### YOUR CODE HERE\n",
    "    # Here we do something very similar to Ex 5:\n",
    "    # First we compute the dot product:\n",
    "    dot = np.dot(other_vectors, vector)\n",
    "    # then we compute the mag of the single vector:\n",
    "    mag_single = np.linalg.norm(vector)\n",
    "    # Then of the other vectors:\n",
    "    mag_other = np.linalg.norm(other_vectors, axis = 1)\n",
    "    zero_mask = (mag_other == 0) | (mag_single == 0)\n",
    "    # Now we compute the similarity:\n",
    "    denominator = mag_single * mag_other\n",
    "    # Now we avoid dividing by 0:\n",
    "    denominator[denominator == 0] = 1e-10\n",
    "    cosine_similarity = dot / denominator\n",
    "    cosine_similarity[zero_mask] = 0.0\n",
    "    return cosine_similarity\n",
    "\n",
    "\n",
    "\n",
    "\n",
    "\n",
    "    ### YOUR CODE ENDS HERE"
   ],
   "outputs": [],
   "execution_count": 51
  },
  {
   "cell_type": "markdown",
   "metadata": {
    "collapsed": false,
    "id": "irNqAJZLpSOR",
    "pycharm": {
     "name": "#%% md\n"
    }
   },
   "source": [
    "We will use the function to calculate the similarity of all sentences in the dataset to our query."
   ]
  },
  {
   "cell_type": "code",
   "source": [
    "query = 'fox and deer'\n",
    "embedded_query = embed_text(query, clean, tokenize, lambda x: bag_of_words(x, token_to_id))"
   ],
   "metadata": {
    "collapsed": false,
    "pycharm": {
     "name": "#%%\n"
    },
    "ExecuteTime": {
     "end_time": "2025-04-14T12:23:27.825562Z",
     "start_time": "2025-04-14T12:23:27.820791Z"
    }
   },
   "outputs": [],
   "execution_count": 52
  },
  {
   "cell_type": "code",
   "metadata": {
    "id": "uD9mVAhYpSOR",
    "pycharm": {
     "name": "#%%\n"
    },
    "ExecuteTime": {
     "end_time": "2025-04-14T12:23:32.514964Z",
     "start_time": "2025-04-14T12:23:28.987890Z"
    }
   },
   "source": [
    "query_similarity = cosine_similarity_1_to_n(embedded_query, sentences_bows)\n",
    "print(query_similarity.shape)\n",
    "print(query_similarity[:10])"
   ],
   "outputs": [
    {
     "name": "stdout",
     "output_type": "stream",
     "text": [
      "(36000,)\n",
      "[0.         0.         0.         0.         0.13245324 0.15430335\n",
      " 0.         0.18731716 0.         0.13245324]\n"
     ]
    }
   ],
   "execution_count": 53
  },
  {
   "cell_type": "markdown",
   "metadata": {
    "collapsed": false,
    "id": "_l3erVTNpSOR",
    "pycharm": {
     "name": "#%% md\n"
    }
   },
   "source": [
    "The following cell will select the most similar sentence."
   ]
  },
  {
   "cell_type": "code",
   "execution_count": null,
   "metadata": {
    "id": "0wWa4AWHpSOR",
    "pycharm": {
     "name": "#%%\n"
    }
   },
   "outputs": [],
   "source": [
    "most_similar = int(np.argmax(query_similarity))\n",
    "print(most_similar)\n",
    "print(query_similarity[most_similar])\n",
    "print(split_ds['test'][most_similar]['set'][0])"
   ]
  },
  {
   "cell_type": "markdown",
   "metadata": {
    "collapsed": false,
    "id": "fpdJHFD1pSOR",
    "pycharm": {
     "name": "#%% md\n"
    }
   },
   "source": [
    "The following function will return the indices of the top-k elements in the array."
   ]
  },
  {
   "cell_type": "code",
   "execution_count": null,
   "metadata": {
    "id": "QFUNI9elpSOS",
    "pycharm": {
     "name": "#%%\n"
    }
   },
   "outputs": [],
   "source": [
    "def top_k_indices(array, k, sorted=True):\n",
    "    \"\"\"\n",
    "    Returns top-k indices from the 1D array. If `sorted` is `True` the returned indices are sorted in the descending order\n",
    "    Args:\n",
    "        array: a 1D numpy array\n",
    "        k: a number of top indices to return\n",
    "        sorted: if True, the returned indices are sorted in descending order\n",
    "\n",
    "    Returns: a 1D array containing top-k indices\n",
    "\n",
    "    \"\"\"\n",
    "    top_k = np.argpartition(array, -k)[-k:]\n",
    "    if sorted:\n",
    "        selected = array[top_k]\n",
    "        sorted_selected = (-selected).argsort()\n",
    "        top_k = top_k[sorted_selected]\n",
    "    return top_k"
   ]
  },
  {
   "cell_type": "code",
   "execution_count": null,
   "metadata": {
    "id": "nY8vvJdepSOS",
    "pycharm": {
     "name": "#%%\n"
    }
   },
   "outputs": [],
   "source": [
    "top_indices = top_k_indices(query_similarity, k=10).tolist()\n",
    "for idx in top_indices:\n",
    "    print(split_ds['test'][idx]['set'][0])\n",
    "    print(f'similarity: {query_similarity[idx]}')"
   ]
  },
  {
   "cell_type": "markdown",
   "metadata": {
    "collapsed": false,
    "id": "BuRI2JzQpSOS",
    "pycharm": {
     "name": "#%% md\n"
    }
   },
   "source": [
    "<a name='e7'></a>\n",
    "### Exercise 7: Analyzing and improving BOW search results\n",
    "\n",
    "Experiment with different queries (taking into account the nature of the dataset and your insights from the analysis so far).\n",
    "Answer the following questions:\n",
    "- (5p) Does the search perform well? When does it fail? Discuss several examples that are we get an expected but also unexpected results (find at least 3 from each category). Provide reasons for the good/bad result in each case (e.g. is there some error in the data, is there some linguistic phenomenon that we don't capture, is something wrong with our modeling with average embeddings, ...)\n",
    "- (5p) If you see problems with search, how could you improve your implementation? Change the functions above, if you think there is room for improvement. Describe your changes and how they made the search better or (in case you made no changes) explain what made the search robust enough to work well."
   ]
  },
  {
   "cell_type": "code",
   "execution_count": null,
   "metadata": {
    "id": "sEQKHAvcpSOS",
    "pycharm": {
     "name": "#%%\n"
    }
   },
   "outputs": [],
   "source": [
    "#### YOUR CODE HERE\n",
    "\n",
    "\n",
    "\n",
    "### YOUR CODE ENDS HERE"
   ]
  },
  {
   "cell_type": "markdown",
   "metadata": {
    "id": "eiIGTfq6eFI5",
    "pycharm": {
     "name": "#%% md\n"
    }
   },
   "source": [
    "// your comments"
   ]
  },
  {
   "cell_type": "markdown",
   "source": [
    "## 3. Term Frequency - Inverse Document Frequency (TF-IDF)\n",
    "\n",
    "In this section we will implement the TF-IDF algorithm. While BOW is a simple way to represent the documents, it has some limitations. For example, it does not take into account the importance of each word in the document. TF-IDF representation takes into account the frequency of each word in the document and the frequency of the word in the whole dataset. It is a widely used technique in information retrieval and text mining. Refer to the lecture slides for more details."
   ],
   "metadata": {
    "collapsed": false,
    "pycharm": {
     "name": "#%% md\n"
    }
   }
  },
  {
   "cell_type": "markdown",
   "source": [
    "<a name='e8'></a>\n",
    "### Exercise 8: Inverse Document Frequency (IDF)\n",
    "(5p) In this exercise, you will implement the TF-IDF algorithm. First, calculate Inverse Document Frequency (IDF) for each word in the vocabulary. Intuitively, it is a measure of how informative a word is based on the whole dataset. Consult the lecture slides for the details. The IDF is calculated as follows:\n",
    "$$\n",
    "IDF(t) = log_{10}(N/df(t))$$\n",
    "where $N$ is the total number of documents (sentences) in the dataset and $df(t)$ is the number of documents containing the word $t$.\n"
   ],
   "metadata": {
    "collapsed": false,
    "pycharm": {
     "name": "#%% md\n"
    }
   }
  },
  {
   "cell_type": "code",
   "execution_count": null,
   "outputs": [],
   "source": [
    "def calculate_idf(bows):\n",
    "    \"\"\"\n",
    "    Calculates the IDF for each word in the vocabulary\n",
    "    Args:\n",
    "        bows: numpty array of size (N x D) where N is the number of documents and D is the vocabulary size\n",
    "\n",
    "    Returns: a numpy array of size D with IDF values for each token\n",
    "    \"\"\"\n",
    "\n",
    "    ### YOUR CODE HERE\n",
    "\n",
    "\n",
    "\n",
    "    ### YOUR CODE ENDS HERE\n",
    "\n",
    "idf = calculate_idf(sentences_bows)"
   ],
   "metadata": {
    "collapsed": false,
    "pycharm": {
     "name": "#%%\n"
    }
   }
  },
  {
   "cell_type": "markdown",
   "source": [
    "<a name='e9'></a>\n",
    "### Exercise 9: TF-IDF\n",
    "- (5p) Calculate TF-IDF on the `test` subset of the dataset.\n",
    "- (5p) Analyze the search results based on your implemented TF-IDF. Does the search perform well? When does it fail? Discuss several examples that are we get an expected but also unexpected results (find at least 3 from each category). Provide reasons for the good/bad result in each case (e.g. is there some error in the data, is there some linguistic phenomenon that we don't capture, is something wrong with our modeling with average embeddings, ...)\n",
    "- (5p) Compare the results with the ones you got with the bag-of-words representation. Discuss the differences and similarities. Do you think TF-IDF is a better representation for this task? Why or why not? Provide examples to support your arguments.\n"
   ],
   "metadata": {
    "collapsed": false,
    "pycharm": {
     "name": "#%% md\n"
    }
   }
  },
  {
   "cell_type": "code",
   "execution_count": null,
   "outputs": [],
   "source": [
    "### YOUR CODE HERE\n",
    "\n",
    "\n",
    "\n",
    "\n",
    "### YOUR CODE ENDS HERE\n",
    "\n",
    "### YOU CAN ADD MORE CELLS"
   ],
   "metadata": {
    "collapsed": false,
    "pycharm": {
     "name": "#%%\n"
    }
   }
  },
  {
   "cell_type": "markdown",
   "source": [
    "// your comments"
   ],
   "metadata": {
    "collapsed": false,
    "pycharm": {
     "name": "#%% md\n"
    }
   }
  },
  {
   "cell_type": "markdown",
   "source": [
    "## 4. Word Embeddings\n",
    "\n",
    "In this section you will load the pre-trained word embeddings model - Glove. You can read more about it [here](https://aclanthology.org/D14-1162/) ([https://aclanthology.org/D14-1162/](https://aclanthology.org/D14-1162/)). The embeddings are trained on a large corpus of text and are available in different dimensions. We will start with the dimension of 100, but later you will be asked to experiment with other dimensions.\n",
    "Gensim library maintains a storage containing some pre-trained models. You can read more about it [here](https://github.com/piskvorky/gensim-data) ([https://github.com/piskvorky/gensim-data](https://github.com/piskvorky/gensim-data)). Be sure to read the README of this repository.\n",
    "\n",
    "Let's first load the info of what models are available."
   ],
   "metadata": {
    "collapsed": false,
    "pycharm": {
     "name": "#%% md\n"
    }
   }
  },
  {
   "cell_type": "code",
   "execution_count": null,
   "outputs": [],
   "source": [
    "import json\n",
    "import gensim.downloader as api\n",
    "\n",
    "info = api.info()  # show info about available models/datasets\n",
    "print(json.dumps(info['models'], indent=2))"
   ],
   "metadata": {
    "collapsed": false,
    "pycharm": {
     "name": "#%%\n"
    }
   }
  },
  {
   "cell_type": "code",
   "execution_count": null,
   "outputs": [],
   "source": [
    "glove_model = api.load(\"glove-wiki-gigaword-100\")"
   ],
   "metadata": {
    "collapsed": false,
    "pycharm": {
     "name": "#%%\n"
    }
   }
  },
  {
   "cell_type": "markdown",
   "source": [
    "We can use the loaded model's `key_to_index` attribute to retrieve the whole vocabulary (aka for how many words we learned embeddings for)."
   ],
   "metadata": {
    "collapsed": false,
    "pycharm": {
     "name": "#%% md\n"
    }
   }
  },
  {
   "cell_type": "code",
   "execution_count": null,
   "outputs": [],
   "source": [
    "vocab = list(glove_model.key_to_index)\n",
    "print(len(vocab))"
   ],
   "metadata": {
    "collapsed": false,
    "pycharm": {
     "name": "#%%\n"
    }
   }
  },
  {
   "cell_type": "markdown",
   "source": [
    "Let's explore a bit further the embeddings. In the following cells, the embedding of a single word is returned. Double-check the dimensions (as sanity check). This is like inspecting the `W` matrix (weights) that we discussed in the lecture."
   ],
   "metadata": {
    "collapsed": false,
    "pycharm": {
     "name": "#%% md\n"
    }
   }
  },
  {
   "cell_type": "code",
   "execution_count": null,
   "outputs": [],
   "source": [
    "# vector of a particular model. note that it is 100 dimensional as specified.\n",
    "glove_model['what']"
   ],
   "metadata": {
    "collapsed": false,
    "pycharm": {
     "name": "#%%\n"
    }
   }
  },
  {
   "cell_type": "markdown",
   "source": [
    "Gensim objects offers different methods to easily run very common tasks. For example, there are different functions to find the most similar words.\n",
    "\n",
    "Check the documentation on how [`most_similar`](https://tedboy.github.io/nlps/generated/generated/gensim.models.Word2Vec.most_similar.html) and [`similar_by_word`](https://tedboy.github.io/nlps/generated/generated/gensim.models.Word2Vec.similar_by_word.html) can be used."
   ],
   "metadata": {
    "collapsed": false,
    "pycharm": {
     "name": "#%% md\n"
    }
   }
  },
  {
   "cell_type": "code",
   "execution_count": null,
   "outputs": [],
   "source": [
    "# most similar words to a given word\n",
    "print(glove_model.most_similar('what', topn=10))\n",
    "\n",
    "# also u can use\n",
    "print(glove_model.similar_by_word('miss', topn=5))"
   ],
   "metadata": {
    "collapsed": false,
    "pycharm": {
     "name": "#%%\n"
    }
   }
  },
  {
   "cell_type": "code",
   "execution_count": null,
   "outputs": [],
   "source": [
    "print(glove_model.most_similar('why', topn=10))"
   ],
   "metadata": {
    "collapsed": false,
    "pycharm": {
     "name": "#%%\n"
    }
   }
  },
  {
   "cell_type": "code",
   "execution_count": null,
   "outputs": [],
   "source": [
    "print(glove_model.similar_by_word('who', topn=5))"
   ],
   "metadata": {
    "collapsed": false,
    "pycharm": {
     "name": "#%%\n"
    }
   }
  },
  {
   "cell_type": "markdown",
   "source": [
    "We can now compare our implementation with the one in the pre-trained model and confirm what we already expected."
   ],
   "metadata": {
    "collapsed": false,
    "pycharm": {
     "name": "#%% md\n"
    }
   }
  },
  {
   "cell_type": "code",
   "execution_count": null,
   "outputs": [],
   "source": [
    "# simalarity between two words\n",
    "word1 = 'alive'\n",
    "word2 = 'biology'\n",
    "print(glove_model.similarity(word1, word2))\n",
    "print(cosine_similarity(glove_model[word1], glove_model[word2]))"
   ],
   "metadata": {
    "collapsed": false,
    "pycharm": {
     "name": "#%%\n"
    }
   }
  },
  {
   "cell_type": "code",
   "execution_count": null,
   "outputs": [],
   "source": [
    "# simalarity between two words. similar words\n",
    "word1 = 'alive'\n",
    "word2 = 'life'\n",
    "print(glove_model.similarity(word1, word2))\n",
    "print(cosine_similarity(glove_model[word1], glove_model[word2]))"
   ],
   "metadata": {
    "collapsed": false,
    "pycharm": {
     "name": "#%%\n"
    }
   }
  },
  {
   "cell_type": "code",
   "execution_count": null,
   "outputs": [],
   "source": [
    "# simalarity between two words. dissimilar words\n",
    "word1 = 'alive'\n",
    "word2 = 'dead'\n",
    "print(glove_model.similarity(word1, word2))\n",
    "print(cosine_similarity(glove_model[word1], glove_model[word2]))"
   ],
   "metadata": {
    "collapsed": false,
    "pycharm": {
     "name": "#%%\n"
    }
   }
  },
  {
   "cell_type": "code",
   "execution_count": null,
   "outputs": [],
   "source": [
    "# simalarity between two words. unrelated words\n",
    "word1 = 'alive'\n",
    "word2 = 'horse'\n",
    "print(glove_model.similarity(word1, word2))\n",
    "print(cosine_similarity(glove_model[word1], glove_model[word2]))"
   ],
   "metadata": {
    "collapsed": false,
    "pycharm": {
     "name": "#%%\n"
    }
   }
  },
  {
   "cell_type": "code",
   "execution_count": null,
   "outputs": [],
   "source": [
    "# simalarity between two SAME words\n",
    "glove_model.similarity('equal', 'equal')\n",
    "word1 = 'equal'\n",
    "word2 = 'equal'\n",
    "print(glove_model.similarity(word1, word2))\n",
    "print(cosine_similarity(glove_model[word1], glove_model[word2]))"
   ],
   "metadata": {
    "collapsed": false,
    "pycharm": {
     "name": "#%%\n"
    }
   }
  },
  {
   "cell_type": "markdown",
   "source": [
    "The next function contains the code to plot a similarity matrix between multiple words (e.g. if we want to compare 10 words and their pair-wise similarities). It requires a matrix with similarities (as input) and labels (aka the words) to display in the final figure."
   ],
   "metadata": {
    "collapsed": false,
    "pycharm": {
     "name": "#%% md\n"
    }
   }
  },
  {
   "cell_type": "code",
   "execution_count": null,
   "outputs": [],
   "source": [
    "def plot_similarity_matrix(matrix, labels):\n",
    "    \"\"\"\n",
    "    Displays a plot of the `matrix` of size (N x N) with the labels specified as a list of size N\n",
    "    Args:\n",
    "        matrix: a square-sized (N x N) numpy array\n",
    "        labels: a list of strings of hte size N\n",
    "    \"\"\"\n",
    "\n",
    "    fig, ax = plt.subplots()\n",
    "    im = ax.imshow(matrix)\n",
    "\n",
    "    # Show all ticks and label them with the respective list entries\n",
    "    ax.set_xticks(np.arange(len(labels)), labels=labels)\n",
    "    ax.set_yticks(np.arange(len(labels)), labels=labels)\n",
    "\n",
    "    # Rotate the tick labels and set their alignment.\n",
    "    plt.setp(ax.get_xticklabels(), rotation=45, ha=\"right\",\n",
    "             rotation_mode=\"anchor\")\n",
    "\n",
    "    # Loop over data dimensions and create text annotations.\n",
    "    for i in range(len(labels)):\n",
    "        for j in range(len(labels)):\n",
    "            text = ax.text(j, i, f'{matrix[i, j]:.2f}',\n",
    "                           ha=\"center\", va=\"center\", color=\"w\")\n",
    "\n",
    "    # ax.set_title(\"Give a title if you want\")\n",
    "    fig.tight_layout()\n",
    "    plt.show()"
   ],
   "metadata": {
    "collapsed": false,
    "pycharm": {
     "name": "#%%\n"
    }
   }
  },
  {
   "cell_type": "markdown",
   "source": [
    "<a name='e10'></a>\n",
    "### Exercise 10: Plotting similarities between words\n",
    "\n",
    "(10p) In the following, we will explore some properties of word embeddings through some examples. We will use 6 example words for this purpose but experiment with other set of words as well. Fill in the next cell to create a similarity matrix between a list of words.\n",
    "\n",
    "Experiment with different words and their similarities plotted. Try at least 3 different sets of words of at least 6 words each. Use the `plot_similarity_matrix` function to visualize the results.\n",
    "Comment on the results. Do they make sense? Why some words are closer to each other than others? What does it mean?"
   ],
   "metadata": {
    "collapsed": false,
    "pycharm": {
     "name": "#%% md\n"
    }
   }
  },
  {
   "cell_type": "code",
   "execution_count": null,
   "outputs": [],
   "source": [
    "list_of_words = ['love', 'hate', 'life', 'equal', 'alive', 'dead']\n",
    "\n",
    "similarity_matrix = np.zeros((len(list_of_words), len(list_of_words)), dtype=float)\n",
    "\n",
    "### YOUR CODE HERE\n",
    "\n",
    "\n",
    "\n",
    "\n",
    "\n",
    "### YOUR CODE ENDS HERE\n",
    "\n",
    "\n",
    "plot_similarity_matrix(similarity_matrix, list_of_words)"
   ],
   "metadata": {
    "collapsed": false,
    "pycharm": {
     "name": "#%%\n"
    }
   }
  },
  {
   "cell_type": "code",
   "execution_count": null,
   "outputs": [],
   "source": [
    "#### YOUR CODE HERE\n",
    "\n",
    "\n",
    "\n",
    "### YOUR CODE ENDS HERE"
   ],
   "metadata": {
    "collapsed": false,
    "pycharm": {
     "name": "#%%\n"
    }
   }
  },
  {
   "cell_type": "markdown",
   "source": [
    "<a name='e11'></a>\n",
    "### Exercise 11: Other pre-trained word embeddings\n",
    "(10p) For this exercise, experiment with at least one different word embedding model. You can choose Glove with different dimensions or other pre-trained models. Use the gensim library to download and use the models.\n",
    "Plot similarity matrices between sets of words you used in the previous exercise and compare the results. Are there noticeable differences? Why (not)?"
   ],
   "metadata": {
    "collapsed": false,
    "pycharm": {
     "name": "#%% md\n"
    }
   }
  },
  {
   "cell_type": "code",
   "execution_count": null,
   "outputs": [],
   "source": [
    "#### YOUR CODE HERE\n",
    "\n",
    "\n",
    "\n",
    "### YOUR CODE ENDS HERE"
   ],
   "metadata": {
    "collapsed": false,
    "pycharm": {
     "name": "#%%\n"
    }
   }
  },
  {
   "cell_type": "markdown",
   "source": [
    "// your comments"
   ],
   "metadata": {
    "collapsed": false,
    "pycharm": {
     "name": "#%% md\n"
    }
   }
  },
  {
   "cell_type": "markdown",
   "source": [
    "## 5. Sentence Embeddings by Averaging Word Embeddings\n",
    "\n",
    "Word embeddings are a powerful model for representing words and their meaning (in terms of distributional similarity). As we discussed in class, we can use them in a wide variety of tasks with more complex architectures. Word vectors offer a dense vector for each word. What if we wanted to represent a sentence (or a document) based on word vectors. How can we do that?\n",
    "\n",
    "In the course, we will see different architectures that take into account the sequence of words (by combining their vectors). A first naive but simple and sometimes (as we are going to see) quite effective approach would be to represent a sentence with an embedding vector that is the average of the word vectors that form the sentence.\n",
    "\n",
    "So formally, this is what we are aiming for:\n",
    "\n",
    "$\n",
    "\\text{Sentence_Embedding} = \\frac{1}{N} \\sum_{i=1}^{N} \\text{Word_Embedding}_i\n",
    "$\n",
    "\n",
    "where:\n",
    "* $N$ is the number of words in a sentence\n",
    "* $\\text{Word_Embedding}_i$ is the word vector for the $i$-th in the sentence.\n",
    "\n",
    "Things to note:\n",
    "* The embedding vector for the sentence will obviously have the same dimension as the word embedding.\n",
    "* This representation ignores the word order (like bag-of-words). During the course we will see how we can overcome this limitation by using sequence models."
   ],
   "metadata": {
    "collapsed": false,
    "pycharm": {
     "name": "#%% md\n"
    }
   }
  },
  {
   "cell_type": "markdown",
   "source": [
    "<a name='e12'></a>\n",
    "### Exercise 12: Sentence Embedding\n",
    "\n",
    "(10p) Complete the function below that takes as input the sentence in the form of tokens (so it's a list of words) and calculates the sentence embedding vector. First, we would need to retrieve the word embeddings for each word from our loaded model and then average the vectors.\n",
    "\n",
    "Note: There can be cases where all tokens from a sentence are out-of-vocabulary words (OOV). Think what to do in this case and make sure to discuss it in the report."
   ],
   "metadata": {
    "collapsed": false,
    "pycharm": {
     "name": "#%% md\n"
    }
   }
  },
  {
   "cell_type": "code",
   "execution_count": null,
   "outputs": [],
   "source": [
    "def embed_sentence_word_model(tokens, model):\n",
    "    \"\"\"\n",
    "    Calculates the sentence embedding by averaging the embeddings of the tokens\n",
    "    Args:\n",
    "        tokens: a list of words from the sentence\n",
    "        model: a trained word embeddings model\n",
    "\n",
    "    Returns: a numpy array of the sentence embedding\n",
    "\n",
    "    \"\"\"\n",
    "    #### YOUR CODE HERE\n",
    "    #### CAUTION: be sure to cover the case where all tokens are out-of-vocabulary!!!\n",
    "\n",
    "\n",
    "\n",
    "\n",
    "    ### YOUR CODE ENDS HERE"
   ],
   "metadata": {
    "collapsed": false,
    "pycharm": {
     "name": "#%%\n"
    }
   }
  },
  {
   "cell_type": "markdown",
   "source": [
    "Now we can apply the function to the whole dataset. Here we do it both for the sentence and the compressed version. You should know it by now, but this operation might take some time. The next cells will apply your function to the whole dataset."
   ],
   "metadata": {
    "collapsed": false,
    "pycharm": {
     "name": "#%% md\n"
    }
   }
  },
  {
   "cell_type": "code",
   "execution_count": null,
   "outputs": [],
   "source": [
    "def embed_sentence_word_model_dataset(example, model):\n",
    "    \"\"\"\n",
    "    Embeds the sentence and the compressed sentence in the example from the Dataset\n",
    "    Args:\n",
    "        example: an example from the Dataset\n",
    "        model: a trained word embeddings model\n",
    "\n",
    "    Returns: updated example with 'sentence_embedding' and 'compressed_embedding' columns\n",
    "\n",
    "    \"\"\"\n",
    "    sentence_tokens = example['sentence_tokens']\n",
    "    clean_compressed = example['clean_compressed']\n",
    "    compressed_tokens = tokenize(clean_compressed)\n",
    "\n",
    "    sentence_embedding = embed_sentence_word_model(sentence_tokens, model)\n",
    "    compressed_embedding = embed_sentence_word_model(compressed_tokens, model)\n",
    "\n",
    "    example['sentence_embedding'] = sentence_embedding\n",
    "    example['compressed_embedding'] = compressed_embedding\n",
    "    return example"
   ],
   "metadata": {
    "collapsed": false,
    "pycharm": {
     "name": "#%%\n"
    }
   }
  },
  {
   "cell_type": "code",
   "execution_count": null,
   "outputs": [],
   "source": [
    "test_ds = test_ds.map(embed_sentence_word_model_dataset, fn_kwargs={'model': glove_model})\n",
    "print(test_ds)"
   ],
   "metadata": {
    "collapsed": false,
    "pycharm": {
     "name": "#%%\n"
    }
   }
  },
  {
   "cell_type": "code",
   "execution_count": null,
   "outputs": [],
   "source": [
    "for i in range(10):\n",
    "    print(test_ds[i])"
   ],
   "metadata": {
    "collapsed": false,
    "pycharm": {
     "name": "#%%\n"
    }
   }
  },
  {
   "cell_type": "markdown",
   "source": [
    "Here you can see that the new dataset returned a single numpy array containing all sentence embeddings in our dataset. This is a lot more efficient than returning a list of arrays (which is the default behaviour). Below we check the type and the dimensionality.\n",
    "\n",
    "We will be using `text` subset from our dataset to not use too much RAM."
   ],
   "metadata": {
    "collapsed": false,
    "pycharm": {
     "name": "#%% md\n"
    }
   }
  },
  {
   "cell_type": "code",
   "execution_count": null,
   "outputs": [],
   "source": [
    "sent_embedding = test_ds['sentence_embedding']\n",
    "compr_embedding = test_ds['compressed_embedding']\n",
    "print(type(sent_embedding))\n",
    "print(sent_embedding.shape)\n",
    "print(type(compr_embedding))\n",
    "print(compr_embedding.shape)"
   ],
   "metadata": {
    "collapsed": false,
    "pycharm": {
     "name": "#%%\n"
    }
   }
  },
  {
   "cell_type": "markdown",
   "source": [
    "Next we try the condensed representatin based on a simple query. Feel free to try different queries with different words. What happens if we have OOV words in a query?"
   ],
   "metadata": {
    "collapsed": false,
    "pycharm": {
     "name": "#%% md\n"
    }
   }
  },
  {
   "cell_type": "code",
   "execution_count": null,
   "outputs": [],
   "source": [
    "query = 'fox and deer'\n",
    "print(query)\n",
    "\n",
    "query_embedding = embed_text(query, clean, tokenize, lambda x: embed_sentence_word_model(x, glove_model))\n",
    "print(query_embedding.shape)\n",
    "print(query_embedding)"
   ],
   "metadata": {
    "collapsed": false,
    "pycharm": {
     "name": "#%%\n"
    }
   }
  },
  {
   "cell_type": "markdown",
   "source": [
    "<a name='e13'></a>\n",
    "### Exercise 13: Analyze sentence embeddings\n",
    "- (5p) Calculate similarity between the word embeddings representations of the selected queries and the dataset sentences.\n",
    "- (5p) Analyze the search results. Does the search work as expected? Discuss the results.\n",
    "- (5p) Compare the results with the ones you got with the bag-of-words and TF-IDF representation. Discuss the differences and similarities."
   ],
   "metadata": {
    "collapsed": false,
    "pycharm": {
     "name": "#%% md\n"
    }
   }
  },
  {
   "cell_type": "code",
   "execution_count": null,
   "outputs": [],
   "source": [
    "### YOUR CODE HERE\n",
    "\n",
    "\n",
    "\n",
    "\n",
    "### YOUR CODE ENDS HERE"
   ],
   "metadata": {
    "collapsed": false,
    "pycharm": {
     "name": "#%%\n"
    }
   }
  },
  {
   "cell_type": "markdown",
   "metadata": {
    "id": "ZY2jouFmeHOg",
    "pycharm": {
     "name": "#%% md\n"
    }
   },
   "source": [
    "## 6. Evaluating Retrieval\n",
    "\n",
    "In this last section we will try to evaluate how good our sentence retrieval system is. To keep the computational resources manageable, we will use the test set for that as its size is more manageable.\n",
    "\n",
    "Recall from the lecture in IR that there are several metrics to evaluate retrieval performance by taking into account the relevance of the retrieved results to the query. We will use Recall@K here (for more metrics and more details refer to the lecture slides and the textbooks).\n",
    "\n",
    "RRecall@K is a metric used to measure the effectiveness of a search system in retrieving relevant documents within the top $K$ retrieved documents. It calculates the proportion of relevant documents retrieved within the top-$K$ results, compared to the total number of relevant documents in the collection.\n",
    "\n",
    "$\n",
    "\\text{Recall@K} = \\frac{\\text{Number of relevant documents retrieved in the top }-K}{\\text{Total number of relevant documents}}\n",
    "$\n",
    "\n",
    "In our case, we have a sentence, and it's compressed version. To test our system, we will treat compressed sentences as the queries. Each query will have only a single relevant sentence - the corresponding uncompressed sentence.\n",
    "\n",
    "Therefore, for the calculation of Recall@K we will take into account whether the correct retrieved result is contained within the first $K$ retrieved results. For example, if for a query (i.e. a compressed sentence) we retrieve 10 results and within these we see the relevant one (i.e. the full sentence), then Recall@10 = 1."
   ]
  },
  {
   "cell_type": "markdown",
   "metadata": {
    "id": "QUKPtG-uem9f",
    "pycharm": {
     "name": "#%% md\n"
    }
   },
   "source": [
    "<a name='e14'></a>\n",
    "### Exercise 14: Cosine similarity between two sets of vectors\n",
    "\n",
    "(3p) In this exercise you will revisit your implementation of the cosine similarity. Generalize it so that it can accept two arrays containing two sets of vectors (first one containing $M$ vectors and the second one $N$ vectors). Compute the cosine similarity between each pair of vectors coming from the two sets. The result should be an array of size $M x N$.\n",
    "\n",
    "Once again, try to write an efficient code. This means no loops. Remember the relation between matrix multiplication and dot product. (Depending on your implementation of the previous function calculating cosine similarity, this one can be almost the same)"
   ]
  },
  {
   "cell_type": "code",
   "execution_count": null,
   "metadata": {
    "id": "xKiHDrN9eld7",
    "pycharm": {
     "name": "#%%\n"
    }
   },
   "outputs": [],
   "source": [
    "def cosine_similarity_m_to_n(vectors, other_vectors):\n",
    "    \"\"\"\n",
    "    Calculates the cosine similarity between a multiple vectors and other vectors.\n",
    "    Args:\n",
    "        vectors: a numpy array representing M number of vectors of D dimensions (of the size MxD)\n",
    "        other_vectors: a 2D numpy array representing other vectors (of the size NxD, where N is the number of vectors and D is their dimension)\n",
    "\n",
    "    Returns: a numpy array of cosine similarity between all the vectors and all the other vectors\n",
    "\n",
    "    \"\"\"\n",
    "\n",
    "    #### YOUR CODE HERE\n",
    "\n",
    "\n",
    "\n",
    "\n",
    "    ### YOUR CODE ENDS HERE"
   ]
  },
  {
   "cell_type": "markdown",
   "metadata": {
    "id": "qQ-Yhl1Sgoka",
    "pycharm": {
     "name": "#%% md\n"
    }
   },
   "source": [
    "The following function will use your implementation to calculate Recall@K based on the similarity matrix."
   ]
  },
  {
   "cell_type": "code",
   "execution_count": null,
   "metadata": {
    "id": "z0sLS3uRCfdh",
    "pycharm": {
     "name": "#%%\n"
    }
   },
   "outputs": [],
   "source": [
    "def calculate_recall(queries, sentences, k, batch_size=1000):\n",
    "    \"\"\"\n",
    "    Calculates recall@k given the embeddings of the queries and sentences.\n",
    "    Assumes that only a single sentence with the same index as query is relevant.\n",
    "    Batching is implemented to avoid high memory usage.\n",
    "    Args:\n",
    "        queries: a numpy array with the embeddings of N queries\n",
    "        sentences: a numpy array with the embeddings of N sentences available for retrieval\n",
    "        k: number of top results to search for the relevant sentence\n",
    "        batch_size: number of queries to process at a time\n",
    "\n",
    "    Returns: calculated recall@k\n",
    "\n",
    "    \"\"\"\n",
    "    n_queries = queries.shape[0]\n",
    "    correct = np.zeros(n_queries, dtype=bool)\n",
    "\n",
    "    with tqdm.tqdm(total=n_queries) as pbar:\n",
    "        for batch_start in range(0, n_queries, batch_size):\n",
    "            batch_end = min(batch_start + batch_size, n_queries)\n",
    "            queries_batch = queries[batch_start:batch_end]\n",
    "            batch_similarity = cosine_similarity_m_to_n(queries_batch, sentences)\n",
    "\n",
    "            for i, similarity_row in enumerate(batch_similarity):\n",
    "                query_index = batch_start + i\n",
    "                top_k = top_k_indices(similarity_row, k=k, sorted=False)\n",
    "\n",
    "                if query_index in top_k:\n",
    "                    correct[query_index] = True\n",
    "\n",
    "                pbar.update(1)\n",
    "\n",
    "    recall = np.sum(correct) / n_queries\n",
    "    return recall"
   ]
  },
  {
   "cell_type": "markdown",
   "metadata": {
    "id": "3QgAgMiDgw8m",
    "pycharm": {
     "name": "#%% md\n"
    }
   },
   "source": [
    "You can use it like so:"
   ]
  },
  {
   "cell_type": "code",
   "execution_count": null,
   "metadata": {
    "id": "Yxpex7ZxHM7c",
    "pycharm": {
     "name": "#%%\n"
    }
   },
   "outputs": [],
   "source": [
    "recall_at_1 = calculate_recall(compr_embedding, sent_embedding, k=1, batch_size=1000)\n",
    "print(f'\\n{recall_at_1 * 100:.2f}%')"
   ]
  },
  {
   "cell_type": "markdown",
   "metadata": {
    "id": "zY5ZVq5ogzMI",
    "pycharm": {
     "name": "#%% md\n"
    }
   },
   "source": [
    "<a name='e15'></a>\n",
    "### Exercise 15: Evaluating retrieval methods\n",
    "\n",
    "(10p) Calculate recall for different values of $K$ for all methods:\n",
    "- BOW,\n",
    "- TF-IDF,\n",
    "- Pre-trained embeddings.\n",
    "\n",
    "Discuss the results.\n",
    "Comment on how recall changes based on the value of $K$. Are the results expected or surprising?"
   ]
  },
  {
   "cell_type": "code",
   "execution_count": null,
   "outputs": [],
   "source": [
    "#### YOUR CODE HERE\n",
    "\n",
    "\n",
    "\n",
    "### YOUR CODE ENDS HERE"
   ],
   "metadata": {
    "collapsed": false,
    "pycharm": {
     "name": "#%%\n"
    }
   }
  },
  {
   "cell_type": "markdown",
   "source": [
    "<a name='e16'></a>\n",
    "### Exercise 16: Improving retrieval\n",
    "\n",
    "(10p) Imagine that you work at a company and are tasked with delivering the best retrieval method. Select the most promising one and try to improve the scores (e.g. by changing the vocab size, loading different model, etc.).\n",
    "Discuss the results you achieve, even if you didn't manage to improve the scores."
   ],
   "metadata": {
    "collapsed": false,
    "pycharm": {
     "name": "#%% md\n"
    }
   }
  },
  {
   "cell_type": "code",
   "execution_count": null,
   "metadata": {
    "id": "YA9bEm5ehMq8",
    "pycharm": {
     "name": "#%%\n"
    }
   },
   "outputs": [],
   "source": [
    "#### YOUR CODE HERE\n",
    "\n",
    "\n",
    "\n",
    "### YOUR CODE ENDS HERE"
   ]
  },
  {
   "cell_type": "markdown",
   "source": [
    "// your comments"
   ],
   "metadata": {
    "collapsed": false,
    "pycharm": {
     "name": "#%% md\n"
    }
   }
  }
 ],
 "metadata": {
  "colab": {
   "toc_visible": true,
   "provenance": []
  },
  "kernelspec": {
   "display_name": "Python 3",
   "language": "python",
   "name": "python3"
  },
  "language_info": {
   "codemirror_mode": {
    "name": "ipython",
    "version": 2
   },
   "file_extension": ".py",
   "mimetype": "text/x-python",
   "name": "python",
   "nbconvert_exporter": "python",
   "pygments_lexer": "ipython2",
   "version": "2.7.6"
  }
 },
 "nbformat": 4,
 "nbformat_minor": 0
}
