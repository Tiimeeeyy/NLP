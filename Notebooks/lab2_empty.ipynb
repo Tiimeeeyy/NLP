{
 "cells": [
  {
   "cell_type": "markdown",
   "metadata": {
    "collapsed": false,
    "id": "od2YkWY8pSOC",
    "pycharm": {
     "name": "#%% md\n"
    }
   },
   "source": [
    "# NLP 2025\n",
    "# Lab 2: Word Vectors and Information Retrieval\n",
    "\n",
    "During the first few weeks, we discussed various ways to represent text 📝. One key question was: What should be the basic unit of representation? Words are the fundamental building blocks 🧱.\n",
    "\n",
    "In this lab, we will explore different text representation models, such as Bag-of-Words (BoW), TF-IDF and word embeddings 🔤➡️🔢. Among these, word embeddings are the most effective in terms of performance. They represent each word as a vector of numbers, where each vector captures the meaning of the word 🧠📊.\n",
    "\n",
    "These numerical representations (or weights) are learned using machine learning models 🤖. We’ll dive deeper into how these vectors are learned in the next lecture 📚.\n",
    "\n",
    "For now, we’ll focus on how different representation methods affect performance in an information retrieval task 🔍."
   ]
  },
  {
   "cell_type": "markdown",
   "metadata": {
    "collapsed": false,
    "id": "s93LS5bspSOD",
    "pycharm": {
     "name": "#%% md\n"
    }
   },
   "source": [
    "By the end of this lab, you should be able to:\n",
    "\n",
    "+ 🧼🔁 Implement and/or use built-in functions to preprocess your data (once again!)\n",
    "+ 🧱👜 Build a Bag-of-Words representation of the dataset\n",
    "+ 📊✨ Implement TF-IDF\n",
    "+ 📥🔤 Load pre-trained word embeddings\n",
    "+ 🔍🧠 Inspect and test word embedding properties\n",
    "+ 🗣️➡️📐 Use word embeddings to get sentence representations (aka sentence embeddings)\n",
    "+ 🧩🔎 Use sentence embeddings to solve more complex tasks like information retrieval\n",
    "+ 🧪📏 Design evaluation frameworks for specific NLP tasks and assess their difficulty\n",
    "\n",
    "### Score breakdown\n",
    "\n",
    "| Exercise            | Points |\n",
    "|---------------------|--------|\n",
    "| [Exercise 1](#e1)   | 1      |\n",
    "| [Exercise 2](#e2)   | 1      |\n",
    "| [Exercise 3](#e3)   | 1      |\n",
    "| [Exercise 4](#e4)   | 1      |\n",
    "| [Exercise 5](#e5)   | 1      |\n",
    "| [Exercise 6](#e6)   | 2      |\n",
    "| [Exercise 7](#e7)   | 10     |\n",
    "| [Exercise 8](#e8)   | 5      |\n",
    "| [Exercise 9](#e9)   | 15     |\n",
    "| [Exercise 10](#e10) | 10     |\n",
    "| [Exercise 11](#e11) | 10     |\n",
    "| [Exercise 12](#e12) | 5      |\n",
    "| [Exercise 13](#e13) | 15     |\n",
    "| [Exercise 14](#e14) | 3      |\n",
    "| [Exercise 15](#e15) | 10     |\n",
    "| [Exercise 16](#e16) | 10     |\n",
    "| Total               | 100    |\n",
    "\n",
    "This score will be scaled down to 1 and that will be your final lab score.\n",
    "\n",
    "### 📌 **Instructions for Delivery** (📅 **Deadline: 18/Apr 18:00**, 🎭 *wildcards possible*)\n",
    "\n",
    "✅ **Submission Requirements**\n",
    "+ 📄 You need to submit a **PDF of your report** (use the templates provided in **LaTeX** 🖋️ (*preferred*) or **Word** 📑) and a **copy of your notebook** 📓 with the code.\n",
    "+ ⚡ Make sure that **all cells are executed properly** ⚙️ and that **all figures/results/plots** 📊 you include in the report are also visible in your **executed notebook**.\n",
    "\n",
    "✅ **Collaboration & Integrity**\n",
    "+ 🗣️ While you may **discuss** the lab with others, you must **write your solutions with your group only**. If you **discuss specific tasks** with others, please **include their names** in the appendix of the report.\n",
    "+ 📜 **Honor Code applies** to this lab. For more details, check **Syllabus §7.2** ⚖️.\n",
    "+ 📢 **Mandatory Disclosure**:\n",
    "   - Any **websites** 🌐 (e.g., **Stack Overflow** 💡) or **other resources** used must be **listed and disclosed**.\n",
    "   - Any **GenAI tools** 🤖 (e.g., **ChatGPT**) used must be **explicitly mentioned**.\n",
    "   - 🚨 **Failure to disclose these resources is a violation of academic integrity**. See **Syllabus §7.3** for details."
   ]
  },
  {
   "cell_type": "markdown",
   "metadata": {
    "collapsed": false,
    "id": "aHYGq5RUpSOD",
    "pycharm": {
     "name": "#%% md\n"
    }
   },
   "source": [
    "## 0. Setup\n",
    "\n",
    "As in the last lab, we will be using huggingface datasets library ([https://huggingface.co/datasets](https://huggingface.co/datasets)). You can find the detailed documentation and tutorials here: [https://huggingface.co/docs/datasets/en/index](https://huggingface.co/docs/datasets/en/index)\n",
    "\n",
    "If you don't have it installed you can run the code below or install it via `pip` in your terminal. If you are using Google Colab, you can uncomment and run the code below in a code cell. Restarting of the runtime may be required after installation (Runtime/Restart session)."
   ]
  },
  {
   "cell_type": "code",
   "metadata": {
    "id": "rhEG8hKrpSOE",
    "pycharm": {
     "name": "#%%\n"
    },
    "ExecuteTime": {
     "end_time": "2025-04-19T20:44:54.034543Z",
     "start_time": "2025-04-19T20:44:54.030081Z"
    }
   },
   "source": [
    "# ! pip install -U datasets~=3.5.0\n",
    "# ! pip install -U gensim\n",
    "# ! python -m pip install -U matplotlib\n",
    "# ! pip install nltk\n",
    "# ! pip install -U scikit-learn"
   ],
   "outputs": [],
   "execution_count": 1
  },
  {
   "cell_type": "markdown",
   "source": [
    "Previously installed datasets library version of 3.2.0 had an error when combined with numpy version >2. If you encounter an error at some point it might require to update the datasets library to the newer version. You can do that by running the code below. If you are using Google Colab, you can run the code below in a code cell. If you are using Jupyter Notebook, you can run the code below in a code cell or in a terminal."
   ],
   "metadata": {
    "collapsed": false,
    "pycharm": {
     "name": "#%% md\n"
    }
   }
  },
  {
   "cell_type": "code",
   "source": [
    "# ! pip install --upgrade --force-reinstall datasets"
   ],
   "metadata": {
    "collapsed": false,
    "pycharm": {
     "name": "#%%\n"
    },
    "ExecuteTime": {
     "end_time": "2025-04-19T20:44:54.054836Z",
     "start_time": "2025-04-19T20:44:54.051566Z"
    }
   },
   "outputs": [],
   "execution_count": 2
  },
  {
   "cell_type": "markdown",
   "metadata": {
    "collapsed": false,
    "id": "5CCI1TPJpSOF",
    "pycharm": {
     "name": "#%% md\n"
    }
   },
   "source": [
    "As usual, we start by importing some essential Python libraries and we will be using. Apart from `gensim` (which is going to be used for word embeddings), we have already seen the others."
   ]
  },
  {
   "cell_type": "code",
   "metadata": {
    "id": "CRe8W4hKpSOF",
    "pycharm": {
     "name": "#%%\n"
    },
    "ExecuteTime": {
     "end_time": "2025-04-19T20:44:59.352784Z",
     "start_time": "2025-04-19T20:44:54.084436Z"
    }
   },
   "source": [
    "import re\n",
    "\n",
    "import numpy as np\n",
    "import matplotlib.pyplot as plt\n",
    "import datasets\n",
    "import nltk\n",
    "import tqdm\n",
    "import gensim\n",
    "\n",
    "nltk.download('punkt_tab')"
   ],
   "outputs": [
    {
     "name": "stderr",
     "output_type": "stream",
     "text": [
      "[nltk_data] Downloading package punkt_tab to\n",
      "[nltk_data]     C:\\Users\\tahai\\AppData\\Roaming\\nltk_data...\n",
      "[nltk_data]   Package punkt_tab is already up-to-date!\n"
     ]
    },
    {
     "data": {
      "text/plain": [
       "True"
      ]
     },
     "execution_count": 3,
     "metadata": {},
     "output_type": "execute_result"
    }
   ],
   "execution_count": 3
  },
  {
   "cell_type": "markdown",
   "metadata": {
    "collapsed": false,
    "id": "NXy-1KiCpSOF",
    "pycharm": {
     "name": "#%% md\n"
    }
   },
   "source": [
    "## 1. Load and Preprocess Data\n",
    "\n",
    "*Sentence compression* involves rephrasing sentences to make them shorter while still retaining the original meaning. A reliable compression system would be valuable for mobile devices and could also serve as a component in an extractive summarization system.\n",
    "\n",
    "The dataset we are going to use can be found on [Huggingface](https://huggingface.co/datasets/embedding-data/sentence-compression). It concerns a set of 180,000 pairs of sentences, aka it is a parallel corpus of sentences and their equivalent compressions. It has been collected by harvesting news articles from the Internet where the headline appears to be similar to the first sentence and that property is used to find an \"extractive\" compression of the sentence.\n",
    "\n",
    "For example, for the sentence\n",
    "\n",
    "`\"Regulators Friday shut down a small Florida bank, bringing to 119 the number of US bank failures this year amid mounting loan defaults\"`\n",
    "\n",
    "the compressed equivalent (based on the dataset) is:\n",
    "\n",
    "`\"Regulators shut down small Florida bank\"`.\n",
    "\n",
    "\n",
    "For more information you can read the original paper (from Google) [here](https://aclanthology.org/D13-1155.pdf). We strongly recommend going over the paper to gain further insights. Notice that the paper is from 2013, therefore word embeddings have not been widely introduced yet in NLP tasks, meaning that the methods applied were based on the traditional NLP pipeline (feature extraction + ML)."
   ]
  },
  {
   "cell_type": "markdown",
   "metadata": {
    "collapsed": false,
    "id": "ztJX2GRVpSOF",
    "pycharm": {
     "name": "#%% md\n"
    }
   },
   "source": [
    "### 1.1 Loading the Dataset\n",
    "\n",
    "The dataset will be loaded as a Pandas DataFrame. This may take a few minutes because of the large size of the data.\n",
    "\n",
    "Make sure to inspect the dataset and make sure it is imported properly."
   ]
  },
  {
   "cell_type": "code",
   "metadata": {
    "id": "tay2NXPTpSOG",
    "pycharm": {
     "name": "#%%\n"
    },
    "ExecuteTime": {
     "end_time": "2025-04-19T20:45:02.411344Z",
     "start_time": "2025-04-19T20:44:59.661828Z"
    }
   },
   "source": [
    "ds = datasets.load_dataset('embedding-data/sentence-compression')\n",
    "print(ds)"
   ],
   "outputs": [
    {
     "name": "stdout",
     "output_type": "stream",
     "text": [
      "DatasetDict({\n",
      "    train: Dataset({\n",
      "        features: ['set'],\n",
      "        num_rows: 180000\n",
      "    })\n",
      "})\n"
     ]
    }
   ],
   "execution_count": 4
  },
  {
   "cell_type": "code",
   "metadata": {
    "id": "bUud3eZVpSOH",
    "pycharm": {
     "name": "#%%\n"
    },
    "ExecuteTime": {
     "end_time": "2025-04-19T20:45:02.456534Z",
     "start_time": "2025-04-19T20:45:02.449916Z"
    }
   },
   "source": [
    "for i in range(10):\n",
    "    print(ds['train'][i])"
   ],
   "outputs": [
    {
     "name": "stdout",
     "output_type": "stream",
     "text": [
      "{'set': [\"The USHL completed an expansion draft on Monday as 10 players who were on the rosters of USHL teams during the 2009-10 season were selected by the League's two newest entries, the Muskegon Lumberjacks and Dubuque Fighting Saints.\", 'USHL completes expansion draft']}\n",
      "{'set': ['Major League Baseball Commissioner Bud Selig will be speaking at St. Norbert College next month.', 'Bud Selig to speak at St. Norbert College']}\n",
      "{'set': [\"It's fresh cherry time in Michigan and the best time to enjoy this delicious and nutritious fruit.\", \"It's cherry time\"]}\n",
      "{'set': ['An Evesham man is facing charges in Pennsylvania after he allegedly dragged his girlfriend from the side of his pickup truck on the campus of Kutztown University in the early morning hours of Dec. 5, police said.', 'Evesham man faces charges for Pa.']}\n",
      "{'set': [\"NRT LLC, one of the nation's largest residential real estate brokerage companies, announced several executive appointments within its Coldwell Banker Residential Brokerage operations in Southern California.\", 'NRT announces executive appointments at its Coldwell Banker operations in Southern California']}\n",
      "{'set': ['THE JSE kept toying with an all time high by midday today as resources continued to fuel the bourse.', 'JSE keeps toying with all time high']}\n",
      "{'set': ['The government is defending the latest police crime statistics despite a worrying rise in the recorded amount of violent offending.', 'Government defends crime statistics']}\n",
      "{'set': ['The renovated Marappalam bridge, which had been opened for two-wheelers last week, was opened for other vehicles also on Friday.', 'Marappalam bridge opened']}\n",
      "{'set': ['A new survey shows 30 percent of Californians use Twitter, and more and more of us are using our smart phones to go online.', 'Survey: 30 percent of Californians use Twitter']}\n",
      "{'set': ['Brightpoint ,a provider of logistic services to the mobile industry, has started operations in the Turkish market.', 'Brightpoint starts operations on Turkish market']}\n"
     ]
    }
   ],
   "execution_count": 5
  },
  {
   "cell_type": "markdown",
   "metadata": {
    "collapsed": false,
    "id": "HfJSiWxrpSOH",
    "pycharm": {
     "name": "#%% md\n"
    }
   },
   "source": [
    "The dataset comes with only the `train` split so we will have to split it ourselves."
   ]
  },
  {
   "cell_type": "code",
   "metadata": {
    "id": "tATL53MWpSOH",
    "pycharm": {
     "name": "#%%\n"
    },
    "ExecuteTime": {
     "end_time": "2025-04-19T20:45:02.581688Z",
     "start_time": "2025-04-19T20:45:02.504949Z"
    }
   },
   "source": [
    "split_ds = ds['train'].train_test_split(test_size=0.2)\n",
    "print(split_ds)"
   ],
   "outputs": [
    {
     "name": "stdout",
     "output_type": "stream",
     "text": [
      "DatasetDict({\n",
      "    train: Dataset({\n",
      "        features: ['set'],\n",
      "        num_rows: 144000\n",
      "    })\n",
      "    test: Dataset({\n",
      "        features: ['set'],\n",
      "        num_rows: 36000\n",
      "    })\n",
      "})\n"
     ]
    }
   ],
   "execution_count": 6
  },
  {
   "cell_type": "markdown",
   "metadata": {
    "collapsed": false,
    "id": "L133t3CqpSOH",
    "pycharm": {
     "name": "#%% md\n"
    }
   },
   "source": [
    "### 1.2 Preprocessing the dataset\n",
    "In this section we will prepare the dataset, aka clean the sentences and tokenize.\n",
    "\n",
    "First, let's write the function to clean the text. It can be similar to the one from the previous lab (Lab1) but make sure that it makes sense for this dataset and task.\n",
    "\n",
    "More specifically, think about lower-casing, punctuation, stop-words and lemmatization/stemming and the impact it might have on the dataset. Also reflect on the fact that with word embeddings we want to uncover semantic relationships between words, whereas with bag-of-words we were trying to capture different morphological variations."
   ]
  },
  {
   "cell_type": "markdown",
   "metadata": {
    "collapsed": false,
    "id": "mQszN6GNpSOH",
    "pycharm": {
     "name": "#%% md\n"
    }
   },
   "source": [
    "<a name='e1'></a>\n",
    "### Exercise 1: Clean function\n",
    "(1p) Fill in the following function ot clean the dataset. Implement at least 3 different steps."
   ]
  },
  {
   "cell_type": "code",
   "metadata": {
    "id": "TxjfLQj6pSOH",
    "pycharm": {
     "name": "#%%\n"
    },
    "ExecuteTime": {
     "end_time": "2025-04-19T20:45:02.603078Z",
     "start_time": "2025-04-19T20:45:02.598835Z"
    }
   },
   "source": [
    "def clean(text):\n",
    "    \"\"\"\n",
    "    Cleans the given text\n",
    "    Args:\n",
    "        text: a str with the text to clean\n",
    "\n",
    "    Returns: a str with the cleaned text\n",
    "\n",
    "    \"\"\"\n",
    "\n",
    "    # Empty text\n",
    "    if text == '':\n",
    "        return text\n",
    "\n",
    "    # 'text' from the example can be of type numpy.str_, let's convert it to a python str\n",
    "    text = str(text)\n",
    "\n",
    "    #you might need more\n",
    "    #add them here\n",
    "\n",
    "    ### YOUR CODE HERE\n",
    "    #First we make everything lowercase:\n",
    "    text = text.lower()\n",
    "    # Then we need regex to convert special characters, but keep alphanumeric and whitespace\n",
    "    # Regex was written with the help of copilot\n",
    "    text = re.sub(r'[^\\w\\s]', ' ', text)\n",
    "    # Then we need to replace multiple spaces with a single space:\n",
    "    text = re.sub(r'\\s+', ' ', text)\n",
    "\n",
    "\n",
    "\n",
    "\n",
    "\n",
    "    ### YOUR CODE ENDS HERE\n",
    "\n",
    "    text = text.strip()\n",
    "\n",
    "    # Update the example with the cleaned text\n",
    "    return text"
   ],
   "outputs": [],
   "execution_count": 7
  },
  {
   "cell_type": "markdown",
   "metadata": {
    "collapsed": false,
    "id": "gAqf1AoupSOJ",
    "pycharm": {
     "name": "#%% md\n"
    }
   },
   "source": [
    "The following function will apply the function (sic) you just wrote to the whole dataset. More specifically, it takes the first entry (`sentence`) from the set of uncompressed/compressed pairs, applies the `clean` function and saves the processed sentence in the field `clean_sentence`. The same is dome for the compressed version of the sentence (saved as `clean_compressed`)."
   ]
  },
  {
   "cell_type": "code",
   "metadata": {
    "id": "WZn-M4_vpSOJ",
    "pycharm": {
     "name": "#%%\n"
    },
    "ExecuteTime": {
     "end_time": "2025-04-19T20:45:02.626562Z",
     "start_time": "2025-04-19T20:45:02.622921Z"
    }
   },
   "source": [
    "def clean_dataset(example):\n",
    "    \"\"\"\n",
    "    Cleans the sentence and compressed sentence in the example from the Dataset\n",
    "    Args:\n",
    "        example: an example from the Dataset\n",
    "\n",
    "    Returns: updated example with 'clean_sentence' and 'clean_compressed' cleaned\n",
    "\n",
    "    \"\"\"\n",
    "    sentence, compressed = example['set']\n",
    "    clean_sentence = clean(sentence)\n",
    "    clean_compressed = clean(compressed)\n",
    "    example['clean_sentence'] = clean_sentence\n",
    "    example['clean_compressed'] = clean_compressed\n",
    "    return example"
   ],
   "outputs": [],
   "execution_count": 8
  },
  {
   "cell_type": "markdown",
   "metadata": {
    "collapsed": false,
    "id": "_KVujosKpSOJ",
    "pycharm": {
     "name": "#%% md\n"
    }
   },
   "source": [
    "Below we apply the function to the whole dataset (using `map`) and we can also inspect the result."
   ]
  },
  {
   "cell_type": "code",
   "metadata": {
    "id": "NBS1JbISpSOJ",
    "pycharm": {
     "name": "#%%\n"
    },
    "ExecuteTime": {
     "end_time": "2025-04-19T20:45:17.055869Z",
     "start_time": "2025-04-19T20:45:02.647673Z"
    }
   },
   "source": [
    "split_ds = split_ds.map(clean_dataset)\n",
    "print(split_ds)"
   ],
   "outputs": [
    {
     "data": {
      "text/plain": [
       "Map:   0%|          | 0/144000 [00:00<?, ? examples/s]"
      ],
      "application/vnd.jupyter.widget-view+json": {
       "version_major": 2,
       "version_minor": 0,
       "model_id": "9955982d78074983878944859aa26d2a"
      }
     },
     "metadata": {},
     "output_type": "display_data"
    },
    {
     "data": {
      "text/plain": [
       "Map:   0%|          | 0/36000 [00:00<?, ? examples/s]"
      ],
      "application/vnd.jupyter.widget-view+json": {
       "version_major": 2,
       "version_minor": 0,
       "model_id": "dd76492f62fc48a28f3db562a402d893"
      }
     },
     "metadata": {},
     "output_type": "display_data"
    },
    {
     "name": "stdout",
     "output_type": "stream",
     "text": [
      "DatasetDict({\n",
      "    train: Dataset({\n",
      "        features: ['set', 'clean_sentence', 'clean_compressed'],\n",
      "        num_rows: 144000\n",
      "    })\n",
      "    test: Dataset({\n",
      "        features: ['set', 'clean_sentence', 'clean_compressed'],\n",
      "        num_rows: 36000\n",
      "    })\n",
      "})\n"
     ]
    }
   ],
   "execution_count": 9
  },
  {
   "cell_type": "markdown",
   "metadata": {
    "collapsed": false,
    "id": "X_ThE9H-pSOJ",
    "pycharm": {
     "name": "#%% md\n"
    }
   },
   "source": [
    "Let's examine some examples from the dataset and make sure that we got the results we wanted. At this step, it might be necessary to revisit some pre-processing steps if you are not happy with the results."
   ]
  },
  {
   "cell_type": "code",
   "metadata": {
    "id": "hP-qOPijpSOJ",
    "pycharm": {
     "name": "#%%\n"
    },
    "ExecuteTime": {
     "end_time": "2025-04-19T20:45:17.089623Z",
     "start_time": "2025-04-19T20:45:17.085240Z"
    }
   },
   "source": [
    "for i in range(10):\n",
    "    print(split_ds['train'][i])"
   ],
   "outputs": [
    {
     "name": "stdout",
     "output_type": "stream",
     "text": [
      "{'set': ['THE final winner of the family pass to the Grafton Show is the Whitty Family of Grafton.', 'And the final winner is...'], 'clean_sentence': 'the final winner of the family pass to the grafton show is the whitty family of grafton', 'clean_compressed': 'and the final winner is'}\n",
      "{'set': ['PTC Alliance, a leading manufacturer and marketer of welded and cold drawn mechanical steel tubing and tubular shapes, fabricated parts, precision components and chrome-plated rod, announced today that employees at its facilities in Alliance, Ohio and Darlington, Pennsylvania have ratified new collective bargaining agreements.', 'PTC Alliance employees ratify new collective bargaining agreements'], 'clean_sentence': 'ptc alliance a leading manufacturer and marketer of welded and cold drawn mechanical steel tubing and tubular shapes fabricated parts precision components and chrome plated rod announced today that employees at its facilities in alliance ohio and darlington pennsylvania have ratified new collective bargaining agreements', 'clean_compressed': 'ptc alliance employees ratify new collective bargaining agreements'}\n",
      "{'set': [\"London, Dec 14 Indian-origin Baroness Shriti Vadera, Britain''s former minister for economic competitiveness and international development, is set to take over her first non-executive role at BHP Billiton, one of the world''s biggest mining firms, from where she will earn USD 154,000 a year.\", 'Vadera to take over non-executive role at BHP Billiton'], 'clean_sentence': 'london dec 14 indian origin baroness shriti vadera britain s former minister for economic competitiveness and international development is set to take over her first non executive role at bhp billiton one of the world s biggest mining firms from where she will earn usd 154 000 a year', 'clean_compressed': 'vadera to take over non executive role at bhp billiton'}\n",
      "{'set': ['Siri is down for users around the country, hard, with no ETA or fix in sight.', 'Siri is down for users around the country'], 'clean_sentence': 'siri is down for users around the country hard with no eta or fix in sight', 'clean_compressed': 'siri is down for users around the country'}\n",
      "{'set': [\"Mohammad Akram, Pakistan's new bowling coach, is all praise for his predecessor, Aaqib Javed, who he thinks, helped develop the skills of the young fast bowlers in the country and vows to continue the good work done by the former Test cricketer.\", 'Mohammad Akram all praise for Aaqib Javed --'], 'clean_sentence': 'mohammad akram pakistan s new bowling coach is all praise for his predecessor aaqib javed who he thinks helped develop the skills of the young fast bowlers in the country and vows to continue the good work done by the former test cricketer', 'clean_compressed': 'mohammad akram all praise for aaqib javed'}\n",
      "{'set': ['With the 53-man roster limit deadline looming on Saturday, the Patriots got a head start on roster cuts on Friday afternoon, releasing eight players.', 'Patriots release eight players'], 'clean_sentence': 'with the 53 man roster limit deadline looming on saturday the patriots got a head start on roster cuts on friday afternoon releasing eight players', 'clean_compressed': 'patriots release eight players'}\n",
      "{'set': ['Researchers from the Faculty of Science and Technology at the University of the Basque Country, in collaboration with scientists from the Consejo Superior de Investigaciones Científicas and the Universidad Complutense de Madrid have developed a new laser material which improves the use of light in biophotonics, making it more efficient and longer lasting by incorporating dye molecules.', 'Researchers develop a new laser material which improves the use of light in biophotonics'], 'clean_sentence': 'researchers from the faculty of science and technology at the university of the basque country in collaboration with scientists from the consejo superior de investigaciones científicas and the universidad complutense de madrid have developed a new laser material which improves the use of light in biophotonics making it more efficient and longer lasting by incorporating dye molecules', 'clean_compressed': 'researchers develop a new laser material which improves the use of light in biophotonics'}\n",
      "{'set': [\"India's Supreme Court ruled on Thursday that two Italian marines accused of killing a pair of fishermen off the coast of India last year will be tried in a special court to be set up by the government.\", 'Marines to be tried in special court'], 'clean_sentence': 'india s supreme court ruled on thursday that two italian marines accused of killing a pair of fishermen off the coast of india last year will be tried in a special court to be set up by the government', 'clean_compressed': 'marines to be tried in special court'}\n",
      "{'set': [\"A girl was shot dead on her 13th birthday allegedly by her mother's boyfriend in Krugersdorp, police said today.\", 'Girl shot dead on her 13th birthday'], 'clean_sentence': 'a girl was shot dead on her 13th birthday allegedly by her mother s boyfriend in krugersdorp police said today', 'clean_compressed': 'girl shot dead on her 13th birthday'}\n",
      "{'set': ['A DUO took and crashed a car that did not belong to them, a court has heard.', 'DUO took and crashed car'], 'clean_sentence': 'a duo took and crashed a car that did not belong to them a court has heard', 'clean_compressed': 'duo took and crashed car'}\n"
     ]
    }
   ],
   "execution_count": 10
  },
  {
   "cell_type": "markdown",
   "metadata": {
    "collapsed": false,
    "id": "7LI2KlfypSOJ",
    "pycharm": {
     "name": "#%% md\n"
    }
   },
   "source": [
    "<a name='e2'></a>\n",
    "### Exercise 2: Tokenize function\n",
    "\n",
    "(1p) As always, we will need to tokenize the dataset in order to create bat-of-words and TF-IDF representations in the next sections. We will use the [Natural Language Toolkit (NLTK) library]([https://www.nltk.org/]) (https://www.nltk.org/). Complete the following function to split the text into tokens using the `word_tokenize()` function. Check the [documentation](https://www.nltk.org/api/nltk.tokenize.word_tokenize.html?highlight=word_tokenize) first.\n",
    "Note that there are different tokenizers e.g. `RegexpTokenizer` where you can enter your own regexp, `WhitespaceTokenizer` (similar to Python's string.split()) and `BlanklineTokenizer`."
   ]
  },
  {
   "cell_type": "code",
   "metadata": {
    "id": "sb-M3V6ApSOK",
    "pycharm": {
     "name": "#%%\n"
    },
    "ExecuteTime": {
     "end_time": "2025-04-19T20:45:17.141145Z",
     "start_time": "2025-04-19T20:45:17.137644Z"
    }
   },
   "source": [
    "def tokenize(text):\n",
    "    \"\"\"\n",
    "    Tokenizes the `text` parameter using nltk library\n",
    "    Args:\n",
    "        text: a string representing a sentence to be tokenized\n",
    "\n",
    "    Returns: a list of tokens (strings)\n",
    "\n",
    "    \"\"\"\n",
    "\n",
    "    ### YOUR CODE HERE\n",
    "    # Here we can simply call the word_tokenize function from nltk tokenize:\n",
    "    from nltk.tokenize import word_tokenize\n",
    "    # And tokenize out input:\n",
    "    tokens = word_tokenize(text)\n",
    "    ### YOUR CODE ENDS HERE\n",
    "    return tokens"
   ],
   "outputs": [],
   "execution_count": 11
  },
  {
   "cell_type": "markdown",
   "metadata": {
    "collapsed": false,
    "id": "gwsHqZc9pSOK",
    "pycharm": {
     "name": "#%% md\n"
    }
   },
   "source": [
    "Next, the function will be applied to the whole dataset (as we did with the pre-processing) and `sentence_tokens` field will be created to store the result."
   ]
  },
  {
   "cell_type": "code",
   "metadata": {
    "id": "6sTX-AcTpSOK",
    "pycharm": {
     "name": "#%%\n"
    },
    "ExecuteTime": {
     "end_time": "2025-04-19T20:45:17.156025Z",
     "start_time": "2025-04-19T20:45:17.147155Z"
    }
   },
   "source": [
    "def tokenize_dataset(example):\n",
    "    \"\"\"\n",
    "    Tokenizes 'clean_sentence' columns in the example from the Dataset\n",
    "    Args:\n",
    "        example: an example from the Dataset\n",
    "\n",
    "    Returns: updated example with 'sentence_tokens' columns\n",
    "\n",
    "    \"\"\"\n",
    "    example['sentence_tokens'] = tokenize(example['clean_sentence'])\n",
    "    example['compressed_tokens'] = tokenize(example['clean_compressed'])\n",
    "    return example"
   ],
   "outputs": [],
   "execution_count": 12
  },
  {
   "cell_type": "code",
   "metadata": {
    "id": "jvwmXLj2pSOK",
    "pycharm": {
     "name": "#%%\n"
    },
    "ExecuteTime": {
     "end_time": "2025-04-19T20:45:46.917027Z",
     "start_time": "2025-04-19T20:45:17.182032Z"
    }
   },
   "source": [
    "split_ds = split_ds.map(tokenize_dataset)"
   ],
   "outputs": [
    {
     "data": {
      "text/plain": [
       "Map:   0%|          | 0/144000 [00:00<?, ? examples/s]"
      ],
      "application/vnd.jupyter.widget-view+json": {
       "version_major": 2,
       "version_minor": 0,
       "model_id": "fbfa302eff7f4060881bd6e6c01df7d8"
      }
     },
     "metadata": {},
     "output_type": "display_data"
    },
    {
     "data": {
      "text/plain": [
       "Map:   0%|          | 0/36000 [00:00<?, ? examples/s]"
      ],
      "application/vnd.jupyter.widget-view+json": {
       "version_major": 2,
       "version_minor": 0,
       "model_id": "34ec2ff3ad974b40bb014b0e6c476c4e"
      }
     },
     "metadata": {},
     "output_type": "display_data"
    }
   ],
   "execution_count": 13
  },
  {
   "cell_type": "code",
   "metadata": {
    "id": "yXnje31SpSOK",
    "pycharm": {
     "name": "#%%\n"
    },
    "ExecuteTime": {
     "end_time": "2025-04-19T20:45:46.940132Z",
     "start_time": "2025-04-19T20:45:46.934617Z"
    }
   },
   "source": [
    "for i in range(10):\n",
    "    print(split_ds['train'][i])"
   ],
   "outputs": [
    {
     "name": "stdout",
     "output_type": "stream",
     "text": [
      "{'set': ['THE final winner of the family pass to the Grafton Show is the Whitty Family of Grafton.', 'And the final winner is...'], 'clean_sentence': 'the final winner of the family pass to the grafton show is the whitty family of grafton', 'clean_compressed': 'and the final winner is', 'sentence_tokens': ['the', 'final', 'winner', 'of', 'the', 'family', 'pass', 'to', 'the', 'grafton', 'show', 'is', 'the', 'whitty', 'family', 'of', 'grafton'], 'compressed_tokens': ['and', 'the', 'final', 'winner', 'is']}\n",
      "{'set': ['PTC Alliance, a leading manufacturer and marketer of welded and cold drawn mechanical steel tubing and tubular shapes, fabricated parts, precision components and chrome-plated rod, announced today that employees at its facilities in Alliance, Ohio and Darlington, Pennsylvania have ratified new collective bargaining agreements.', 'PTC Alliance employees ratify new collective bargaining agreements'], 'clean_sentence': 'ptc alliance a leading manufacturer and marketer of welded and cold drawn mechanical steel tubing and tubular shapes fabricated parts precision components and chrome plated rod announced today that employees at its facilities in alliance ohio and darlington pennsylvania have ratified new collective bargaining agreements', 'clean_compressed': 'ptc alliance employees ratify new collective bargaining agreements', 'sentence_tokens': ['ptc', 'alliance', 'a', 'leading', 'manufacturer', 'and', 'marketer', 'of', 'welded', 'and', 'cold', 'drawn', 'mechanical', 'steel', 'tubing', 'and', 'tubular', 'shapes', 'fabricated', 'parts', 'precision', 'components', 'and', 'chrome', 'plated', 'rod', 'announced', 'today', 'that', 'employees', 'at', 'its', 'facilities', 'in', 'alliance', 'ohio', 'and', 'darlington', 'pennsylvania', 'have', 'ratified', 'new', 'collective', 'bargaining', 'agreements'], 'compressed_tokens': ['ptc', 'alliance', 'employees', 'ratify', 'new', 'collective', 'bargaining', 'agreements']}\n",
      "{'set': [\"London, Dec 14 Indian-origin Baroness Shriti Vadera, Britain''s former minister for economic competitiveness and international development, is set to take over her first non-executive role at BHP Billiton, one of the world''s biggest mining firms, from where she will earn USD 154,000 a year.\", 'Vadera to take over non-executive role at BHP Billiton'], 'clean_sentence': 'london dec 14 indian origin baroness shriti vadera britain s former minister for economic competitiveness and international development is set to take over her first non executive role at bhp billiton one of the world s biggest mining firms from where she will earn usd 154 000 a year', 'clean_compressed': 'vadera to take over non executive role at bhp billiton', 'sentence_tokens': ['london', 'dec', '14', 'indian', 'origin', 'baroness', 'shriti', 'vadera', 'britain', 's', 'former', 'minister', 'for', 'economic', 'competitiveness', 'and', 'international', 'development', 'is', 'set', 'to', 'take', 'over', 'her', 'first', 'non', 'executive', 'role', 'at', 'bhp', 'billiton', 'one', 'of', 'the', 'world', 's', 'biggest', 'mining', 'firms', 'from', 'where', 'she', 'will', 'earn', 'usd', '154', '000', 'a', 'year'], 'compressed_tokens': ['vadera', 'to', 'take', 'over', 'non', 'executive', 'role', 'at', 'bhp', 'billiton']}\n",
      "{'set': ['Siri is down for users around the country, hard, with no ETA or fix in sight.', 'Siri is down for users around the country'], 'clean_sentence': 'siri is down for users around the country hard with no eta or fix in sight', 'clean_compressed': 'siri is down for users around the country', 'sentence_tokens': ['siri', 'is', 'down', 'for', 'users', 'around', 'the', 'country', 'hard', 'with', 'no', 'eta', 'or', 'fix', 'in', 'sight'], 'compressed_tokens': ['siri', 'is', 'down', 'for', 'users', 'around', 'the', 'country']}\n",
      "{'set': [\"Mohammad Akram, Pakistan's new bowling coach, is all praise for his predecessor, Aaqib Javed, who he thinks, helped develop the skills of the young fast bowlers in the country and vows to continue the good work done by the former Test cricketer.\", 'Mohammad Akram all praise for Aaqib Javed --'], 'clean_sentence': 'mohammad akram pakistan s new bowling coach is all praise for his predecessor aaqib javed who he thinks helped develop the skills of the young fast bowlers in the country and vows to continue the good work done by the former test cricketer', 'clean_compressed': 'mohammad akram all praise for aaqib javed', 'sentence_tokens': ['mohammad', 'akram', 'pakistan', 's', 'new', 'bowling', 'coach', 'is', 'all', 'praise', 'for', 'his', 'predecessor', 'aaqib', 'javed', 'who', 'he', 'thinks', 'helped', 'develop', 'the', 'skills', 'of', 'the', 'young', 'fast', 'bowlers', 'in', 'the', 'country', 'and', 'vows', 'to', 'continue', 'the', 'good', 'work', 'done', 'by', 'the', 'former', 'test', 'cricketer'], 'compressed_tokens': ['mohammad', 'akram', 'all', 'praise', 'for', 'aaqib', 'javed']}\n",
      "{'set': ['With the 53-man roster limit deadline looming on Saturday, the Patriots got a head start on roster cuts on Friday afternoon, releasing eight players.', 'Patriots release eight players'], 'clean_sentence': 'with the 53 man roster limit deadline looming on saturday the patriots got a head start on roster cuts on friday afternoon releasing eight players', 'clean_compressed': 'patriots release eight players', 'sentence_tokens': ['with', 'the', '53', 'man', 'roster', 'limit', 'deadline', 'looming', 'on', 'saturday', 'the', 'patriots', 'got', 'a', 'head', 'start', 'on', 'roster', 'cuts', 'on', 'friday', 'afternoon', 'releasing', 'eight', 'players'], 'compressed_tokens': ['patriots', 'release', 'eight', 'players']}\n",
      "{'set': ['Researchers from the Faculty of Science and Technology at the University of the Basque Country, in collaboration with scientists from the Consejo Superior de Investigaciones Científicas and the Universidad Complutense de Madrid have developed a new laser material which improves the use of light in biophotonics, making it more efficient and longer lasting by incorporating dye molecules.', 'Researchers develop a new laser material which improves the use of light in biophotonics'], 'clean_sentence': 'researchers from the faculty of science and technology at the university of the basque country in collaboration with scientists from the consejo superior de investigaciones científicas and the universidad complutense de madrid have developed a new laser material which improves the use of light in biophotonics making it more efficient and longer lasting by incorporating dye molecules', 'clean_compressed': 'researchers develop a new laser material which improves the use of light in biophotonics', 'sentence_tokens': ['researchers', 'from', 'the', 'faculty', 'of', 'science', 'and', 'technology', 'at', 'the', 'university', 'of', 'the', 'basque', 'country', 'in', 'collaboration', 'with', 'scientists', 'from', 'the', 'consejo', 'superior', 'de', 'investigaciones', 'científicas', 'and', 'the', 'universidad', 'complutense', 'de', 'madrid', 'have', 'developed', 'a', 'new', 'laser', 'material', 'which', 'improves', 'the', 'use', 'of', 'light', 'in', 'biophotonics', 'making', 'it', 'more', 'efficient', 'and', 'longer', 'lasting', 'by', 'incorporating', 'dye', 'molecules'], 'compressed_tokens': ['researchers', 'develop', 'a', 'new', 'laser', 'material', 'which', 'improves', 'the', 'use', 'of', 'light', 'in', 'biophotonics']}\n",
      "{'set': [\"India's Supreme Court ruled on Thursday that two Italian marines accused of killing a pair of fishermen off the coast of India last year will be tried in a special court to be set up by the government.\", 'Marines to be tried in special court'], 'clean_sentence': 'india s supreme court ruled on thursday that two italian marines accused of killing a pair of fishermen off the coast of india last year will be tried in a special court to be set up by the government', 'clean_compressed': 'marines to be tried in special court', 'sentence_tokens': ['india', 's', 'supreme', 'court', 'ruled', 'on', 'thursday', 'that', 'two', 'italian', 'marines', 'accused', 'of', 'killing', 'a', 'pair', 'of', 'fishermen', 'off', 'the', 'coast', 'of', 'india', 'last', 'year', 'will', 'be', 'tried', 'in', 'a', 'special', 'court', 'to', 'be', 'set', 'up', 'by', 'the', 'government'], 'compressed_tokens': ['marines', 'to', 'be', 'tried', 'in', 'special', 'court']}\n",
      "{'set': [\"A girl was shot dead on her 13th birthday allegedly by her mother's boyfriend in Krugersdorp, police said today.\", 'Girl shot dead on her 13th birthday'], 'clean_sentence': 'a girl was shot dead on her 13th birthday allegedly by her mother s boyfriend in krugersdorp police said today', 'clean_compressed': 'girl shot dead on her 13th birthday', 'sentence_tokens': ['a', 'girl', 'was', 'shot', 'dead', 'on', 'her', '13th', 'birthday', 'allegedly', 'by', 'her', 'mother', 's', 'boyfriend', 'in', 'krugersdorp', 'police', 'said', 'today'], 'compressed_tokens': ['girl', 'shot', 'dead', 'on', 'her', '13th', 'birthday']}\n",
      "{'set': ['A DUO took and crashed a car that did not belong to them, a court has heard.', 'DUO took and crashed car'], 'clean_sentence': 'a duo took and crashed a car that did not belong to them a court has heard', 'clean_compressed': 'duo took and crashed car', 'sentence_tokens': ['a', 'duo', 'took', 'and', 'crashed', 'a', 'car', 'that', 'did', 'not', 'belong', 'to', 'them', 'a', 'court', 'has', 'heard'], 'compressed_tokens': ['duo', 'took', 'and', 'crashed', 'car']}\n"
     ]
    }
   ],
   "execution_count": 14
  },
  {
   "cell_type": "markdown",
   "metadata": {
    "collapsed": false,
    "id": "FeF0wFd0pSOL",
    "pycharm": {
     "name": "#%% md\n"
    }
   },
   "source": [
    "Since we will need the tokenized sentences, we can use the following statement to extract them from the `train` split of our dataset."
   ]
  },
  {
   "cell_type": "code",
   "metadata": {
    "id": "qYKfXFxQpSOL",
    "pycharm": {
     "name": "#%%\n"
    },
    "ExecuteTime": {
     "end_time": "2025-04-19T20:45:50.469655Z",
     "start_time": "2025-04-19T20:45:46.976075Z"
    }
   },
   "source": [
    "tokenized_sentences = split_ds['train']['sentence_tokens']\n",
    "print(len(tokenized_sentences))\n",
    "print(tokenized_sentences[:10])"
   ],
   "outputs": [
    {
     "name": "stdout",
     "output_type": "stream",
     "text": [
      "144000\n",
      "[['the', 'final', 'winner', 'of', 'the', 'family', 'pass', 'to', 'the', 'grafton', 'show', 'is', 'the', 'whitty', 'family', 'of', 'grafton'], ['ptc', 'alliance', 'a', 'leading', 'manufacturer', 'and', 'marketer', 'of', 'welded', 'and', 'cold', 'drawn', 'mechanical', 'steel', 'tubing', 'and', 'tubular', 'shapes', 'fabricated', 'parts', 'precision', 'components', 'and', 'chrome', 'plated', 'rod', 'announced', 'today', 'that', 'employees', 'at', 'its', 'facilities', 'in', 'alliance', 'ohio', 'and', 'darlington', 'pennsylvania', 'have', 'ratified', 'new', 'collective', 'bargaining', 'agreements'], ['london', 'dec', '14', 'indian', 'origin', 'baroness', 'shriti', 'vadera', 'britain', 's', 'former', 'minister', 'for', 'economic', 'competitiveness', 'and', 'international', 'development', 'is', 'set', 'to', 'take', 'over', 'her', 'first', 'non', 'executive', 'role', 'at', 'bhp', 'billiton', 'one', 'of', 'the', 'world', 's', 'biggest', 'mining', 'firms', 'from', 'where', 'she', 'will', 'earn', 'usd', '154', '000', 'a', 'year'], ['siri', 'is', 'down', 'for', 'users', 'around', 'the', 'country', 'hard', 'with', 'no', 'eta', 'or', 'fix', 'in', 'sight'], ['mohammad', 'akram', 'pakistan', 's', 'new', 'bowling', 'coach', 'is', 'all', 'praise', 'for', 'his', 'predecessor', 'aaqib', 'javed', 'who', 'he', 'thinks', 'helped', 'develop', 'the', 'skills', 'of', 'the', 'young', 'fast', 'bowlers', 'in', 'the', 'country', 'and', 'vows', 'to', 'continue', 'the', 'good', 'work', 'done', 'by', 'the', 'former', 'test', 'cricketer'], ['with', 'the', '53', 'man', 'roster', 'limit', 'deadline', 'looming', 'on', 'saturday', 'the', 'patriots', 'got', 'a', 'head', 'start', 'on', 'roster', 'cuts', 'on', 'friday', 'afternoon', 'releasing', 'eight', 'players'], ['researchers', 'from', 'the', 'faculty', 'of', 'science', 'and', 'technology', 'at', 'the', 'university', 'of', 'the', 'basque', 'country', 'in', 'collaboration', 'with', 'scientists', 'from', 'the', 'consejo', 'superior', 'de', 'investigaciones', 'científicas', 'and', 'the', 'universidad', 'complutense', 'de', 'madrid', 'have', 'developed', 'a', 'new', 'laser', 'material', 'which', 'improves', 'the', 'use', 'of', 'light', 'in', 'biophotonics', 'making', 'it', 'more', 'efficient', 'and', 'longer', 'lasting', 'by', 'incorporating', 'dye', 'molecules'], ['india', 's', 'supreme', 'court', 'ruled', 'on', 'thursday', 'that', 'two', 'italian', 'marines', 'accused', 'of', 'killing', 'a', 'pair', 'of', 'fishermen', 'off', 'the', 'coast', 'of', 'india', 'last', 'year', 'will', 'be', 'tried', 'in', 'a', 'special', 'court', 'to', 'be', 'set', 'up', 'by', 'the', 'government'], ['a', 'girl', 'was', 'shot', 'dead', 'on', 'her', '13th', 'birthday', 'allegedly', 'by', 'her', 'mother', 's', 'boyfriend', 'in', 'krugersdorp', 'police', 'said', 'today'], ['a', 'duo', 'took', 'and', 'crashed', 'a', 'car', 'that', 'did', 'not', 'belong', 'to', 'them', 'a', 'court', 'has', 'heard']]\n"
     ]
    }
   ],
   "execution_count": 15
  },
  {
   "cell_type": "code",
   "source": [
    "tokenized_compressed = split_ds['train']['compressed_tokens']\n",
    "print(len(tokenized_compressed))\n",
    "print(tokenized_compressed[:10])"
   ],
   "metadata": {
    "collapsed": false,
    "pycharm": {
     "name": "#%%\n"
    },
    "ExecuteTime": {
     "end_time": "2025-04-19T20:45:51.898277Z",
     "start_time": "2025-04-19T20:45:50.500608Z"
    }
   },
   "outputs": [
    {
     "name": "stdout",
     "output_type": "stream",
     "text": [
      "144000\n",
      "[['and', 'the', 'final', 'winner', 'is'], ['ptc', 'alliance', 'employees', 'ratify', 'new', 'collective', 'bargaining', 'agreements'], ['vadera', 'to', 'take', 'over', 'non', 'executive', 'role', 'at', 'bhp', 'billiton'], ['siri', 'is', 'down', 'for', 'users', 'around', 'the', 'country'], ['mohammad', 'akram', 'all', 'praise', 'for', 'aaqib', 'javed'], ['patriots', 'release', 'eight', 'players'], ['researchers', 'develop', 'a', 'new', 'laser', 'material', 'which', 'improves', 'the', 'use', 'of', 'light', 'in', 'biophotonics'], ['marines', 'to', 'be', 'tried', 'in', 'special', 'court'], ['girl', 'shot', 'dead', 'on', 'her', '13th', 'birthday'], ['duo', 'took', 'and', 'crashed', 'car']]\n"
     ]
    }
   ],
   "execution_count": 16
  },
  {
   "cell_type": "markdown",
   "metadata": {
    "id": "ZDGwEiZeCA5U",
    "pycharm": {
     "name": "#%% md\n"
    }
   },
   "source": [
    "Notice the difference in the types of the different structures we use. Run the following cell to check the types. Do they make sense to you?"
   ]
  },
  {
   "cell_type": "code",
   "metadata": {
    "id": "wKrkFmcZCtOd",
    "pycharm": {
     "name": "#%%\n"
    },
    "ExecuteTime": {
     "end_time": "2025-04-19T20:45:59.365671Z",
     "start_time": "2025-04-19T20:45:51.932917Z"
    }
   },
   "source": [
    "#type of original dataset\n",
    "print(type(split_ds))\n",
    "print(\"--\")\n",
    "#type of original sentence\n",
    "print(split_ds['train'][1])\n",
    "print(type(split_ds['train'][1]))\n",
    "print(\"--\")\n",
    "#type of pre-proceesed sentence\n",
    "print(split_ds['train']['clean_sentence'][1])\n",
    "print(type(split_ds['train']['clean_sentence'][1]))\n",
    "print(\"--\")\n",
    "#type of tokenized sentence\n",
    "print(split_ds['train']['sentence_tokens'][1])\n",
    "print(type(split_ds['train']['sentence_tokens'][1]))\n",
    "print(\"--\")"
   ],
   "outputs": [
    {
     "name": "stdout",
     "output_type": "stream",
     "text": [
      "<class 'datasets.dataset_dict.DatasetDict'>\n",
      "--\n",
      "{'set': ['PTC Alliance, a leading manufacturer and marketer of welded and cold drawn mechanical steel tubing and tubular shapes, fabricated parts, precision components and chrome-plated rod, announced today that employees at its facilities in Alliance, Ohio and Darlington, Pennsylvania have ratified new collective bargaining agreements.', 'PTC Alliance employees ratify new collective bargaining agreements'], 'clean_sentence': 'ptc alliance a leading manufacturer and marketer of welded and cold drawn mechanical steel tubing and tubular shapes fabricated parts precision components and chrome plated rod announced today that employees at its facilities in alliance ohio and darlington pennsylvania have ratified new collective bargaining agreements', 'clean_compressed': 'ptc alliance employees ratify new collective bargaining agreements', 'sentence_tokens': ['ptc', 'alliance', 'a', 'leading', 'manufacturer', 'and', 'marketer', 'of', 'welded', 'and', 'cold', 'drawn', 'mechanical', 'steel', 'tubing', 'and', 'tubular', 'shapes', 'fabricated', 'parts', 'precision', 'components', 'and', 'chrome', 'plated', 'rod', 'announced', 'today', 'that', 'employees', 'at', 'its', 'facilities', 'in', 'alliance', 'ohio', 'and', 'darlington', 'pennsylvania', 'have', 'ratified', 'new', 'collective', 'bargaining', 'agreements'], 'compressed_tokens': ['ptc', 'alliance', 'employees', 'ratify', 'new', 'collective', 'bargaining', 'agreements']}\n",
      "<class 'dict'>\n",
      "--\n",
      "ptc alliance a leading manufacturer and marketer of welded and cold drawn mechanical steel tubing and tubular shapes fabricated parts precision components and chrome plated rod announced today that employees at its facilities in alliance ohio and darlington pennsylvania have ratified new collective bargaining agreements\n",
      "<class 'str'>\n",
      "--\n",
      "['ptc', 'alliance', 'a', 'leading', 'manufacturer', 'and', 'marketer', 'of', 'welded', 'and', 'cold', 'drawn', 'mechanical', 'steel', 'tubing', 'and', 'tubular', 'shapes', 'fabricated', 'parts', 'precision', 'components', 'and', 'chrome', 'plated', 'rod', 'announced', 'today', 'that', 'employees', 'at', 'its', 'facilities', 'in', 'alliance', 'ohio', 'and', 'darlington', 'pennsylvania', 'have', 'ratified', 'new', 'collective', 'bargaining', 'agreements']\n",
      "<class 'list'>\n",
      "--\n"
     ]
    }
   ],
   "execution_count": 17
  },
  {
   "cell_type": "markdown",
   "source": [
    "## 2. Bag of Words\n",
    "In this section you will built a bag-of-words representation of the dataset. We will use numpy arrays to store the results. The bag-of-words representation is a simple and effective way to represent text data. It involves creating a vocabulary of unique words from the dataset and representing each sentence as a vector of word counts. We first need the vocabulary, which we will build from both the full sentences and the compressed sentences. Similar to the first lab, the vocabulary will be a list of unique words from the dataset."
   ],
   "metadata": {
    "collapsed": false,
    "pycharm": {
     "name": "#%% md\n"
    }
   }
  },
  {
   "cell_type": "markdown",
   "source": [
    "<a name='e3'></a>\n",
    "### Exercise 3: Extracting vocabulary counts\n",
    "\n",
    "(1p) In the following cell, you will implement a function that takes a list of tokenized sentences and returns a dictionary with the counts of each word in the vocabulary. The dictionary should be of the form {word: count}. As in previous lab, you will use the `Counter` class from the `collections` module to do this."
   ],
   "metadata": {
    "collapsed": false,
    "pycharm": {
     "name": "#%% md\n"
    }
   }
  },
  {
   "cell_type": "code",
   "source": [
    "from collections import Counter\n",
    "\n",
    "\n",
    "def extract_vocabulary_counts(tokenized_sentences):\n",
    "    \"\"\"\n",
    "    Extracts the vocabulary from the tokenized sentences\n",
    "    Args:\n",
    "        tokenized_sentences: a list of lists of tokens\n",
    "\n",
    "    Returns: a Counter object with the counts of each word in the vocabulary\n",
    "    \"\"\"\n",
    "\n",
    "    ### YOUR CODE HERE\n",
    "    # First we initialize our counter:\n",
    "    word_counts = Counter()\n",
    "    # Then we iterate over all tokenized sentences and update the counter accordingly\n",
    "    for sentence in tokenized_sentences:\n",
    "        word_counts.update(sentence)\n",
    "    return word_counts\n",
    "\n",
    "\n",
    "    ### YOUR CODE ENDS HERE"
   ],
   "metadata": {
    "collapsed": false,
    "pycharm": {
     "name": "#%%\n"
    },
    "ExecuteTime": {
     "end_time": "2025-04-19T20:45:59.377297Z",
     "start_time": "2025-04-19T20:45:59.374122Z"
    }
   },
   "outputs": [],
   "execution_count": 18
  },
  {
   "cell_type": "code",
   "source": [
    "vocab_counter = extract_vocabulary_counts(tokenized_sentences + tokenized_compressed)\n",
    "print(len(vocab_counter))\n",
    "print(vocab_counter.most_common(10))"
   ],
   "metadata": {
    "collapsed": false,
    "pycharm": {
     "name": "#%%\n"
    },
    "ExecuteTime": {
     "end_time": "2025-04-19T20:46:00.089632Z",
     "start_time": "2025-04-19T20:45:59.393528Z"
    }
   },
   "outputs": [
    {
     "name": "stdout",
     "output_type": "stream",
     "text": [
      "97380\n",
      "[('the', 183104), ('to', 130632), ('a', 117601), ('in', 113442), ('of', 100697), ('and', 68577), ('on', 56683), ('for', 52132), ('has', 39181), ('s', 32406)]\n"
     ]
    }
   ],
   "execution_count": 19
  },
  {
   "cell_type": "markdown",
   "source": [
    "As you can see the size of the vocabulary is quite large. Like the last time, we will limit the vocabulary to the most frequent words. The next cell will create a dictionary that maps each word to an index in the vocabulary. This will be used to create the bag-of-words representation of the sentences."
   ],
   "metadata": {
    "collapsed": false,
    "pycharm": {
     "name": "#%% md\n"
    }
   }
  },
  {
   "cell_type": "code",
   "source": [
    "vocab_size = 10_000\n",
    "vocab = vocab_counter.most_common(vocab_size)\n",
    "token_to_id = {word: i for i, (word, _) in enumerate(vocab)}\n",
    "print(token_to_id)"
   ],
   "metadata": {
    "collapsed": false,
    "pycharm": {
     "name": "#%%\n"
    },
    "ExecuteTime": {
     "end_time": "2025-04-19T20:46:00.206987Z",
     "start_time": "2025-04-19T20:46:00.171175Z"
    }
   },
   "outputs": [
    {
     "name": "stdout",
     "output_type": "stream",
     "text": [
      "{'the': 0, 'to': 1, 'a': 2, 'in': 3, 'of': 4, 'and': 5, 'on': 6, 'for': 7, 'has': 8, 's': 9, 'with': 10, 'at': 11, 'is': 12, 'that': 13, 'from': 14, 'by': 15, 'as': 16, 'new': 17, 'will': 18, 'said': 19, 'after': 20, 'his': 21, 'an': 22, 'its': 23, 'was': 24, 'it': 25, 'be': 26, 'he': 27, 'have': 28, 'man': 29, 'us': 30, 'year': 31, 'are': 32, 'been': 33, 'two': 34, 'today': 35, 'police': 36, 'this': 37, 'their': 38, 'her': 39, 'first': 40, 'over': 41, 'who': 42, 'up': 43, 'announced': 44, 'tuesday': 45, 'not': 46, 'state': 47, 'more': 48, 'wednesday': 49, 'monday': 50, 'against': 51, 'thursday': 52, 'out': 53, 'friday': 54, 'president': 55, 'former': 56, 'says': 57, 'one': 58, '1': 59, 'million': 60, 'into': 61, 'world': 62, 'city': 63, 'which': 64, 'last': 65, 'according': 66, 'county': 67, 'were': 68, 'three': 69, 'may': 70, 'week': 71, 'woman': 72, 'about': 73, 'saturday': 74, 'than': 75, 'government': 76, 'home': 77, 'minister': 78, 'i': 79, 'sunday': 80, 'years': 81, 'time': 82, '2': 83, 'company': 84, 'day': 85, 'she': 86, 'people': 87, 'old': 88, 'all': 89, '000': 90, 'during': 91, 'but': 92, 'they': 93, 'off': 94, 'india': 95, 'when': 96, 'night': 97, 'bank': 98, 'killed': 99, 'national': 100, 'south': 101, 'being': 102, 'next': 103, 'second': 104, 'court': 105, 'found': 106, '5': 107, 'arrested': 108, 'morning': 109, '3': 110, 'country': 111, 'died': 112, 'set': 113, 'school': 114, 'had': 115, 'charged': 116, 'no': 117, 't': 118, 'obama': 119, 'back': 120, 'would': 121, 'can': 122, 'could': 123, 'group': 124, 'reported': 125, 'down': 126, 'market': 127, 'high': 128, 'season': 129, 'china': 130, 'month': 131, 'international': 132, 'fire': 133, '10': 134, 'team': 135, 'star': 136, 'business': 137, 'open': 138, 'oil': 139, 'house': 140, 'car': 141, 'early': 142, 'four': 143, '4': 144, 'while': 145, 'north': 146, 'inc': 147, 'service': 148, 'news': 149, 'charges': 150, 'reports': 151, 'prices': 152, 'or': 153, 'united': 154, 'officials': 155, 'plans': 156, 'now': 157, 'global': 158, 'public': 159, 'billion': 160, 'guilty': 161, 'dies': 162, 'hospital': 163, 'report': 164, 'league': 165, 'american': 166, 'following': 167, 'some': 168, 'death': 169, 'york': 170, 'yesterday': 171, 'near': 172, 'him': 173, '6': 174, 'under': 175, 'end': 176, 'hit': 177, 'services': 178, 'five': 179, 'released': 180, '2012': 181, 'chief': 182, 'west': 183, 'pakistan': 184, 'health': 185, 'game': 186, 'say': 187, 'show': 188, 'federal': 189, 'help': 190, 'office': 191, 'just': 192, 'made': 193, 'security': 194, 'through': 195, 'make': 196, 'most': 197, 'based': 198, 'financial': 199, 'indian': 200, 'other': 201, 'economic': 202, 'third': 203, 'take': 204, 'won': 205, 'top': 206, 'percent': 207, 'months': 208, 'per': 209, 'you': 210, 'what': 211, '7': 212, 'accused': 213, 'before': 214, 'life': 215, 'john': 216, 'another': 217, 'jobs': 218, 'expected': 219, 'coach': 220, 'official': 221, 'we': 222, 'play': 223, 'local': 224, 'launched': 225, 'women': 226, 'announces': 227, 'british': 228, 'should': 229, 'part': 230, 'power': 231, '11': 232, 'center': 233, 'dead': 234, 'record': 235, 'major': 236, 'left': 237, 'party': 238, 'general': 239, 'european': 240, 'here': 241, 'cut': 242, 'university': 243, 'if': 244, '2010': 245, 'uk': 246, '20': 247, 'between': 248, 'work': 249, 'crash': 250, 'energy': 251, 'trade': 252, 'shot': 253, 'six': 254, 'launches': 255, 'leader': 256, '0': 257, 'quarter': 258, 'win': 259, 'deal': 260, 'free': 261, 'held': 262, 'cup': 263, 'march': 264, 'air': 265, 'media': 266, 'men': 267, 'officer': 268, 'because': 269, 'return': 270, 'told': 271, '2011': 272, 'stocks': 273, '30': 274, 'street': 275, '8': 276, 'get': 277, 'head': 278, 'support': 279, 'area': 280, 'close': 281, 'due': 282, 'gas': 283, '12': 284, 'days': 285, 'states': 286, '15': 287, 'family': 288, 'london': 289, 'drug': 290, 'mobile': 291, 'children': 292, 'department': 293, 'club': 294, 'co': 295, 'economy': 296, 'com': 297, 'sales': 298, 'bill': 299, 'prime': 300, 'child': 301, 'since': 302, 'weekend': 303, 'called': 304, 'long': 305, 'online': 306, 'launch': 307, 'foreign': 308, 'there': 309, 'central': 310, 'still': 311, 'district': 312, 'injured': 313, 'release': 314, 'start': 315, 'dollar': 316, 'visit': 317, 'st': 318, 'road': 319, 'series': 320, 'final': 321, 'face': 322, 'afternoon': 323, 'capital': 324, 'stock': 325, 'tax': 326, 'run': 327, 'including': 328, 'best': 329, 'australia': 330, 'military': 331, 'how': 332, 'east': 333, 'june': 334, 'signed': 335, 'shares': 336, 'like': 337, 'fall': 338, 'april': 339, 'board': 340, '9': 341, 'attack': 342, 'industry': 343, 'david': 344, 'iran': 345, 'students': 346, 'where': 347, 'development': 348, 'tour': 349, 'park': 350, 'system': 351, 'them': 352, '2013': 353, 'campaign': 354, 'water': 355, 'go': 356, 'despite': 357, 'australian': 358, 'election': 359, 'film': 360, '2009': 361, 'cancer': 362, 'washington': 363, 're': 364, 'markets': 365, 'football': 366, 'big': 367, 'largest': 368, 'fell': 369, 'way': 370, 'data': 371, 'so': 372, 'corp': 373, 'afghanistan': 374, 'across': 375, '25': 376, 'council': 377, 'barack': 378, '100': 379, 'actor': 380, 'manager': 381, 'pay': 382, 'sentenced': 383, 'around': 384, 'wins': 385, 'plan': 386, 'meeting': 387, 'growth': 388, 'management': 389, 'late': 390, 'right': 391, 'host': 392, 'contract': 393, 'money': 394, 'agency': 395, 'only': 396, 'leading': 397, 'buy': 398, 'rate': 399, 'talks': 400, 'research': 401, 'revealed': 402, 'price': 403, 'food': 404, 'case': 405, 'authorities': 406, 'prison': 407, 'law': 408, 'allegedly': 409, 'england': 410, 'gold': 411, 'director': 412, 'town': 413, 'san': 414, 'again': 415, 'number': 416, 'do': 417, 'michael': 418, 'conference': 419, 'chinese': 420, 'move': 421, 'tv': 422, '50': 423, 'white': 424, 'murder': 425, 'union': 426, 'technology': 427, 'test': 428, 'private': 429, '16': 430, '13': 431, 'july': 432, 'confirmed': 433, 'increase': 434, 'agreement': 435, 'medical': 436, 'wants': 437, 'russia': 438, 'games': 439, '14': 440, 'firm': 441, 'crisis': 442, 'several': 443, 'program': 444, 'girl': 445, 'political': 446, 'closed': 447, 'hold': 448, 'music': 449, 'actress': 450, 'budget': 451, 'annual': 452, 'wife': 453, 'well': 454, 'america': 455, 'japan': 456, 'community': 457, 'higher': 458, 'secretary': 459, '17': 460, 'workers': 461, 'network': 462, 'saying': 463, 'young': 464, 'recent': 465, 'good': 466, 'press': 467, 'recently': 468, 'live': 469, 'any': 470, 'use': 471, 'line': 472, 'investment': 473, 'canada': 474, 'red': 475, 'making': 476, 'surgery': 477, '18': 478, 'lead': 479, 'senior': 480, 'singer': 481, 'continue': 482, 'pm': 483, 'latest': 484, 'college': 485, 'companies': 486, 'congress': 487, 'study': 488, 'special': 489, 'place': 490, 'opened': 491, 'care': 492, 'half': 493, 'many': 494, 'body': 495, 'french': 496, 'korea': 497, 'sex': 498, 'demand': 499, 'rs': 500, 'share': 501, 'trial': 502, 'offer': 503, 'war': 504, 'taking': 505, 'production': 506, 'sign': 507, 'am': 508, 'al': 509, 'action': 510, 'store': 511, 'shooting': 512, '2008': 513, 'my': 514, 'seven': 515, 'cent': 516, 'rose': 517, 'nearly': 518, 'rise': 519, 'los': 520, 'texas': 521, 'accident': 522, 'lower': 523, 'fight': 524, 'become': 525, 'age': 526, 'provider': 527, 'away': 528, 'meet': 529, 'presidential': 530, 'own': 531, 'going': 532, 'baby': 533, 'southern': 534, 'israel': 535, 'centre': 536, 'debt': 537, 'signs': 538, 'senate': 539, 'region': 540, 'angeles': 541, 'social': 542, 'january': 543, 'real': 544, 'loss': 545, 'named': 546, 'video': 547, 'profit': 548, 'opens': 549, 'rights': 550, 'investors': 551, 'credit': 552, 'assault': 553, 'ahead': 554, 'charge': 555, 'facing': 556, 'weeks': 557, 'updated': 558, 'round': 559, 'nation': 560, 'faces': 561, 'trading': 562, 'mark': 563, 'fourth': 564, 'points': 565, 'members': 566, 'africa': 567, 'europe': 568, 'judge': 569, 'russian': 570, 'likely': 571, 'governor': 572, 'google': 573, 'future': 574, 'information': 575, 'california': 576, 'forces': 577, 'times': 578, 'also': 579, 'coast': 580, 'm': 581, 'nuclear': 582, 'fund': 583, 'rates': 584, 'premier': 585, 'hours': 586, '24': 587, 'paul': 588, 'apple': 589, 'products': 590, 'strong': 591, 'grand': 592, 'small': 593, 'building': 594, 'driver': 595, 'project': 596, 'filed': 597, 'title': 598, 'ministry': 599, 'boy': 600, 'plant': 601, 'emergency': 602, 'ago': 603, 'player': 604, 'army': 605, 'cash': 606, 'pleaded': 607, 'race': 608, 'even': 609, 'results': 610, 'german': 611, 'amid': 612, 'summer': 613, 'france': 614, 'student': 615, 'side': 616, 'february': 617, 'past': 618, 'post': 619, 'working': 620, 'delhi': 621, 'executive': 622, 'force': 623, 'software': 624, 'pleads': 625, 'players': 626, '21': 627, 'chairman': 628, 'both': 629, 'match': 630, 'call': 631, 'calls': 632, '500': 633, 'least': 634, 'full': 635, 'interest': 636, 'took': 637, 'led': 638, 'without': 639, 'anti': 640, 'banks': 641, 'residents': 642, 'vehicle': 643, 'agreed': 644, 'heart': 645, 'earlier': 646, 'sell': 647, 'florida': 648, 'coming': 649, 'issued': 650, 'september': 651, 'reportedly': 652, 'leaders': 653, 'beat': 654, 'exchange': 655, 'taken': 656, 'asian': 657, 'human': 658, '19': 659, 'site': 660, 'role': 661, 'opening': 662, 'makes': 663, 'order': 664, 'stop': 665, 'education': 666, 'falls': 667, 'northern': 668, 'claims': 669, 'bus': 670, 'lost': 671, 'injury': 672, 'leave': 673, 'canadian': 674, 'forward': 675, 'traffic': 676, 'much': 677, 'sector': 678, 'our': 679, '22': 680, 'bid': 681, 'brown': 682, 'november': 683, 'policy': 684, 'james': 685, 'schools': 686, 'change': 687, 'need': 688, 'corporation': 689, 'returns': 690, 'october': 691, 'low': 692, 'level': 693, 'further': 694, 'internet': 695, 'control': 696, 'cuts': 697, 'gov': 698, 'looking': 699, 'operations': 700, 'republican': 701, 'river': 702, 'continues': 703, 'job': 704, 'great': 705, 'issues': 706, 'victory': 707, 'missing': 708, 'airlines': 709, 'black': 710, 'key': 711, 'chris': 712, 'running': 713, 'planning': 714, 'biggest': 715, 'come': 716, 'green': 717, 'suspended': 718, 'your': 719, 'station': 720, 'better': 721, 'december': 722, 'august': 723, 'airport': 724, 'eight': 725, 'used': 726, 'album': 727, 'jail': 728, 'lake': 729, 'israeli': 730, 'consumer': 731, 'raise': 732, 'strike': 733, 'george': 734, 'very': 735, 'parliament': 736, 'hall': 737, 'evening': 738, 'member': 739, 'fans': 740, 'ready': 741, 'issue': 742, 'keep': 743, 'mother': 744, 'soon': 745, 'website': 746, 'must': 747, 'countries': 748, 'killing': 749, 'association': 750, 'guard': 751, 'remains': 752, '23': 753, 'driving': 754, 'vote': 755, '40': 756, 'chicago': 757, 'brand': 758, 'offering': 759, 'troops': 760, 'manchester': 761, 'trying': 762, 'takes': 763, 'training': 764, 'award': 765, 'sports': 766, 'western': 767, 'search': 768, 'britain': 769, 'term': 770, 'arrest': 771, 'euro': 772, 'african': 773, 'winning': 774, 'border': 775, 'ended': 776, 'domestic': 777, 'property': 778, 'insurance': 779, 'commission': 780, 'son': 781, 'bankruptcy': 782, 'facebook': 783, 'giant': 784, 'cost': 785, 'sold': 786, 'want': 787, 'train': 788, 'see': 789, 'sale': 790, 'current': 791, 'construction': 792, 'join': 793, 'remain': 794, 'getting': 795, 'event': 796, 'received': 797, 'having': 798, 'customers': 799, 'shows': 800, 'weather': 801, 'island': 802, 'put': 803, 'got': 804, 'sen': 805, 'session': 806, 'stage': 807, 'officers': 808, 'hollywood': 809, 'safety': 810, 'career': 811, 'tonight': 812, 'champion': 813, 'committee': 814, 'sexual': 815, 'robert': 816, 'regional': 817, 'elections': 818, 'target': 819, 'investigating': 820, 'iraq': 821, 'fuel': 822, 'little': 823, 'announce': 824, 'cricket': 825, 'finance': 826, 'statement': 827, 'don': 828, 'couple': 829, 'movie': 830, 'wall': 831, 'give': 832, 'retail': 833, 'field': 834, 'space': 835, 'jackson': 836, '26': 837, 'among': 838, 'e': 839, 'staff': 840, 'selling': 841, 'himself': 842, 'suicide': 843, 'debut': 844, 'maker': 845, '27': 846, 'behind': 847, 'awards': 848, 'until': 849, 'ban': 850, 'singh': 851, 'o': 852, 'warned': 853, 'opposition': 854, 'rock': 855, 'germany': 856, 'un': 857, 'thousands': 858, 'husband': 859, 'performance': 860, 'along': 861, 'love': 862, 'violence': 863, 'growing': 864, 'within': 865, 'gains': 866, 'history': 867, 'same': 868, 'turkey': 869, 'phone': 870, 'using': 871, 'risk': 872, 'outside': 873, '28': 874, 'sri': 875, 'valley': 876, 'mortgage': 877, 'ex': 878, 'name': 879, 'anniversary': 880, 'struck': 881, 'admitted': 882, 'peace': 883, 'needs': 884, 'systems': 885, 'single': 886, 'vice': 887, 'middle': 888, 'solutions': 889, 'ever': 890, 'build': 891, 'zealand': 892, 'sent': 893, 'non': 894, 'mayor': 895, 'such': 896, 'mexico': 897, 'candidate': 898, 'beach': 899, 'festival': 900, 'justice': 901, 'asia': 902, 'storm': 903, 'later': 904, 'point': 905, 'championship': 906, 'bay': 907, 'upcoming': 908, 'raised': 909, 'drive': 910, 'recovery': 911, 'known': 912, 'positive': 913, 'microsoft': 914, 'nine': 915, 'list': 916, 'claimed': 917, '200': 918, 'miss': 919, 'offers': 920, 'leaving': 921, 'mumbai': 922, 'losses': 923, 'decision': 924, 'protection': 925, 'funds': 926, 'spending': 927, 'church': 928, 'plane': 929, 'loan': 930, 'joint': 931, 'protest': 932, 'olympic': 933, 'hotel': 934, 'ltd': 935, 'officially': 936, 'break': 937, 'practice': 938, 'flu': 939, 'father': 940, 'changes': 941, 'almost': 942, 'worth': 943, 'showed': 944, 'possible': 945, 'attacks': 946, 'given': 947, 'pressure': 948, 'de': 949, 'provide': 950, 'williams': 951, 'television': 952, 'acquire': 953, 'battle': 954, 'confidence': 955, 'travel': 956, 'johnson': 957, 'less': 958, 'me': 959, 'truck': 960, 'owner': 961, 'super': 962, 'rally': 963, 'defense': 964, 'eastern': 965, 'japanese': 966, 'files': 967, 'captain': 968, 'democratic': 969, 'step': 970, 'fraud': 971, 'housing': 972, 'too': 973, 'businesses': 974, 'employees': 975, '31': 976, 'alleged': 977, 'smith': 978, 'natural': 979, 'gay': 980, 'sheriff': 981, 'daily': 982, 'soldiers': 983, 'those': 984, 'act': 985, 'd': 986, 'radio': 987, 'robbery': 988, 'georgia': 989, 'double': 990, 'land': 991, 'sources': 992, 'survey': 993, 'few': 994, 'legal': 995, 'reserve': 996, 'costs': 997, 'soldier': 998, 'calif': 999, 'boston': 1000, 'mike': 1001, 'fired': 1002, 'web': 1003, 'turned': 1004, 'declared': 1005, 'approved': 1006, 'seen': 1007, 'why': 1008, 'heavy': 1009, 'veteran': 1010, 'main': 1011, 'jailed': 1012, 'asked': 1013, '29': 1014, 'serious': 1015, 'armed': 1016, 'continued': 1017, 'dr': 1018, 'look': 1019, 'bush': 1020, 'interview': 1021, 'commercial': 1022, 'falling': 1023, 'starting': 1024, 'girls': 1025, 'bond': 1026, 'supply': 1027, 'hopes': 1028, 'deputy': 1029, 'rep': 1030, 'joe': 1031, 'fiscal': 1032, 'book': 1033, 'met': 1034, 'increased': 1035, 'boost': 1036, 'lady': 1037, 'highway': 1038, 'stadium': 1039, 'inflation': 1040, 'net': 1041, 'injuries': 1042, 'stay': 1043, 'homes': 1044, 'syria': 1045, 'returned': 1046, 'daughter': 1047, 'digital': 1048, 'nations': 1049, 'administration': 1050, 'never': 1051, 'aid': 1052, 'basketball': 1053, 'stores': 1054, 'facility': 1055, 'flight': 1056, 'front': 1057, 'acquired': 1058, 'jones': 1059, 'ceo': 1060, 'straight': 1061, 'begin': 1062, 'appointed': 1063, 'division': 1064, 'once': 1065, 'defence': 1066, 'does': 1067, 'baseball': 1068, 'popular': 1069, 'king': 1070, 'common': 1071, 'carolina': 1072, 'large': 1073, 'teacher': 1074, 'winter': 1075, 'warning': 1076, 'convicted': 1077, 'tom': 1078, 'nfl': 1079, 'christmas': 1080, 'stars': 1081, 'twitter': 1082, 'playing': 1083, 'know': 1084, 'total': 1085, 'every': 1086, 'dropped': 1087, 'paid': 1088, 'whose': 1089, 'flights': 1090, 'drugs': 1091, 'ground': 1092, 'partnership': 1093, 'earnings': 1094, 'futures': 1095, 'gun': 1096, 'martin': 1097, 'justin': 1098, 'striker': 1099, 'suffered': 1100, 'might': 1101, 'italian': 1102, 'moving': 1103, 'attorney': 1104, 'gets': 1105, 'turkish': 1106, 'prince': 1107, 'completed': 1108, 'reached': 1109, 'spring': 1110, 'champions': 1111, 'did': 1112, 'decided': 1113, 'treatment': 1114, 'areas': 1115, 'class': 1116, 'unit': 1117, 'civil': 1118, 'projects': 1119, 'joined': 1120, 'nato': 1121, 'spain': 1122, 'bomb': 1123, 'recession': 1124, 'short': 1125, 'operation': 1126, 'failed': 1127, 'light': 1128, 'pakistani': 1129, 'scheduled': 1130, 'steve': 1131, 'khan': 1132, 'concerns': 1133, 'suspected': 1134, 'expand': 1135, 'drop': 1136, 'palestinian': 1137, 'supreme': 1138, 'range': 1139, 'watch': 1140, 'partner': 1141, 'each': 1142, 'person': 1143, 'went': 1144, 'connection': 1145, 'parts': 1146, 'published': 1147, 'toronto': 1148, 'passed': 1149, 'find': 1150, 'sydney': 1151, 'criminal': 1152, 'spokesman': 1153, 'hits': 1154, 'problems': 1155, 'afghan': 1156, 'ohio': 1157, 'houston': 1158, 'abuse': 1159, 'levels': 1160, 'index': 1161, 'girlfriend': 1162, 'giving': 1163, 'already': 1164, 'reduce': 1165, 'hundreds': 1166, 'started': 1167, 'stake': 1168, 'dog': 1169, 'taylor': 1170, 'efforts': 1171, 'boss': 1172, 'ryan': 1173, 'raises': 1174, 'bring': 1175, 'yet': 1176, 'crashed': 1177, 'finally': 1178, 'create': 1179, 'begins': 1180, 'leaves': 1181, 'hard': 1182, 'forced': 1183, 'conditions': 1184, 'investigation': 1185, 'marriage': 1186, 'birth': 1187, 'la': 1188, 'goes': 1189, 'minor': 1190, 'caused': 1191, 'syrian': 1192, 'agent': 1193, 'eu': 1194, 'communications': 1195, 'access': 1196, 'improve': 1197, 'kill': 1198, 'revenue': 1199, 'ireland': 1200, 'equity': 1201, 'banned': 1202, 'added': 1203, 'fifth': 1204, 'liverpool': 1205, 'ambassador': 1206, 'focus': 1207, 'lawsuit': 1208, 'together': 1209, '60': 1210, 'seeking': 1211, 'attacked': 1212, 'corporate': 1213, 'stand': 1214, 'sea': 1215, 'peter': 1216, 'michigan': 1217, 'records': 1218, 'band': 1219, 'industrial': 1220, 'base': 1221, 'cross': 1222, 'solar': 1223, 'involved': 1224, 'joins': 1225, 'celebrate': 1226, 'senator': 1227, 'track': 1228, 'unemployment': 1229, 'kim': 1230, 'rape': 1231, 'ruled': 1232, 'suspect': 1233, 'banking': 1234, 'assembly': 1235, 'producer': 1236, 'pre': 1237, 'steel': 1238, 'lanka': 1239, 'releases': 1240, 'platform': 1241, 'earthquake': 1242, 'holiday': 1243, 'egypt': 1244, 'blue': 1245, 'jury': 1246, 'cars': 1247, 'living': 1248, 'funding': 1249, 'condition': 1250, 'rising': 1251, 'robbed': 1252, 'above': 1253, 'jan': 1254, 'spanish': 1255, 'independent': 1256, 'fashion': 1257, 'stabbed': 1258, 'rest': 1259, 'available': 1260, 'singapore': 1261, 'personal': 1262, 'iranian': 1263, 'holding': 1264, 'clinton': 1265, 'scott': 1266, 'incident': 1267, 'dubai': 1268, 'patients': 1269, 'posted': 1270, 'perform': 1271, 'tony': 1272, 'save': 1273, 'corruption': 1274, 'taliban': 1275, 'below': 1276, 'lee': 1277, 'ship': 1278, 'minnesota': 1279, 'province': 1280, 'process': 1281, 'jersey': 1282, 'marketing': 1283, 'period': 1284, 'crime': 1285, 'arrived': 1286, 'retirement': 1287, 'crude': 1288, 'fox': 1289, 'primary': 1290, 'royal': 1291, 'review': 1292, 'saudi': 1293, 'iphone': 1294, 'village': 1295, 'midfielder': 1296, 'caught': 1297, 'admits': 1298, 'youth': 1299, 'worldwide': 1300, 'assets': 1301, 'channel': 1302, 'auto': 1303, 'magazine': 1304, 'whether': 1305, 'related': 1306, 'direct': 1307, 'unveiled': 1308, 'tournament': 1309, 'kevin': 1310, 'stolen': 1311, 'fort': 1312, 'reach': 1313, 'turn': 1314, 'gulf': 1315, 'far': 1316, 'researchers': 1317, 'resources': 1318, 'italy': 1319, 'illegal': 1320, 'chelsea': 1321, 'model': 1322, 'then': 1323, 'wanted': 1324, 'birthday': 1325, 'tomorrow': 1326, 'jennifer': 1327, 'entertainment': 1328, 'ordered': 1329, 'korean': 1330, 'stealing': 1331, 'cases': 1332, 'x': 1333, 'damage': 1334, 'proposed': 1335, 'divorce': 1336, 'comes': 1337, 'relations': 1338, 'offered': 1339, 'bridge': 1340, 'manufacturing': 1341, 'users': 1342, 'income': 1343, 'americans': 1344, 'think': 1345, 'appeal': 1346, 'rules': 1347, 'source': 1348, 'celebrates': 1349, 'ceremony': 1350, 'calling': 1351, 'urged': 1352, 'soccer': 1353, 'louis': 1354, 'returning': 1355, 'card': 1356, '35': 1357, 'multi': 1358, 'female': 1359, 'pro': 1360, 'deficit': 1361, 'camp': 1362, 'romney': 1363, 'suffering': 1364, 'planned': 1365, 'split': 1366, 'disease': 1367, 'dollars': 1368, 'las': 1369, 'concert': 1370, 'expects': 1371, 'ali': 1372, 'competition': 1373, 'massive': 1374, 'kansas': 1375, 'extended': 1376, 'cabinet': 1377, 'seek': 1378, '300': 1379, 'figures': 1380, 'came': 1381, 'form': 1382, 'barrel': 1383, 'technologies': 1384, 'affairs': 1385, 'challenge': 1386, 'newspaper': 1387, 'gives': 1388, 'helped': 1389, 'apartment': 1390, 'cause': 1391, 'broke': 1392, 'discuss': 1393, 'overnight': 1394, 'winner': 1395, 'inside': 1396, 'receive': 1397, 'taiwan': 1398, 'militants': 1399, 'highest': 1400, 'estate': 1401, 'paris': 1402, 'limited': 1403, 'nba': 1404, 'miami': 1405, 'writer': 1406, 'cooperation': 1407, 'parents': 1408, 'potential': 1409, 'brazil': 1410, 'quarterly': 1411, 'operator': 1412, 'quality': 1413, 'room': 1414, 'began': 1415, 'buying': 1416, 'previous': 1417, 'cutting': 1418, 'elected': 1419, 'losing': 1420, 'orders': 1421, 'dividend': 1422, 'rises': 1423, 'acquisition': 1424, 'coal': 1425, 'pregnant': 1426, 'others': 1427, 'malaysia': 1428, 'threat': 1429, 'scientists': 1430, 'institute': 1431, 'fresh': 1432, 'brother': 1433, 'morgan': 1434, 'teachers': 1435, 'friends': 1436, 'owned': 1437, 'society': 1438, 'll': 1439, 'scheme': 1440, 'hour': 1441, 'bad': 1442, 'pop': 1443, 'mining': 1444, 'moved': 1445, 'port': 1446, 'ties': 1447, 'played': 1448, 'strategic': 1449, 'vegas': 1450, 'detroit': 1451, 'doctors': 1452, 'gaza': 1453, 'airline': 1454, 'programme': 1455, 'colorado': 1456, 'partners': 1457, 'address': 1458, 'teen': 1459, 'virginia': 1460, 'libya': 1461, 'voted': 1462, 'wedding': 1463, 'b': 1464, 'talk': 1465, 'queen': 1466, 'hand': 1467, 'downtown': 1468, 'n': 1469, 'blood': 1470, 'average': 1471, 'wide': 1472, 'charity': 1473, 'sells': 1474, 'product': 1475, 'felony': 1476, 'view': 1477, 'weak': 1478, 'terms': 1479, 'draft': 1480, 'hospitalized': 1481, 'towards': 1482, 'arizona': 1483, 'looks': 1484, 'aircraft': 1485, 'illinois': 1486, 'lot': 1487, 'tried': 1488, 'boyfriend': 1489, 'irish': 1490, 'fatal': 1491, 'date': 1492, 'vehicles': 1493, 'controversial': 1494, 'critical': 1495, 'compared': 1496, 'atlanta': 1497, 'investigate': 1498, 'rain': 1499, '70': 1500, 'developer': 1501, 'firefighters': 1502, 'tiger': 1503, 'receives': 1504, 'acquires': 1505, 'iowa': 1506, 'memorial': 1507, 'van': 1508, 'flood': 1509, 'cloud': 1510, 'airways': 1511, 'greece': 1512, 'authority': 1513, 'dallas': 1514, 'appear': 1515, 'adding': 1516, 'victims': 1517, 'course': 1518, 'beating': 1519, 'heard': 1520, 'mccain': 1521, 'perry': 1522, 'custody': 1523, 'pacific': 1524, 'restaurant': 1525, 'worker': 1526, 'indicted': 1527, 'draw': 1528, 'feb': 1529, 'republic': 1530, 'alex': 1531, 'effective': 1532, 'effort': 1533, 'situation': 1534, 'equipment': 1535, 'andrew': 1536, 'spot': 1537, 'denied': 1538, 'poor': 1539, 'defeat': 1540, 'hill': 1541, 'bail': 1542, 'friend': 1543, 'protect': 1544, 'fighting': 1545, 'doing': 1546, 'legend': 1547, 'starts': 1548, 'closing': 1549, 'farmers': 1550, 'gave': 1551, 'elderly': 1552, 'climate': 1553, 'enough': 1554, 'azerbaijan': 1555, 'defender': 1556, 'diego': 1557, 'leads': 1558, 'bills': 1559, 'operating': 1560, 'wind': 1561, 'francisco': 1562, 'hurricane': 1563, 'reform': 1564, 'mission': 1565, 'teams': 1566, 'worst': 1567, 'labor': 1568, 'allow': 1569, 'fair': 1570, 'mp': 1571, 'separate': 1572, 'academy': 1573, 'snow': 1574, 'boat': 1575, 'claim': 1576, 'madrid': 1577, 'measures': 1578, 'lose': 1579, 'flat': 1580, 'rating': 1581, 'computer': 1582, 'moves': 1583, 'committed': 1584, 'completes': 1585, 'forecast': 1586, 'beijing': 1587, 'package': 1588, 've': 1589, 'swine': 1590, 'grant': 1591, 'rival': 1592, 'protesters': 1593, 'exports': 1594, 'engaged': 1595, 'tennis': 1596, 'environment': 1597, 'venture': 1598, 'dec': 1599, 'summit': 1600, 'aug': 1601, 'wireless': 1602, 'hockey': 1603, 'beginning': 1604, 'response': 1605, 'fame': 1606, 'becoming': 1607, '400': 1608, 'ben': 1609, 'hearing': 1610, 'rangers': 1611, 'electric': 1612, 'celebrated': 1613, '45': 1614, 'retire': 1615, 'shut': 1616, 'knee': 1617, 'fined': 1618, 'position': 1619, 'block': 1620, 'organization': 1621, 'though': 1622, 'families': 1623, 'additional': 1624, 'rugby': 1625, 'jim': 1626, 'millions': 1627, 'voters': 1628, 'saw': 1629, 'dispute': 1630, 'rescue': 1631, 'ford': 1632, 'tim': 1633, 'runs': 1634, 'groups': 1635, 'boys': 1636, 'currently': 1637, 'introduced': 1638, 'foot': 1639, 'contest': 1640, 'threatened': 1641, 'attempt': 1642, 'theft': 1643, 'broken': 1644, 'reporting': 1645, 'lawmakers': 1646, 'lohan': 1647, 'kashmir': 1648, 'loans': 1649, 'currency': 1650, 'holds': 1651, 'lindsay': 1652, 'founder': 1653, 'doesn': 1654, 'rescued': 1655, 'drivers': 1656, 'commerce': 1657, 'richard': 1658, 'severe': 1659, 'fast': 1660, 'slightly': 1661, 'successful': 1662, 'securities': 1663, 'meets': 1664, 'events': 1665, 'resume': 1666, 'decline': 1667, 'kong': 1668, 'multiple': 1669, 'victim': 1670, 'matt': 1671, 'ending': 1672, 'sets': 1673, 'hot': 1674, 'hong': 1675, 'considering': 1676, 'headquarters': 1677, 'farm': 1678, 'rebels': 1679, 'ice': 1680, 'motor': 1681, 'kelly': 1682, 'develop': 1683, 'transfer': 1684, 'important': 1685, 'pirates': 1686, 'cell': 1687, 'charlie': 1688, 'ap': 1689, 'squad': 1690, 'different': 1691, 'chase': 1692, '2007': 1693, '75': 1694, 'navy': 1695, 'harry': 1696, 'mixed': 1697, 'greek': 1698, 'english': 1699, 'andy': 1700, 'headed': 1701, 'believe': 1702, 'art': 1703, 'square': 1704, 'oct': 1705, 'believes': 1706, 'sir': 1707, 'safe': 1708, 'shop': 1709, 'indonesia': 1710, 'zone': 1711, 'bollywood': 1712, 'quarterback': 1713, 'r': 1714, 'bonds': 1715, 'profits': 1716, 'terror': 1717, '80': 1718, 'present': 1719, 'turns': 1720, 'ends': 1721, 'cities': 1722, 'mr': 1723, 'ministers': 1724, 'mid': 1725, 'grow': 1726, 'kills': 1727, 'needed': 1728, 'pulled': 1729, 'story': 1730, 'forest': 1731, 'celebrity': 1732, 'die': 1733, 'replace': 1734, 'retailer': 1735, 'citizens': 1736, 'owners': 1737, 'progress': 1738, 'carrier': 1739, 'launching': 1740, 'animal': 1741, 'oscar': 1742, 'benefits': 1743, 'raising': 1744, 'trust': 1745, 'brain': 1746, 'visits': 1747, 'wayne': 1748, 'journal': 1749, 'showing': 1750, 'kate': 1751, 'toyota': 1752, 'woods': 1753, 'kardashian': 1754, 'complex': 1755, 'missouri': 1756, 'ukraine': 1757, 'awarded': 1758, 'ratings': 1759, 'industries': 1760, 'indiana': 1761, 'heat': 1762, 'tests': 1763, 'conduct': 1764, 'involving': 1765, 'tree': 1766, 'tourism': 1767, 'township': 1768, 'science': 1769, 'impact': 1770, 'value': 1771, 'terrorism': 1772, 'cleared': 1773, 'arrives': 1774, 'speed': 1775, 'fears': 1776, 'minutes': 1777, 'motors': 1778, 'metro': 1779, 'brought': 1780, 'alliance': 1781, 'films': 1782, 'usa': 1783, 'doctor': 1784, 'disaster': 1785, 'trip': 1786, 'row': 1787, 'factor': 1788, 'huge': 1789, 'aimed': 1790, 'foundation': 1791, 'kids': 1792, 'consumers': 1793, 'via': 1794, 'relationship': 1795, 'signing': 1796, 'strategy': 1797, 'attempted': 1798, 'account': 1799, 'manufacturer': 1800, 'punjab': 1801, 'protests': 1802, 'strikes': 1803, 'milan': 1804, 'reality': 1805, 'benefit': 1806, 'charles': 1807, 'entered': 1808, 'fan': 1809, 'labour': 1810, 'pilot': 1811, 'landing': 1812, 'bringing': 1813, 'chain': 1814, 'hope': 1815, 'problem': 1816, 'nov': 1817, 'distribution': 1818, 'directors': 1819, 'philadelphia': 1820, 'swiss': 1821, 'cleveland': 1822, 'lawyer': 1823, 'gone': 1824, 'design': 1825, 'crashes': 1826, 'seattle': 1827, 'activity': 1828, 'version': 1829, 'bbc': 1830, 'invest': 1831, 'gaga': 1832, 'bob': 1833, 'mass': 1834, 'golf': 1835, 'married': 1836, 'helping': 1837, 'passes': 1838, 'metal': 1839, 'song': 1840, 'holdings': 1841, 'chance': 1842, 'bar': 1843, 'arts': 1844, '600': 1845, 'seriously': 1846, 'scored': 1847, 'william': 1848, 'crore': 1849, 'seeks': 1850, 'didn': 1851, 'arab': 1852, 'lives': 1853, 'mail': 1854, 'avoid': 1855, 'placed': 1856, 'remained': 1857, 'arsenal': 1858, 'cruise': 1859, 'tribute': 1860, 'professional': 1861, 'marijuana': 1862, 'wisconsin': 1863, 'parties': 1864, 'leadership': 1865, 'rick': 1866, 'capacity': 1867, 'jason': 1868, 'motorcycle': 1869, 'experts': 1870, 'employee': 1871, 'solution': 1872, 'environmental': 1873, 'santa': 1874, 'increasing': 1875, 'jack': 1876, 'assistant': 1877, 'samsung': 1878, 'box': 1879, 'weapons': 1880, 'poll': 1881, 'various': 1882, 'bangladesh': 1883, 'relief': 1884, 'moscow': 1885, 'tech': 1886, 'vs': 1887, 'outlook': 1888, 'cameron': 1889, 'advanced': 1890, 'bowl': 1891, 'feels': 1892, 'happy': 1893, 'became': 1894, 'classic': 1895, 'associated': 1896, 'debate': 1897, 'patent': 1898, 'extend': 1899, 'app': 1900, 'battery': 1901, 'sox': 1902, 'steps': 1903, 'goal': 1904, 'allen': 1905, 'citing': 1906, 'joining': 1907, 'effect': 1908, 'transport': 1909, 'always': 1910, 'appoints': 1911, 'works': 1912, 'result': 1913, 'gordon': 1914, 'application': 1915, 'ii': 1916, 'networks': 1917, 'helicopter': 1918, 'stewart': 1919, 'causing': 1920, 'dc': 1921, 'nationwide': 1922, 'allegations': 1923, 'delivery': 1924, 'file': 1925, 'leg': 1926, 'pick': 1927, 'cast': 1928, 'recall': 1929, 'wake': 1930, 'struggling': 1931, 'stephen': 1932, 'jessica': 1933, 'commissioner': 1934, 'degree': 1935, 'infrastructure': 1936, 'activities': 1937, 'lines': 1938, 'schedule': 1939, 'giants': 1940, 'sarah': 1941, '90': 1942, 'warns': 1943, 'rupee': 1944, 'simon': 1945, 'candidates': 1946, 'sun': 1947, 'attend': 1948, 'increases': 1949, 'generation': 1950, 'scotland': 1951, 'activist': 1952, 'spend': 1953, 'brian': 1954, 'expecting': 1955, 'sexually': 1956, 'regular': 1957, 'rare': 1958, 'anthony': 1959, 'democracy': 1960, 'sanctions': 1961, 'bjp': 1962, 'investor': 1963, 'content': 1964, 'rule': 1965, 'defensive': 1966, 'politics': 1967, 'expectations': 1968, 'carrying': 1969, 'bieber': 1970, 'clear': 1971, 'tackle': 1972, 'toward': 1973, 'jr': 1974, 'let': 1975, 'really': 1976, 'cents': 1977, '150': 1978, 'el': 1979, 'telecom': 1980, 'satellite': 1981, 'dutch': 1982, 'fc': 1983, 'complete': 1984, 'advertising': 1985, 'patrick': 1986, 'things': 1987, 'purchase': 1988, 'ten': 1989, 'electronic': 1990, 'offensive': 1991, 'breaks': 1992, 'analysts': 1993, 'ongoing': 1994, 'quit': 1995, 'enter': 1996, 'auction': 1997, 'extension': 1998, 'recovering': 1999, 'idol': 2000, 'shopping': 2001, 'posts': 2002, 'victoria': 2003, 'thomas': 2004, 'unveils': 2005, 'voice': 2006, 'decade': 2007, 'embassy': 2008, 'expansion': 2009, '00': 2010, 'mountain': 2011, 'olympics': 2012, 'stimulus': 2013, 'prevent': 2014, 'detained': 2015, 'export': 2016, 'disabled': 2017, 'comedy': 2018, 'historic': 2019, 'able': 2020, 'send': 2021, 'weekly': 2022, 'avenue': 2023, 'brad': 2024, 'customer': 2025, 'express': 2026, 'friendly': 2027, 'campus': 2028, 'failing': 2029, 'jose': 2030, 'gary': 2031, 'melbourne': 2032, 'barcelona': 2033, 'identified': 2034, 'tennessee': 2035, 'standard': 2036, 'activists': 2037, 'seat': 2038, 'denies': 2039, 'gain': 2040, 'prize': 2041, 'majority': 2042, 'kennedy': 2043, 'zimbabwe': 2044, 'healthcare': 2045, 'hosting': 2046, 'crimes': 2047, 'elizabeth': 2048, 'russell': 2049, 'patrol': 2050, 'discovered': 2051, 'sharply': 2052, 'add': 2053, 'try': 2054, 'author': 2055, 'possession': 2056, 'throughout': 2057, 'cover': 2058, 'firms': 2059, 'designed': 2060, 'seized': 2061, 'deadly': 2062, 'electronics': 2063, 'jets': 2064, 'davis': 2065, 'theatre': 2066, 'secret': 2067, 'closer': 2068, 'offices': 2069, 'christian': 2070, 'spent': 2071, 'promote': 2072, 'setting': 2073, 'passengers': 2074, 'receiver': 2075, 'concern': 2076, 'democrats': 2077, 'comments': 2078, 'amy': 2079, 'passenger': 2080, 'islamic': 2081, 'developed': 2082, 'created': 2083, 'muslim': 2084, 'bin': 2085, 'alcohol': 2086, '32': 2087, 'longer': 2088, 'linked': 2089, 'technical': 2090, 'homicide': 2091, 'evidence': 2092, 'photo': 2093, 'nick': 2094, 'subsidiary': 2095, 'plants': 2096, 'reveals': 2097, 'jet': 2098, 'loses': 2099, 'approves': 2100, 'wales': 2101, 'polls': 2102, 'thought': 2103, 'racing': 2104, 'hamilton': 2105, 'windows': 2106, 'orleans': 2107, 'significant': 2108, 'violent': 2109, 'settlement': 2110, 'mitt': 2111, 'vietnam': 2112, 'duty': 2113, 'sending': 2114, 'consider': 2115, 'cole': 2116, 'sony': 2117, 'mexican': 2118, 'tata': 2119, 'plc': 2120, 'assaulting': 2121, 'kentucky': 2122, 'voting': 2123, 'failure': 2124, 'yahoo': 2125, 'declares': 2126, 'beaten': 2127, 'allowed': 2128, 'sentence': 2129, 'born': 2130, 'beckham': 2131, 'applications': 2132, 'experience': 2133, 'teenager': 2134, 'counts': 2135, 'newly': 2136, 'breaking': 2137, 'expands': 2138, 'scandal': 2139, 'speech': 2140, 'ill': 2141, 'providing': 2142, 'stabbing': 2143, 'rural': 2144, 'apparently': 2145, 'lewis': 2146, 'threatening': 2147, 'c': 2148, 'closes': 2149, 'visited': 2150, 'done': 2151, 'electricity': 2152, '2014': 2153, 'hills': 2154, 'parliamentary': 2155, 'ruling': 2156, 'previously': 2157, 'introduces': 2158, 'tokyo': 2159, 'pass': 2160, 'threats': 2161, 'burglary': 2162, 'denver': 2163, 'changed': 2164, 'developing': 2165, 'enterprise': 2166, 'these': 2167, 'daniel': 2168, 'pradesh': 2169, 'supplies': 2170, 'territory': 2171, 'consecutive': 2172, 'chapter': 2173, 'destroyed': 2174, 'studio': 2175, 'decades': 2176, 'crew': 2177, 'golden': 2178, 'successfully': 2179, 'confirms': 2180, 'fires': 2181, 'reuters': 2182, 'broadband': 2183, 'carbon': 2184, 'route': 2185, 'southwest': 2186, 'hands': 2187, 'overseas': 2188, 'coalition': 2189, 'advisory': 2190, 'hired': 2191, 'ring': 2192, 'iron': 2193, 'engine': 2194, 'success': 2195, 'wild': 2196, 'immigration': 2197, 'finds': 2198, 'p': 2199, 'mine': 2200, 'clash': 2201, 'speak': 2202, 'qatar': 2203, 'terrorist': 2204, 'phoenix': 2205, 'ensure': 2206, 'serving': 2207, 'surprise': 2208, 'moore': 2209, 'brazilian': 2210, 'update': 2211, 'egyptian': 2212, 'beats': 2213, 'recovered': 2214, 'pitcher': 2215, 'claiming': 2216, 'chemical': 2217, 'agree': 2218, 'forum': 2219, 'iraqi': 2220, 'indians': 2221, 'expanding': 2222, 'hosts': 2223, '33': 2224, 'heading': 2225, 'trend': 2226, 'overall': 2227, 'alabama': 2228, 'walk': 2229, 'serve': 2230, 'panel': 2231, 'refused': 2232, 'eye': 2233, 'granted': 2234, 'fees': 2235, 'parking': 2236, 'wrong': 2237, 'sport': 2238, 'fine': 2239, 'tamil': 2240, 'devices': 2241, 'pounds': 2242, 'resigned': 2243, 'sixth': 2244, 'arabia': 2245, 'adam': 2246, 'strip': 2247, 'cocaine': 2248, 'pace': 2249, 'selected': 2250, 'diagnosed': 2251, 'appears': 2252, 'michelle': 2253, 'ray': 2254, 'engineering': 2255, 'ghana': 2256, 'prosecutors': 2257, '700': 2258, 'streets': 2259, 'sept': 2260, 'campbell': 2261, 'analyst': 2262, 'palm': 2263, 'taxes': 2264, '55': 2265, 'freedom': 2266, 'adds': 2267, 'appearance': 2268, 'portfolio': 2269, 'built': 2270, 'aged': 2271, 'announcement': 2272, 'cold': 2273, 'laws': 2274, 'hurt': 2275, 'undergo': 2276, 'homeless': 2277, 'museum': 2278, 'clean': 2279, 'numbers': 2280, 'jon': 2281, 'cuba': 2282, 'dealers': 2283, 'sites': 2284, 'feel': 2285, 'honored': 2286, 'yemen': 2287, 'kyrgyzstan': 2288, 'visiting': 2289, 'hillary': 2290, 'nelson': 2291, 'bear': 2292, 'murray': 2293, 'negative': 2294, 'j': 2295, 'improved': 2296, 'rail': 2297, 'greater': 2298, 'android': 2299, 'cbs': 2300, 'tough': 2301, 'jordan': 2302, 'paper': 2303, 'storage': 2304, 'proposal': 2305, 'palin': 2306, 'letter': 2307, 'receiving': 2308, 'fargo': 2309, 'goods': 2310, 'investments': 2311, 'nigeria': 2312, 'oklahoma': 2313, 'marine': 2314, 'wells': 2315, 'medal': 2316, '34': 2317, 'treated': 2318, 'alert': 2319, 'agencies': 2320, 'triple': 2321, 'usd': 2322, 'rapper': 2323, 'statistics': 2324, 'question': 2325, 'cable': 2326, 'prix': 2327, 'rihanna': 2328, 'deliver': 2329, 'ny': 2330, 'collision': 2331, 'urges': 2332, 'stroke': 2333, 'believed': 2334, 'dating': 2335, 'rejected': 2336, 'silver': 2337, 'treasury': 2338, '800': 2339, 'breast': 2340, 'formally': 2341, 'yen': 2342, 'license': 2343, 'targets': 2344, 'questions': 2345, 'movement': 2346, 'bodies': 2347, 'collection': 2348, 'jay': 2349, 'approval': 2350, 'lebanon': 2351, 'note': 2352, 'frank': 2353, 'options': 2354, 'screen': 2355, 'extends': 2356, 'pope': 2357, 'venezuela': 2358, 'brothers': 2359, 'resign': 2360, 'stated': 2361, '250': 2362, 'units': 2363, 'wilson': 2364, 'facilities': 2365, 'amount': 2366, 'abu': 2367, 'cape': 2368, 'expanded': 2369, 'device': 2370, 'miller': 2371, 'rehab': 2372, 'stone': 2373, 'artist': 2374, 'agriculture': 2375, 'philippines': 2376, 'rather': 2377, 'shareholders': 2378, 'massachusetts': 2379, 'factory': 2380, 'stronger': 2381, 'continuing': 2382, 'ipad': 2383, 'foods': 2384, 'nokia': 2385, 'shoot': 2386, 'toll': 2387, 'keeping': 2388, 'yankees': 2389, 'elementary': 2390, 'nifty': 2391, 'message': 2392, 'orange': 2393, 'branch': 2394, 'anna': 2395, 'scottish': 2396, 'library': 2397, 'agents': 2398, 'hitting': 2399, 'lowest': 2400, 'roads': 2401, 'uae': 2402, 'weight': 2403, 'famous': 2404, 'waste': 2405, 'kept': 2406, 'sees': 2407, 'assaulted': 2408, 'residential': 2409, 'ocean': 2410, 'suspicion': 2411, 'self': 2412, 'patient': 2413, 'twins': 2414, 'push': 2415, 'herself': 2416, 'bought': 2417, '42': 2418, 'testing': 2419, 'laid': 2420, 'plea': 2421, 'pittsburgh': 2422, 'gandhi': 2423, 'feature': 2424, 'wounded': 2425, 'thanks': 2426, 'semi': 2427, 'exercise': 2428, 'sam': 2429, '65': 2430, '38': 2431, 'certain': 2432, 'catholic': 2433, 'dance': 2434, 'reaches': 2435, 'dangerous': 2436, 'appeared': 2437, 'fellow': 2438, 'interior': 2439, 'phones': 2440, 'cards': 2441, 'northwest': 2442, 'lack': 2443, 'amazon': 2444, 'check': 2445, 'atlantic': 2446, 'payment': 2447, 'immediate': 2448, 'ball': 2449, 'deals': 2450, 'highly': 2451, '37': 2452, 'rice': 2453, 'drama': 2454, 'itself': 2455, 'combat': 2456, 'crews': 2457, 'finish': 2458, 'spread': 2459, 'stanley': 2460, 'rich': 2461, 'abc': 2462, 'details': 2463, 'arm': 2464, 'legislation': 2465, 'formula': 2466, 'religious': 2467, 'twice': 2468, 'produce': 2469, 'bulgaria': 2470, 'plays': 2471, 'assistance': 2472, 'existing': 2473, 'w': 2474, 'prisoners': 2475, 'sued': 2476, 'honor': 2477, 'challenges': 2478, 'vancouver': 2479, 'strengthen': 2480, 'katie': 2481, 'fully': 2482, 'anderson': 2483, 'delegation': 2484, 'cheryl': 2485, 'true': 2486, 'speculation': 2487, 'monetary': 2488, 'earth': 2489, 'located': 2490, '48': 2491, 'apparent': 2492, 'horse': 2493, 'traders': 2494, 'lending': 2495, 'libyan': 2496, '49': 2497, 'teenage': 2498, 'causes': 2499, 'although': 2500, 'inter': 2501, 'backed': 2502, 'programs': 2503, 'sensex': 2504, 'smart': 2505, 'drops': 2506, 'status': 2507, 'explosion': 2508, 'lifted': 2509, 'sheen': 2510, 'votes': 2511, 'becomes': 2512, 'milwaukee': 2513, 'harris': 2514, 'jerry': 2515, 'handed': 2516, 'austin': 2517, 'eric': 2518, 'championships': 2519, '41': 2520, 'musical': 2521, 'ontario': 2522, '09': 2523, 'powerful': 2524, 'affected': 2525, 'instead': 2526, 'copper': 2527, 'representative': 2528, 'bp': 2529, '36': 2530, 'pound': 2531, 'bureau': 2532, 'sharp': 2533, 'hire': 2534, 'begun': 2535, 'pool': 2536, 'resort': 2537, 'rio': 2538, 'dream': 2539, 'communities': 2540, 'notes': 2541, 'option': 2542, '44': 2543, '54': 2544, 'offender': 2545, 'pattinson': 2546, 'cancelled': 2547, 'removed': 2548, 'simpson': 2549, 'nationals': 2550, 'serbia': 2551, 'acting': 2552, 'tourists': 2553, 'stopped': 2554, 'enforcement': 2555, 'conservative': 2556, 'funeral': 2557, 'recover': 2558, 'buffalo': 2559, 'policies': 2560, 'tampa': 2561, 'stations': 2562, 'howard': 2563, 'pension': 2564, 'discovery': 2565, 'miles': 2566, 'repair': 2567, 'journalist': 2568, 'exclusive': 2569, 'supports': 2570, 'newcastle': 2571, 'malaysian': 2572, 'designer': 2573, 'extra': 2574, 'diplomatic': 2575, 'shoulder': 2576, 'myanmar': 2577, 'supporters': 2578, 'hoping': 2579, 'palestinians': 2580, 'arms': 2581, 'journalists': 2582, 'recalled': 2583, 'mary': 2584, 'tells': 2585, 'provides': 2586, 'baltimore': 2587, 'nominated': 2588, 'resident': 2589, 'speaker': 2590, 'diamond': 2591, 'garden': 2592, 'tropical': 2593, 'sought': 2594, 'stable': 2595, 'chiefs': 2596, 'independence': 2597, 'putting': 2598, 'deadline': 2599, 'preliminary': 2600, 'secure': 2601, 'contracts': 2602, 'dozens': 2603, 'reporter': 2604, 'sudan': 2605, 'themselves': 2606, 'oakland': 2607, 'include': 2608, 'ways': 2609, 'nomination': 2610, 'congressional': 2611, 'warren': 2612, '46': 2613, 'dancing': 2614, 'utah': 2615, 'hero': 2616, 'rivals': 2617, 'agrees': 2618, 'resigns': 2619, 'vowed': 2620, 'culture': 2621, 'preparing': 2622, 'strength': 2623, 'touch': 2624, 'healthy': 2625, 'oregon': 2626, 'expert': 2627, 'sabha': 2628, 'roger': 2629, 'filing': 2630, 'brands': 2631, 'welcome': 2632, 'missile': 2633, 'ron': 2634, 'tigers': 2635, 'winehouse': 2636, 'superstar': 2637, 'winds': 2638, 'offshore': 2639, 'awareness': 2640, 'enters': 2641, 'casino': 2642, 'somali': 2643, 'suffers': 2644, 'elect': 2645, 'style': 2646, 'manslaughter': 2647, 'heads': 2648, 'networking': 2649, 'ranked': 2650, 'reduced': 2651, 'presented': 2652, 'missed': 2653, 'virus': 2654, 'arena': 2655, 'regarding': 2656, 'buys': 2657, 'orlando': 2658, 'floor': 2659, 'kicked': 2660, 'birmingham': 2661, 'tickets': 2662, 'collapsed': 2663, 'dogs': 2664, 'kumar': 2665, 'commander': 2666, 'contact': 2667, 'thailand': 2668, 'spears': 2669, 'payments': 2670, 'broadway': 2671, 'native': 2672, 'window': 2673, 'alive': 2674, 'spotted': 2675, 'argentina': 2676, 'gang': 2677, 'swedish': 2678, 'veterans': 2679, 'slow': 2680, 'conflict': 2681, 'sa': 2682, 'drunk': 2683, 'financing': 2684, 'businessman': 2685, 'basis': 2686, 'invited': 2687, 'emerging': 2688, 'fishing': 2689, 'initial': 2690, 'talent': 2691, 'gop': 2692, 'zardari': 2693, 'goals': 2694, 'reporters': 2695, 'carry': 2696, 'pain': 2697, 'asset': 2698, 'approximately': 2699, 'deep': 2700, 'however': 2701, 'lawyers': 2702, 'pipeline': 2703, 'railway': 2704, 'helps': 2705, 'edwards': 2706, 'legendary': 2707, 'intelligence': 2708, 'jeff': 2709, 'hospitals': 2710, 'republicans': 2711, '39': 2712, 'creating': 2713, 'shown': 2714, 'disney': 2715, 'kazakhstan': 2716, 'considered': 2717, 'penalty': 2718, 'mississippi': 2719, 'advance': 2720, 'lions': 2721, 'aviation': 2722, 'active': 2723, 'katy': 2724, 'comeback': 2725, 'transportation': 2726, 'franchise': 2727, 'page': 2728, 'fish': 2729, 'bailout': 2730, 'phase': 2731, 'negotiations': 2732, 'jolie': 2733, 'initiative': 2734, 'fact': 2735, '85': 2736, 'asking': 2737, 'phil': 2738, 'qaeda': 2739, 'youtube': 2740, 'invasion': 2741, 'springs': 2742, 'evacuated': 2743, 'places': 2744, 'mall': 2745, 'learn': 2746, 'conducted': 2747, 'dialogue': 2748, 'madison': 2749, 'boxing': 2750, 'monthly': 2751, 'asks': 2752, 'dakota': 2753, 'angelina': 2754, 'carlos': 2755, 'regime': 2756, 'doors': 2757, 'sprint': 2758, 'century': 2759, 'britney': 2760, 'demi': 2761, 'utility': 2762, 'representatives': 2763, 'output': 2764, '43': 2765, 'jumped': 2766, 'hamas': 2767, 'recalls': 2768, 'del': 2769, 'fee': 2770, 'hudson': 2771, 'pair': 2772, 'postponed': 2773, 'pull': 2774, 'jimmy': 2775, 'confident': 2776, 'ankle': 2777, 'madonna': 2778, 'eurozone': 2779, 'columbus': 2780, 'expect': 2781, 'pennsylvania': 2782, 'matches': 2783, 'traded': 2784, 'switzerland': 2785, 'bit': 2786, 'kings': 2787, 'terrorists': 2788, 'killer': 2789, 'biden': 2790, 'turning': 2791, 'canceled': 2792, '72': 2793, 'ad': 2794, 'properties': 2795, 'czech': 2796, 'entire': 2797, 'clients': 2798, 'employment': 2799, 'presence': 2800, 'celebrating': 2801, 'reading': 2802, 'probe': 2803, 'suspends': 2804, 'performing': 2805, 'escaped': 2806, 'managed': 2807, 'deaths': 2808, '08': 2809, 'queensland': 2810, 'galaxy': 2811, 'movies': 2812, 'portland': 2813, 'circuit': 2814, 'busy': 2815, 'false': 2816, 'sugar': 2817, 'scene': 2818, 'counties': 2819, 'nbc': 2820, 'waters': 2821, 'accounts': 2822, 'creek': 2823, 'choice': 2824, 'columbia': 2825, 'feet': 2826, 'lift': 2827, 'connecticut': 2828, 'felt': 2829, 'listed': 2830, 'shanghai': 2831, 'welcomed': 2832, 'figure': 2833, 'bahrain': 2834, 'matter': 2835, 'nothing': 2836, 'modern': 2837, '47': 2838, 'documents': 2839, 'outstanding': 2840, 'settle': 2841, 'steady': 2842, 'demands': 2843, 'restructuring': 2844, 'retired': 2845, '56': 2846, 'resolution': 2847, 'finals': 2848, 'exhibition': 2849, 'junior': 2850, 'perfect': 2851, 'renewed': 2852, 'searching': 2853, 'marks': 2854, 'delayed': 2855, 'standards': 2856, 'suspicious': 2857, 'mac': 2858, 'henry': 2859, 'coverage': 2860, 'luxury': 2861, '53': 2862, 'dhabi': 2863, 'fear': 2864, 'cnn': 2865, 'troubled': 2866, 'sworn': 2867, 'sweden': 2868, 'ask': 2869, 'tornado': 2870, 'fishermen': 2871, 'often': 2872, 'waiting': 2873, 'raid': 2874, 'defend': 2875, 'noon': 2876, 'books': 2877, 'fitness': 2878, 'suspects': 2879, 'rocket': 2880, 'specialist': 2881, 'complaint': 2882, 'andre': 2883, 'edition': 2884, 'opportunities': 2885, 'tehran': 2886, 'guy': 2887, 'neighborhood': 2888, 'pitt': 2889, 'alaska': 2890, 'probation': 2891, 'nhl': 2892, 'wood': 2893, 'goldman': 2894, 'azerbaijani': 2895, 'tea': 2896, 'ticket': 2897, 'chavez': 2898, 'core': 2899, '05': 2900, 'supplier': 2901, 'manmohan': 2902, 'follow': 2903, 'fit': 2904, 'estimates': 2905, 'edward': 2906, 'hosted': 2907, 'trafficking': 2908, 'tell': 2909, 'buildings': 2910, 'dedicated': 2911, 'longtime': 2912, 'fake': 2913, 'declined': 2914, 'penn': 2915, 'imports': 2916, 'something': 2917, 'smartphone': 2918, 'tested': 2919, 'sky': 2920, 'population': 2921, 'judges': 2922, 'cooper': 2923, 'scam': 2924, 'especially': 2925, 'antonio': 2926, 'learned': 2927, 'smoke': 2928, 'insists': 2929, 'bilateral': 2930, 'democrat': 2931, 'processing': 2932, 'normal': 2933, 'boeing': 2934, 'responsible': 2935, 'warner': 2936, 'fatally': 2937, 'roll': 2938, 'charlotte': 2939, 'criticism': 2940, 'targeting': 2941, 'ease': 2942, 'comedian': 2943, 'ibm': 2944, 'betting': 2945, 'residence': 2946, 'lankan': 2947, 'identity': 2948, 'congressman': 2949, 'deputies': 2950, 'announcing': 2951, 'stole': 2952, 'pedestrian': 2953, 'pays': 2954, 'jewish': 2955, '51': 2956, 'kick': 2957, 'hip': 2958, 'welcomes': 2959, 'dark': 2960, 'immediately': 2961, 'tight': 2962, 'eve': 2963, 'southeast': 2964, 'image': 2965, 'drinking': 2966, 'merger': 2967, 'promotion': 2968, 'notice': 2969, 'virgin': 2970, 'fifa': 2971, 'medicine': 2972, 'blackberry': 2973, 'engagement': 2974, 'temporary': 2975, 'incidents': 2976, 'convention': 2977, 'commitment': 2978, 'edge': 2979, 'language': 2980, 'masters': 2981, 'craig': 2982, 'appeals': 2983, 'illness': 2984, 'mutual': 2985, '68': 2986, 'louisiana': 2987, 'mount': 2988, 'arkansas': 2989, 'franklin': 2990, 'paying': 2991, 'finished': 2992, 'drew': 2993, 'fallen': 2994, 'smoking': 2995, 'coffee': 2996, 'sean': 2997, 'ran': 2998, 'tied': 2999, 'wave': 3000, 'shortage': 3001, 'delay': 3002, 'bears': 3003, 'adults': 3004, 'eagles': 3005, 'compete': 3006, 'sends': 3007, 'ed': 3008, 'request': 3009, 'spill': 3010, 'produced': 3011, 'haven': 3012, 'items': 3013, 'informed': 3014, 'bc': 3015, 'haiti': 3016, 'visa': 3017, 'sentiment': 3018, 'persons': 3019, 'cuban': 3020, 'cancels': 3021, 'maryland': 3022, 'male': 3023, 'hike': 3024, 'tottenham': 3025, 'murdered': 3026, 'reforms': 3027, 'positions': 3028, 'ferguson': 3029, 'means': 3030, 'producers': 3031, 'assigned': 3032, 'tonnes': 3033, 'scientific': 3034, 'ukrainian': 3035, 'marathon': 3036, 'participate': 3037, 'ag': 3038, 'johnny': 3039, 'difficult': 3040, 'targeted': 3041, 'josh': 3042, 'dan': 3043, 'decide': 3044, 'sachs': 3045, 'feeling': 3046, 'images': 3047, 'proud': 3048, 'nsw': 3049, 'battling': 3050, 'damaged': 3051, 'import': 3052, 'federation': 3053, 'steven': 3054, 'shots': 3055, 'worked': 3056, 'includes': 3057, '62': 3058, 'indonesian': 3059, 'weaker': 3060, 'display': 3061, 'alan': 3062, 'inmate': 3063, 'neil': 3064, 'belarus': 3065, 'personnel': 3066, 'learning': 3067, 'clinic': 3068, 'recorded': 3069, '52': 3070, 'blast': 3071, 'kristen': 3072, 'fighter': 3073, 'onto': 3074, 'benchmark': 3075, 'terry': 3076, 'bell': 3077, 'material': 3078, 'picked': 3079, 'seems': 3080, 'threatens': 3081, 'bruce': 3082, 'sister': 3083, 'provincial': 3084, 'suggested': 3085, 'opener': 3086, 'kolkata': 3087, 'intel': 3088, 'easy': 3089, 'location': 3090, 'reasons': 3091, 'pornography': 3092, 'bristol': 3093, 'crossing': 3094, 'door': 3095, 'introduce': 3096, 'philippine': 3097, 'gunpoint': 3098, 'professor': 3099, 'premiere': 3100, 'happened': 3101, 'k': 3102, 'rob': 3103, 'cyrus': 3104, 'maria': 3105, 'tender': 3106, 'ncaa': 3107, 'twin': 3108, 'verizon': 3109, 'investigators': 3110, 'violations': 3111, 'slowdown': 3112, 'jump': 3113, 'nasa': 3114, 'honda': 3115, 'tons': 3116, 'alternative': 3117, 'saint': 3118, 'kingdom': 3119, 'parent': 3120, 'armstrong': 3121, 'ride': 3122, 'meetings': 3123, 'internal': 3124, 'suggests': 3125, 'armenia': 3126, 'bulgarian': 3127, 'constitution': 3128, 'god': 3129, 'taxi': 3130, 'expressed': 3131, 'aniston': 3132, 'tie': 3133, 'fastest': 3134, 'faced': 3135, 'cowell': 3136, 'reliance': 3137, 'bulls': 3138, 'improving': 3139, 'delays': 3140, 'clashes': 3141, 'wildlife': 3142, 'pak': 3143, 'kicks': 3144, 'swift': 3145, 'chrysler': 3146, 'everything': 3147, '82': 3148, 'delivered': 3149, 'lincoln': 3150, 'cargo': 3151, 'defeated': 3152, 'kenya': 3153, 'crown': 3154, 'flooding': 3155, 'transit': 3156, 'nashville': 3157, 'dealer': 3158, 'trophy': 3159, 'lawrence': 3160, 'unions': 3161, 'moon': 3162, 'traditional': 3163, 'civilians': 3164, 'scale': 3165, 'flag': 3166, 'rookie': 3167, 'integrated': 3168, 'shah': 3169, 'barbara': 3170, 'registration': 3171, 'defends': 3172, 'materials': 3173, '95': 3174, 'direction': 3175, 'beyond': 3176, 'managing': 3177, 'mental': 3178, 'seasons': 3179, 'provided': 3180, 'volunteers': 3181, 'centers': 3182, '57': 3183, 'plus': 3184, 'dinner': 3185, 'nevada': 3186, '76': 3187, 'drowned': 3188, 'mandela': 3189, 'suspension': 3190, 'burning': 3191, 'supporting': 3192, 'resistance': 3193, '58': 3194, 'upper': 3195, 'anything': 3196, 'naval': 3197, 'improvement': 3198, 'maintenance': 3199, 'marry': 3200, 'email': 3201, 'balance': 3202, 'wikileaks': 3203, 'lopez': 3204, 'gates': 3205, '66': 3206, 'petrol': 3207, '71': 3208, 'bull': 3209, 'blamed': 3210, 'sound': 3211, 'liberal': 3212, 'carter': 3213, 'institutions': 3214, 'remaining': 3215, 'suing': 3216, 'revenues': 3217, 'colombia': 3218, 'accept': 3219, 'musharraf': 3220, 'derby': 3221, 'defended': 3222, 'medvedev': 3223, 'restore': 3224, 'escape': 3225, 'llc': 3226, 'barclays': 3227, 'arrests': 3228, 'diabetes': 3229, 'interim': 3230, 'bound': 3231, 'robin': 3232, 'crowd': 3233, 'swimming': 3234, 'knife': 3235, 'savings': 3236, 'flying': 3237, '10th': 3238, 'jazz': 3239, 'tourist': 3240, 'seventh': 3241, 'aims': 3242, 'rand': 3243, 'registered': 3244, 'allowing': 3245, 'shortly': 3246, 'names': 3247, 'prepare': 3248, 'employers': 3249, 'islands': 3250, 'grew': 3251, 'fixed': 3252, 'indianapolis': 3253, 'opportunity': 3254, 'nepal': 3255, 'ufc': 3256, 'table': 3257, 'drunken': 3258, 'cincinnati': 3259, 'bobby': 3260, 'petroleum': 3261, 'episode': 3262, 'dismissed': 3263, 'cap': 3264, 'hp': 3265, 'everyone': 3266, 'pitch': 3267, 'compensation': 3268, 'scores': 3269, 'regulatory': 3270, 'netherlands': 3271, 'fail': 3272, 'cowboys': 3273, 'cardinals': 3274, 'section': 3275, 'register': 3276, 'sacramento': 3277, 'billy': 3278, 'streak': 3279, 'euros': 3280, 'undisclosed': 3281, 'secured': 3282, 'featuring': 3283, 'miley': 3284, 'caribbean': 3285, 'pictures': 3286, 'talking': 3287, 'jamie': 3288, 'restored': 3289, 'remove': 3290, 'ac': 3291, 'features': 3292, 'occurred': 3293, 'picture': 3294, 'kidnapped': 3295, 'focused': 3296, 'kind': 3297, 'interstate': 3298, 'halt': 3299, 'bars': 3300, 'thai': 3301, 'arrive': 3302, 'wait': 3303, 'suit': 3304, 'upgraded': 3305, 'whole': 3306, 'hires': 3307, 'vows': 3308, 'reaching': 3309, 'sunderland': 3310, 'drink': 3311, 'nascar': 3312, 'maintain': 3313, 'celebration': 3314, 'link': 3315, 'danny': 3316, 'machine': 3317, 'dublin': 3318, 'clark': 3319, 'withdraws': 3320, 'word': 3321, 'carried': 3322, 'northeast': 3323, 'warrant': 3324, 'urban': 3325, 'fitch': 3326, 'cultural': 3327, 'actually': 3328, 'hedge': 3329, 'legislature': 3330, 'unexpectedly': 3331, 'lay': 3332, 'described': 3333, 'hawaii': 3334, 'jesse': 3335, 'rushed': 3336, 'jammu': 3337, 'globe': 3338, 'dates': 3339, 'plead': 3340, 'brings': 3341, 'firefighter': 3342, 'speaks': 3343, 'espn': 3344, 'blow': 3345, 'armenian': 3346, 'quickly': 3347, 'isn': 3348, 'performed': 3349, 'delta': 3350, 'nicolas': 3351, 'diesel': 3352, 'nicole': 3353, 'districts': 3354, 'montreal': 3355, 'bird': 3356, 'physical': 3357, 'prominent': 3358, 'threw': 3359, 'fleet': 3360, 'mostly': 3361, 'bradley': 3362, 'era': 3363, 'magic': 3364, 'charter': 3365, 'entry': 3366, 'broadcast': 3367, 'regulators': 3368, 'villa': 3369, 'alone': 3370, 'rush': 3371, 'trailer': 3372, 'wearing': 3373, 'saints': 3374, 'approach': 3375, 'shore': 3376, 'grants': 3377, 'hotels': 3378, 'thing': 3379, 'nominee': 3380, 'upon': 3381, 'standing': 3382, 'rains': 3383, 'parade': 3384, '63': 3385, 'parker': 3386, 'trillion': 3387, '2006': 3388, 'adult': 3389, 'comprehensive': 3390, 'guide': 3391, 'rafael': 3392, 'walker': 3393, 'commodity': 3394, 'retailers': 3395, 'ricky': 3396, 'infection': 3397, 'drought': 3398, 'trees': 3399, 'deutsche': 3400, 'nebraska': 3401, 'gaming': 3402, 'patriots': 3403, 'kapoor': 3404, 'alexander': 3405, 'bengal': 3406, 'automotive': 3407, 'reid': 3408, 'restrictions': 3409, 'roster': 3410, 'u': 3411, 'houses': 3412, 'master': 3413, 'pc': 3414, 'hiring': 3415, 'estimated': 3416, '67': 3417, 'latin': 3418, 'mets': 3419, 'lama': 3420, 'competitive': 3421, 'exploration': 3422, 'putin': 3423, 'classes': 3424, 'maine': 3425, '07': 3426, 'permanent': 3427, 'collins': 3428, 'landed': 3429, 'presents': 3430, 'duke': 3431, 'minority': 3432, 'chennai': 3433, 'attention': 3434, 'barry': 3435, 'downturn': 3436, 'raiders': 3437, 'cyprus': 3438, 'dave': 3439, 'heritage': 3440, 'dow': 3441, 'knowledge': 3442, 'enhance': 3443, 'shuttle': 3444, 'murdering': 3445, 'aaron': 3446, 'arson': 3447, 'conspiracy': 3448, 'recalling': 3449, 'watson': 3450, 'shipping': 3451, 'prosecutor': 3452, 'passing': 3453, 'poland': 3454, 'earned': 3455, '900': 3456, 'undergoing': 3457, 'advantage': 3458, 'conviction': 3459, 'speaking': 3460, 'probably': 3461, 'shoots': 3462, 'leak': 3463, 'heavyweight': 3464, '59': 3465, 'athletes': 3466, 'walking': 3467, 'roy': 3468, 'similar': 3469, 'plastic': 3470, 'liam': 3471, 'lightning': 3472, 'zoo': 3473, 'sterling': 3474, 'f': 3475, 'hiv': 3476, 'joseph': 3477, 'forthcoming': 3478, 'pole': 3479, 'milestone': 3480, 'emerged': 3481, 'athletic': 3482, 'motion': 3483, 'kanye': 3484, 'influence': 3485, 'risks': 3486, 'lender': 3487, 'rolling': 3488, 'outfielder': 3489, 'palace': 3490, 'salman': 3491, 'lok': 3492, 'violating': 3493, 'emirates': 3494, 'hampshire': 3495, 'knight': 3496, 'organisation': 3497, 'executives': 3498, 'promised': 3499, 'mar': 3500, 'adopted': 3501, 'politicians': 3502, 'minute': 3503, 'raped': 3504, 'extending': 3505, 'gained': 3506, 'montana': 3507, 'struggle': 3508, 'baghdad': 3509, 'creative': 3510, 'respect': 3511, 'fbi': 3512, 'kosovo': 3513, 'freed': 3514, 'motorcyclist': 3515, 'benedict': 3516, 'billionaire': 3517, 'brandon': 3518, 'powers': 3519, 'casey': 3520, 'retiring': 3521, 'original': 3522, 'trail': 3523, 'pilots': 3524, 'sure': 3525, 'berlin': 3526, 'wing': 3527, 'tower': 3528, 'dalai': 3529, 'depression': 3530, 'recording': 3531, 'collaboration': 3532, 'determined': 3533, 'revolution': 3534, 'lane': 3535, 'inquiry': 3536, 'stress': 3537, 'reduction': 3538, 'legislative': 3539, 'temporarily': 3540, 'kuwait': 3541, 'hunger': 3542, '64': 3543, 'backs': 3544, 'larry': 3545, 'storms': 3546, '77': 3547, 'memory': 3548, 'guns': 3549, 'wreck': 3550, 'rome': 3551, 'asif': 3552, 'wine': 3553, 'virtual': 3554, 'fla': 3555, 'cook': 3556, 'moment': 3557, 'communication': 3558, 'pushed': 3559, 'camera': 3560, 'older': 3561, 'principal': 3562, 'tool': 3563, 'buyers': 3564, 'regions': 3565, 'motorola': 3566, '61': 3567, 'ashley': 3568, 'dick': 3569, 'hilton': 3570, 'cairo': 3571, 'softball': 3572, 'matthew': 3573, 'g': 3574, 'linebacker': 3575, 'lebanese': 3576, 'stability': 3577, 'abroad': 3578, 'code': 3579, 'recycling': 3580, 'commonwealth': 3581, 'poised': 3582, 'hair': 3583, 'drilling': 3584, 'intends': 3585, 'marking': 3586, 'beauty': 3587, 'accidentally': 3588, 'wholesale': 3589, 'stepping': 3590, 'considers': 3591, 'welfare': 3592, 'parks': 3593, 'thinks': 3594, 'islamabad': 3595, 'remarks': 3596, 'wear': 3597, 'tools': 3598, 'demanded': 3599, 'organizations': 3600, 'reason': 3601, 'affect': 3602, 'customs': 3603, 'www': 3604, 'cells': 3605, 'y': 3606, 'nadal': 3607, 'written': 3608, 'resignation': 3609, 'playoff': 3610, 'ore': 3611, 'l': 3612, 'imposed': 3613, 'withdraw': 3614, 'clubs': 3615, 'till': 3616, 'sides': 3617, 'served': 3618, 'cited': 3619, 'gujarat': 3620, 'saved': 3621, 'pet': 3622, 'pat': 3623, 'raping': 3624, 'checks': 3625, 'size': 3626, 'coordinator': 3627, 'dell': 3628, 'accepted': 3629, 'mukherjee': 3630, 'lord': 3631, 'bachchan': 3632, 'maoists': 3633, 'gift': 3634, 'mtv': 3635, 'tank': 3636, 'ross': 3637, 'honoured': 3638, '83': 3639, 'forecasts': 3640, 'exit': 3641, 'citizen': 3642, 'agreements': 3643, 'kidnapping': 3644, 'capitol': 3645, 'grade': 3646, 'afp': 3647, 'controlled': 3648, 'bigger': 3649, 'streaming': 3650, '74': 3651, '73': 3652, 'ian': 3653, 'rogers': 3654, 'adviser': 3655, 'familiar': 3656, 'auckland': 3657, 'municipal': 3658, 'roof': 3659, 'category': 3660, 'endorses': 3661, 'count': 3662, 'misdemeanor': 3663, 'hugo': 3664, 'reopened': 3665, 'loves': 3666, 'analysis': 3667, 'warriors': 3668, 'write': 3669, 'lands': 3670, 'hughes': 3671, 'idea': 3672, 'karnataka': 3673, 'sues': 3674, 'firing': 3675, 'encounter': 3676, 'temple': 3677, 'publisher': 3678, 'assad': 3679, 'sustained': 3680, 'managers': 3681, 'toddler': 3682, 'blog': 3683, 'blues': 3684, 'downgraded': 3685, 'standoff': 3686, 'trouble': 3687, 'christina': 3688, 'keith': 3689, 'seize': 3690, 'hear': 3691, 'established': 3692, 'dry': 3693, 'workforce': 3694, 'formed': 3695, 'measure': 3696, 'nc': 3697, 'upset': 3698, 'entering': 3699, 'judicial': 3700, 'saving': 3701, 'renewable': 3702, 'carl': 3703, 'starring': 3704, 'tribal': 3705, 'limit': 3706, 'fed': 3707, 'condemned': 3708, 'jeremy': 3709, 'endorsed': 3710, 'wright': 3711, 'currencies': 3712, 'anticipated': 3713, 'task': 3714, 'score': 3715, 'abortion': 3716, 'graham': 3717, 'icon': 3718, 'iii': 3719, 'sustainable': 3720, 'keen': 3721, 'article': 3722, 'strongly': 3723, 'takeover': 3724, 'tensions': 3725, 'spokeswoman': 3726, 'pharmaceutical': 3727, 'nigerian': 3728, 'operators': 3729, 'establish': 3730, 'crack': 3731, 'jonathan': 3732, 'liberty': 3733, 'qantas': 3734, 'undergoes': 3735, 'salary': 3736, 'roberts': 3737, 'accepting': 3738, 'pub': 3739, 'editor': 3740, 'adams': 3741, 'fewer': 3742, 'dodgers': 3743, 'monitoring': 3744, 'fisher': 3745, 'greg': 3746, 'douglas': 3747, 'georgian': 3748, 'romania': 3749, '69': 3750, 'chancellor': 3751, 'effects': 3752, 'sparked': 3753, 'responsibility': 3754, 'communist': 3755, 'militant': 3756, 'puts': 3757, 'highs': 3758, 'dolphins': 3759, 'worries': 3760, 'restaurants': 3761, 'laden': 3762, 'evans': 3763, 'fiji': 3764, 'practices': 3765, 'trucks': 3766, 'colombian': 3767, 'sciences': 3768, 'collapse': 3769, 'http': 3770, 'treat': 3771, 'bat': 3772, 'skin': 3773, 'gilani': 3774, 'quite': 3775, 'eighth': 3776, 'witnesses': 3777, 'releasing': 3778, 'aids': 3779, 'label': 3780, 'sharing': 3781, 'tablet': 3782, 'pti': 3783, 'interested': 3784, 'unique': 3785, 'mccartney': 3786, 'lying': 3787, 'courts': 3788, 'knocked': 3789, 'lineup': 3790, 'minimum': 3791, 'animals': 3792, 'brisbane': 3793, 'holmes': 3794, 'burns': 3795, 'attacking': 3796, 'lenders': 3797, 'innovation': 3798, 'directed': 3799, 'lung': 3800, 'publicly': 3801, 'v': 3802, 'quits': 3803, 'reopen': 3804, 'possibility': 3805, 'finding': 3806, 'throwing': 3807, 'text': 3808, 'producing': 3809, 'crucial': 3810, 'muslims': 3811, 'resumed': 3812, 'springfield': 3813, 'malik': 3814, 'kerry': 3815, 'governments': 3816, 'raw': 3817, 'crackdown': 3818, 'critically': 3819, 'awaited': 3820, 'included': 3821, 'wrote': 3822, 'modi': 3823, 'lakers': 3824, 'structure': 3825, 'underwent': 3826, 'sarkozy': 3827, 'faster': 3828, 'guidance': 3829, 'links': 3830, 'cubs': 3831, 'lance': 3832, 'ted': 3833, 'pledged': 3834, 'selection': 3835, 'ranks': 3836, 'stands': 3837, 'pushing': 3838, 'kris': 3839, 'mills': 3840, 'unchanged': 3841, 'pleased': 3842, 'asylum': 3843, 'terminal': 3844, '2015': 3845, 'thompson': 3846, 'read': 3847, 'changing': 3848, '120': 3849, 'tries': 3850, 'praised': 3851, 'winger': 3852, 'captured': 3853, 'individual': 3854, 'citigroup': 3855, 'insisted': 3856, 'limits': 3857, 'sectors': 3858, 'rallied': 3859, 'royals': 3860, 'required': 3861, '11th': 3862, 'interactive': 3863, 'reveal': 3864, 'sleep': 3865, 'bangalore': 3866, 'tsunami': 3867, 'unveil': 3868, 'prescription': 3869, 'perth': 3870, 'bomber': 3871, 'refuses': 3872, 'bike': 3873, 'burned': 3874, 'profile': 3875, 'fa': 3876, 'fields': 3877, '84': 3878, 'hunt': 3879, 'driven': 3880, 'idaho': 3881, 'coaching': 3882, 'trapped': 3883, 'anyone': 3884, 'watching': 3885, 'nursing': 3886, 'walked': 3887, 'wealth': 3888, 'zuma': 3889, 'cat': 3890, 'agricultural': 3891, 'motorists': 3892, 'sharks': 3893, 'hunting': 3894, 'sue': 3895, 'rejects': 3896, 'tracks': 3897, 'kerala': 3898, 'pulls': 3899, 'weapon': 3900, 'demanding': 3901, 'withdrawn': 3902, 'doping': 3903, 'adelaide': 3904, 'controversy': 3905, 'abdullah': 3906, 'urging': 3907, 'humanitarian': 3908, 'slip': 3909, 'user': 3910, 'drone': 3911, 'select': 3912, 'zero': 3913, 'brett': 3914, 'everton': 3915, 'resource': 3916, 'fails': 3917, 'chile': 3918, 'envoy': 3919, 'supported': 3920, 'raza': 3921, 'pete': 3922, 'resumes': 3923, 'gaddafi': 3924, 'kidney': 3925, '86': 3926, 'worse': 3927, 'jobless': 3928, 'kyle': 3929, 'pit': 3930, 'parish': 3931, 'grove': 3932, 'dui': 3933, 'chip': 3934, 'metals': 3935, 'songs': 3936, 'solo': 3937, 'writes': 3938, 'concussion': 3939, 'providers': 3940, 'eddie': 3941, 'eagle': 3942, 'crashing': 3943, '79': 3944, 'clothing': 3945, '3d': 3946, '06': 3947, 'foreclosure': 3948, 'closure': 3949, 'type': 3950, 'kent': 3951, 'ahmadinejad': 3952, 'dropping': 3953, '04': 3954, 'defending': 3955, 'dealing': 3956, 'sponsor': 3957, 'routes': 3958, 'fly': 3959, 'murphy': 3960, 'accuses': 3961, 'retires': 3962, 'skills': 3963, 'vladimir': 3964, 'gap': 3965, 'beer': 3966, 'surge': 3967, 'faith': 3968, 'prepared': 3969, 'photographer': 3970, 'computers': 3971, 'slammed': 3972, 'mps': 3973, 'rachel': 3974, 'innovative': 3975, 'transaction': 3976, 'opera': 3977, 'julian': 3978, 'mario': 3979, 'marshall': 3980, 'dean': 3981, 'tanker': 3982, 'pending': 3983, 'amanda': 3984, 'fighters': 3985, 'mill': 3986, 'telling': 3987, 'injuring': 3988, 'prepares': 3989, 'waivers': 3990, 'ability': 3991, 'jean': 3992, 'illegally': 3993, 'wage': 3994, 'vikings': 3995, 'mahmoud': 3996, 'goalkeeper': 3997, 'vatican': 3998, 'imf': 3999, 'prior': 4000, 'refinance': 4001, '350': 4002, '87': 4003, 'forcing': 4004, 'rochester': 4005, 'rollover': 4006, 'witness': 4007, 'increasingly': 4008, 'featured': 4009, 'stepped': 4010, 'affair': 4011, 'dramatic': 4012, 'vaccine': 4013, 'shane': 4014, 'musician': 4015, 'roman': 4016, 'prostitution': 4017, 'marked': 4018, 'variety': 4019, 'tracking': 4020, 'stream': 4021, 'photos': 4022, 'voluntary': 4023, 'pharmaceuticals': 4024, 'twenty20': 4025, 'hole': 4026, 'hub': 4027, 'someone': 4028, 'munich': 4029, 'edged': 4030, 'foster': 4031, 'either': 4032, 'wish': 4033, 'mini': 4034, 'temperatures': 4035, 'thrown': 4036, 'vodafone': 4037, 'islam': 4038, 'promises': 4039, 'grammy': 4040, 'brussels': 4041, 'rooney': 4042, 'vision': 4043, 'susan': 4044, 'volleyball': 4045, 'middleton': 4046, 'remote': 4047, 'immigrants': 4048, 'potentially': 4049, 'coaches': 4050, 'mind': 4051, 'heights': 4052, 'visitors': 4053, 'portsmouth': 4054, 'discrimination': 4055, 'quoted': 4056, 'mile': 4057, 'stops': 4058, 'fun': 4059, 'juan': 4060, 'actions': 4061, 'declines': 4062, 'inducted': 4063, 'indies': 4064, 'sessions': 4065, 'torn': 4066, '88': 4067, 'solid': 4068, 'aston': 4069, 'enterprises': 4070, 'beef': 4071, 'spokesperson': 4072, 'significantly': 4073, 'trials': 4074, 'quick': 4075, 'delaware': 4076, 'harper': 4077, 'senators': 4078, 'ottawa': 4079, 'messages': 4080, 'studies': 4081, 'anne': 4082, 'approve': 4083, 'nj': 4084, 'maharashtra': 4085, 'celtic': 4086, 'counter': 4087, 'promoted': 4088, 'guest': 4089, 'allows': 4090, 'addition': 4091, 'chosen': 4092, 'julia': 4093, 'prove': 4094, 'qualifying': 4095, 'operate': 4096, 'corner': 4097, 'stranded': 4098, 'bone': 4099, 'hander': 4100, 'studios': 4101, 'shareholder': 4102, 'external': 4103, 'boosted': 4104, 'bombing': 4105, 'concluded': 4106, 'tyler': 4107, 'possibly': 4108, 'keeps': 4109, 'mubarak': 4110, '78': 4111, 'berlusconi': 4112, 'bans': 4113, 'rolled': 4114, 'efficiency': 4115, 'advice': 4116, 'shock': 4117, 'leeds': 4118, 'pizza': 4119, 'cyclist': 4120, 'gomez': 4121, 'smartphones': 4122, 'shops': 4123, 'bihar': 4124, 'unknown': 4125, 'expenses': 4126, 'rockets': 4127, 'jacksonville': 4128, 'chidambaram': 4129, 'sovereign': 4130, 'riding': 4131, 'replaced': 4132, 'picks': 4133, 'bottom': 4134, 'attempting': 4135, '91': 4136, 'jefferson': 4137, 'poverty': 4138, 'interests': 4139, 'serial': 4140, 'crystal': 4141, 'unlikely': 4142, 'upgrade': 4143, 'chest': 4144, 'buried': 4145, 'costa': 4146, 'developers': 4147, 'theater': 4148, 'commits': 4149, 'answer': 4150, 'brief': 4151, 'economies': 4152, 'jerusalem': 4153, 'abdul': 4154, 'sub': 4155, 'somalia': 4156, 'gene': 4157, 'teens': 4158, 'dad': 4159, 'defenseman': 4160, 'equities': 4161, 'wellington': 4162, 'prospect': 4163, 'holidays': 4164, 'mason': 4165, 'jacob': 4166, 'resolve': 4167, 'neutral': 4168, 'austerity': 4169, 'contractor': 4170, 'babies': 4171, 'gm': 4172, 'settled': 4173, 'salt': 4174, 'string': 4175, 'reserves': 4176, 'proposes': 4177, 'throws': 4178, 'rolls': 4179, 'baseman': 4180, 'computing': 4181, 'commissioners': 4182, 'locations': 4183, 'sep': 4184, 'kenny': 4185, 'weakened': 4186, 'stakes': 4187, 'nobel': 4188, 'affordable': 4189, 'character': 4190, 'mom': 4191, 'carey': 4192, 'rebound': 4193, 'premium': 4194, 'prospects': 4195, 'h1n1': 4196, 'argument': 4197, 'sporting': 4198, 'easter': 4199, 'nissan': 4200, 'blasts': 4201, 'chamber': 4202, 'assignment': 4203, 'browns': 4204, 'muhammad': 4205, 'discharged': 4206, 'apologizes': 4207, 'concerned': 4208, 'slipped': 4209, 'membership': 4210, 'privacy': 4211, 'richmond': 4212, 'angry': 4213, 'milk': 4214, 'trains': 4215, 'outbreak': 4216, 'models': 4217, 'mugabe': 4218, 'cruelty': 4219, 'writing': 4220, 'attempts': 4221, 'cameras': 4222, 'sonia': 4223, 'clinical': 4224, 'appointment': 4225, 'afl': 4226, 'implement': 4227, 'innings': 4228, 'norway': 4229, 'aim': 4230, 'steelers': 4231, 'path': 4232, 'flames': 4233, 'blame': 4234, 'audience': 4235, 'momentum': 4236, 'alongside': 4237, 'shed': 4238, 'jesus': 4239, 'investigated': 4240, 'guards': 4241, 'wheat': 4242, 'torch': 4243, '81': 4244, 'thieves': 4245, 'midnight': 4246, 'airbus': 4247, 'flash': 4248, 'cambridge': 4249, 'apologized': 4250, 'ward': 4251, 'slash': 4252, 'catch': 4253, 'sons': 4254, 'suzuki': 4255, 'braves': 4256, 'wimbledon': 4257, 'telecommunications': 4258, 'reducing': 4259, 'broncos': 4260, 'supermarket': 4261, 'discussed': 4262, 'hunter': 4263, 'consulting': 4264, 'lucky': 4265, 'complaints': 4266, 'arnold': 4267, 'apply': 4268, 'hanging': 4269, 'revised': 4270, 'eat': 4271, 'lakh': 4272, 'emissions': 4273, 'ambulance': 4274, 'jays': 4275, 'unity': 4276, 'potter': 4277, 'followed': 4278, 'universal': 4279, 'favorite': 4280, 'obesity': 4281, 'neck': 4282, 'disappointing': 4283, 'sandy': 4284, 'versus': 4285, 'bishop': 4286, 'uses': 4287, 'mart': 4288, 'northwestern': 4289, 'pregnancy': 4290, 'cyber': 4291, 'dairy': 4292, 'rebel': 4293, 'chart': 4294, 'floods': 4295, 'presidency': 4296, 'porn': 4297, 'cliff': 4298, 'suspend': 4299, 'monitor': 4300, 'celtics': 4301, 'spirit': 4302, 'eating': 4303, 'volunteer': 4304, 'h': 4305, 'surplus': 4306, 'farmer': 4307, 'volume': 4308, 'venezuelan': 4309, 'opinion': 4310, 'watched': 4311, 'greatest': 4312, 'wire': 4313, 'switch': 4314, 'inspired': 4315, 'assange': 4316, 'skipper': 4317, 'words': 4318, 'brooklyn': 4319, 'fernando': 4320, 'acres': 4321, 'abandoned': 4322, 'heroin': 4323, 'donated': 4324, '50th': 4325, 'superior': 4326, 'tops': 4327, 'tommy': 4328, 'licence': 4329, 'bed': 4330, 'occupy': 4331, 'peak': 4332, 'attract': 4333, 'exposure': 4334, 'priority': 4335, 'memphis': 4336, 'marc': 4337, 'ace': 4338, 'johannesburg': 4339, 'shelter': 4340, 'outdoor': 4341, 'performs': 4342, 'nhs': 4343, 'cancel': 4344, 'ham': 4345, 'mean': 4346, 'rumors': 4347, 'seats': 4348, 'maritime': 4349, 'hopeful': 4350, 'assist': 4351, 'involvement': 4352, 'landmark': 4353, 'seed': 4354, 'cycling': 4355, '12th': 4356, 'tribune': 4357, 'transplant': 4358, 'bloomberg': 4359, 'actors': 4360, 'manage': 4361, 'requirements': 4362, 'plunged': 4363, 'swept': 4364, 'gibson': 4365, 'forms': 4366, 'proposals': 4367, 'prevention': 4368, 'advised': 4369, 'recognition': 4370, 'uranium': 4371, 'catches': 4372, 'rod': 4373, 'lil': 4374, 'redskins': 4375, 'hyderabad': 4376, 'celebrations': 4377, 'absence': 4378, 'adopt': 4379, 'ravens': 4380, 'commodities': 4381, 'hostage': 4382, 'filmmaker': 4383, 'bag': 4384, 'oldest': 4385, 'chef': 4386, 'secondary': 4387, 'feared': 4388, 'branches': 4389, 'lottery': 4390, 'promoting': 4391, 'billions': 4392, 'cotton': 4393, 'spencer': 4394, 'htc': 4395, 'seoul': 4396, 'earn': 4397, 'shift': 4398, 'command': 4399, 'tobacco': 4400, 'ken': 4401, 'respond': 4402, 'refinery': 4403, 'portugal': 4404, 'peru': 4405, 'emma': 4406, 'robbie': 4407, 'affiliate': 4408, 'broadcasting': 4409, 'initiatives': 4410, 'broad': 4411, 'montgomery': 4412, 'lawmaker': 4413, 'bmw': 4414, 'petition': 4415, 'grocery': 4416, 'barnes': 4417, 'phillips': 4418, 'christie': 4419, 'inning': 4420, 'auburn': 4421, 'vessel': 4422, 'universities': 4423, 'prostate': 4424, 'gross': 4425, 'misses': 4426, 'rajasthan': 4427, 'workshop': 4428, 'topped': 4429, 'apa': 4430, 'manufacturers': 4431, 'dj': 4432, 'feed': 4433, 'documentary': 4434, 'blake': 4435, 'unable': 4436, 'clothes': 4437, '20th': 4438, 'yes': 4439, 'accusing': 4440, 'cinema': 4441, 'seeing': 4442, 'danger': 4443, 'priest': 4444, 'uncertainty': 4445, 'karzai': 4446, 'suffer': 4447, '92': 4448, 'rider': 4449, 'aggravated': 4450, 'rodriguez': 4451, 'warn': 4452, 'haryana': 4453, 'luke': 4454, 'refugees': 4455, 'pranab': 4456, 'meat': 4457, 'gasoline': 4458, 'sick': 4459, 'abbas': 4460, 'heidi': 4461, 'emotional': 4462, 'makers': 4463, 'rahul': 4464, 'xinhua': 4465, 'ferrari': 4466, 'karachi': 4467, 'favourite': 4468, 'electrical': 4469, 'slide': 4470, 'donald': 4471, 'bryant': 4472, 'identify': 4473, 'yard': 4474, 'overhaul': 4475, 'drowns': 4476, 'improves': 4477, 'strauss': 4478, 'papers': 4479, 'constitutional': 4480, 'privately': 4481, 'belgium': 4482, 'acts': 4483, 'unidentified': 4484, 'netanyahu': 4485, 'beverly': 4486, 'tri': 4487, 'pervez': 4488, 'audio': 4489, 'nancy': 4490, 'thanksgiving': 4491, 'recognized': 4492, 'merkel': 4493, 'sharif': 4494, 'trades': 4495, 'remember': 4496, 'salem': 4497, 'max': 4498, 'dmitry': 4499, 'drove': 4500, 'phillies': 4501, 'ashton': 4502, 'alberta': 4503, 'songwriter': 4504, 'condemns': 4505, 'client': 4506, 'attending': 4507, 'sense': 4508, 'mitchell': 4509, 'dozen': 4510, 'eased': 4511, 'hate': 4512, 'conservation': 4513, 'finland': 4514, 'manhattan': 4515, 'integration': 4516, 'coroner': 4517, 'stem': 4518, 'abusing': 4519, 'corps': 4520, 'tributes': 4521, 'branded': 4522, 'bids': 4523, 'refusing': 4524, 'heath': 4525, 'nightclub': 4526, 'louisville': 4527, 'compliance': 4528, 'naked': 4529, 'bernard': 4530, 'pentagon': 4531, 'fares': 4532, 'regulations': 4533, 'sisters': 4534, 'robinson': 4535, 'roberto': 4536, 'comment': 4537, 'deer': 4538, 'rapid': 4539, 'bolton': 4540, 'achieved': 4541, 'oracle': 4542, 'ownership': 4543, 'smaller': 4544, 'gunmen': 4545, 'airports': 4546, 'artists': 4547, 'aggressive': 4548, 'ships': 4549, 'honour': 4550, '110': 4551, 'eur': 4552, 'preseason': 4553, 'liquor': 4554, 'owen': 4555, 'praises': 4556, 'underway': 4557, 'websites': 4558, 'federer': 4559, 'randy': 4560, 'nadu': 4561, 'drawing': 4562, 'todd': 4563, 'mel': 4564, 'titled': 4565, 'spoke': 4566, 'norwegian': 4567, 'ronaldo': 4568, 'chances': 4569, 'steal': 4570, 'guarantee': 4571, 'robber': 4572, 'slump': 4573, 'gen': 4574, '2005': 4575, 'lovato': 4576, 'burn': 4577, 'unrest': 4578, 'timberlake': 4579, 'childhood': 4580, '94': 4581, 'bayern': 4582, 'basic': 4583, 'glass': 4584, 'detention': 4585, 'disputed': 4586, 'scoring': 4587, 'vacant': 4588, 'simple': 4589, 'cisco': 4590, 'holy': 4591, 'slashed': 4592, 'warm': 4593, 'transition': 4594, 'outfit': 4595, 'robbing': 4596, 'amitabh': 4597, 'lion': 4598, 'throw': 4599, 'yemeni': 4600, 'quinn': 4601, 'lily': 4602, 'completely': 4603, 'postal': 4604, 'importance': 4605, 'regulator': 4606, 'spectrum': 4607, 'tendulkar': 4608, 'species': 4609, 'ann': 4610, 'default': 4611, 'magnitude': 4612, 'moss': 4613, 'blaze': 4614, 'odds': 4615, 'determine': 4616, 'judiciary': 4617, 'easing': 4618, '99': 4619, 'confirm': 4620, 'roles': 4621, 'placement': 4622, 'nature': 4623, 'quoting': 4624, 'castro': 4625, 'mega': 4626, 'vital': 4627, 'slowed': 4628, 'sachin': 4629, 'estranged': 4630, 'fireworks': 4631, 'lifetime': 4632, 'syed': 4633, 'scare': 4634, 'xbox': 4635, 'values': 4636, 'peaceful': 4637, 'frozen': 4638, 'necessary': 4639, 'uttar': 4640, 'honorary': 4641, 'prisoner': 4642, 'opec': 4643, 'enjoy': 4644, 'titles': 4645, 'promising': 4646, 'selena': 4647, 'automaker': 4648, 'rumours': 4649, 'viewers': 4650, 'professionals': 4651, 'lakes': 4652, 'lived': 4653, 'directly': 4654, 'piece': 4655, 'screening': 4656, 'edmonton': 4657, 'attended': 4658, 'finger': 4659, 'contain': 4660, '89': 4661, 'jake': 4662, 'escapes': 4663, 'shared': 4664, 'predicted': 4665, '130': 4666, 'nintendo': 4667, 'comic': 4668, '360': 4669, 'evasion': 4670, 'athens': 4671, 'politician': 4672, 'athletics': 4673, 'cbi': 4674, 'ericsson': 4675, 'iconic': 4676, 'suburban': 4677, 'dame': 4678, 'sheikh': 4679, 'pioneer': 4680, 'clerk': 4681, 'jewelry': 4682, '03': 4683, 'aboard': 4684, 'ski': 4685, 'newest': 4686, 'gambling': 4687, 'grain': 4688, 'teaching': 4689, 'apology': 4690, 'schwarzenegger': 4691, 'hu': 4692, 'wwe': 4693, 'warehouse': 4694, 'anc': 4695, 'endorse': 4696, 'creation': 4697, 'winners': 4698, 'serbian': 4699, 'mars': 4700, 'reviews': 4701, 'consumption': 4702, 'deposit': 4703, 'surrounding': 4704, 'whitney': 4705, 'z': 4706, 'overcome': 4707, 'subject': 4708, 'crushed': 4709, 'wages': 4710, 'elbow': 4711, 'lows': 4712, 'offset': 4713, 'hailed': 4714, 'suggesting': 4715, 'cool': 4716, 'planes': 4717, 'freeze': 4718, 'wasn': 4719, 'playoffs': 4720, 'newton': 4721, 'applied': 4722, 'governance': 4723, 'wenger': 4724, 'particularly': 4725, 'flagship': 4726, 'grid': 4727, 'mahindra': 4728, 'bernanke': 4729, 'observed': 4730, 'graduate': 4731, '100th': 4732, 'martinez': 4733, 'mines': 4734, 'survived': 4735, 'guitarist': 4736, 'ninth': 4737, 'brewers': 4738, 'upgrades': 4739, '01': 4740, 'offences': 4741, 'easily': 4742, 'ultimate': 4743, 'wolves': 4744, 'scenes': 4745, 'watchdog': 4746, 'counterpart': 4747, 'destination': 4748, 'younger': 4749, 'investing': 4750, 'titans': 4751, 'beautiful': 4752, 'blair': 4753, 'capture': 4754, 'operational': 4755, 'dennis': 4756, 'unbeaten': 4757, 'diplomat': 4758, 'combined': 4759, 'rental': 4760, 'posting': 4761, 'abducted': 4762, 'publishing': 4763, 'colleges': 4764, 'pacquiao': 4765, 'ballot': 4766, 'formal': 4767, 'playstation': 4768, 'osbourne': 4769, 'advances': 4770, 'accidents': 4771, 'specialty': 4772, 'sacked': 4773, 'defeats': 4774, 'discussion': 4775, 'sing': 4776, 'survive': 4777, 'census': 4778, 'pastor': 4779, 'hasn': 4780, 'tractor': 4781, 'pga': 4782, 'skip': 4783, 'rivers': 4784, 'slowing': 4785, 'elton': 4786, 'minneapolis': 4787, 'borrowing': 4788, 'widespread': 4789, 'poker': 4790, 'sitting': 4791, 'lights': 4792, 'newark': 4793, 'inmates': 4794, 'racist': 4795, 'permits': 4796, 'print': 4797, 'pride': 4798, 'pink': 4799, 'bashar': 4800, 'surged': 4801, 'diseases': 4802, 'ceasefire': 4803, 'rapids': 4804, 'rocker': 4805, 'hamid': 4806, 'suv': 4807, 'briefly': 4808, 'insider': 4809, 'shell': 4810, 'canadians': 4811, 'hybrid': 4812, 'decisions': 4813, 'miners': 4814, 'ist': 4815, 'pleading': 4816, 'extreme': 4817, 'baku': 4818, '02': 4819, 'doubled': 4820, 'emmy': 4821, 'civilian': 4822, 'unless': 4823, 'omaha': 4824, 'bags': 4825, 'hungary': 4826, 'boycott': 4827, 'collapses': 4828, 'centres': 4829, 'abbott': 4830, 'verdict': 4831, 'gunman': 4832, 'individuals': 4833, 'maximum': 4834, 'pickup': 4835, 'larger': 4836, 'staged': 4837, 'cheating': 4838, 'fled': 4839, 'signal': 4840, 'ahmed': 4841, 'marion': 4842, 'pledge': 4843, 'romanian': 4844, 'murdoch': 4845, 'uefa': 4846, 'tape': 4847, 'sit': 4848, 'empire': 4849, 'diplomats': 4850, 'ubs': 4851, 'delivers': 4852, 'climbed': 4853, 'gillard': 4854, 'eyes': 4855, '1st': 4856, 'lease': 4857, 'monroe': 4858, 'seahawks': 4859, 'numerous': 4860, 'nominations': 4861, 'looked': 4862, 'surveillance': 4863, 'hometown': 4864, 'channels': 4865, 'dress': 4866, 'marcus': 4867, 'gallagher': 4868, 'donations': 4869, 'decrease': 4870, 'heavily': 4871, 'cope': 4872, 'leon': 4873, 'staying': 4874, 'argentine': 4875, 'parole': 4876, 'donates': 4877, 'juventus': 4878, 'christopher': 4879, 'infant': 4880, 'volatile': 4881, 'gathered': 4882, 'valued': 4883, 'educational': 4884, 'fat': 4885, 'blind': 4886, 'shoppers': 4887, 'enable': 4888, 'nurse': 4889, 'runway': 4890, 'promise': 4891, 'moderate': 4892, 'nearby': 4893, 'seminar': 4894, 'wildfire': 4895, 'novel': 4896, 'dam': 4897, 'violation': 4898, 'sandra': 4899, 'broadcaster': 4900, 'evacuation': 4901, 'pollution': 4902, 'wings': 4903, 'designated': 4904, 'engineers': 4905, 'declining': 4906, 'myers': 4907, 'telephone': 4908, 'assam': 4909, 'crowned': 4910, 'challenging': 4911, 'kabul': 4912, 'flow': 4913, 'norwich': 4914, 'household': 4915, 'baldwin': 4916, 'maruti': 4917, 'obtained': 4918, 'critics': 4919, 'semiconductor': 4920, 'nrl': 4921, 'chemicals': 4922, 'pump': 4923, 'replacement': 4924, 'colin': 4925, 'brush': 4926, 'locked': 4927, 'rebounds': 4928, 'races': 4929, 'permission': 4930, 'definitive': 4931, 'pilgrims': 4932, 'disclosed': 4933, 'letters': 4934, 'northeastern': 4935, 'baker': 4936, 'warming': 4937, 'diet': 4938, 'machines': 4939, 'tag': 4940, 'blackburn': 4941, 'destroys': 4942, 'doubles': 4943, 'enhanced': 4944, 'datuk': 4945, 'ferry': 4946, 'dumped': 4947, 'stripped': 4948, 'ranking': 4949, 'soul': 4950, 'entitled': 4951, 'polish': 4952, 'glasgow': 4953, 'eva': 4954, 'appoint': 4955, 'homeowners': 4956, 'slam': 4957, 'spy': 4958, '93': 4959, 'youths': 4960, 'newspapers': 4961, 'clarke': 4962, 'updates': 4963, 'charging': 4964, 'desert': 4965, 'happen': 4966, 'luis': 4967, 'declare': 4968, 'theme': 4969, 'lloyd': 4970, 'rupert': 4971, 'soft': 4972, 'cardiff': 4973, 'desperate': 4974, 'newman': 4975, 'missiles': 4976, 'serena': 4977, 'slams': 4978, 'jonas': 4979, 'wichita': 4980, 'easier': 4981, 'tibet': 4982, 'teenagers': 4983, 'coastal': 4984, 'sponsored': 4985, 'representing': 4986, 'punishment': 4987, 'agenda': 4988, 'mad': 4989, 'gate': 4990, 'aberdeen': 4991, 'sc': 4992, 'plot': 4993, 'occupied': 4994, 'stuck': 4995, 'guru': 4996, 'amber': 4997, 'tibetan': 4998, 'reward': 4999, 'behaviour': 5000, 'treaty': 5001, 'triggered': 5002, 'pulling': 5003, 'tribunal': 5004, 'administrative': 5005, 'blocked': 5006, 'purchases': 5007, 'gear': 5008, 'bounce': 5009, 'bowling': 5010, 'pretty': 5011, 'amendment': 5012, 'inaugurated': 5013, 'breakfast': 5014, 'differences': 5015, 'submitted': 5016, 'closely': 5017, 'angel': 5018, 'duties': 5019, 'xvi': 5020, 'institution': 5021, 'longest': 5022, 'â': 5023, 'rallies': 5024, 'engineer': 5025, 'damages': 5026, 'farms': 5027, 'implementation': 5028, 'oath': 5029, 'apart': 5030, 'cautious': 5031, 'mystery': 5032, 'eliminate': 5033, 'beyonce': 5034, 'des': 5035, 'apologised': 5036, 'floyd': 5037, 'download': 5038, 'philip': 5039, 'inaugural': 5040, 'continental': 5041, '750': 5042, 'mariners': 5043, 'cruz': 5044, 'robberies': 5045, 'raj': 5046, 'arctic': 5047, 'tmz': 5048, 'capable': 5049, 'speedway': 5050, 'expensive': 5051, 'filled': 5052, 'lynch': 5053, 'swat': 5054, 'sweep': 5055, 'suu': 5056, 'kyi': 5057, 'roadside': 5058, '2004': 5059, 'racial': 5060, 'wal': 5061, 'dirty': 5062, 'aide': 5063, 'outlets': 5064, 'fought': 5065, 'cheney': 5066, 'grown': 5067, 'buses': 5068, 'extremely': 5069, 'optimism': 5070, 'mild': 5071, 'ethnic': 5072, 'garage': 5073, 'pa': 5074, 'levy': 5075, 'furniture': 5076, 'exploded': 5077, 'le': 5078, 'declaration': 5079, 'buffett': 5080, 'responded': 5081, 'reds': 5082, 'convenience': 5083, 'ca': 5084, 'seniors': 5085, 'bombs': 5086, 'oscars': 5087, 'chicken': 5088, 'vulnerable': 5089, '101': 5090, 'academic': 5091, 'installed': 5092, 'burglaries': 5093, 'elephant': 5094, 'quiet': 5095, 'crop': 5096, 'princess': 5097, 'mayer': 5098, 'fi': 5099, 'hsbc': 5100, 'knew': 5101, 'inquest': 5102, 'shape': 5103, 'referendum': 5104, 'orioles': 5105, 'ram': 5106, 'vince': 5107, 'quebec': 5108, 'herald': 5109, 'freight': 5110, 'insurer': 5111, 'albany': 5112, 'substance': 5113, 'dawn': 5114, 'suite': 5115, 'appealing': 5116, 'badly': 5117, 'coleman': 5118, 'aiming': 5119, 'medals': 5120, 'frontman': 5121, 'severely': 5122, 'clooney': 5123, 'understand': 5124, 'kitchen': 5125, 'gather': 5126, 'prestigious': 5127, 'taipei': 5128, 'boxer': 5129, 'regulation': 5130, 'reverse': 5131, 'reconciliation': 5132, 'spurs': 5133, 'strengthened': 5134, 'billboard': 5135, 'intent': 5136, 'widely': 5137, 'archbishop': 5138, 'retain': 5139, 'nathan': 5140, 'boyle': 5141, 'sena': 5142, 'thackeray': 5143, 'thinking': 5144, 'ethics': 5145, 'berry': 5146, 'itunes': 5147, 'downgrades': 5148, 'misconduct': 5149, 'fill': 5150, 'crunch': 5151, 'bench': 5152, 'spreading': 5153, 'originally': 5154, 'definitely': 5155, 'collided': 5156, 'norfolk': 5157, 'mentally': 5158, 'mohammed': 5159, 'achieve': 5160, 'lifestyle': 5161, 'damascus': 5162, 'medicare': 5163, 'employer': 5164, 'pack': 5165, 'trooper': 5166, 'angela': 5167, 'grave': 5168, 'lt': 5169, 'commit': 5170, 'insurgents': 5171, 'survival': 5172, 'bros': 5173, 'advisor': 5174, 'yuan': 5175, 'pensions': 5176, 'shark': 5177, 'scrap': 5178, 'ads': 5179, 'tips': 5180, 'charleston': 5181, 'syracuse': 5182, 'acquitted': 5183, 'batsman': 5184, 'osama': 5185, 'chad': 5186, 'autism': 5187, 'shootout': 5188, 'fundraising': 5189, 'relay': 5190, 'underground': 5191, 'medium': 5192, 'christchurch': 5193, 'boosting': 5194, 'southeastern': 5195, 'unanimously': 5196, 'covering': 5197, 'deported': 5198, 'vanessa': 5199, 'hull': 5200, 'responding': 5201, 'runner': 5202, 'confessed': 5203, 'whom': 5204, 'calm': 5205, 'freddie': 5206, 'oak': 5207, 'ancient': 5208, 'amnesty': 5209, 'chronic': 5210, 'refugee': 5211, 'ridge': 5212, 'pneumonia': 5213, 'singing': 5214, 'therapy': 5215, 'creator': 5216, 'views': 5217, 'jong': 5218, 'fix': 5219, 'indicated': 5220, 'bust': 5221, 'vacation': 5222, 'statements': 5223, 'ms': 5224, 'qualify': 5225, 'loved': 5226, 'conrad': 5227, 'brent': 5228, 'pose': 5229, 'worried': 5230, 'document': 5231, 'pricing': 5232, 'towns': 5233, 'angels': 5234, 'fugitive': 5235, 'bowler': 5236, 'allies': 5237, 'bronze': 5238, 'completion': 5239, 'lahore': 5240, 'striking': 5241, 'bullock': 5242, 'apr': 5243, 'delivering': 5244, 'prompting': 5245, 'breach': 5246, 'expo': 5247, 'newport': 5248, 'harvest': 5249, 'defeating': 5250, 'francis': 5251, 'butler': 5252, 'kicking': 5253, 'unprecedented': 5254, 'birds': 5255, 'wounds': 5256, 'discount': 5257, 'nz': 5258, 'denmark': 5259, 'harbor': 5260, 'swap': 5261, 'accepts': 5262, 'boats': 5263, 'lesbian': 5264, 'domain': 5265, 'availability': 5266, 'fundraiser': 5267, 'weakness': 5268, 'xi': 5269, 'tesco': 5270, 'pupils': 5271, 'lineman': 5272, 'q': 5273, 'disorder': 5274, 'tablets': 5275, 'smuggling': 5276, 'thriller': 5277, 'intersection': 5278, 'austria': 5279, '25th': 5280, 'largely': 5281, 'eliminated': 5282, 'inspection': 5283, 'recruiting': 5284, 'thousand': 5285, 'vermont': 5286, 'hop': 5287, 'disciplinary': 5288, 'curb': 5289, 'overdose': 5290, 'broker': 5291, 'spin': 5292, 'na': 5293, 'peninsula': 5294, 'developments': 5295, 'retained': 5296, 'narrowly': 5297, 'zambia': 5298, 'keys': 5299, 'jumps': 5300, 'origin': 5301, 'scientist': 5302, 'executed': 5303, 'maintained': 5304, 'bolt': 5305, 'genocide': 5306, 'lp': 5307, 'turner': 5308, 'ppp': 5309, 'joel': 5310, 'remembered': 5311, 'riot': 5312, 'swansea': 5313, 'anchor': 5314, 'renowned': 5315, 'citizenship': 5316, 'replacing': 5317, 'sustainability': 5318, 'lunch': 5319, 'essential': 5320, 'cuomo': 5321, 'corn': 5322, 'midwest': 5323, 'bosses': 5324, 'rehabilitation': 5325, 'opponents': 5326, 'server': 5327, 'ebay': 5328, 'glenn': 5329, 'participation': 5330, 'wheel': 5331, 'sheffield': 5332, 'belt': 5333, 'tragedy': 5334, 'hazare': 5335, 'molesting': 5336, 'ally': 5337, 'twilight': 5338, 'seconds': 5339, 'fights': 5340, 'lifts': 5341, 'selects': 5342, 'roma': 5343, 'backing': 5344, 'audit': 5345, 'questioned': 5346, 'mo': 5347, 'exporters': 5348, 'mccarthy': 5349, 'mainly': 5350, 'ucla': 5351, 'policeman': 5352, 'silicon': 5353, 'mate': 5354, 'intervention': 5355, 'tens': 5356, 'knot': 5357, 'deposits': 5358, 'sioux': 5359, 'brady': 5360, 'defamation': 5361, 'ecuador': 5362, 'pledges': 5363, 'newborn': 5364, 'fresno': 5365, 'platinum': 5366, 'hearts': 5367, 'calgary': 5368, 'orissa': 5369, 'packers': 5370, 'glee': 5371, 'harassment': 5372, 'bolster': 5373, 'merge': 5374, 'fantasy': 5375, 'santorum': 5376, 'yields': 5377, 'lab': 5378, 'influential': 5379, 'organised': 5380, 'ipl': 5381, 'norman': 5382, 'strain': 5383, 'navigation': 5384, 'tension': 5385, 'pattern': 5386, 'warnings': 5387, 'touched': 5388, 'preferred': 5389, 'efficient': 5390, 'shoes': 5391, 'unpaid': 5392, 'invitation': 5393, 'darren': 5394, 'dna': 5395, 'licenses': 5396, 'substantial': 5397, 'mercedes': 5398, 'bruins': 5399, 'composer': 5400, 'execution': 5401, 'equal': 5402, 'simply': 5403, 'chair': 5404, 'borders': 5405, 'oprah': 5406, 'heroes': 5407, 'suisse': 5408, 'difference': 5409, 'packaging': 5410, 'finnish': 5411, 'welsh': 5412, 'grace': 5413, 'favour': 5414, 'richards': 5415, 'andhra': 5416, 'framework': 5417, 'departments': 5418, 'turkmenistan': 5419, 'kahn': 5420, 'dental': 5421, 'et': 5422, 'manny': 5423, 'pharmacy': 5424, 'wrestling': 5425, 'fred': 5426, 'encouraged': 5427, 'aside': 5428, 'kutcher': 5429, 'reopens': 5430, 'bhp': 5431, 'depp': 5432, 'transferred': 5433, 'oman': 5434, 'weighed': 5435, 'rams': 5436, 'paso': 5437, 'nude': 5438, 'lambert': 5439, 'behalf': 5440, 'sensation': 5441, 'wars': 5442, 'capabilities': 5443, 'jane': 5444, 'mariah': 5445, 'michele': 5446, 'planet': 5447, 'recommended': 5448, 'occasion': 5449, 'proceedings': 5450, 'jpmorgan': 5451, 'jamaica': 5452, 'crossed': 5453, 'ivory': 5454, 'hugh': 5455, 'criminals': 5456, 'reed': 5457, 'chargers': 5458, 'catcher': 5459, 'writers': 5460, 'logistics': 5461, 'choose': 5462, 'apps': 5463, 'impressive': 5464, 'rubber': 5465, 'bradford': 5466, 'woes': 5467, 'projected': 5468, 'belgian': 5469, 'liver': 5470, 'swing': 5471, 'jewellery': 5472, 'licensing': 5473, 'hang': 5474, 'exposed': 5475, 'renew': 5476, 'statewide': 5477, '125': 5478, 'wigan': 5479, 'micro': 5480, 'affecting': 5481, 'knows': 5482, 'organized': 5483, 'spiritual': 5484, 'explore': 5485, 'favor': 5486, 'maintains': 5487, 'arbitration': 5488, 'trends': 5489, 'innocent': 5490, 'cement': 5491, 'gaining': 5492, 'ashes': 5493, 'economist': 5494, 'pact': 5495, 'atomic': 5496, '18th': 5497, 'hardware': 5498, 'rudd': 5499, 'lucas': 5500, 'icc': 5501, 'malta': 5502, 'naomi': 5503, 'trump': 5504, 'mclaren': 5505, 'albert': 5506, 'assessment': 5507, 'toss': 5508, 'ryanair': 5509, 'creates': 5510, 'athlete': 5511, 'blocks': 5512, 'bancorp': 5513, 'hartford': 5514, 'monsoon': 5515, 'likes': 5516, 'distributor': 5517, 'rankings': 5518, 'drill': 5519, 'stemming': 5520, 'autopsy': 5521, 'sharma': 5522, 'silence': 5523, 'colombo': 5524, 'detective': 5525, 'horses': 5526, '2000': 5527, 'recruit': 5528, 'lg': 5529, 'narendra': 5530, 'drinks': 5531, 'harvard': 5532, 'aguilera': 5533, 'walsh': 5534, 'consensus': 5535, 'resulted': 5536, 'ethiopia': 5537, 'represent': 5538, 'wyoming': 5539, 'talked': 5540, '3g': 5541, 'thomson': 5542, 'mamata': 5543, 'clearing': 5544, 'richardson': 5545, 'indefinite': 5546, 'readers': 5547, 'cycle': 5548, 'morris': 5549, 'vendor': 5550, 'sanchez': 5551, 'tentative': 5552, 'guidelines': 5553, '2nd': 5554, 'apologises': 5555, 'bullet': 5556, '96': 5557, 'recruitment': 5558, 'strategies': 5559, 'bang': 5560, 'bennett': 5561, 'rockies': 5562, 'blacks': 5563, 'hospitalised': 5564, 'arrival': 5565, 'ge': 5566, 'excessive': 5567, 'infringement': 5568, 'starbucks': 5569, 'railways': 5570, 'listing': 5571, 'housewives': 5572, 'mcdonald': 5573, 'climb': 5574, 'statue': 5575, 'penguins': 5576, 'brien': 5577, 'grass': 5578, 'nawaz': 5579, 'trainer': 5580, 'emerge': 5581, 'southwestern': 5582, 'beta': 5583, 'button': 5584, 'doubt': 5585, 'complications': 5586, 'kid': 5587, 'th': 5588, 'preparation': 5589, 'rocky': 5590, 'golfer': 5591, 'indefinitely': 5592, 'appointments': 5593, 'install': 5594, 'fines': 5595, 'rbi': 5596, 'depot': 5597, 'indecent': 5598, 'mohammad': 5599, 'cricketer': 5600, 'civic': 5601, 'acclaimed': 5602, 'imran': 5603, 'checkpoint': 5604, 'bankers': 5605, 'bryan': 5606, 'leaked': 5607, 'nice': 5608, 'risen': 5609, 'thin': 5610, 'hiding': 5611, 'mounting': 5612, 'eyed': 5613, 'booked': 5614, 'demonstration': 5615, 'challenged': 5616, 'peterson': 5617, 'handling': 5618, 'eds': 5619, 'bath': 5620, 'crush': 5621, 'mercury': 5622, 'assured': 5623, 'portal': 5624, 'container': 5625, 'romance': 5626, 'sierra': 5627, 'routine': 5628, 'tulsa': 5629, 'hamburg': 5630, 'raja': 5631, 'maple': 5632, 'concept': 5633, 'certification': 5634, 'mt': 5635, '14th': 5636, 'wickets': 5637, 'tsvangirai': 5638, 'shield': 5639, 'correspondent': 5640, 'tours': 5641, 'harrison': 5642, 'moody': 5643, 'reliever': 5644, 'neighbours': 5645, 'footballer': 5646, 'giffords': 5647, 'firearms': 5648, 'burst': 5649, 'subscribers': 5650, 'rovers': 5651, 'sap': 5652, 'controls': 5653, 'colts': 5654, 'carroll': 5655, 'couldn': 5656, '15th': 5657, 'doubleheader': 5658, 'catherine': 5659, 'ones': 5660, 'prosecution': 5661, 'il': 5662, 'withdrew': 5663, 'jakarta': 5664, 'waived': 5665, '7th': 5666, 'suggest': 5667, 'cedar': 5668, 'benjamin': 5669, 'guinea': 5670, 'wholly': 5671, 'laura': 5672, 'exciting': 5673, 'prompted': 5674, 'reiterated': 5675, 'camps': 5676, 'manning': 5677, 'hathaway': 5678, 'turmoil': 5679, 'bonuses': 5680, 'christians': 5681, 'protesting': 5682, 'contractors': 5683, 'explosive': 5684, 'appearing': 5685, 'admitting': 5686, 'else': 5687, 'essex': 5688, 'nasdaq': 5689, 'superintendent': 5690, 'load': 5691, 'brook': 5692, 'electoral': 5693, 'map': 5694, 'plunge': 5695, 'mae': 5696, 'boulevard': 5697, 'silvio': 5698, 'kingston': 5699, 'austrian': 5700, 'kg': 5701, 'ranch': 5702, 'thunder': 5703, 'stones': 5704, 'discover': 5705, 'eco': 5706, 'understanding': 5707, 'riverside': 5708, 'siemens': 5709, 'magistrate': 5710, 'colleagues': 5711, 'sindh': 5712, 'powered': 5713, 'ventures': 5714, 'omar': 5715, 'concerts': 5716, 'dvd': 5717, 'sebastian': 5718, 'nyc': 5719, 'discussions': 5720, 'lexington': 5721, 'timothy': 5722, 'recovers': 5723, 'cemetery': 5724, 'johansson': 5725, 'jintao': 5726, 'relatives': 5727, 'garcia': 5728, 'insisting': 5729, 'wishes': 5730, 'universe': 5731, 'cornerback': 5732, 'ave': 5733, 'quest': 5734, 'tinto': 5735, 'wade': 5736, 'ideas': 5737, 'pursue': 5738, 'circumstances': 5739, 'km': 5740, 'tip': 5741, 'horror': 5742, 'oxford': 5743, 'nurses': 5744, 'sentencing': 5745, 'qb': 5746, 'cardiac': 5747, 'noble': 5748, 'renews': 5749, 'taxpayers': 5750, 'alleging': 5751, 'suburb': 5752, 'neighbor': 5753, 'carpet': 5754, 'pml': 5755, 'stages': 5756, 'par': 5757, 'edinburgh': 5758, 'tire': 5759, 'connected': 5760, 'patil': 5761, 'issuing': 5762, 'acquiring': 5763, 'adrian': 5764, 'conn': 5765, 'willing': 5766, 'religion': 5767, 'subway': 5768, 'activated': 5769, 'celebrities': 5770, 'gallery': 5771, 'metropolitan': 5772, 'romantic': 5773, 'lock': 5774, 'witherspoon': 5775, 'swim': 5776, 'donation': 5777, 'attractive': 5778, 'economists': 5779, 'urge': 5780, 'fulham': 5781, 'holder': 5782, 'tripoli': 5783, 'settles': 5784, 'proved': 5785, 'procedure': 5786, 'exactly': 5787, 'buzz': 5788, 'nile': 5789, 'wi': 5790, 'da': 5791, 'sec': 5792, 'lisa': 5793, 'cream': 5794, 'restraining': 5795, 'molestation': 5796, 'historical': 5797, 'donate': 5798, 'answers': 5799, 'aren': 5800, 'splits': 5801, 'lowered': 5802, '17th': 5803, 'rounds': 5804, 'absolutely': 5805, 'muammar': 5806, 'stick': 5807, 'stretch': 5808, 'sofia': 5809, 'fleeing': 5810, 'du': 5811, 'arsene': 5812, 'grounds': 5813, 'mohamed': 5814, 'henderson': 5815, 'muscle': 5816, 'sensitive': 5817, 'windsor': 5818, 'djokovic': 5819, 'acquisitions': 5820, 'soaring': 5821, 'diaz': 5822, '160': 5823, 'burglar': 5824, 'airtel': 5825, 'noel': 5826, 'extraordinary': 5827, 'kiss': 5828, 'explain': 5829, 'wii': 5830, 'gathering': 5831, 'yellow': 5832, 'paterson': 5833, 'personality': 5834, 'genetic': 5835, 'neal': 5836, 'speeding': 5837, 'migrants': 5838, 'hungarian': 5839, 'renault': 5840, 'struggles': 5841, 'praise': 5842, 'torture': 5843, 'accounting': 5844, 'contribution': 5845, 'winnipeg': 5846, 'slated': 5847, 'contribute': 5848, 'specific': 5849, 'stoke': 5850, 'gray': 5851, 'quarterfinals': 5852, 'uganda': 5853, 'offense': 5854, 'qualifier': 5855, 'holders': 5856, '2016': 5857, '97': 5858, 'meant': 5859, 'tumor': 5860, 'knicks': 5861, 'cox': 5862, 'parked': 5863, 'arraigned': 5864, 'sanjay': 5865, 'declaring': 5866, 'yorkshire': 5867, 'thief': 5868, '911': 5869, 'analytics': 5870, 'sorry': 5871, 'drives': 5872, 'cues': 5873, 'expelled': 5874, 'challenger': 5875, 'borough': 5876, 'destroy': 5877, 'durham': 5878, 'doherty': 5879, 'survives': 5880, '13th': 5881, 'duo': 5882, 'busch': 5883, 'boris': 5884, 'nose': 5885, 'tel': 5886, 'michaels': 5887, 'addressed': 5888, 'glen': 5889, 'leonardo': 5890, 'garbage': 5891, 'meters': 5892, 'elite': 5893, 'overturned': 5894, 'walter': 5895, 'hezbollah': 5896, 'favre': 5897, 'canal': 5898, 'warrants': 5899, 'spell': 5900, 'miner': 5901, 'ports': 5902, 'reese': 5903, 'alberto': 5904, 'bottle': 5905, 'withdrawal': 5906, 'wouldn': 5907, 'strengthening': 5908, 'bundesliga': 5909, 'td': 5910, 'ellen': 5911, 'remanded': 5912, 'unified': 5913, 'harvey': 5914, 'veto': 5915, 'travelling': 5916, 'improvements': 5917, 'vijay': 5918, '140': 5919, 'threaten': 5920, 'fabio': 5921, 'convertible': 5922, 'danish': 5923, 'pratt': 5924, 'covered': 5925, 'backup': 5926, 'plate': 5927, 'hd': 5928, 'semifinals': 5929, 'offenders': 5930, 'minaj': 5931, 'policemen': 5932, 'purchased': 5933, 'laundering': 5934, 'require': 5935, 'vincent': 5936, 'astronaut': 5937, 'collective': 5938, 'upa': 5939, 'rainfall': 5940, 'liquidity': 5941, 'length': 5942, 'mansion': 5943, 'notre': 5944, '4th': 5945, 'voter': 5946, 'bitter': 5947, 'megan': 5948, 'spoken': 5949, 'janata': 5950, 'supermodel': 5951, 'rehman': 5952, 'canyon': 5953, 'sponsorship': 5954, 'goa': 5955, 'derek': 5956, 'hbo': 5957, 'intended': 5958, 'hijacked': 5959, 'mortgages': 5960, 'disappointed': 5961, 'modest': 5962, 'qualified': 5963, 'circle': 5964, 'scarlett': 5965, 'va': 5966, 'debts': 5967, '180': 5968, 'govt': 5969, 'participating': 5970, 'qaida': 5971, 'travis': 5972, 'karl': 5973, 'webber': 5974, 'owns': 5975, 'bridges': 5976, 'sullivan': 5977, 'pipe': 5978, 'retreat': 5979, 'cannabis': 5980, 'cheap': 5981, 'pan': 5982, 'mountains': 5983, 'tunisia': 5984, 'margaret': 5985, 'nicki': 5986, 'journey': 5987, 'lessons': 5988, 'hanged': 5989, 'manila': 5990, 'outage': 5991, 'secures': 5992, 'handle': 5993, 'finances': 5994, 'campaigns': 5995, 'courses': 5996, 'symbol': 5997, 'portion': 5998, 'sudden': 5999, 'minn': 6000, 'stories': 6001, 'turbine': 6002, 'concrete': 6003, 'wallace': 6004, 'sheet': 6005, 'percentage': 6006, 'throat': 6007, 'ditch': 6008, 'kenyan': 6009, 'intensive': 6010, 'polling': 6011, 'imported': 6012, '2002': 6013, 'maoist': 6014, 'dismisses': 6015, 'bout': 6016, 'kirk': 6017, 'acute': 6018, 'excited': 6019, 'surface': 6020, 'tucson': 6021, 'gilbert': 6022, 'chopra': 6023, 'jharkhand': 6024, 'orchestra': 6025, '225': 6026, 'coyotes': 6027, 'blagojevich': 6028, 'somerset': 6029, 'ipo': 6030, 'courthouse': 6031, 'manuel': 6032, 'walmart': 6033, 'reduces': 6034, 'ages': 6035, 'drawn': 6036, 'components': 6037, 'jumping': 6038, 'mosque': 6039, 'posed': 6040, 'sergio': 6041, 'devastating': 6042, 'stevens': 6043, 'radical': 6044, 'proceeds': 6045, 'flags': 6046, 'dragged': 6047, 'deployment': 6048, 'method': 6049, 'compromise': 6050, 'traveling': 6051, 'presentation': 6052, 'blockbuster': 6053, 'marie': 6054, 'cia': 6055, 'optimistic': 6056, 'possessing': 6057, 'snap': 6058, 'disputes': 6059, 'anthem': 6060, 'geithner': 6061, 'chips': 6062, 'hacked': 6063, 'overweight': 6064, 'ailing': 6065, 'fruit': 6066, 'remake': 6067, 'layoffs': 6068, 'bharti': 6069, 'dominique': 6070, 'enjoying': 6071, 'humphries': 6072, 'fate': 6073, 'geneva': 6074, 'intention': 6075, 'hosni': 6076, 'gender': 6077, 'pune': 6078, 'bachmann': 6079, 'capello': 6080, 'alarm': 6081, 'unconscious': 6082, 'underage': 6083, 'brooks': 6084, 'safely': 6085, 'mistakes': 6086, 'promotions': 6087, 'bombings': 6088, 'sharapova': 6089, 'laser': 6090, 'experienced': 6091, 'gifts': 6092, 'infielder': 6093, 'foul': 6094, 'excellent': 6095, '450': 6096, 'symptoms': 6097, 'md': 6098, 'picking': 6099, 'cats': 6100, 'stomach': 6101, 'ipod': 6102, 'shoe': 6103, 'filming': 6104, 'steam': 6105, 'logo': 6106, 'frontier': 6107, 'hopkins': 6108, 'powell': 6109, 'novak': 6110, 'appealed': 6111, 'betty': 6112, 'bribery': 6113, 'compact': 6114, '4g': 6115, 'abused': 6116, 'noted': 6117, '2020': 6118, 'castle': 6119, 'maps': 6120, 'portuguese': 6121, '3rd': 6122, 'iceland': 6123, 'dying': 6124, 'invites': 6125, 'restructure': 6126, 'os': 6127, 'batch': 6128, 'regrets': 6129, 'detected': 6130, 'rays': 6131, 'partial': 6132, 'barn': 6133, 'halted': 6134, 'packed': 6135, 'reception': 6136, 'jp': 6137, 'plaza': 6138, 'publication': 6139, 'provinces': 6140, 'ronnie': 6141, 'belfast': 6142, 'villages': 6143, 'miliband': 6144, 'grows': 6145, 'function': 6146, 'addressing': 6147, 'boom': 6148, 'aaa': 6149, 'salaries': 6150, 'flyers': 6151, 'tap': 6152, 'generate': 6153, 'ellis': 6154, 'relegation': 6155, 'homeland': 6156, 'briefing': 6157, 'adele': 6158, 'shipments': 6159, 'consultancy': 6160, 'gym': 6161, 'cardinal': 6162, 'petersburg': 6163, 'premiership': 6164, 'niagara': 6165, 'rukh': 6166, 'plenty': 6167, 'imprisonment': 6168, 'seal': 6169, 'jun': 6170, 'organisers': 6171, 'resulting': 6172, 'istanbul': 6173, 'cain': 6174, 'revealing': 6175, 'contained': 6176, 'outsourcing': 6177, 'associates': 6178, 'treasurer': 6179, 'ryder': 6180, 'councillors': 6181, 'solidarity': 6182, 'advisers': 6183, 'seem': 6184, 'lsu': 6185, 'margin': 6186, 'addresses': 6187, 'extensive': 6188, 'quitting': 6189, 'focusing': 6190, 'bangkok': 6191, 'wilmington': 6192, 'rajya': 6193, 'violated': 6194, 'bailey': 6195, 'quotes': 6196, 'panasonic': 6197, 'administrator': 6198, 'reckless': 6199, 'carriers': 6200, 'enjoyed': 6201, 'aden': 6202, 'dhaka': 6203, 'spray': 6204, 'format': 6205, 'engines': 6206, 'marries': 6207, 'bounced': 6208, 'radiation': 6209, 'sluggish': 6210, 'di': 6211, 'priced': 6212, 'zsa': 6213, 'rapidly': 6214, 'plymouth': 6215, 'jockey': 6216, 'protected': 6217, 'encourage': 6218, 'beatles': 6219, 'bet': 6220, 'revive': 6221, 'develops': 6222, 'tyson': 6223, 'laptop': 6224, 'partially': 6225, 'implemented': 6226, 'humans': 6227, 'airlifted': 6228, 'winfrey': 6229, 'sweet': 6230, 'toilet': 6231, 'hamstring': 6232, 'bend': 6233, 'amazing': 6234, 'effectively': 6235, 'incumbent': 6236, 'kobe': 6237, 'marlins': 6238, 'gonzalez': 6239, 'punched': 6240, 'swings': 6241, 'encouraging': 6242, 'reference': 6243, 'stressed': 6244, 'jaguars': 6245, 'banerjee': 6246, 'saves': 6247, 'tumbled': 6248, 'adoption': 6249, 'soil': 6250, 'gala': 6251, 'truth': 6252, 'shootings': 6253, 'lieutenant': 6254, 'strict': 6255, 'floating': 6256, 'honors': 6257, 'carson': 6258, 'fm': 6259, 'railroad': 6260, 'surprised': 6261, 'patents': 6262, 'infosys': 6263, 'hurricanes': 6264, 'longoria': 6265, 'europa': 6266, 'heather': 6267, 'repeat': 6268, 'fda': 6269, 'skype': 6270, 'cruises': 6271, 'retains': 6272, 'faculty': 6273, 'teammate': 6274, 'slain': 6275, 'banning': 6276, 'indie': 6277, 'crazy': 6278, 'moments': 6279, 'filipino': 6280, 'sharon': 6281, 'mum': 6282, 'battled': 6283, 'coca': 6284, 'cola': 6285, 'damaging': 6286, 'rough': 6287, 'shortfall': 6288, 'deployed': 6289, 'neglect': 6290, 'eligible': 6291, 'tier': 6292, 'tweet': 6293, 'frankfurt': 6294, 'autumn': 6295, 'daughters': 6296, 'pierce': 6297, 'nikkei': 6298, 'nervous': 6299, 'sanford': 6300, 'singles': 6301, 'downs': 6302, 'mlb': 6303, 'hindu': 6304, 'bullish': 6305, 'inch': 6306, 'utilities': 6307, 'submit': 6308, 'youngsters': 6309, 'miranda': 6310, 'rev': 6311, 'whale': 6312, 'symphony': 6313, 'pond': 6314, 'nets': 6315, 'battered': 6316, 'sleeping': 6317, 'stern': 6318, 'li': 6319, 'doug': 6320, 'seekers': 6321, 'brutal': 6322, 'height': 6323, 'extradition': 6324, 'tenn': 6325, 'hinted': 6326, 'foreigners': 6327, 'containing': 6328, 'spice': 6329, 'aung': 6330, 'blew': 6331, 'stuart': 6332, 'gdp': 6333, 'dengue': 6334, 'fever': 6335, 'satyam': 6336, 'struggled': 6337, 'fiery': 6338, 'referee': 6339, 'horizon': 6340, 'mogul': 6341, 'providence': 6342, 'meaning': 6343, 'platforms': 6344, 'chuck': 6345, 'couples': 6346, 'lte': 6347, 'advocates': 6348, 'segment': 6349, 'macedonia': 6350, 'prayer': 6351, 'connect': 6352, 'valentine': 6353, 'troy': 6354, 'globally': 6355, 'transmission': 6356, 'disrupted': 6357, 'opposed': 6358, 'burma': 6359, 'erupted': 6360, 'arlington': 6361, 'hikes': 6362, 'instruments': 6363, 'brokerage': 6364, 'swan': 6365, 'intense': 6366, 'meals': 6367, 'knox': 6368, 'yoga': 6369, 'shaun': 6370, 'cage': 6371, 'sudanese': 6372, 'asthma': 6373, 'slovenia': 6374, 'yacht': 6375, 'certificate': 6376, 'walks': 6377, 'repairs': 6378, 'myspace': 6379, 'cannon': 6380, 'cooperate': 6381, 'matters': 6382, 'kyrgyz': 6383, 'trained': 6384, 'fisherman': 6385, 'proper': 6386, 'disorderly': 6387, 'offerings': 6388, 'bold': 6389, 'destinations': 6390, 'generic': 6391, 'tattoo': 6392, 'earns': 6393, 'congratulates': 6394, 'billiton': 6395, 'consolidation': 6396, 'coventry': 6397, 'pressures': 6398, 'neighbors': 6399, 'claire': 6400, 'publicist': 6401, 'perhaps': 6402, 'crane': 6403, 'serie': 6404, 'dhoni': 6405, 'ip': 6406, 'perez': 6407, 'sidelines': 6408, 'grandmother': 6409, 'mysterious': 6410, 'shutting': 6411, 'bingo': 6412, 'astros': 6413, 'investigations': 6414, 'heating': 6415, 'metres': 6416, 'carrie': 6417, 'presidents': 6418, 'stood': 6419, 'hostile': 6420, 'felipe': 6421, 'gardens': 6422, 'yousuf': 6423, 'suffolk': 6424, 'bright': 6425, 'impose': 6426, 'credits': 6427, 'freshman': 6428, '6th': 6429, 'piracy': 6430, 'guitar': 6431, 'vehicular': 6432, 'payroll': 6433, 'helen': 6434, 'finishing': 6435, 'lyon': 6436, 'invested': 6437, 'diving': 6438, 'itv': 6439, 'adjourned': 6440, 'texans': 6441, 'hernandez': 6442, 'fielder': 6443, 'subsidiaries': 6444, 'hawks': 6445, 'dayton': 6446, 'hat': 6447, 'helicopters': 6448, 'rodgers': 6449, 'ki': 6450, 'printing': 6451, 'chaos': 6452, 'duncan': 6453, 'economics': 6454, 'swung': 6455, 'maintaining': 6456, 'ghost': 6457, 'performances': 6458, 'anonymous': 6459, 'volcano': 6460, 'natalie': 6461, 'degrees': 6462, 'survivors': 6463, 'empty': 6464, 'amtrak': 6465, 'inappropriate': 6466, 'saskatchewan': 6467, 'weakens': 6468, 'trigger': 6469, 'counterfeit': 6470, 'mourinho': 6471, 'arthur': 6472, 'pensioner': 6473, 'westminster': 6474, 'distribute': 6475, 'tear': 6476, 'overtime': 6477, 'trader': 6478, 'rap': 6479, 'roots': 6480, 'rebuild': 6481, 'cellular': 6482, 'flew': 6483, 'approached': 6484, '650': 6485, 'shiv': 6486, 'australians': 6487, 'gazprom': 6488, 'ferdinand': 6489, 'fiat': 6490, 'schumacher': 6491, 'dpa': 6492, 'introduction': 6493, 'dominican': 6494, 'combine': 6495, 'testify': 6496, 'volkswagen': 6497, 'shuts': 6498, 'graduation': 6499, 'aviv': 6500, 'reflecting': 6501, 'purpose': 6502, 'cigarette': 6503, 'richie': 6504, 'legs': 6505, 'mavericks': 6506, 'inspector': 6507, 'ranging': 6508, 'merrill': 6509, 'decides': 6510, 'suppliers': 6511, 'winston': 6512, 'sweeping': 6513, 'ramp': 6514, 'folk': 6515, 'intellectual': 6516, 'governing': 6517, 'puerto': 6518, 'thus': 6519, 'valuable': 6520, 'ultra': 6521, 'rebounded': 6522, 'palmer': 6523, 'diamondbacks': 6524, 'falcons': 6525, 'pills': 6526, 'messaging': 6527, 'reynolds': 6528, 'aware': 6529, 'demonstrators': 6530, 'counterparts': 6531, 'katrina': 6532, 'bombers': 6533, 'welterweight': 6534, 'shaw': 6535, 'participants': 6536, 'raul': 6537, 'congratulated': 6538, 'organizers': 6539, 'robbers': 6540, 'dragon': 6541, 'nielsen': 6542, 'oliver': 6543, 'medicaid': 6544, 'repeatedly': 6545, 'pelosi': 6546, 'tanzania': 6547, 'usc': 6548, 'lauren': 6549, 'crops': 6550, 'olmert': 6551, 'strengthens': 6552, 'marines': 6553, 'lanes': 6554, 'pierre': 6555, 'approaching': 6556, 'attendance': 6557, 'rent': 6558, 'paise': 6559, 'negotiating': 6560, 'baptist': 6561, 'pointed': 6562, 'hayden': 6563, 'earthquakes': 6564, 'rated': 6565, 'drummer': 6566, 'buyout': 6567, 'explains': 6568, 'dylan': 6569, 'vampire': 6570, 'charities': 6571, 'blackhawks': 6572, 'hornets': 6573, 'nationally': 6574, 'exchanges': 6575, 'carlo': 6576, 'oppose': 6577, 'inventories': 6578, 'juvenile': 6579, 'breakthrough': 6580, 'invitational': 6581, 'paltrow': 6582, 'voluntarily': 6583, 'schemes': 6584, 'sparks': 6585, 'gps': 6586, 'volatility': 6587, 'bhd': 6588, 'popularity': 6589, 'christ': 6590, 'shortstop': 6591, 'vick': 6592, 'bruno': 6593, 'passport': 6594, 'farewell': 6595, 'mothers': 6596, 'miguel': 6597, 'moines': 6598, 'finale': 6599, 'massacre': 6600, 'toxic': 6601, 'mandatory': 6602, 'laboratory': 6603, 'workplace': 6604, 'tevez': 6605, 'inauguration': 6606, 'videos': 6607, 'boards': 6608, 'hart': 6609, '3m': 6610, 'lobby': 6611, 'spree': 6612, 'suddenly': 6613, 'repeal': 6614, 'collect': 6615, 'barton': 6616, 'marketplace': 6617, 'reject': 6618, 'tuition': 6619, 'villagers': 6620, 'alicia': 6621, 'canucks': 6622, 'sting': 6623, 'plotting': 6624, 'vietnamese': 6625, 'productivity': 6626, 'halifax': 6627, 'consequences': 6628, 'foreclosures': 6629, 'les': 6630, 'huntington': 6631, 'stamford': 6632, 'trevor': 6633, 'fierce': 6634, 'demolition': 6635, 'contender': 6636, 'founded': 6637, 'aussie': 6638, 'deciding': 6639, 'solve': 6640, 'equality': 6641, 'mobility': 6642, 'rifle': 6643, 'pfizer': 6644, 'widened': 6645, 'ahmad': 6646, 'dated': 6647, 'guests': 6648, 'advocate': 6649, 'studying': 6650, 'weakening': 6651, 'loose': 6652, 'zac': 6653, 'indoor': 6654, 'institutional': 6655, 'constable': 6656, 'krishna': 6657, 'consolidate': 6658, 'wipro': 6659, 'grenade': 6660, 'isle': 6661, 'patel': 6662, 'devils': 6663, 'carmaker': 6664, 'shocking': 6665, 'hoped': 6666, 'administrators': 6667, 'croatia': 6668, 'hundred': 6669, 'aol': 6670, 'lockout': 6671, 'mercy': 6672, 'disabilities': 6673, 'lighting': 6674, 'mainland': 6675, 'sexy': 6676, 'sidelined': 6677, 'sabah': 6678, 'jul': 6679, 'elements': 6680, 'uncertain': 6681, '19th': 6682, 'steep': 6683, 'avalanche': 6684, 'lashed': 6685, 'nd': 6686, 'beaches': 6687, 'pursuit': 6688, 'plug': 6689, 'counsel': 6690, 'finishes': 6691, 'edges': 6692, 'invests': 6693, 'riders': 6694, 'leicester': 6695, 'councillor': 6696, 'slight': 6697, 'wash': 6698, 'clemens': 6699, 'lie': 6700, 'pine': 6701, 'rim': 6702, 'caution': 6703, 'stunning': 6704, 'researcher': 6705, 'tipped': 6706, 'respectively': 6707, 'apparel': 6708, 'comfortable': 6709, 'rogue': 6710, 'acid': 6711, 'associate': 6712, 'flown': 6713, 'dressed': 6714, 'ladies': 6715, 'households': 6716, 'biopic': 6717, 'subscription': 6718, 'contributions': 6719, 'gwyneth': 6720, 'greene': 6721, 'cops': 6722, 'reservation': 6723, 'detectives': 6724, 'reunion': 6725, 'penalties': 6726, 'hackers': 6727, 'reputation': 6728, 'accusations': 6729, 'checked': 6730, 'gig': 6731, 'thank': 6732, 'propose': 6733, 'mistake': 6734, 'adjusted': 6735, 'immigrant': 6736, 'gosselin': 6737, 'dogg': 6738, 'ton': 6739, 'transparency': 6740, 'quake': 6741, 'rover': 6742, 'relating': 6743, 'cab': 6744, 'reorganization': 6745, 'presenter': 6746, 'balotelli': 6747, 'permanently': 6748, 'dubbed': 6749, 'caps': 6750, 'minogue': 6751, '98': 6752, 'wrist': 6753, 'ounce': 6754, 'consulate': 6755, 'ash': 6756, 'panthers': 6757, 'marco': 6758, 'sometimes': 6759, 'kurt': 6760, 'transactions': 6761, 'cathedral': 6762, 'blames': 6763, 'slowly': 6764, '40th': 6765, 'wolf': 6766, 'khalifa': 6767, 'reactor': 6768, 'fixing': 6769, 'enhancing': 6770, 'buyer': 6771, 'laying': 6772, 'completing': 6773, '16th': 6774, 'malaria': 6775, 'panels': 6776, 'lancaster': 6777, 'dicaprio': 6778, 'ambitious': 6779, 'forecasters': 6780, 'walters': 6781, 'aerospace': 6782, 'dominated': 6783, 'pets': 6784, 'questioning': 6785, 'operated': 6786, 'bankrupt': 6787, 'riley': 6788, 'teeth': 6789, 'dodge': 6790, 'chilean': 6791, 'middleweight': 6792, 'lawsuits': 6793, 'prefer': 6794, 'revenge': 6795, 'jd': 6796, 'skating': 6797, 'venue': 6798, 'blasted': 6799, 'burke': 6800, 'prairie': 6801, 'wonder': 6802, 'cleaning': 6803, 'raids': 6804, 'pages': 6805, '30th': 6806, 'reno': 6807, 'seeded': 6808, 'controller': 6809, 'toledo': 6810, 'calendar': 6811, 'maradona': 6812, 'accidental': 6813, 'admission': 6814, 'mph': 6815, 'islamist': 6816, 'recognize': 6817, 'distributed': 6818, 'surcharge': 6819, 'clears': 6820, 'griffin': 6821, 'pirate': 6822, 'creditors': 6823, 'rwanda': 6824, 'arrangements': 6825, 'displaced': 6826, 'jeffrey': 6827, 'adopts': 6828, 'consultation': 6829, 'cooking': 6830, 'albuquerque': 6831, '104': 6832, 'willie': 6833, 'particular': 6834, 'outages': 6835, 'cnbc': 6836, 'reader': 6837, 'florence': 6838, 'epic': 6839, 'wed': 6840, 'youngest': 6841, 'unusual': 6842, 'asean': 6843, 'designs': 6844, 'claude': 6845, 'endorsement': 6846, 'mouth': 6847, 'toy': 6848, 'toys': 6849, 'organic': 6850, 'eid': 6851, 'showcase': 6852, 'herman': 6853, 'desire': 6854, 'reddy': 6855, 'satellites': 6856, 'benitez': 6857, 'hilary': 6858, 'restart': 6859, 'allocation': 6860, 'fractured': 6861, 'flee': 6862, 'reunited': 6863, 'himachal': 6864, 'abbey': 6865, 'dynamics': 6866, 'ledger': 6867, 'sequel': 6868, 'etihad': 6869, 'urgent': 6870, 'irvine': 6871, 'legislators': 6872, 'greenhouse': 6873, 'amsterdam': 6874, 'punk': 6875, 'plains': 6876, 'draws': 6877, 'der': 6878, 'myself': 6879, 'rig': 6880, 'publish': 6881, 'cease': 6882, 'stricken': 6883, 'wbc': 6884, 'hispanic': 6885, 'eleven': 6886, 'telegraph': 6887, 'palestine': 6888, 'eventually': 6889, 'councilman': 6890, 'dip': 6891, 'willis': 6892, 'wet': 6893, 'error': 6894, 'crawford': 6895, 'friendship': 6896, 'medicines': 6897, 'boosts': 6898, 'maldives': 6899, 'programmes': 6900, 'hewitt': 6901, 'postpones': 6902, 'hacking': 6903, 'precious': 6904, '850': 6905, 'broking': 6906, 'guardian': 6907, 'nova': 6908, 'indicates': 6909, 'seri': 6910, 'bargain': 6911, 'hammer': 6912, 'opposite': 6913, 'compound': 6914, 'rhode': 6915, 'territorial': 6916, 'brendan': 6917, 'scholarship': 6918, 'collected': 6919, 'quarters': 6920, 'examiner': 6921, 'mandate': 6922, 'wounding': 6923, 'legacy': 6924, 'notorious': 6925, 'unexpected': 6926, 'bonus': 6927, 'afc': 6928, 'bernie': 6929, 'neill': 6930, 'doubts': 6931, 'batting': 6932, 'vitamin': 6933, 'loaded': 6934, 'teammates': 6935, 'queens': 6936, 'malawi': 6937, 'marginally': 6938, 'cigarettes': 6939, 'javier': 6940, 'holland': 6941, 'sometime': 6942, 'lionel': 6943, 'explosives': 6944, '21st': 6945, 'damon': 6946, 'competing': 6947, 'f1': 6948, 'ea': 6949, 'cristiano': 6950, 'mayweather': 6951, 'jse': 6952, 'axe': 6953, 'spotlight': 6954, 'anger': 6955, 'pitches': 6956, 'progressive': 6957, '170': 6958, 'removal': 6959, 'ios': 6960, 'burnt': 6961, 'spends': 6962, 'valencia': 6963, 'slovakia': 6964, 'jackie': 6965, 'avoided': 6966, 'coma': 6967, 'gabrielle': 6968, 'dutt': 6969, 'dreams': 6970, 'twenty': 6971, 'matthews': 6972, 'criticised': 6973, 'stanford': 6974, 'simmons': 6975, 'openly': 6976, 'sunshine': 6977, 'eases': 6978, 'spa': 6979, 'rossi': 6980, 'setback': 6981, 'lone': 6982, 'midday': 6983, 'pointing': 6984, 'cheated': 6985, 'relative': 6986, 'smashed': 6987, 'gubernatorial': 6988, 'repay': 6989, 'morrison': 6990, 'bengals': 6991, 'desktop': 6992, 'syndrome': 6993, 'famed': 6994, 'ftse': 6995, 'grey': 6996, 'taste': 6997, 'findings': 6998, 'exclusively': 6999, 'commissioned': 7000, 'headline': 7001, 'builder': 7002, 'amidst': 7003, 'litre': 7004, 'clegg': 7005, 'spider': 7006, 'carnival': 7007, 'dementia': 7008, 'describing': 7009, 'maiden': 7010, 'letterman': 7011, 'maybe': 7012, 'patch': 7013, 'messi': 7014, 'accreditation': 7015, 'gunshot': 7016, 'ballots': 7017, 'subsidies': 7018, 'imaging': 7019, 'bicycle': 7020, 'addiction': 7021, 'vessels': 7022, 'daytona': 7023, 'seasonal': 7024, 'notices': 7025, 'entrepreneurs': 7026, 'approaches': 7027, 'devastated': 7028, 'lebron': 7029, 'concerning': 7030, 'sentences': 7031, 'yadav': 7032, 'unfair': 7033, 'travelers': 7034, 'bse': 7035, 'heels': 7036, 'engage': 7037, 'replaces': 7038, 'lehman': 7039, 'booking': 7040, 'proof': 7041, 'diana': 7042, 'municipality': 7043, 'nickel': 7044, 'salvation': 7045, 'erie': 7046, 'kodak': 7047, 'revival': 7048, 'confrontation': 7049, 'chester': 7050, 'lays': 7051, 'franco': 7052, 'monica': 7053, 'graduates': 7054, 'myrtle': 7055, 'clashed': 7056, 'tragic': 7057, 'introducing': 7058, 'murders': 7059, 'requests': 7060, 'aamir': 7061, 'nor': 7062, 'poses': 7063, 'unite': 7064, 'sweeps': 7065, 'confirming': 7066, 'withdrawing': 7067, 'tighten': 7068, 'samantha': 7069, 'internationally': 7070, 'chat': 7071, 'soap': 7072, 'tiny': 7073, 'andrews': 7074, 'pietersen': 7075, 'yards': 7076, 'capsized': 7077, 'smash': 7078, 'moral': 7079, 'hassan': 7080, 'paulo': 7081, 'sized': 7082, 'nyse': 7083, 'lynn': 7084, 'signals': 7085, 'hussain': 7086, 'shadow': 7087, 'walt': 7088, 'rico': 7089, 'punch': 7090, 'workout': 7091, 'washed': 7092, 'factories': 7093, 'reviewing': 7094, 'padres': 7095, 'establishment': 7096, 'prayers': 7097, 'panic': 7098, 'dual': 7099, 'premises': 7100, 'wider': 7101, 'integrity': 7102, 'sovereignty': 7103, 'excellence': 7104, 'freeway': 7105, 'silva': 7106, 'nobody': 7107, 'satisfaction': 7108, 'ceremonies': 7109, 'stalking': 7110, 'shake': 7111, 'joey': 7112, '2001': 7113, 'expresses': 7114, 'bullying': 7115, 'klitschko': 7116, 'upside': 7117, 'tracy': 7118, 'dumping': 7119, 'succeed': 7120, 'motel': 7121, 'madoff': 7122, 'climbing': 7123, 'facial': 7124, 'uniform': 7125, 'appropriate': 7126, 'statutory': 7127, 'bones': 7128, 'broader': 7129, 'khloe': 7130, 'paterno': 7131, 'gadhafi': 7132, 'parkway': 7133, 'puppy': 7134, 'hunters': 7135, 'rutgers': 7136, 'haul': 7137, 'renovation': 7138, 'fannie': 7139, 'recommendations': 7140, 'priyanka': 7141, 'lowers': 7142, 'depth': 7143, 'pawlenty': 7144, 'brooke': 7145, 'kidnap': 7146, 'hails': 7147, 'exercises': 7148, 'mancini': 7149, 'usain': 7150, 'bee': 7151, 'cure': 7152, 'resolved': 7153, 'daniels': 7154, 'mayo': 7155, 'cavaliers': 7156, 'troopers': 7157, 'permit': 7158, 'automation': 7159, 'formation': 7160, 'preserve': 7161, 'preston': 7162, 'survivor': 7163, 'deploy': 7164, 'inn': 7165, 'delighted': 7166, 'snoop': 7167, 'wilkinson': 7168, 'bloody': 7169, 'locker': 7170, 'facilitate': 7171, 'minors': 7172, 'purdue': 7173, 'luck': 7174, 'algeria': 7175, 'albums': 7176, 'karabakh': 7177, 'leonard': 7178, 'barrier': 7179, 'fare': 7180, 'goaltender': 7181, 'pearl': 7182, 'zimbabwean': 7183, 'lots': 7184, 'anand': 7185, 'opponent': 7186, 'zimmerman': 7187, 'endeavour': 7188, 'disappeared': 7189, 'attorneys': 7190, 'oasis': 7191, 'croatian': 7192, 'prosperity': 7193, 'automatic': 7194, 'forming': 7195, 'surrey': 7196, 'disruption': 7197, 'ma': 7198, 'nottingham': 7199, 'aftermath': 7200, 'scout': 7201, 'mix': 7202, 'signature': 7203, 'protecting': 7204, 'cattle': 7205, 'hidden': 7206, 'tycoon': 7207, 'sad': 7208, 'speeds': 7209, 'beirut': 7210, 'regard': 7211, 'earning': 7212, 'soviet': 7213, 'clippers': 7214, 'commuters': 7215, '102': 7216, 'battles': 7217, 'davidson': 7218, 'accountability': 7219, 'tougher': 7220, 'barrels': 7221, 'brokers': 7222, 'corrupt': 7223, 'rescues': 7224, 'killings': 7225, 'cohen': 7226, 'departure': 7227, 'organisations': 7228, 'widow': 7229, 'achievement': 7230, 'pig': 7231, 'joy': 7232, 'au': 7233, 'unemployed': 7234, 'fiance': 7235, 'cpi': 7236, 'slower': 7237, 'bharatiya': 7238, 'advani': 7239, 'burlington': 7240, 'ministerial': 7241, 'yield': 7242, 'taiwanese': 7243, 'convert': 7244, 'congo': 7245, 'predicts': 7246, 'distance': 7247, 'victor': 7248, 'tweeted': 7249, 'packages': 7250, 'aurora': 7251, 'playboy': 7252, 'seizure': 7253, 'funny': 7254, 'experiences': 7255, 'kingfisher': 7256, 'wicket': 7257, 'kit': 7258, 'jorge': 7259, 'roethlisberger': 7260, 'thermal': 7261, 'jackpot': 7262, 'wa': 7263, 'accra': 7264, 'faulty': 7265, 'aliyev': 7266, 'earl': 7267, 'bae': 7268, 'predict': 7269, 'revolutionary': 7270, 'goodwill': 7271, 'blackpool': 7272, 'columnist': 7273, 'stayed': 7274, 'robust': 7275, 'meter': 7276, 'brawl': 7277, 'lansing': 7278, 'abduction': 7279, 'removing': 7280, 'disorders': 7281, 'ups': 7282, 'kurdish': 7283, 'ltte': 7284, 'rica': 7285, 'arriving': 7286, 'typhoon': 7287, 'belmont': 7288, 'rear': 7289, 'ministries': 7290, 'reconstruction': 7291, 'courtney': 7292, 'marsh': 7293, 'coronation': 7294, 'coral': 7295, 'lodge': 7296, 'lawn': 7297, 'regain': 7298, 'slows': 7299, 'ga': 7300, 'indictment': 7301, 'altercation': 7302, 'ceiling': 7303, 'bedroom': 7304, 'felix': 7305, 'poultry': 7306, 'bret': 7307, 'cheaper': 7308, 'seng': 7309, 'gallon': 7310, 'clay': 7311, 'sum': 7312, 'nuggets': 7313, 'americas': 7314, 'balls': 7315, 'fortune': 7316, 'temperature': 7317, 'alice': 7318, 'courtroom': 7319, 'editorial': 7320, 'tanks': 7321, 'wallabies': 7322, 'gossip': 7323, 'butt': 7324, 'lover': 7325, 'dictator': 7326, 'nutrition': 7327, 'turnover': 7328, 'tornadoes': 7329, 'jenkins': 7330, 'pubs': 7331, 'sana': 7332, 'duff': 7333, 'narrow': 7334, 'peoples': 7335, 'vernon': 7336, 'requested': 7337, 'discusses': 7338, 'fairfield': 7339, 'loud': 7340, 'paula': 7341, 'jointly': 7342, 'vienna': 7343, 'sounds': 7344, 'consultant': 7345, 'indicating': 7346, 'mw': 7347, 'morocco': 7348, 'harm': 7349, 'raymond': 7350, 'anil': 7351, 'lecture': 7352, 'servants': 7353, 'citi': 7354, 'incentives': 7355, 'criticized': 7356, 'pure': 7357, 'cal': 7358, 'donor': 7359, 'oval': 7360, 'ramirez': 7361, 'riots': 7362, 'banker': 7363, 'inches': 7364, 'linking': 7365, 'resigning': 7366, 'novosti': 7367, 'bullpen': 7368, 'bitten': 7369, 'ana': 7370, 'certainly': 7371, 'boil': 7372, 'scanner': 7373, 'ria': 7374, 'connor': 7375, 'painting': 7376, 'specifically': 7377, 'dump': 7378, 'cyclone': 7379, 'atletico': 7380, 'shutdown': 7381, 'blogger': 7382, 'klum': 7383, 'bloc': 7384, 'consortium': 7385, 'irene': 7386, 'persistent': 7387, 'bombay': 7388, 'bucks': 7389, 'covers': 7390, 'secrets': 7391, 'kidman': 7392, 'michel': 7393, 'rage': 7394, 'sitcom': 7395, 'nazi': 7396, 'pancreatic': 7397, 'italia': 7398, 'volumes': 7399, 'coup': 7400, 'lehigh': 7401, 'wizards': 7402, 'lightweight': 7403, 'glory': 7404, 'derivatives': 7405, 'accessories': 7406, 'ponting': 7407, 'liability': 7408, 'brunswick': 7409, 'attendant': 7410, 'hood': 7411, 'behavior': 7412, '2003': 7413, 'startup': 7414, 'animation': 7415, 'contempt': 7416, '5th': 7417, 'penny': 7418, 'org': 7419, 'admit': 7420, 'mali': 7421, 'ripped': 7422, 'passage': 7423, 'reaction': 7424, 'fairfax': 7425, 'negotiate': 7426, 'rocked': 7427, 'programming': 7428, 'fog': 7429, 'uprising': 7430, 'founding': 7431, 'bride': 7432, 'councils': 7433, 'cavendish': 7434, '49ers': 7435, 'carlisle': 7436, 'copyright': 7437, 'agreeing': 7438, 'bt': 7439, 'namibia': 7440, 'o2': 7441, 'ethanol': 7442, 'thunderstorm': 7443, 'hide': 7444, 'trio': 7445, 'hogan': 7446, 'dentist': 7447, 'massa': 7448, 'bnp': 7449, 'alonso': 7450, 'isaac': 7451, 'kerr': 7452, 'alley': 7453, 'publishes': 7454, 'surrender': 7455, 'janet': 7456, 'entrepreneur': 7457, 'ousted': 7458, 'sanders': 7459, 'deny': 7460, 'meth': 7461, 'telekom': 7462, '23rd': 7463, 'chrome': 7464, 'blockade': 7465, 'radcliffe': 7466, 'watford': 7467, 'touring': 7468, 'aging': 7469, 'sunny': 7470, 'balanced': 7471, 'millionaire': 7472, 'evacuate': 7473, 'blown': 7474, 'scouts': 7475, 'collections': 7476, 'visas': 7477, 'highlight': 7478, 'spare': 7479, 'ordinary': 7480, 'dwi': 7481, 'hell': 7482, 'poisoning': 7483, 'mode': 7484, 'linda': 7485, 'underwood': 7486, 'mozambique': 7487, 'unilever': 7488, 'kraft': 7489, 'caroline': 7490, 'surgeon': 7491, 'shawn': 7492, 'shahid': 7493, 'clock': 7494, 'disclosure': 7495, 'diva': 7496, 'victorian': 7497, '5m': 7498, 'ak': 7499, 'telstra': 7500, 'apartments': 7501, 'debates': 7502, 'barred': 7503, 'outperform': 7504, 'wrap': 7505, 'successor': 7506, 'soared': 7507, 'allied': 7508, 'endangered': 7509, 'consideration': 7510, 'followers': 7511, 'sank': 7512, 'restricted': 7513, 'merchant': 7514, 'rocks': 7515, 'treating': 7516, 'tebow': 7517, 'mitsubishi': 7518, 'majors': 7519, 'reinstated': 7520, 'ok': 7521, 'gingrich': 7522, 'clinics': 7523, 'boise': 7524, 'sat': 7525, 'concludes': 7526, 'volvo': 7527, 'vettel': 7528, 'strained': 7529, '550': 7530, 'duchess': 7531, 'presenting': 7532, 'wheelchair': 7533, 'halle': 7534, 'confirmation': 7535, 'governors': 7536, 'vale': 7537, 'tomas': 7538, 'recommends': 7539, 'mick': 7540, 'winslet': 7541, 'jade': 7542, 'zuckerberg': 7543, 'raleigh': 7544, 'starter': 7545, 'indeed': 7546, 'travellers': 7547, 'tweets': 7548, 'chartered': 7549, 'planting': 7550, 'indigenous': 7551, 'statistical': 7552, 'example': 7553, '280': 7554, 'johnston': 7555, 'brewer': 7556, 'slid': 7557, 'expense': 7558, 'punching': 7559, 'wen': 7560, 'ike': 7561, 'snapped': 7562, 'crist': 7563, 'theory': 7564, 'secretly': 7565, 'interesting': 7566, 'hague': 7567, 'conducting': 7568, 'hampton': 7569, 'chocolate': 7570, 'bias': 7571, 'redknapp': 7572, 'stance': 7573, 'macau': 7574, 'reliable': 7575, 'abraham': 7576, 'lets': 7577, 'en': 7578, 'orbit': 7579, 'angola': 7580, 'srinagar': 7581, 'lowe': 7582, 'casinos': 7583, 'fedex': 7584, 'pepper': 7585, 'destruction': 7586, 'makeover': 7587, '220': 7588, 'jermaine': 7589, 'distributing': 7590, 'islanders': 7591, 'lorry': 7592, 'profitability': 7593, 'halloween': 7594, 'mesa': 7595, 'minsk': 7596, 'budgets': 7597, 'havana': 7598, 'boots': 7599, 'midland': 7600, 'calf': 7601, 'ralph': 7602, 'mls': 7603, 'crosby': 7604, 'prop': 7605, 'prefers': 7606, 'certified': 7607, 'sergeant': 7608, 'dipped': 7609, 'scrapped': 7610, 'baba': 7611, 'indexes': 7612, 'roughly': 7613, 'cabin': 7614, 'ducks': 7615, 'handing': 7616, 'clayton': 7617, 'id': 7618, 'incentive': 7619, 'preparations': 7620, 'portable': 7621, 'testimony': 7622, 'amateur': 7623, 'humanity': 7624, 'funded': 7625, 'tajikistan': 7626, 'uzbekistan': 7627, 'mentor': 7628, 'remainder': 7629, 'usual': 7630, 'clearly': 7631, 'recognised': 7632, 'scared': 7633, 'vandals': 7634, 'conservatives': 7635, 'proposing': 7636, 'prolonged': 7637, 'trim': 7638, 'shortages': 7639, 'annually': 7640, 'kuala': 7641, 'grabbed': 7642, 'chambers': 7643, 'stating': 7644, 'tonne': 7645, 'inventory': 7646, 'tunnel': 7647, 'exist': 7648, 'rounder': 7649, 'posing': 7650, 'thunderstorms': 7651, 'stalled': 7652, 'dock': 7653, 'denying': 7654, 'apologise': 7655, 'qualifiers': 7656, 'peacefully': 7657, 'kindle': 7658, 'visual': 7659, 'ugly': 7660, 'arabian': 7661, 'recreation': 7662, 'assassination': 7663, 'blunt': 7664, 'shocked': 7665, 'generating': 7666, 'ejected': 7667, 'poet': 7668, 'albion': 7669, 'lou': 7670, '107': 7671, 'landslide': 7672, 'bases': 7673, 'tradition': 7674, 'greenback': 7675, 'ab': 7676, 'hazardous': 7677, 'manner': 7678, 'debris': 7679, 'installation': 7680, 'upheld': 7681, 'eden': 7682, 'remarkable': 7683, 'spike': 7684, 'inspectors': 7685, 'laurent': 7686, 'textile': 7687, 'suspending': 7688, 'happiness': 7689, 'exhibit': 7690, 'canberra': 7691, 'mirza': 7692, 'carol': 7693, 'zurich': 7694, 'taught': 7695, 'whatever': 7696, 'ehud': 7697, 'strokes': 7698, 'berkeley': 7699, 'slips': 7700, 'sparking': 7701, 'mayoral': 7702, 'browser': 7703, 'estimate': 7704, 'rid': 7705, 'doctorate': 7706, 'difficulties': 7707, 'baron': 7708, 'unanimous': 7709, 'chess': 7710, 'deserve': 7711, 'virtually': 7712, 'hewlett': 7713, 'packard': 7714, 'endangerment': 7715, 'motorist': 7716, 'prepaid': 7717, 'tightened': 7718, 'monster': 7719, 'clinched': 7720, 'cop': 7721, 'opposes': 7722, 'astronauts': 7723, 'besides': 7724, 'sprained': 7725, 'chandigarh': 7726, 'concentrate': 7727, 'vast': 7728, 'dismissal': 7729, 'stamp': 7730, 'knoxville': 7731, 'consent': 7732, 'initiated': 7733, 'reunite': 7734, 'gerard': 7735, 'reservoir': 7736, 'inner': 7737, 'flooded': 7738, 'ho': 7739, 'arquette': 7740, 'qld': 7741, 'productions': 7742, 'jenna': 7743, 'harbour': 7744, 'telangana': 7745, 'pocket': 7746, 'infamous': 7747, 'canterbury': 7748, 'helm': 7749, 'sussex': 7750, 'clinch': 7751, 'sp': 7752, 'rank': 7753, 'item': 7754, 'wr': 7755, 'judgment': 7756, 'pakistanis': 7757, 'scotia': 7758, 'evan': 7759, 'operates': 7760, 'requiring': 7761, 'ashok': 7762, 'upward': 7763, 'lafayette': 7764, 'hodgson': 7765, 'washing': 7766, '60th': 7767, 'rcmp': 7768, 'pyongyang': 7769, 'thatcher': 7770, 'zones': 7771, 'tumble': 7772, 'afraid': 7773, 'upbeat': 7774, 'respiratory': 7775, 'telecoms': 7776, 'samajwadi': 7777, 'leigh': 7778, 'reiterates': 7779, 'tube': 7780, 'handset': 7781, 'responds': 7782, 'pushes': 7783, 'truly': 7784, 'steroids': 7785, 'explodes': 7786, 'acknowledged': 7787, 'explained': 7788, 'relatively': 7789, 'liquid': 7790, 'samuel': 7791, 'airtran': 7792, 'learnt': 7793, 'demonstrations': 7794, 'nearing': 7795, 'pcs': 7796, 'bottles': 7797, 'groin': 7798, 'fisheries': 7799, 'rai': 7800, 'deportation': 7801, 'characters': 7802, 'bosnia': 7803, 'trash': 7804, 'embattled': 7805, 'reilly': 7806, 'afford': 7807, 'efron': 7808, 'belonging': 7809, 'torres': 7810, 'alzheimer': 7811, 'snowmobile': 7812, 'ibrahim': 7813, 'lucknow': 7814, 'caterpillar': 7815, 'combination': 7816, 'optical': 7817, 'correctional': 7818, 'hungry': 7819, 'nitish': 7820, 'manipur': 7821, 'honolulu': 7822, 'bulk': 7823, 'automobile': 7824, 'richest': 7825, 'adaptation': 7826, 'spinner': 7827, 'disappointment': 7828, 'nolan': 7829, 'awaiting': 7830, 'deliberately': 7831, 'impossible': 7832, 'burger': 7833, 'bathroom': 7834, 'pharma': 7835, 'socialist': 7836, 'imminent': 7837, 'stopping': 7838, 'searched': 7839, 'subdued': 7840, 'netflix': 7841, 'spectacular': 7842, 'breathing': 7843, 'repeated': 7844, 'phillip': 7845, 'detection': 7846, 'achievements': 7847, 'portman': 7848, 'mob': 7849, 'immunity': 7850, 'disasters': 7851, 'ethiopian': 7852, '8th': 7853, 'pistorius': 7854, 'leafs': 7855, 'arcelormittal': 7856, 'psychiatric': 7857, 'breakdown': 7858, 'porsche': 7859, 'appreciation': 7860, 'shepherd': 7861, 'vandalism': 7862, 'cambodia': 7863, 'bump': 7864, 'widens': 7865, 'exam': 7866, 'gavin': 7867, 'lashes': 7868, 'elects': 7869, 'plunges': 7870, 'pieces': 7871, 'machinery': 7872, 'indicate': 7873, 'forever': 7874, 'treatments': 7875, 'nigel': 7876, 'palo': 7877, 'lists': 7878, 'joan': 7879, 'sara': 7880, 'bracing': 7881, 'dale': 7882, 'piper': 7883, 'skilled': 7884, 'eugene': 7885, 'happens': 7886, 'tory': 7887, 'promotes': 7888, 'physically': 7889, 'busted': 7890, 'eli': 7891, 'describes': 7892, 'bible': 7893, 'contemporary': 7894, 'patience': 7895, 'interbank': 7896, 'oilers': 7897, 'dana': 7898, 'custom': 7899, 'attitude': 7900, 'donnell': 7901, 'successive': 7902, 'bart': 7903, 'antony': 7904, 'hindi': 7905, 'toshiba': 7906, 'huntsman': 7907, 'accord': 7908, 'vista': 7909, 'hostages': 7910, 'teach': 7911, 'diane': 7912, 'monument': 7913, 'hannah': 7914, 'lithuania': 7915, 'porter': 7916, 'renewal': 7917, 'appearances': 7918, 'incorporated': 7919, 'icici': 7920, 'placing': 7921, 'polanski': 7922, 'infections': 7923, 'nights': 7924, 'shook': 7925, 'moratorium': 7926, 'sidney': 7927, 'sandusky': 7928, 'relation': 7929, 'highlights': 7930, 'drain': 7931, 'requires': 7932, 'tsx': 7933, 'minerals': 7934, 'curfew': 7935, 'canton': 7936, 'saga': 7937, 'bands': 7938, 'wachovia': 7939, 'keane': 7940, 'tightening': 7941, 'flexible': 7942, 'ind': 7943, 'insurers': 7944, 'meltdown': 7945, 'resorts': 7946, 'comcast': 7947, 'exploitation': 7948, 'cables': 7949, 'database': 7950, 'classroom': 7951, 'alto': 7952, 'injures': 7953, 'commencement': 7954, 'activate': 7955, 'safer': 7956, 'firmly': 7957, 'provisions': 7958, 'purse': 7959, '105': 7960, 'sore': 7961, 'georgetown': 7962, 'impaired': 7963, 'laptops': 7964, 'spirits': 7965, 'entertainer': 7966, 'adventure': 7967, 'fence': 7968, 'requirement': 7969, 'peas': 7970, 'serves': 7971, 'hurley': 7972, 'tunisian': 7973, 'principle': 7974, 'stays': 7975, 'repurchase': 7976, 'protested': 7977, 'bafana': 7978, 'davies': 7979, 'sailing': 7980, 'belgrade': 7981, 'gamble': 7982, 'restoration': 7983, 'worcester': 7984, 'sultan': 7985, 'shannon': 7986, 'exceed': 7987, 'harsh': 7988, 'fertilizer': 7989, 'wis': 7990, 'wbo': 7991, 'marina': 7992, 'aggregate': 7993, 'bikini': 7994, 'metric': 7995, 'webster': 7996, 'smokers': 7997, 'rupees': 7998, 'curry': 7999, 'freestyle': 8000, 'methods': 8001, 'hepatitis': 8002, 'insight': 8003, 'gunfire': 8004, 'highlands': 8005, 'sewer': 8006, 'initially': 8007, 'drake': 8008, 'triumph': 8009, 'keeper': 8010, 'processor': 8011, 'von': 8012, 'epidemic': 8013, 'java': 8014, 'newt': 8015, 'burglars': 8016, 'skies': 8017, 'intelligent': 8018, 'derailed': 8019, 'panama': 8020, 'undercover': 8021, 'marched': 8022, 'burden': 8023, 'suburbs': 8024, 'impressed': 8025, 'robertson': 8026, 'silent': 8027, 'anz': 8028, 'constituency': 8029, 'trustees': 8030, 'desk': 8031, 'midlands': 8032, 'bow': 8033, 'aust': 8034, 'conferences': 8035, 'gabriel': 8036, 'accelerated': 8037, 'conway': 8038, 'testified': 8039, 'emission': 8040, 'doha': 8041, 'dancer': 8042, 'clemson': 8043, 'polar': 8044, 'ubisoft': 8045, 'waive': 8046, 'arrivals': 8047, 'outlet': 8048, 'timor': 8049, 'bargaining': 8050, 'rawalpindi': 8051, 'junction': 8052, 'sailors': 8053, 'amongst': 8054, 'resistances': 8055, 'wrapped': 8056, 'directing': 8057, 'obese': 8058, 'atlantis': 8059, 'dissident': 8060, 'securing': 8061, 'freezing': 8062, 'quietly': 8063, 'curtis': 8064, 'alexandra': 8065, 'hemsworth': 8066, 'establishing': 8067, 'melissa': 8068, 'infected': 8069, 'johns': 8070, 'discussing': 8071, 'obsessed': 8072, 'shiite': 8073, 'dramatically': 8074, 'charts': 8075, 'balloon': 8076, 'tariffs': 8077, 'instant': 8078, 'extradited': 8079, 'mineral': 8080, 'odi': 8081, 'convoy': 8082, 'disgraced': 8083, 'est': 8084, 'saeed': 8085, 'shriver': 8086, 'ep': 8087, 'errors': 8088, 'paypal': 8089, 'casualties': 8090, 'levi': 8091, 'trademark': 8092, 'sort': 8093, 'flick': 8094, 'abandon': 8095, 'divisions': 8096, 'ravaged': 8097, 'anaheim': 8098, 'wound': 8099, 'emily': 8100, 'examination': 8101, 'cleric': 8102, 'tan': 8103, 'spots': 8104, 'hon': 8105, 'screens': 8106, 'sailor': 8107, 'represents': 8108, 'catching': 8109, 'attacker': 8110, 'trafford': 8111, 'neighbour': 8112, 'businessmen': 8113, 'vendors': 8114, 'contador': 8115, 'cautioned': 8116, 'ammunition': 8117, 'literature': 8118, 'bahamas': 8119, 'margins': 8120, 'avoiding': 8121, 'parkinson': 8122, 'knock': 8123, 'uruguay': 8124, 'disturbance': 8125, 'delegates': 8126, 'logan': 8127, 'nexus': 8128, 'experiencing': 8129, 'demonstrate': 8130, 'kay': 8131, 'daylight': 8132, 'conan': 8133, 'medalist': 8134, 'anywhere': 8135, 'factors': 8136, 'immune': 8137, 'strictly': 8138, 'showdown': 8139, 'notebook': 8140, 'gloucester': 8141, 'santos': 8142, '190': 8143, 'sienna': 8144, 'roses': 8145, 'banner': 8146, 'basu': 8147, 'rumor': 8148, 'chose': 8149, 'disposal': 8150, 'sponsors': 8151, 'kamal': 8152, 'tymoshenko': 8153, 'theaters': 8154, 'savannah': 8155, 'audi': 8156, 'isolated': 8157, 'committees': 8158, 'egg': 8159, 'offseason': 8160, 'divided': 8161, 'surges': 8162, 'backyard': 8163, 'flies': 8164, 'precision': 8165, 'newsday': 8166, 'witnessed': 8167, '240': 8168, 'advisors': 8169, 'operative': 8170, 'spate': 8171, 'bizarre': 8172, 'stunned': 8173, 'aa': 8174, 'procedures': 8175, 'kuwaiti': 8176, 'deepika': 8177, 'builds': 8178, 'pratibha': 8179, 'bermuda': 8180, 'aquino': 8181, 'dover': 8182, 'pleasant': 8183, 'campaigning': 8184, 'mich': 8185, 'unsecured': 8186, 'headquartered': 8187, 'math': 8188, 'medication': 8189, 'promoter': 8190, 'manitoba': 8191, 'colonial': 8192, 'nano': 8193, 'brave': 8194, 'generations': 8195, 'booming': 8196, 'sikh': 8197, 'zach': 8198, 'denise': 8199, 'basin': 8200, 'mila': 8201, 'kunis': 8202, 'principles': 8203, 'pot': 8204, 'salmonella': 8205, 'carr': 8206, 'bearish': 8207, 'invite': 8208, 'beck': 8209, 'donors': 8210, 'disrupt': 8211, 'colbert': 8212, 'scenario': 8213, 'schalke': 8214, 'jessie': 8215, 'aloud': 8216, 'commitments': 8217, 'fragile': 8218, 'groupon': 8219, 'intercontinental': 8220, 'aground': 8221, 'amir': 8222, 'panda': 8223, 'neighbouring': 8224, 'mechanism': 8225, 'viral': 8226, 'pains': 8227, 'yusuf': 8228, 'afghans': 8229, 'lindsey': 8230, 'surf': 8231, 'pitching': 8232, 'fayetteville': 8233, 'wanderers': 8234, 'touching': 8235, 'cooperative': 8236, 'surrendered': 8237, 'laboratories': 8238, 'arguing': 8239, 'shahbaz': 8240, 'graphics': 8241, 'freak': 8242, 'observers': 8243, 'auctioned': 8244, 'mri': 8245, 'fraser': 8246, 'therapeutics': 8247, 'beloved': 8248, 'champ': 8249, 'owed': 8250, 'jackets': 8251, 'yang': 8252, 'sand': 8253, 'daytime': 8254, 'indicators': 8255, 'hacker': 8256, 'gateway': 8257, 'embezzlement': 8258, 'chevrolet': 8259, 'lennon': 8260, 'informs': 8261, 'counting': 8262, 'lokpal': 8263, 'blaming': 8264, 'sevilla': 8265, 'attends': 8266, 'collide': 8267, 'triggering': 8268, 'worsening': 8269, 'collecting': 8270, 'slim': 8271, 'entrance': 8272, 'merit': 8273, 'guinness': 8274, 'akron': 8275, 'livestock': 8276, 'rooms': 8277, 'rahman': 8278, 'contrary': 8279, 'intoxication': 8280, 'lumpur': 8281, 'fault': 8282, 'commuter': 8283, 'lovers': 8284, 'otherwise': 8285, 'cumberland': 8286, 'jaguar': 8287, 'committing': 8288, 'mediterranean': 8289, 'bhutto': 8290, 'provision': 8291, 'waves': 8292, 'spreads': 8293, 'bolivia': 8294, '9th': 8295, 'lagos': 8296, 'please': 8297, 'guys': 8298, 'hulk': 8299, 'vic': 8300, 'turnout': 8301, 'supervisors': 8302, 'piers': 8303, 'realty': 8304, 'kazakh': 8305, 'ensuring': 8306, 'paralympic': 8307, '135': 8308, 'binghamton': 8309, 'crushing': 8310, 'ole': 8311, 'protestors': 8312, 'passion': 8313, 'observe': 8314, 'diamonds': 8315, 'firmer': 8316, 'rouge': 8317, 'choices': 8318, 'rebecca': 8319, 'attracted': 8320, 'scratched': 8321, 'biel': 8322, 'exporter': 8323, 'guantanamo': 8324, 'contestant': 8325, 'situations': 8326, 'knocks': 8327, 'msnbc': 8328, 'se': 8329, 'connections': 8330, 'priorities': 8331, 'complained': 8332, 'extremists': 8333, 'legends': 8334, 'katherine': 8335, 'comfort': 8336, 'destroying': 8337, 'lauderdale': 8338, 'strongest': 8339, 'highlighting': 8340, 'absolute': 8341, 'motogp': 8342, 'chaudhry': 8343, 'rewards': 8344, 'musicians': 8345, 'radar': 8346, 'methodist': 8347, 'enemy': 8348, 'sealed': 8349, 'russians': 8350, 'escalating': 8351, 'schmidt': 8352, 'marvel': 8353, 'bismarck': 8354, 'uss': 8355, 'indo': 8356, 'synthetic': 8357, 'root': 8358, 'persian': 8359, 'seemed': 8360, 'hazard': 8361, 'undefeated': 8362, 'injection': 8363, 'landlord': 8364, 'borrow': 8365, 'burton': 8366, 'partly': 8367, 'gerrard': 8368, 'umpire': 8369, 'greenville': 8370, 'evaluation': 8371, 'haley': 8372, 'casting': 8373, 'minorities': 8374, 'highways': 8375, 'hospice': 8376, 'ritchie': 8377, 'thefts': 8378, 'snack': 8379, '230': 8380, 'goody': 8381, 'pensioners': 8382, 'ecb': 8383, 'embezzling': 8384, 'explorer': 8385, 'indices': 8386, 'mitch': 8387, 'voiced': 8388, 'affirmed': 8389, 'owens': 8390, 'protocol': 8391, 'huffington': 8392, 'knightley': 8393, 'holocaust': 8394, 'carries': 8395, 'beverage': 8396, '112': 8397, 'albania': 8398, 'garner': 8399, 'bruised': 8400, 'lifting': 8401, 'boulder': 8402, 'jared': 8403, 'havoc': 8404, 'lodged': 8405, 'gore': 8406, 'pitched': 8407, 'jiabao': 8408, 'cleanup': 8409, 'forbes': 8410, 'debuts': 8411, 'blu': 8412, 'pepsico': 8413, 'relationships': 8414, 'raided': 8415, 'narrowed': 8416, 'augusta': 8417, 'muamba': 8418, 'monte': 8419, 'rss': 8420, 'westwood': 8421, 'respects': 8422, 'booker': 8423, '1bn': 8424, 'montag': 8425, 'composite': 8426, 'fraudulent': 8427, 'publishers': 8428, 'favourites': 8429, 'cannes': 8430, 'rivera': 8431, 'animated': 8432, 'seafood': 8433, 'spark': 8434, 'everywhere': 8435, 'attached': 8436, 'gesture': 8437, 'closures': 8438, 'hai': 8439, 'olive': 8440, 'scholarships': 8441, 'dawson': 8442, 'chandler': 8443, 'grains': 8444, 'sole': 8445, 'neighboring': 8446, 'deserves': 8447, 'critic': 8448, 'milton': 8449, 'deliveries': 8450, 'nh': 8451, 'slot': 8452, 'organ': 8453, 'mrs': 8454, 'soar': 8455, 'discipline': 8456, 'mainstream': 8457, 'lies': 8458, 'wembley': 8459, 'biological': 8460, 'habitat': 8461, 'supermarkets': 8462, 'surpassed': 8463, 'seth': 8464, 'bashir': 8465, 'personally': 8466, 'patterson': 8467, 'shifted': 8468, 'occupation': 8469, 'downing': 8470, 'reinstate': 8471, 'soybean': 8472, 'mellon': 8473, 'camden': 8474, 'strange': 8475, 'accelerate': 8476, 'martial': 8477, 'sinking': 8478, 'harlem': 8479, 'shetty': 8480, 'eliminating': 8481, '28th': 8482, 'cheese': 8483, 'honduras': 8484, 'bangladeshi': 8485, 'stephanie': 8486, 'flower': 8487, 'heathrow': 8488, 'mercer': 8489, 'dundee': 8490, 'oj': 8491, 'nash': 8492, 'nda': 8493, 'vegetables': 8494, 'physician': 8495, 'southampton': 8496, 'alec': 8497, 'formerly': 8498, 'injunction': 8499, 'jubilee': 8500, 'undergone': 8501, 'sao': 8502, 'magistrates': 8503, 'suns': 8504, 'talented': 8505, 'borrowers': 8506, 'spying': 8507, 'warship': 8508, 'establishes': 8509, 'appliances': 8510, 'transfers': 8511, 'detainees': 8512, 'dealt': 8513, 'revamped': 8514, 'duluth': 8515, 'colonel': 8516, 'lethal': 8517, 'churches': 8518, 'northampton': 8519, 'ariz': 8520, 'olivia': 8521, 'rajapaksa': 8522, 'contamination': 8523, 'amended': 8524, 'impersonating': 8525, 'downward': 8526, 'webcast': 8527, 'reshuffle': 8528, 'grandfather': 8529, 'steals': 8530, 'tenants': 8531, 'opted': 8532, 'karan': 8533, 'saskatoon': 8534, 'benson': 8535, 'hotspur': 8536, 'chan': 8537, 'corridor': 8538, 'lotus': 8539, 'actively': 8540, 'pursuing': 8541, 'unmanned': 8542, 'shia': 8543, 'climbs': 8544, 'ha': 8545, 'novelist': 8546, 'reflect': 8547, 'commemorate': 8548, 'architect': 8549, 'breaching': 8550, 'hillsborough': 8551, 'lap': 8552, 'sotomayor': 8553, 'slapped': 8554, 'ramdev': 8555, 'circus': 8556, 'fidel': 8557, 'literacy': 8558, 'decisive': 8559, 'downgrade': 8560, 'episodes': 8561, 'oral': 8562, 'pray': 8563, 'bread': 8564, 'mtn': 8565, 'refuge': 8566, 'byrd': 8567, 'kilometres': 8568, 'mln': 8569, 'travolta': 8570, 'hates': 8571, 'conglomerate': 8572, 'connectivity': 8573, 'anchorage': 8574, 'suarez': 8575, 'bal': 8576, 'viktor': 8577, 'experimental': 8578, 'pedro': 8579, 'lure': 8580, 'conditioning': 8581, 'deeply': 8582, 'predators': 8583, 'weaken': 8584, 'monaco': 8585, 'outgoing': 8586, 'alpha': 8587, 'caucus': 8588, 'boutique': 8589, 'niger': 8590, 'knights': 8591, 'hints': 8592, 'boot': 8593, 'tone': 8594, 'trent': 8595, 'handsets': 8596, 'chesapeake': 8597, 'hook': 8598, 'issuer': 8599, 'cork': 8600, 'iv': 8601, 'diversified': 8602, 'brighton': 8603, 'concord': 8604, 'mcdonnell': 8605, 'eastman': 8606, 'barrymore': 8607, 'dividends': 8608, 'bass': 8609, 'hangs': 8610, 'rory': 8611, 'junk': 8612, 'enjoys': 8613, 'sands': 8614, 'continent': 8615, '000th': 8616, 'preventing': 8617, 'concessions': 8618, 'duet': 8619, 'graffiti': 8620, 'follows': 8621, 'dynamo': 8622, 'overwhelming': 8623, 'obligations': 8624, 'partnerships': 8625, 'marilyn': 8626, 'finalized': 8627, 'grip': 8628, 'stint': 8629, 'highland': 8630, 'tune': 8631, 'exploring': 8632, 'didier': 8633, 'disability': 8634, 'furious': 8635, 'sears': 8636, 'sheboygan': 8637, 'outreach': 8638, 'capped': 8639, 'cave': 8640, 'weighing': 8641, 'conclusion': 8642, 'grande': 8643, 'tears': 8644, 'billings': 8645, 'durban': 8646, 'garrett': 8647, '1000': 8648, 'linkedin': 8649, 'llp': 8650, 'ft': 8651, 'freezes': 8652, 'bribes': 8653, '175': 8654, 'fletcher': 8655, 'transform': 8656, 'taxation': 8657, 'monkey': 8658, 'enemies': 8659, 'runners': 8660, 'forgery': 8661, 'julius': 8662, 'cry': 8663, 'purchasing': 8664, 'showers': 8665, 'types': 8666, 'lancashire': 8667, 'trauma': 8668, 'transformation': 8669, 'im': 8670, 'languages': 8671, 'migrant': 8672, 'chevron': 8673, 'brewing': 8674, 'stallone': 8675, 'conceded': 8676, 'shrank': 8677, 'joke': 8678, 'wrongful': 8679, 'bynes': 8680, 'arroyo': 8681, 'restoring': 8682, 'jude': 8683, 'manufacture': 8684, 'gearing': 8685, 'killers': 8686, 'seasonally': 8687, 'stray': 8688, 'spokane': 8689, 'firearm': 8690, 'nate': 8691, 'color': 8692, 'aj': 8693, 'designers': 8694, 'polio': 8695, 'malley': 8696, 'bald': 8697, 'paraguay': 8698, 'bean': 8699, 'petraeus': 8700, 'darling': 8701, 'driveway': 8702, 'memories': 8703, 'monitors': 8704, 'runaway': 8705, 'usher': 8706, 'acc': 8707, 'jews': 8708, 'ipads': 8709, 'jindal': 8710, 'splash': 8711, 'corning': 8712, 'macquarie': 8713, 'honours': 8714, 'corey': 8715, 'liberals': 8716, 'forests': 8717, 'bio': 8718, 'physicians': 8719, 'finalist': 8720, 'shirley': 8721, 'boating': 8722, 'workshops': 8723, 'duck': 8724, 'lilly': 8725, 'regret': 8726, 'hyundai': 8727, 'amar': 8728, 'donating': 8729, 'chasing': 8730, 'woody': 8731, 'ti': 8732, 'downloads': 8733, 'appetite': 8734, 'lined': 8735, 'ashore': 8736, 'rabies': 8737, 'felonies': 8738, 'panetta': 8739, 'webb': 8740, 'tna': 8741, 'yeddyurappa': 8742, 'sinks': 8743, 'competitiveness': 8744, 'paint': 8745, 'outcome': 8746, 'referred': 8747, 'conversation': 8748, 'astana': 8749, 'settlers': 8750, 'brit': 8751, 'liberation': 8752, 'luther': 8753, 'maestro': 8754, 'cutler': 8755, 'swimmer': 8756, 'diverted': 8757, 'interviewed': 8758, 'searches': 8759, 'ipswich': 8760, 'murderer': 8761, 'styles': 8762, 'noting': 8763, 'colleague': 8764, 'array': 8765, 'vaccines': 8766, 'frequent': 8767, 'module': 8768, 'peers': 8769, 'backdrop': 8770, 'rodney': 8771, 'ossetia': 8772, 'twist': 8773, 'steering': 8774, 'germain': 8775, 'semifinal': 8776, 'decreased': 8777, 'promotional': 8778, 'mounted': 8779, 'malcolm': 8780, 'categories': 8781, 'enables': 8782, 'enrichment': 8783, 'aides': 8784, 'leaf': 8785, 'raceway': 8786, 'supervisor': 8787, 'contaminated': 8788, 'bassist': 8789, 'malfunction': 8790, 'except': 8791, 'conflicts': 8792, 'nonprofit': 8793, 'freeman': 8794, 'forestry': 8795, 'capitals': 8796, 'gotten': 8797, 'balochistan': 8798, 'pac': 8799, 'batteries': 8800, 'hardy': 8801, 'locally': 8802, 'autobiography': 8803, 'sbi': 8804, 'intensified': 8805, 'halftime': 8806, 'achieving': 8807, 'auditorium': 8808, 'sail': 8809, 'dwight': 8810, 'lisbon': 8811, 'rescuers': 8812, 'totally': 8813, 'bon': 8814, 'gareth': 8815, 'visitor': 8816, 'footprint': 8817, 'motorway': 8818, 'copenhagen': 8819, 'braced': 8820, 'heated': 8821, 'mvp': 8822, 'pretoria': 8823, 'airasia': 8824, 'deeper': 8825, 'attracting': 8826, 'colour': 8827, 'incredible': 8828, 'underwear': 8829, 'paving': 8830, 'chapel': 8831, 'integrate': 8832, 'phelps': 8833, 'credentials': 8834, 'sewage': 8835, 'hitachi': 8836, 'touchdown': 8837, 'lacrosse': 8838, 'dining': 8839, 'chairperson': 8840, 'patriot': 8841, 'antitrust': 8842, 'adobe': 8843, 'diversity': 8844, 'hancock': 8845, '24th': 8846, 'fx': 8847, 'pike': 8848, 'larceny': 8849, 'lowering': 8850, 'wooden': 8851, 'auctions': 8852, 'payable': 8853, 'exceeded': 8854, 'pedestrians': 8855, 'revoked': 8856, 'ronson': 8857, 'mayawati': 8858, 'bentley': 8859, 'laureate': 8860, 'cory': 8861, '1999': 8862, 'eclipse': 8863, 'dixon': 8864, 'vegetable': 8865, 'poster': 8866, 'fiber': 8867, 'con': 8868, 'wba': 8869, 'wildfires': 8870, 'hawke': 8871, 'bronx': 8872, 'spotify': 8873, 'quincy': 8874, 'captures': 8875, 'uncle': 8876, 'slashes': 8877, 'sight': 8878, 'peters': 8879, '1960s': 8880, 'arbor': 8881, 'automakers': 8882, 'barrett': 8883, 'scherzinger': 8884, '2g': 8885, 'gupta': 8886, 'vogue': 8887, 'barker': 8888, 'slur': 8889, 'timberwolves': 8890, 'defrauding': 8891, 'unlawful': 8892, 'emc': 8893, 'slashing': 8894, 'mcilroy': 8895, 'dunn': 8896, 'daryl': 8897, 'burnley': 8898, 'beau': 8899, 'breakaway': 8900, 'bacteria': 8901, 'splitting': 8902, 'expression': 8903, 'tall': 8904, 'stamps': 8905, 'scottsdale': 8906, 'affiliated': 8907, 'dust': 8908, 'indy': 8909, 'collapsing': 8910, 'mcafee': 8911, 'naples': 8912, 'fantastic': 8913, 'cardiovascular': 8914, 'hudgens': 8915, 'addict': 8916, 'divorced': 8917, 'separated': 8918, 'latter': 8919, 'copies': 8920, 'bullets': 8921, 'lucie': 8922, 'collaborate': 8923, 'kia': 8924, 'holes': 8925, 'labourers': 8926, 'psychological': 8927, 'mgm': 8928, 'gyllenhaal': 8929, 'yourself': 8930, 'architecture': 8931, 'norton': 8932, 'surprisingly': 8933, 'loving': 8934, 'topeka': 8935, 'salisbury': 8936, 'degeneres': 8937, 'nassau': 8938, 'tbilisi': 8939, 'audiences': 8940, '2018': 8941, 'buck': 8942, 'bidding': 8943, 'speakers': 8944, 'ordering': 8945, 'loyal': 8946, 'designate': 8947, 'demolished': 8948, 'consultations': 8949, 'trainers': 8950, 'intentionally': 8951, 'obtain': 8952, 'venus': 8953, 'shahrukh': 8954, 'imperial': 8955, 'copa': 8956, 'sections': 8957, 'leno': 8958, 'hi': 8959, 'outskirts': 8960, 'missions': 8961, 'apprentice': 8962, 'bash': 8963, 'icahn': 8964, 'wore': 8965, 'achieves': 8966, 'drag': 8967, 'saleh': 8968, 'legally': 8969, 'bb': 8970, 'dressing': 8971, 'upsets': 8972, 'corrections': 8973, 'moammar': 8974, 'deepening': 8975, 'eggs': 8976, 'displays': 8977, 'ramesh': 8978, 'jc': 8979, 'historian': 8980, 'homage': 8981, 'biotechnology': 8982, 'leisure': 8983, 'chi': 8984, 'transparent': 8985, 'kane': 8986, 'jo': 8987, 'commons': 8988, 'halts': 8989, 'jenny': 8990, 'wesley': 8991, 'lin': 8992, 'greens': 8993, 'manufactured': 8994, 'ambush': 8995, 'builders': 8996, 'galway': 8997, 'ballistic': 8998, 'bishops': 8999, 'snyder': 9000, 'denny': 9001, 'postpone': 9002, 'airspace': 9003, 'donovan': 9004, 'trips': 9005, 'aliens': 9006, 'contributed': 9007, 'affirms': 9008, 'shower': 9009, 'correction': 9010, 'movements': 9011, 'checking': 9012, 'kissing': 9013, 'upstate': 9014, 'stormed': 9015, 'keira': 9016, 'upto': 9017, 'pumps': 9018, 'devon': 9019, 'quad': 9020, 'nike': 9021, 'snowfall': 9022, 'migration': 9023, 'clara': 9024, 'cricketers': 9025, 'turtle': 9026, 'snake': 9027, 'towers': 9028, 'coldplay': 9029, 'hiked': 9030, 'unesco': 9031, 'hottest': 9032, 'headlines': 9033, 'sonic': 9034, 'conjunction': 9035, 'crusaders': 9036, 'cartel': 9037, 'kashmiri': 9038, 'youngster': 9039, 'princeton': 9040, 'sprinter': 9041, 'evolution': 9042, 'leona': 9043, 'batman': 9044, 'leone': 9045, 'libel': 9046, 'lng': 9047, 'rebate': 9048, 'spacecraft': 9049, 'geo': 9050, 'yankee': 9051, 'lpga': 9052, 'caucasus': 9053, 'sargsyan': 9054, 'apartheid': 9055, 'brigade': 9056, 'modified': 9057, 'wears': 9058, 'preview': 9059, 'cult': 9060, 'lords': 9061, 'ilham': 9062, 'martha': 9063, 'letting': 9064, 'improper': 9065, 'baton': 9066, 'regina': 9067, 'grades': 9068, 'whip': 9069, 'holly': 9070, 'reviewed': 9071, 'sack': 9072, 'bahraini': 9073, 'sticks': 9074, 'continuous': 9075, 'intoxicated': 9076, 'limerick': 9077, 'shropshire': 9078, 'vonn': 9079, 'deemed': 9080, 'payne': 9081, 'pictured': 9082, 'dustin': 9083, 'supervision': 9084, 'mosquito': 9085, 'landfall': 9086, 'joplin': 9087, 'weigh': 9088, 'middlesbrough': 9089, 'eager': 9090, 'reagan': 9091, 'acre': 9092, 'recognizes': 9093, 'kendra': 9094, 'bloom': 9095, 'eyeing': 9096, 'guaranteed': 9097, 'everybody': 9098, 'cameroon': 9099, 'assess': 9100, 'rampage': 9101, 'roddick': 9102, 'acted': 9103, 'supplying': 9104, 'narcotics': 9105, 'flintoff': 9106, 'aer': 9107, 'electrocuted': 9108, 'hospitality': 9109, 'chatham': 9110, 'runoff': 9111, 'powder': 9112, 'touches': 9113, 'belarusian': 9114, 'putnam': 9115, 'drones': 9116, 'processors': 9117, 'leaking': 9118, 'stockton': 9119, 'commissions': 9120, 'roommate': 9121, 'salon': 9122, 'alcoholic': 9123, 'lille': 9124, 'wonderful': 9125, 'macon': 9126, 'jam': 9127, 'jihad': 9128, 'carpenter': 9129, 'moose': 9130, 'meal': 9131, 'approvals': 9132, 'hydrogen': 9133, '90th': 9134, 'oversight': 9135, 'deadliest': 9136, 'pared': 9137, 'disqualified': 9138, 'qualcomm': 9139, 'surfer': 9140, 'misleading': 9141, 'wardrobe': 9142, 'fergie': 9143, 'looming': 9144, 'bite': 9145, 'pleas': 9146, 'xavier': 9147, 'rao': 9148, 'negligent': 9149, 'importing': 9150, 'blocking': 9151, 'directions': 9152, '111': 9153, 'observer': 9154, 'contracted': 9155, 'honoring': 9156, 'lesson': 9157, 'cafe': 9158, 'shelves': 9159, 'detect': 9160, 'comparison': 9161, 'premieres': 9162, 'starred': 9163, 'fiancee': 9164, 'coli': 9165, 'peruvian': 9166, 'solomon': 9167, 'lifeline': 9168, 'nephew': 9169, 'lucrative': 9170, 'tide': 9171, 'patrice': 9172, 'affects': 9173, 'ronald': 9174, 'boxes': 9175, 'contention': 9176, 'controlling': 9177, 'akhtar': 9178, 'peyton': 9179, 'stockholm': 9180, 'slumped': 9181, 'cambodian': 9182, 'wolfsburg': 9183, 'substitute': 9184, 'convinced': 9185, 'polk': 9186, 'jurors': 9187, 'sheep': 9188, 'francois': 9189, 'peer': 9190, 'iris': 9191, 'colo': 9192, 'warplanes': 9193, 'whilst': 9194, 'karunanidhi': 9195, 'trick': 9196, 'apollo': 9197, 'associations': 9198, 'instructor': 9199, 'happening': 9200, 'voip': 9201, 'saab': 9202, 'sellers': 9203, 'quarterfinal': 9204, 'anfield': 9205, 'vigil': 9206, 'strait': 9207, 'lewd': 9208, 'iphones': 9209, 'rotary': 9210, 'tense': 9211, 'fallon': 9212, 'beam': 9213, 'alba': 9214, 'basket': 9215, 'atp': 9216, 'carlyle': 9217, 'worry': 9218, 'nagorno': 9219, 'taxpayer': 9220, 'tenure': 9221, 'farrell': 9222, 'menu': 9223, 'commentator': 9224, 'knocking': 9225, 'khurshid': 9226, 'fingers': 9227, 'liz': 9228, 'deepen': 9229, 'background': 9230, 'osce': 9231, 'licences': 9232, 'hearings': 9233, 'filling': 9234, 'grizzlies': 9235, 'hurdle': 9236, 'cornell': 9237, 'engulfing': 9238, 'liga': 9239, 'timing': 9240, 'lend': 9241, 'knifepoint': 9242, 'gutted': 9243, 'uc': 9244, 'iftikhar': 9245, 'rita': 9246, 'carney': 9247, 'guided': 9248, 'slaying': 9249, 'shifting': 9250, 'reversing': 9251, 'grammer': 9252, 'choppy': 9253, 'cellphone': 9254, 'harley': 9255, 'exams': 9256, 'abdominal': 9257, 'guarantees': 9258, 'jacobs': 9259, 'expires': 9260, 'brace': 9261, 'shrine': 9262, 'focuses': 9263, 'spelling': 9264, 'casual': 9265, 'owes': 9266, 'basement': 9267, 'julio': 9268, 'byrne': 9269, 'warne': 9270, 'pawar': 9271, 'calhoun': 9272, 'sim': 9273, 'licensed': 9274, 'luxembourg': 9275, 'leighton': 9276, 'spinal': 9277, 'underlying': 9278, 'salesforce': 9279, 'trinidad': 9280, 'g20': 9281, 'ear': 9282, 'articles': 9283, 'trek': 9284, 'shrink': 9285, 'condolences': 9286, 'dish': 9287, 'voices': 9288, 'automated': 9289, 'banquet': 9290, 'barely': 9291, 'meredith': 9292, 'lasting': 9293, 'roshan': 9294, 'adverse': 9295, 'certificates': 9296, 'petty': 9297, 'colon': 9298, 'reactors': 9299, 'switching': 9300, 'detailed': 9301, 'ins': 9302, 'hoax': 9303, 'rescheduled': 9304, 'mickey': 9305, 'wondering': 9306, 'weston': 9307, 'burmese': 9308, '270': 9309, 'crossings': 9310, 'anticipation': 9311, 'submarine': 9312, 'pill': 9313, 'lara': 9314, 'vmware': 9315, 'uconn': 9316, 'harrisburg': 9317, 'disappearance': 9318, 'treasure': 9319, 'topic': 9320, 'stimulate': 9321, 'broadly': 9322, 'nicholas': 9323, 'crowe': 9324, 'employed': 9325, 'paulson': 9326, 'treasuries': 9327, 'donna': 9328, 'assemblyman': 9329, 'legion': 9330, 'orthodox': 9331, 'dmk': 9332, 'regularly': 9333, 'jaipur': 9334, 'pianist': 9335, 'yerevan': 9336, 'goalless': 9337, 'bribe': 9338, 'sylvester': 9339, 'sabres': 9340, 'bcci': 9341, 'sophomore': 9342, 'prakash': 9343, 'gp': 9344, 'rejecting': 9345, 'elsewhere': 9346, 'delaying': 9347, 'straw': 9348, 'column': 9349, 'aishwarya': 9350, 'procurement': 9351, 'commenced': 9352, 'wrestler': 9353, 'aerial': 9354, '114': 9355, 'valuation': 9356, 'indication': 9357, 'elena': 9358, 'erin': 9359, 'pr': 9360, 'defined': 9361, 'bigg': 9362, 'elimination': 9363, 'jill': 9364, 'cairn': 9365, 'mirror': 9366, '5bn': 9367, 'reaffirmed': 9368, 'prisons': 9369, 'perjury': 9370, 'rumored': 9371, 'viewing': 9372, 'pulitzer': 9373, 'lautner': 9374, '4s': 9375, 'cheltenham': 9376, 'endorsing': 9377, 'stuff': 9378, 'comics': 9379, 'ortiz': 9380, 'loyalty': 9381, 'fiction': 9382, 'closet': 9383, 'tina': 9384, 'smartrend': 9385, 'candlestick': 9386, 'pork': 9387, 'kandahar': 9388, 'courtesy': 9389, 'tow': 9390, 'irrigation': 9391, 'kourtney': 9392, 'outing': 9393, 'tariff': 9394, 'xperia': 9395, 'helena': 9396, 'westfield': 9397, 'alcoa': 9398, 'implications': 9399, 'pupil': 9400, 'divers': 9401, 'regulate': 9402, 'shelf': 9403, 'dominate': 9404, 'khyber': 9405, 'indycar': 9406, 'calvin': 9407, 'mouse': 9408, 'farming': 9409, 'relegated': 9410, 'digit': 9411, 'sedan': 9412, 'avatar': 9413, 'staples': 9414, 'deserved': 9415, 'eminem': 9416, 'bethlehem': 9417, 'ideal': 9418, 'mammoth': 9419, 'slept': 9420, 'shakes': 9421, 'berkshire': 9422, 'relevant': 9423, 'lloyds': 9424, 'roanoke': 9425, 'benghazi': 9426, 'bipartisan': 9427, 'flame': 9428, 'mongolia': 9429, 'drowning': 9430, 'downhill': 9431, 'flynn': 9432, 'contacts': 9433, 'akbar': 9434, 'shifts': 9435, 'ing': 9436, 'inaugurates': 9437, 'rex': 9438, 'plain': 9439, 'actual': 9440, 'iranians': 9441, 'kan': 9442, 'surfaced': 9443, 'roland': 9444, 'listening': 9445, 'handgun': 9446, 'seas': 9447, 'kathleen': 9448, 'exercised': 9449, 'seller': 9450, 'whales': 9451, 'goodbye': 9452, 'owing': 9453, 'marvin': 9454, 'benz': 9455, 'televised': 9456, 'gosling': 9457, 'institutes': 9458, 'dane': 9459, 'acceptance': 9460, 'debit': 9461, 'drills': 9462, 'mask': 9463, 'vetoed': 9464, 'subsidy': 9465, 'understands': 9466, 'repaired': 9467, 'perdue': 9468, 'supposed': 9469, 'ladder': 9470, 'surrounded': 9471, 'gurgaon': 9472, 'explosions': 9473, 'serb': 9474, '108': 9475, 'correct': 9476, 'africans': 9477, 'bosnian': 9478, 'pearson': 9479, '260': 9480, '27th': 9481, 'lengthy': 9482, 'derry': 9483, 'shoaib': 9484, 'imagine': 9485, 'rejoin': 9486, 'jokes': 9487, 'breaches': 9488, 'teaming': 9489, 'alumni': 9490, 'otago': 9491, 'adequate': 9492, 'slugger': 9493, 'paedophile': 9494, 'chains': 9495, 'composition': 9496, 'gainesville': 9497, 'tired': 9498, 'frederick': 9499, 'conversion': 9500, 'flows': 9501, 'speedy': 9502, 'bayer': 9503, 'graeme': 9504, 'norms': 9505, 'osborne': 9506, 'frame': 9507, 'opt': 9508, 'supplied': 9509, 'unlimited': 9510, 'examined': 9511, 'ruth': 9512, 'libraries': 9513, 'flowers': 9514, 'terrible': 9515, 'prostitute': 9516, 'clarkson': 9517, 'jain': 9518, 'rd': 9519, 'separation': 9520, 'atop': 9521, 'stafford': 9522, 'interface': 9523, 'imposing': 9524, 'parcel': 9525, 'thermo': 9526, 'brilliant': 9527, 'exported': 9528, 'chhattisgarh': 9529, 'credited': 9530, 'raft': 9531, 'scrutiny': 9532, 'tolerance': 9533, 'elk': 9534, 'fragrance': 9535, 'competitors': 9536, 'none': 9537, 'answered': 9538, 'sundance': 9539, 'closest': 9540, 'patrols': 9541, 'connecting': 9542, 'vow': 9543, 'pardon': 9544, 'humane': 9545, 'discounts': 9546, 'buenos': 9547, 'aires': 9548, 'interviews': 9549, 'norris': 9550, 'aka': 9551, 'crosses': 9552, 'prevented': 9553, 'tortured': 9554, 'cindy': 9555, 'brittany': 9556, 'yanukovych': 9557, 'counseling': 9558, 'rimes': 9559, 'gangs': 9560, 'herbert': 9561, 'gazette': 9562, 'capability': 9563, 'specialists': 9564, 'assaults': 9565, 'stupid': 9566, 'samoa': 9567, 'opposing': 9568, 'hayward': 9569, 'paramedics': 9570, 'cousins': 9571, 'forks': 9572, 'ballet': 9573, 'mood': 9574, 'attendants': 9575, 'ravi': 9576, 'waterloo': 9577, 'oz': 9578, 'seals': 9579, 'airstrike': 9580, 'entirely': 9581, 'usage': 9582, 'harder': 9583, 'detain': 9584, 'supplements': 9585, 'neither': 9586, 'cheat': 9587, 'trinamool': 9588, 'seizes': 9589, 'lo': 9590, 'upholds': 9591, 'gangster': 9592, 'belong': 9593, 'propaganda': 9594, 'jamaican': 9595, 'demonstrated': 9596, 'trusted': 9597, 'offenses': 9598, 'dot': 9599, 'frustrated': 9600, 'candidacy': 9601, 'madden': 9602, 'anglo': 9603, 'playbook': 9604, 'condoleezza': 9605, 'ark': 9606, 'nairobi': 9607, 'kickoff': 9608, 'bikes': 9609, 'warwick': 9610, 'shelton': 9611, 'halfway': 9612, 'shipment': 9613, 'convince': 9614, 'receivers': 9615, 'mercantile': 9616, 'disclose': 9617, '103': 9618, 'satisfied': 9619, 'truce': 9620, 'rubbish': 9621, 'conspiring': 9622, 'fabrice': 9623, 'measuring': 9624, 'examine': 9625, 'wealthy': 9626, 'procter': 9627, '787': 9628, 'eni': 9629, 'bypass': 9630, 'ligament': 9631, 'afridi': 9632, 'widening': 9633, 'handful': 9634, 'lunar': 9635, 'growers': 9636, 'sutherland': 9637, 'pasadena': 9638, 'reply': 9639, 'telugu': 9640, 'sgt': 9641, 'shields': 9642, 'finalists': 9643, 'jazeera': 9644, 'oxygen': 9645, 'edwin': 9646, '290': 9647, 'aquarium': 9648, 'jerome': 9649, 'ajay': 9650, 'choosing': 9651, 'serzh': 9652, '117': 9653, 'pavilion': 9654, 'dev': 9655, '106': 9656, 'premature': 9657, 'legislator': 9658, 'baxter': 9659, 'thoughts': 9660, 'moldova': 9661, 'properly': 9662, 'generally': 9663, 'registry': 9664, 'kaif': 9665, 'granting': 9666, 'britons': 9667, 'spared': 9668, 'premiums': 9669, 'identifying': 9670, 'liberia': 9671, 'emmanuel': 9672, 'punish': 9673, 'lockheed': 9674, 'ventura': 9675, 'gill': 9676, 'tesla': 9677, 'float': 9678, 'insurgent': 9679, 'carla': 9680, 'bulldogs': 9681, 'hung': 9682, 'rbs': 9683, 'stab': 9684, 'ankara': 9685, 'dismal': 9686, 'atmosphere': 9687, 'bhopal': 9688, 'q1': 9689, 'applying': 9690, 'innovations': 9691, 'gradually': 9692, 'trans': 9693, 'lied': 9694, 'careers': 9695, 'inform': 9696, 'johan': 9697, 'consolidated': 9698, 'greenwood': 9699, 'teamed': 9700, '22nd': 9701, 'dirt': 9702, 'cis': 9703, 'jacques': 9704, 'usually': 9705, 'portrait': 9706, 'nl': 9707, 'harding': 9708, 'frontline': 9709, 'amendments': 9710, 'bicyclist': 9711, 'kylie': 9712, 'lingerie': 9713, 'glendale': 9714, 'ethical': 9715, 'qpr': 9716, 'skier': 9717, 'cornwall': 9718, '1970s': 9719, 'filmed': 9720, 'console': 9721, 'insurgency': 9722, 'tori': 9723, 'bale': 9724, 'chivas': 9725, 'refinancing': 9726, 'sas': 9727, 'leann': 9728, 'scuffle': 9729, 'enrollment': 9730, 'homer': 9731, 'sliding': 9732, 'sainsbury': 9733, 'shoplifting': 9734, 'intimate': 9735, 'sample': 9736, 'paddy': 9737, 'prolific': 9738, 'klein': 9739, 'enabling': 9740, 'thrashers': 9741, 'sai': 9742, 'bullion': 9743, 'vocal': 9744, 'mahama': 9745, 'consultants': 9746, 'overshadowed': 9747, 'victories': 9748, 'solicitor': 9749, 'tyre': 9750, 'wrongly': 9751, 'settlements': 9752, 'sania': 9753, 'kareena': 9754, 'ai': 9755, 'mosley': 9756, 'fractures': 9757, 'harare': 9758, 'graphic': 9759, 'cypriot': 9760, 'buccaneers': 9761, 'dispatch': 9762, 'vetoes': 9763, 'engulfed': 9764, 'carlton': 9765, 'middletown': 9766, 'vodka': 9767, 'headley': 9768, 'rancho': 9769, 'clijsters': 9770, 'hitler': 9771, 'appalachian': 9772, 'newfoundland': 9773, 'labrador': 9774, 'jaime': 9775, 'kristin': 9776, 'cubic': 9777, 'gabor': 9778, 'profitable': 9779, 'ansari': 9780, 'listen': 9781, 'akshay': 9782, 'luiz': 9783, 'drogba': 9784, '29th': 9785, 'senegal': 9786, 'servers': 9787, 'surgical': 9788, 'virtualization': 9789, 'flint': 9790, 'benefiting': 9791, 'restive': 9792, 'haitian': 9793, 'reelection': 9794, 'pipes': 9795, 'presley': 9796, 'prizes': 9797, 'ul': 9798, 'proclaimed': 9799, 'rides': 9800, 'expressing': 9801, 'candy': 9802, 'mladic': 9803, 'peacekeepers': 9804, 'warsaw': 9805, 'surviving': 9806, 'warships': 9807, 'ignored': 9808, 'masses': 9809, 'aviva': 9810, 'petitions': 9811, 'farmington': 9812, 'costing': 9813, 'jenner': 9814, 'nightmare': 9815, 'interaction': 9816, 'staging': 9817, 'highlighted': 9818, 'shouldn': 9819, 'bali': 9820, 'determination': 9821, 'aboriginal': 9822, 'ordinance': 9823, 'gadkari': 9824, 'eastenders': 9825, 'overwhelmingly': 9826, 'shores': 9827, 'outer': 9828, 'complaining': 9829, 'churchill': 9830, 'ivan': 9831, 'dismiss': 9832, 'bakersfield': 9833, 'savage': 9834, 'sr': 9835, 'alexandria': 9836, 'ramadan': 9837, 'grounded': 9838, 'granite': 9839, 'mideast': 9840, 'haye': 9841, 'abuses': 9842, 'filipinos': 9843, 'beds': 9844, 'ambassadors': 9845, 'walgreens': 9846, 'skiing': 9847, 'clint': 9848, 'naming': 9849, 'pile': 9850, 'exposing': 9851, 'paternity': 9852, 'geological': 9853, 'facts': 9854, 'predicting': 9855, 'tripura': 9856, 'broward': 9857, 'racism': 9858, 'flagged': 9859, 'reads': 9860, 'livingston': 9861, 'sights': 9862, '200m': 9863, 'recruited': 9864, 'nepali': 9865, 'stakeholders': 9866, 'ultimately': 9867, 'inevitable': 9868, 'locals': 9869, 'describe': 9870, 'mcqueen': 9871, 'arch': 9872, 'exile': 9873, 'snooki': 9874, 'meyer': 9875, 'component': 9876, 'judy': 9877, 'bakery': 9878, 'bats': 9879, 'sacred': 9880, 'hoffman': 9881, 'leinster': 9882, 'smashing': 9883, 'surging': 9884, 'craigslist': 9885, 'encourages': 9886, 'waziristan': 9887, 'directorial': 9888, 'keegan': 9889, 'wellness': 9890, 'respective': 9891, 'abkhazia': 9892, 'kochi': 9893, 'fenway': 9894, 'arguments': 9895, 'horry': 9896, 'shale': 9897, 'fibre': 9898, 'rib': 9899, 'militia': 9900, 'refuse': 9901, 'asda': 9902, 'tongue': 9903, 'multimedia': 9904, 'sergei': 9905, 'honest': 9906, 'nixon': 9907, 'sunset': 9908, 'bogus': 9909, 'lazio': 9910, 'fracture': 9911, 'stuttgart': 9912, 'brutally': 9913, 'pilgrim': 9914, 'ranbir': 9915, 'rey': 9916, 'waiver': 9917, 'guam': 9918, 'ain': 9919, 'emerges': 9920, 'knockout': 9921, 'dannii': 9922, 'initiates': 9923, 'reopening': 9924, 'dorset': 9925, 'therefore': 9926, 'whopping': 9927, 'hiatus': 9928, 'autonomous': 9929, 'vaughan': 9930, 'warfare': 9931, 'busiest': 9932, 'transmitted': 9933, 'fontana': 9934, 'fuelled': 9935, 'bachelor': 9936, 'ar': 9937, 'belief': 9938, 'chen': 9939, 'pal': 9940, 'hindus': 9941, 'reductions': 9942, 'luncheon': 9943, 'sally': 9944, 'pools': 9945, 'hormone': 9946, 'giro': 9947, 'renaissance': 9948, 'carrey': 9949, 'papua': 9950, 'practicing': 9951, 'shelters': 9952, 'spector': 9953, 'ratio': 9954, 'praying': 9955, 'retreated': 9956, 'apache': 9957, 'leach': 9958, 'switched': 9959, 'contributing': 9960, '26th': 9961, 'auditor': 9962, 'perkins': 9963, 'sm': 9964, 'smooth': 9965, 'mulls': 9966, 'dominant': 9967, 'lea': 9968, 'bury': 9969, 'bourse': 9970, 'pled': 9971, 'piano': 9972, 'tabloid': 9973, 'wheels': 9974, 'aspen': 9975, 'missoula': 9976, 'emanuel': 9977, 'millennium': 9978, 'kendrick': 9979, 'barney': 9980, 'festive': 9981, 'heineken': 9982, 'dioxide': 9983, 'theo': 9984, 'alter': 9985, 'asbestos': 9986, 'reversed': 9987, 'huntsville': 9988, 'natal': 9989, 'sarawak': 9990, 'confidential': 9991, 'boone': 9992, 'resisting': 9993, 'rodham': 9994, 'lit': 9995, 'technological': 9996, 'waited': 9997, 'boca': 9998, 'inspiration': 9999}\n"
     ]
    }
   ],
   "execution_count": 20
  },
  {
   "cell_type": "markdown",
   "source": [
    "<a name='e4'></a>\n",
    "### Exercise 4: Bag of Words\n",
    "(1p) Here we will create the bag-of-words representation of the sentences. The function will take a single sentence (list of tokens) and return an array of size `vocab_size` with the counts of each word in the vocabulary. The\n",
    "`vocab_size` is calculated as the length of the passed `token_to_id` dictionary. The resulting array should have zeros everywhere but the indices corresponding to the words in the vocabulary where it should have the counts of the words in the sentence. For example, if the sentence is `['fox', 'and', 'deer']` and the vocabulary is `{'fox': 0, 'and': 1, 'deer': 2}`, the resulting array should be `[1, 1, 1]`. If the sentence is `['fox', 'and', 'fox', 'deer']`, the resulting array should be `[2, 1, 1]`."
   ],
   "metadata": {
    "collapsed": false,
    "pycharm": {
     "name": "#%% md\n"
    }
   }
  },
  {
   "cell_type": "code",
   "source": [
    "def bag_of_words(sentence, token_to_id):\n",
    "    \"\"\"\n",
    "    Creates a bag-of-words representation of the sentence\n",
    "    Args:\n",
    "        sentence: a list of tokens\n",
    "        token_to_id: a dictionary mapping each word to an index in the vocabulary\n",
    "\n",
    "    Returns:: a numpy array of size vocab_size with the counts of each word in the vocabulary\n",
    "\n",
    "    \"\"\"\n",
    "    vocab_size = len(token_to_id)\n",
    "    bow = np.zeros(vocab_size, dtype=int)\n",
    "\n",
    "    ### YOUR CODE HERE\n",
    "    # First we iterate over all tokens in the sentence:\n",
    "    for token in sentence:\n",
    "        # Then we check if the token is in our desired tokens:\n",
    "        if token in token_to_id:\n",
    "            # Finally we add it to the bow array:\n",
    "            bow[token_to_id[token]] += 1\n",
    "\n",
    "\n",
    "\n",
    "    ### YOUR CODE ENDS HERE\n",
    "\n",
    "    return bow"
   ],
   "metadata": {
    "collapsed": false,
    "pycharm": {
     "name": "#%%\n"
    },
    "ExecuteTime": {
     "end_time": "2025-04-19T20:46:00.296835Z",
     "start_time": "2025-04-19T20:46:00.292235Z"
    }
   },
   "outputs": [],
   "execution_count": 21
  },
  {
   "cell_type": "markdown",
   "source": [
    "Let's see how the function works on a single sentence. The output should be a numpy array of size `vocab_size` with the counts of each word in the vocabulary."
   ],
   "metadata": {
    "collapsed": false,
    "pycharm": {
     "name": "#%% md\n"
    }
   }
  },
  {
   "cell_type": "code",
   "source": [
    "print('Tokenized sentence:')\n",
    "print(tokenized_sentences[0])\n",
    "sentence_bow = bag_of_words(tokenized_sentences[0], token_to_id)\n",
    "\n",
    "print('Bag of words:')\n",
    "print(sentence_bow)\n",
    "print('Type of bag of words:')\n",
    "print(type(sentence_bow))\n",
    "print('Shape of bag of words:')\n",
    "print(sentence_bow.shape)\n",
    "print('Non-zero elements in bag of words:')\n",
    "print(np.nonzero(sentence_bow)[0])"
   ],
   "metadata": {
    "collapsed": false,
    "pycharm": {
     "name": "#%%\n"
    },
    "ExecuteTime": {
     "end_time": "2025-04-19T20:46:00.390519Z",
     "start_time": "2025-04-19T20:46:00.383517Z"
    }
   },
   "outputs": [
    {
     "name": "stdout",
     "output_type": "stream",
     "text": [
      "Tokenized sentence:\n",
      "['the', 'final', 'winner', 'of', 'the', 'family', 'pass', 'to', 'the', 'grafton', 'show', 'is', 'the', 'whitty', 'family', 'of', 'grafton']\n",
      "Bag of words:\n",
      "[4 1 0 ... 0 0 0]\n",
      "Type of bag of words:\n",
      "<class 'numpy.ndarray'>\n",
      "Shape of bag of words:\n",
      "(10000,)\n",
      "Non-zero elements in bag of words:\n",
      "[   0    1    4   12  188  288  321 1395 2160]\n"
     ]
    }
   ],
   "execution_count": 22
  },
  {
   "cell_type": "markdown",
   "source": [
    "We can also check in detail what words and their counts are in the bag-of-words representation."
   ],
   "metadata": {
    "collapsed": false,
    "pycharm": {
     "name": "#%% md\n"
    }
   }
  },
  {
   "cell_type": "code",
   "source": [
    "sentence_non_zero_bow = np.nonzero(sentence_bow)[0]\n",
    "print('Non-zero elements in bag of words:')\n",
    "print(sentence_non_zero_bow)\n",
    "for i in sentence_non_zero_bow:\n",
    "    print(vocab[i][0], ':', sentence_bow[i])"
   ],
   "metadata": {
    "collapsed": false,
    "pycharm": {
     "name": "#%%\n"
    },
    "ExecuteTime": {
     "end_time": "2025-04-19T20:46:00.484690Z",
     "start_time": "2025-04-19T20:46:00.480717Z"
    }
   },
   "outputs": [
    {
     "name": "stdout",
     "output_type": "stream",
     "text": [
      "Non-zero elements in bag of words:\n",
      "[   0    1    4   12  188  288  321 1395 2160]\n",
      "the : 4\n",
      "to : 1\n",
      "of : 2\n",
      "is : 1\n",
      "show : 1\n",
      "family : 2\n",
      "final : 1\n",
      "winner : 1\n",
      "pass : 1\n"
     ]
    }
   ],
   "execution_count": 23
  },
  {
   "cell_type": "markdown",
   "source": [
    "The following function will apply all the steps we implemented to a single sentence. It returns a bag of words representation that we will use to calculate the similarity between different sentences."
   ],
   "metadata": {
    "collapsed": false,
    "pycharm": {
     "name": "#%% md\n"
    }
   }
  },
  {
   "cell_type": "code",
   "source": [
    "def embed_text(text, clean_fn, tokenize_fn, embed_fn):\n",
    "    cleaned = clean_fn(text)\n",
    "    tokens = tokenize_fn(cleaned)\n",
    "    embedding = embed_fn(tokens)\n",
    "    return embedding"
   ],
   "metadata": {
    "collapsed": false,
    "pycharm": {
     "name": "#%%\n"
    },
    "ExecuteTime": {
     "end_time": "2025-04-19T20:46:00.578074Z",
     "start_time": "2025-04-19T20:46:00.574304Z"
    }
   },
   "outputs": [],
   "execution_count": 24
  },
  {
   "cell_type": "markdown",
   "source": [
    "<a name='e5'></a>\n",
    "### Exercise 5: Cosine Similarity between two vectors\n",
    "\n",
    "(1p) Complete the following function that given any two vectors will compute the cosine similarity. If you don't remember the formula for the cosine similarity, revisit the course material. Notice that the function receives numpy arrays and recall that you can express cosine similarity as a dot product. Use numpy functions to write an efficient implementation."
   ],
   "metadata": {
    "collapsed": false,
    "pycharm": {
     "name": "#%% md\n"
    }
   }
  },
  {
   "cell_type": "code",
   "source": [
    "def cosine_similarity(vector1, vector2):\n",
    "    \"\"\"\n",
    "    Computes the cosine similarity between two vectors\n",
    "    Args:\n",
    "        vector1: numpy array of the first vector\n",
    "        vector2: numpy array of the second vector\n",
    "\n",
    "    Returns: cosine similarity\n",
    "\n",
    "    \"\"\"\n",
    "    ### YOUR CODE HERE\n",
    "    # First we need to compute the dot product:\n",
    "    dot_product = np.dot(vector1, vector2)\n",
    "\n",
    "    # Then we compute the magnitude of the vectors:\n",
    "    mag1 = np.linalg.norm(vector1)\n",
    "    mag2 = np.linalg.norm(vector2)\n",
    "\n",
    "    # Now we need to handle the case where either vector has a magnitude of 0:\n",
    "    if mag1 == 0 or mag2 == 0:\n",
    "        return 0.0\n",
    "\n",
    "    # Finally we calculate  the cosine similarity:\n",
    "    return dot_product / (mag1 * mag2)\n",
    "\n",
    "    ### YOUR CODE ENDS HERE"
   ],
   "metadata": {
    "collapsed": false,
    "pycharm": {
     "name": "#%%\n"
    },
    "ExecuteTime": {
     "end_time": "2025-04-19T20:46:00.664019Z",
     "start_time": "2025-04-19T20:46:00.659635Z"
    }
   },
   "outputs": [],
   "execution_count": 25
  },
  {
   "cell_type": "code",
   "source": [
    "cosine_similarity(np.array([0, 1, 2]), np.array([0, 2, 4]))"
   ],
   "metadata": {
    "collapsed": false,
    "pycharm": {
     "name": "#%%\n"
    },
    "ExecuteTime": {
     "end_time": "2025-04-19T20:46:00.769946Z",
     "start_time": "2025-04-19T20:46:00.751362Z"
    }
   },
   "outputs": [
    {
     "data": {
      "text/plain": [
       "0.9999999999999998"
      ]
     },
     "execution_count": 26,
     "metadata": {},
     "output_type": "execute_result"
    }
   ],
   "execution_count": 26
  },
  {
   "cell_type": "code",
   "source": [
    "sentences = [\n",
    "    'The quick brown fox jumps over the lazy dog.',\n",
    "    'Some interesting document containin sentences.',\n",
    "    'The quick brown fox jumps over the lazy cat and some other stuff.',\n",
    "    'Fox and deer are not friends.',\n",
    "    'Fox and deer are not friends. But this document is a lot longer than the previous one. We can add sentence by sentence and see how the embeddings change.',\n",
    "]\n",
    "embedded_sentences = [\n",
    "    embed_text(sentence, clean, tokenize, lambda x: bag_of_words(x, token_to_id))\n",
    "    for sentence in sentences\n",
    "]\n",
    "\n",
    "query = 'fox and deer'\n",
    "embedded_query = embed_text(query, clean, tokenize, lambda x: bag_of_words(x, token_to_id))\n",
    "\n",
    "cosine_similarities = [\n",
    "    cosine_similarity(embedded_query, embedded_sentence)\n",
    "    for embedded_sentence in embedded_sentences\n",
    "]\n",
    "print(f'Query: {query}')\n",
    "for sent, cos_sim in zip(sentences, cosine_similarities):\n",
    "    print(f'Cosine Similarity: {cos_sim:.4f} - Sentence: {sent}')"
   ],
   "metadata": {
    "collapsed": false,
    "pycharm": {
     "name": "#%%\n"
    },
    "ExecuteTime": {
     "end_time": "2025-04-19T20:46:00.907536Z",
     "start_time": "2025-04-19T20:46:00.858810Z"
    }
   },
   "outputs": [
    {
     "name": "stdout",
     "output_type": "stream",
     "text": [
      "Query: fox and deer\n",
      "Cosine Similarity: 0.1826 - Sentence: The quick brown fox jumps over the lazy dog.\n",
      "Cosine Similarity: 0.0000 - Sentence: Some interesting document containin sentences.\n",
      "Cosine Similarity: 0.3086 - Sentence: The quick brown fox jumps over the lazy cat and some other stuff.\n",
      "Cosine Similarity: 0.7071 - Sentence: Fox and deer are not friends.\n",
      "Cosine Similarity: 0.3961 - Sentence: Fox and deer are not friends. But this document is a lot longer than the previous one. We can add sentence by sentence and see how the embeddings change.\n"
     ]
    }
   ],
   "execution_count": 27
  },
  {
   "cell_type": "markdown",
   "source": [
    "We will apply the function to the whole dataset. This might take a while, so be patient. The result will be stored in the `sentence_bow` and `compressed_bow` fields of the dataset."
   ],
   "metadata": {
    "collapsed": false,
    "pycharm": {
     "name": "#%% md\n"
    }
   }
  },
  {
   "cell_type": "code",
   "source": [
    "def bag_of_words_dataset(example):\n",
    "    \"\"\"\n",
    "    Creates a bag-of-words representation of the sentence and compressed sentence in the example from the Dataset\n",
    "    Args:\n",
    "        example: an example from the Dataset\n",
    "\n",
    "    Returns: updated example with 'sentence_bow' and 'compressed_bow' columns\n",
    "\n",
    "    \"\"\"\n",
    "    sentence_tokens = example['sentence_tokens']\n",
    "    compressed_tokens = example['compressed_tokens']\n",
    "\n",
    "    sentence_bow = bag_of_words(sentence_tokens, token_to_id)\n",
    "    compressed_bow = bag_of_words(compressed_tokens, token_to_id)\n",
    "\n",
    "    example['sentence_bow'] = sentence_bow\n",
    "    example['compressed_bow'] = compressed_bow\n",
    "    return example"
   ],
   "metadata": {
    "collapsed": false,
    "pycharm": {
     "name": "#%%\n"
    },
    "ExecuteTime": {
     "end_time": "2025-04-19T20:46:01.019140Z",
     "start_time": "2025-04-19T20:46:01.014630Z"
    }
   },
   "outputs": [],
   "execution_count": 28
  },
  {
   "cell_type": "markdown",
   "source": [
    "The following cell will apply the function to the whole dataset. The result will be stored in the `sentence_bow` and `compressed_bow` fields of the dataset. We will also convert the dataset's fields `sentence_bow` and `compressed_bow` to numpy format for easier manipulation."
   ],
   "metadata": {
    "collapsed": false,
    "pycharm": {
     "name": "#%% md\n"
    }
   }
  },
  {
   "cell_type": "code",
   "source": [
    "test_ds = split_ds['test'].map(bag_of_words_dataset)\n",
    "test_ds = test_ds.with_format('np', columns=['sentence_bow', 'compressed_bow'], dtype=float)\n",
    "print(test_ds)"
   ],
   "metadata": {
    "collapsed": false,
    "pycharm": {
     "name": "#%%\n"
    },
    "ExecuteTime": {
     "end_time": "2025-04-19T20:46:35.326845Z",
     "start_time": "2025-04-19T20:46:01.110710Z"
    }
   },
   "outputs": [
    {
     "data": {
      "text/plain": [
       "Map:   0%|          | 0/36000 [00:00<?, ? examples/s]"
      ],
      "application/vnd.jupyter.widget-view+json": {
       "version_major": 2,
       "version_minor": 0,
       "model_id": "1a908019600a4d9185310ecc485e5e63"
      }
     },
     "metadata": {},
     "output_type": "display_data"
    },
    {
     "name": "stdout",
     "output_type": "stream",
     "text": [
      "Dataset({\n",
      "    features: ['set', 'clean_sentence', 'clean_compressed', 'sentence_tokens', 'compressed_tokens', 'sentence_bow', 'compressed_bow'],\n",
      "    num_rows: 36000\n",
      "})\n"
     ]
    }
   ],
   "execution_count": 29
  },
  {
   "cell_type": "markdown",
   "source": [
    "Let's check the results. The `sentence_bow` and `compressed_bow` fields should contain the bag-of-words representation of the sentences and compressed sentences, respectively."
   ],
   "metadata": {
    "collapsed": false,
    "pycharm": {
     "name": "#%% md\n"
    }
   }
  },
  {
   "cell_type": "code",
   "source": [
    "print(test_ds[0])"
   ],
   "metadata": {
    "collapsed": false,
    "pycharm": {
     "name": "#%%\n"
    },
    "ExecuteTime": {
     "end_time": "2025-04-19T20:46:35.429048Z",
     "start_time": "2025-04-19T20:46:35.418339Z"
    }
   },
   "outputs": [
    {
     "name": "stdout",
     "output_type": "stream",
     "text": [
      "{'sentence_bow': array([2., 0., 0., ..., 0., 0., 0.]), 'compressed_bow': array([0., 0., 0., ..., 0., 0., 0.])}\n"
     ]
    }
   ],
   "execution_count": 30
  },
  {
   "cell_type": "code",
   "source": [
    "sentences_bows = test_ds['sentence_bow']\n",
    "print(sentences_bows.shape)"
   ],
   "metadata": {
    "collapsed": false,
    "pycharm": {
     "name": "#%%\n"
    },
    "ExecuteTime": {
     "end_time": "2025-04-19T20:46:37.090086Z",
     "start_time": "2025-04-19T20:46:35.531848Z"
    }
   },
   "outputs": [
    {
     "name": "stdout",
     "output_type": "stream",
     "text": [
      "(36000, 10000)\n"
     ]
    }
   ],
   "execution_count": 31
  },
  {
   "cell_type": "markdown",
   "source": [
    "Now we can start building a retriever based on the bag of words representation. The first step is to calculate the cosine similarity between two vectors."
   ],
   "metadata": {
    "collapsed": false,
    "pycharm": {
     "name": "#%% md\n"
    }
   }
  },
  {
   "cell_type": "markdown",
   "source": [
    "<a name='e6'></a>\n",
    "### Exercise 6: Cosine Similarity between a vector and an array of vectors\n",
    "\n",
    "(2p) The next step in our retrieval system, would be to calculate the proximity of a query to our retrieval corpus (in our case that is all the sentences).\n",
    "\n",
    "Complete the following function to calculate the cosine similarity between a vector (first parameter `vector`, that will usually be the query vector) and all other vectors (second parameter `other_vectors`, that will be the sentence embeddings in our case). Note that the `other_vectors` parameter is a single numpy array of size `N x D`, where $N$ is the number of vectors and $D$ is the dimension of each vector.\n",
    "\n",
    "For maximum efficiency (we will need it) do not use loops. Try to write the implementation with numpy functions. Hint: matrix multiplication can be seen as calculating the dot product between rows and columns of the multiplied matrices."
   ],
   "metadata": {
    "collapsed": false,
    "pycharm": {
     "name": "#%% md\n"
    }
   }
  },
  {
   "cell_type": "code",
   "metadata": {
    "id": "LgaV2b3fpSOR",
    "pycharm": {
     "name": "#%%\n"
    },
    "ExecuteTime": {
     "end_time": "2025-04-19T20:46:37.197769Z",
     "start_time": "2025-04-19T20:46:37.193025Z"
    }
   },
   "source": [
    "def cosine_similarity_1_to_n(vector, other_vectors):\n",
    "    \"\"\"\n",
    "    Calculates the cosine similarity between a single vector and other vectors.\n",
    "    Args:\n",
    "        vector: a numpy array representing a vector of D dimensions\n",
    "        other_vectors: a 2D numpy array representing other vectors (of the size NxD, where N is the number of vectors and D is their dimension)\n",
    "\n",
    "    Returns: a 1D numpy array of size N containing the cosine similarity between the vector and all the other vectors\n",
    "\n",
    "    \"\"\"\n",
    "\n",
    "    #### YOUR CODE HERE\n",
    "    # Here we do something very similar to Ex 5:\n",
    "    # First we compute the dot product:\n",
    "    dot = np.dot(other_vectors, vector)\n",
    "    # then we compute the mag of the single vector:\n",
    "    mag_single = np.linalg.norm(vector)\n",
    "    # Then of the other vectors:\n",
    "    mag_other = np.linalg.norm(other_vectors, axis = 1)\n",
    "    zero_mask = (mag_other == 0) | (mag_single == 0)\n",
    "    # Now we compute the similarity:\n",
    "    denominator = mag_single * mag_other\n",
    "    # Now we avoid dividing by 0:\n",
    "    denominator[denominator == 0] = 1e-10\n",
    "    cosine_similarity = dot / denominator\n",
    "    cosine_similarity[zero_mask] = 0.0\n",
    "    return cosine_similarity\n",
    "\n",
    "\n",
    "\n",
    "\n",
    "\n",
    "    ### YOUR CODE ENDS HERE"
   ],
   "outputs": [],
   "execution_count": 32
  },
  {
   "cell_type": "markdown",
   "metadata": {
    "collapsed": false,
    "id": "irNqAJZLpSOR",
    "pycharm": {
     "name": "#%% md\n"
    }
   },
   "source": [
    "We will use the function to calculate the similarity of all sentences in the dataset to our query."
   ]
  },
  {
   "cell_type": "code",
   "source": [
    "query = 'fox and deer'\n",
    "embedded_query = embed_text(query, clean, tokenize, lambda x: bag_of_words(x, token_to_id))"
   ],
   "metadata": {
    "collapsed": false,
    "pycharm": {
     "name": "#%%\n"
    },
    "ExecuteTime": {
     "end_time": "2025-04-19T20:46:37.305491Z",
     "start_time": "2025-04-19T20:46:37.301271Z"
    }
   },
   "outputs": [],
   "execution_count": 33
  },
  {
   "cell_type": "code",
   "metadata": {
    "id": "uD9mVAhYpSOR",
    "pycharm": {
     "name": "#%%\n"
    },
    "ExecuteTime": {
     "end_time": "2025-04-19T20:46:38.757661Z",
     "start_time": "2025-04-19T20:46:37.421236Z"
    }
   },
   "source": [
    "query_similarity = cosine_similarity_1_to_n(embedded_query, sentences_bows)\n",
    "print(query_similarity.shape)\n",
    "print(query_similarity[:10])"
   ],
   "outputs": [
    {
     "name": "stdout",
     "output_type": "stream",
     "text": [
      "(36000,)\n",
      "[0.         0.         0.         0.         0.         0.\n",
      " 0.24077171 0.         0.         0.        ]\n"
     ]
    }
   ],
   "execution_count": 34
  },
  {
   "cell_type": "markdown",
   "metadata": {
    "collapsed": false,
    "id": "_l3erVTNpSOR",
    "pycharm": {
     "name": "#%% md\n"
    }
   },
   "source": [
    "The following cell will select the most similar sentence."
   ]
  },
  {
   "cell_type": "code",
   "metadata": {
    "id": "0wWa4AWHpSOR",
    "pycharm": {
     "name": "#%%\n"
    },
    "ExecuteTime": {
     "end_time": "2025-04-19T20:46:38.874162Z",
     "start_time": "2025-04-19T20:46:38.868657Z"
    }
   },
   "source": [
    "most_similar = int(np.argmax(query_similarity))\n",
    "print(most_similar)\n",
    "print(query_similarity[most_similar])\n",
    "print(split_ds['test'][most_similar]['set'][0])"
   ],
   "outputs": [
    {
     "name": "stdout",
     "output_type": "stream",
     "text": [
      "18467\n",
      "0.4811252243246881\n",
      "Inalienable rights include ``enjoying and defending life and liberty,'' ``protecting property and seeking and obtaining happiness and safety.''\n"
     ]
    }
   ],
   "execution_count": 35
  },
  {
   "cell_type": "markdown",
   "metadata": {
    "collapsed": false,
    "id": "fpdJHFD1pSOR",
    "pycharm": {
     "name": "#%% md\n"
    }
   },
   "source": [
    "The following function will return the indices of the top-k elements in the array."
   ]
  },
  {
   "cell_type": "code",
   "metadata": {
    "id": "QFUNI9elpSOS",
    "pycharm": {
     "name": "#%%\n"
    },
    "ExecuteTime": {
     "end_time": "2025-04-19T20:46:39.060756Z",
     "start_time": "2025-04-19T20:46:39.056477Z"
    }
   },
   "source": [
    "def top_k_indices(array, k, sorted=True):\n",
    "    \"\"\"\n",
    "    Returns top-k indices from the 1D array. If `sorted` is `True` the returned indices are sorted in the descending order\n",
    "    Args:\n",
    "        array: a 1D numpy array\n",
    "        k: a number of top indices to return\n",
    "        sorted: if True, the returned indices are sorted in descending order\n",
    "\n",
    "    Returns: a 1D array containing top-k indices\n",
    "\n",
    "    \"\"\"\n",
    "    top_k = np.argpartition(array, -k)[-k:]\n",
    "    if sorted:\n",
    "        selected = array[top_k]\n",
    "        sorted_selected = (-selected).argsort()\n",
    "        top_k = top_k[sorted_selected]\n",
    "    return top_k"
   ],
   "outputs": [],
   "execution_count": 36
  },
  {
   "cell_type": "code",
   "metadata": {
    "id": "nY8vvJdepSOS",
    "pycharm": {
     "name": "#%%\n"
    },
    "ExecuteTime": {
     "end_time": "2025-04-19T20:46:39.162943Z",
     "start_time": "2025-04-19T20:46:39.156137Z"
    }
   },
   "source": [
    "top_indices = top_k_indices(query_similarity, k=10).tolist()\n",
    "for idx in top_indices:\n",
    "    print(split_ds['test'][idx]['set'][0])\n",
    "    print(f'similarity: {query_similarity[idx]}')"
   ],
   "outputs": [
    {
     "name": "stdout",
     "output_type": "stream",
     "text": [
      "Inalienable rights include ``enjoying and defending life and liberty,'' ``protecting property and seeking and obtaining happiness and safety.''\n",
      "similarity: 0.4811252243246881\n",
      "Heide and Cook Ltd. is restructuring its business to focus on heating, ventilation and air conditioning services, and CFO and Executive Vice President Dexter Kekua is retiring and will not be replaced.\n",
      "similarity: 0.4123930494211613\n",
      "Missouri lawmakers will spend their summer and fall studying Medicaid, elections and a disease that afflicts deer.\n",
      "similarity: 0.4082482904638631\n",
      "Singer and actress Demi Lovato turned 20 on Monday and recieved a slew of tweets and well wishes from fans and friends alike.\n",
      "similarity: 0.40824829046386296\n",
      "Warm autumn weather is both asset and detriment for deer and elk hunters seeking to fill licenses this season.\n",
      "similarity: 0.3872983346207417\n",
      "Baby products and accessories manufacturer, Kushies is broadening its focus, and launching a separate layette and apparel division.\n",
      "similarity: 0.37796447300922725\n",
      "``Extraordinary, so beautiful and colorful, exceptional dances, and music, and quite (a) wonderful show'' said Mr. Mancuso, former CEO of Paramount Pictures, which produced blockbusters such as Top Gun, Beverly Hills Cop II, and Indiana Jones and the Last Crusade while he manned the helm.\n",
      "similarity: 0.3758230140014145\n",
      "Menu Boards provides a wide range of products and services which includes menu design services, content and artwork layout, three dimensional artwork, handcrafted timber work, chalk and permanent art design and drawings, murals and menu boards.\n",
      "similarity: 0.3758230140014145\n",
      "``The Indian market is expected to open flat following weak closings and openings in global and Asian markets. The Sensex has supports at 16,590 and 16,480 and resistances at 16,740 and 16,820. The Nifty has supports at 4,970 and 4,930 and resistances at 5,020 and 5,050, ``said stock broker ICICI Securities while commenting on the market outlook.\n",
      "similarity: 0.3674521697397003\n",
      "Fox has apologized to Asians after a Fox Sports report made fun of Asian students' accents and knowledge of college football.\n",
      "similarity: 0.3611575592573077\n"
     ]
    }
   ],
   "execution_count": 37
  },
  {
   "cell_type": "markdown",
   "metadata": {
    "collapsed": false,
    "id": "BuRI2JzQpSOS",
    "pycharm": {
     "name": "#%% md\n"
    }
   },
   "source": [
    "<a name='e7'></a>\n",
    "### Exercise 7: Analyzing and improving BOW search results\n",
    "\n",
    "Experiment with different queries (taking into account the nature of the dataset and your insights from the analysis so far).\n",
    "Answer the following questions:\n",
    "- (5p) Does the search perform well? When does it fail? Discuss several examples that are we get an expected but also unexpected results (find at least 3 from each category). Provide reasons for the good/bad result in each case (e.g. is there some error in the data, is there some linguistic phenomenon that we don't capture, is something wrong with our modeling with average embeddings, ...)\n",
    "- (5p) If you see problems with search, how could you improve your implementation? Change the functions above, if you think there is room for improvement. Describe your changes and how they made the search better or (in case you made no changes) explain what made the search robust enough to work well."
   ]
  },
  {
   "cell_type": "code",
   "metadata": {
    "id": "sEQKHAvcpSOS",
    "pycharm": {
     "name": "#%%\n"
    },
    "ExecuteTime": {
     "end_time": "2025-04-19T20:46:53.512712Z",
     "start_time": "2025-04-19T20:46:39.267475Z"
    }
   },
   "source": [
    "#### YOUR CODE HERE\n",
    "queries = [\"Effects of inflation\", \"How to report a stolen card\", \"Cancel my subscription\", \"apple\", \"Ways to stop paying for Netflix\", \"repo man laws\"]\n",
    "\n",
    "for query in queries:\n",
    "    embedded_query = embed_text(query, clean, tokenize, lambda x: bag_of_words(x, token_to_id))\n",
    "    \n",
    "    sentences_bows = test_ds['sentence_bow']\n",
    "    similarities = cosine_similarity_1_to_n(embedded_query, sentences_bows)\n",
    "    \n",
    "    top_k = 5\n",
    "    top_indices = top_k_indices(similarities, k=top_k)\n",
    "    \n",
    "    \n",
    "    print(f\"Top {top_k} matches for: '{query}'\\n\")\n",
    "    for idx in top_indices:\n",
    "        idx = int(idx)\n",
    "        print(f\"Score: {similarities[idx]:.3f}\")\n",
    "        print(f\"Original: {split_ds['test'][idx]['set'][0]}\")\n",
    "        print(f\"Compressed: {split_ds['test'][idx]['set'][1]}\\n\")\n",
    "\n",
    "\n",
    "### YOUR CODE ENDS HERE"
   ],
   "outputs": [
    {
     "name": "stdout",
     "output_type": "stream",
     "text": [
      "Top 5 matches for: 'Effects of inflation'\n",
      "\n",
      "Score: 0.433\n",
      "Original: The wheat growers of the district are being deprived of fair price of their produces allegedly due to a syndicate of businessmen and slow pace of procurement drive of the government.\n",
      "Compressed: Growers deprived of fair price\n",
      "\n",
      "Score: 0.420\n",
      "Original: Belarusian agricultural companies completed the harvesting campaign of millet, reported the Main department of plant growing of the Ministry of Agriculture and Food of the Republic of Belarus.\n",
      "Compressed: Belarus completed the harvesting campaign of millet\n",
      "\n",
      "Score: 0.408\n",
      "Original: Hamid Karzai President of the Islamic Republic of Afghanistan on invitation of Italian premier left Kabul for Rome center of Italia to attend in 150th anniversary of Italian Union.\n",
      "Compressed: President Karzai leaves for italy\n",
      "\n",
      "Score: 0.408\n",
      "Original: Westfield London has been targeted by a gang of robbers who stole hundreds of thousands of pounds worth of jewellery.\n",
      "Compressed: Westfield London targeted by gang of robbers\n",
      "\n",
      "Score: 0.397\n",
      "Original: Sudarshan Sukhani of s2analytics.com is of the view that Pantaloon Retail has target of Rs 125-124.\n",
      "Compressed: Pantaloon Retail has target of Rs 125-124:\n",
      "\n",
      "Top 5 matches for: 'How to report a stolen card'\n",
      "\n",
      "Score: 0.470\n",
      "Original: A Wednesday traffic stop led Greenville police to arrest and charge a man with possessing a stolen gun, according to a news release.\n",
      "Compressed: Traffic stop leads to arrest\n",
      "\n",
      "Score: 0.463\n",
      "Original: A sinkhole swallowed a pond in Newcastle, Calif., in a mere five hours according to a report.\n",
      "Compressed: Sinkhole swallows pond:\n",
      "\n",
      "Score: 0.458\n",
      "Original: A $10,000 International dump truck was stolen from a local business after the thief knocked a hole in a wall to get to it.\n",
      "Compressed: Dump truck stolen from local business\n",
      "\n",
      "Score: 0.455\n",
      "Original: Credit card companies may soon get more creative in finding a place to get you to sign up for a card.\n",
      "Compressed: Credit card companies get creative\n",
      "\n",
      "Score: 0.455\n",
      "Original: A Mountain Island Elementary School student brought a knife to school Feb. 11, according to a Charlotte-Mecklenburg police report.\n",
      "Compressed: Mountain Island Elementary student brings knife\n",
      "\n",
      "Top 5 matches for: 'Cancel my subscription'\n",
      "\n",
      "Score: 0.293\n",
      "Original: ``You touched my heart in my time of grief. My thanks to all of you from Jerusalem,'' wrote Netanyahu on his official Facebook page Saturday evening.\n",
      "Compressed: 'You touched my heart in my time of grief'\n",
      "\n",
      "Score: 0.261\n",
      "Original: ``Acting is my job and at the same time I don't compromise on my religious belief, hence I do my job and carry forward my duty as a Muslim too. Over the years this has become a practice for me and I am quite fine doing both,'' Mammootty said.\n",
      "Compressed: I don't compromise on my religious belief:\n",
      "\n",
      "Score: 0.231\n",
      "Original: When my journey here is over, and I go to meet my maker, may I hear His awesome voice say, ``Well done.''\n",
      "Compressed: When the journey is over\n",
      "\n",
      "Score: 0.226\n",
      "Original: ``Why wont my parakeet eat my diarrhea,'' one of the many crazy Google suggests out there, reached the top trending topic on Google trends.\n",
      "Compressed: 'Why wont my parakeet eat my diarrhea':\n",
      "\n",
      "Score: 0.224\n",
      "Original: I recently set out to find out how blogs work, I caught up with Hayley and she revealed the story behind her new blog and the name 'Home Sweet Home' ``It's my diary, it's the face of my fridge where I use alphabet magnets to stick all of my... all of my stuff! It's my scrap book, maybe it could even be my brag book! Home Sweet Home is a place where I can relax with a cup of tea, or maybe a refreshing drink or two, and so came the name Home Sweet Home.''\n",
      "Compressed: How blogs work!\n",
      "\n",
      "Top 5 matches for: 'apple'\n",
      "\n",
      "Score: 0.408\n",
      "Original: The new Apple CEO, Tim Cook, has sent out an email first thing this morning stating, ``Apple is not going to change''.\n",
      "Compressed: ``Apple is not going to change'' --\n",
      "\n",
      "Score: 0.408\n",
      "Original: Apple will kick off its annual Worldwide Developers Conference with a keynote address on Monday, June 8 at 10:00 am A team of Apple executives, led by Philip Schiller, Apple's senior vice president of Worldwide Product Marketing, will deliver the keynote.\n",
      "Compressed: Apple Worldwide developers Conference to kick off with keynote address on Monday, June 8\n",
      "\n",
      "Score: 0.400\n",
      "Original: Apple has sued Motorola, alleging Motorola's smartphones infringe on Apple's intellectual property, according to a published media report.\n",
      "Compressed: Apple sues Motorola:\n",
      "\n",
      "Score: 0.392\n",
      "Original: Apple today released ProKit 5.0, an update to the framework that provides the controls and user interface for Apple's pro applications.\n",
      "Compressed: Apple releases ProKit 5.0\n",
      "\n",
      "Score: 0.392\n",
      "Original: It is being rumored that Apple has acquired speech technology company Nuance, after Steve Wozniak, co-founder of Apple, made this declaration in a video interview.\n",
      "Compressed: Apple acquires Nuance:\n",
      "\n",
      "Top 5 matches for: 'Ways to stop paying for Netflix'\n",
      "\n",
      "Score: 0.365\n",
      "Original: Excessive pay for personnel needs to be tackled, one expert has said, suggesting several ways to approach the problem.\n",
      "Compressed: Excessive pay 'must be tackled'\n",
      "\n",
      "Score: 0.361\n",
      "Original: Barcelona captain Carles Puyol will have to go back to the knee surgery which will cause pause for three to four weeks for him, reported Blic.\n",
      "Compressed: Carles Puyol goes back to knee surgery\n",
      "\n",
      "Score: 0.361\n",
      "Original: Jason Roberts, Oak Cliff Renaissance Man, had 24 hours to raise $2,000 for application fees in order to file to run for Congress.\n",
      "Compressed: Jason Roberts is running for Congress\n",
      "\n",
      "Score: 0.357\n",
      "Original: Aviva has overhauled its large case underwriting processes to allow advisers to provide information over the phone for life cases up to £3m and for critical illness cases up to £750,000.\n",
      "Compressed: Aviva overhauls large case underwriting process\n",
      "\n",
      "Score: 0.357\n",
      "Original: I went to my country for a year then was on an F1 visa for 8 years for grad school during which i went to my home country for 2 months/year for 8years.\n",
      "Compressed: While on F1 visa I went to my home country for 2 months/year for 8years.\n",
      "\n",
      "Top 5 matches for: 'repo man laws'\n",
      "\n",
      "Score: 0.452\n",
      "Original: A Pymatuning Township man shot another man Monday night after the man refused to drink with him.\n",
      "Compressed: Pymatuning Township man shot after refusing a drink\n",
      "\n",
      "Score: 0.324\n",
      "Original: A Calhoun County man was charged with murder after shooting a man who punched him.\n",
      "Compressed: Bigbend man charged with murder\n",
      "\n",
      "Score: 0.324\n",
      "Original: A 49-year-old Goodyear man has been arrested, accused of sexually assaulting a young man.\n",
      "Compressed: Goodyear man accused of sexually assaulting man\n",
      "\n",
      "Score: 0.309\n",
      "Original: A central Florida man has pleaded no contest to manslaughter for killing another man in a fight.\n",
      "Compressed: Man pleads no contest to manslaughter\n",
      "\n",
      "Score: 0.302\n",
      "Original: Police say a Lee County man has been charged with killing another man's dogs during a dispute.\n",
      "Compressed: Lee County man charged with killing another's dogs\n",
      "\n"
     ]
    }
   ],
   "execution_count": 38
  },
  {
   "cell_type": "markdown",
   "metadata": {
    "id": "eiIGTfq6eFI5",
    "pycharm": {
     "name": "#%% md\n"
    }
   },
   "source": [
    "// your comments"
   ]
  },
  {
   "cell_type": "markdown",
   "source": [
    "## 3. Term Frequency - Inverse Document Frequency (TF-IDF)\n",
    "\n",
    "In this section we will implement the TF-IDF algorithm. While BOW is a simple way to represent the documents, it has some limitations. For example, it does not take into account the importance of each word in the document. TF-IDF representation takes into account the frequency of each word in the document and the frequency of the word in the whole dataset. It is a widely used technique in information retrieval and text mining. Refer to the lecture slides for more details."
   ],
   "metadata": {
    "collapsed": false,
    "pycharm": {
     "name": "#%% md\n"
    }
   }
  },
  {
   "cell_type": "markdown",
   "source": [
    "<a name='e8'></a>\n",
    "### Exercise 8: Inverse Document Frequency (IDF)\n",
    "(5p) In this exercise, you will implement the TF-IDF algorithm. First, calculate Inverse Document Frequency (IDF) for each word in the vocabulary. Intuitively, it is a measure of how informative a word is based on the whole dataset. Consult the lecture slides for the details. The IDF is calculated as follows:\n",
    "$$\n",
    "IDF(t) = log_{10}(N/df(t))$$\n",
    "where $N$ is the total number of documents (sentences) in the dataset and $df(t)$ is the number of documents containing the word $t$.\n"
   ],
   "metadata": {
    "collapsed": false,
    "pycharm": {
     "name": "#%% md\n"
    }
   }
  },
  {
   "cell_type": "code",
   "source": [
    "def calculate_idf(bows):\n",
    "    \"\"\"\n",
    "    Calculates the IDF for each word in the vocabulary\n",
    "    Args:\n",
    "        bows: numpty array of size (N x D) where N is the number of documents and D is the vocabulary size\n",
    "\n",
    "    Returns: a numpy array of size D with IDF values for each token\n",
    "    \"\"\"\n",
    "\n",
    "    ### YOUR CODE HERE\n",
    "    N = bows.shape[0]\n",
    "    \n",
    "    df = np.sum(bows > 0, axis=0)\n",
    "    idf = np.log(N / (df + 1))\n",
    "    \n",
    "    return idf\n",
    "    \n",
    "    ### YOUR CODE ENDS HERE\n",
    "\n",
    "idf = calculate_idf(sentences_bows)"
   ],
   "metadata": {
    "collapsed": false,
    "pycharm": {
     "name": "#%%\n"
    },
    "ExecuteTime": {
     "end_time": "2025-04-19T20:46:54.291356Z",
     "start_time": "2025-04-19T20:46:53.646094Z"
    }
   },
   "outputs": [],
   "execution_count": 39
  },
  {
   "cell_type": "markdown",
   "source": [
    "<a name='e9'></a>\n",
    "### Exercise 9: TF-IDF\n",
    "- (5p) Calculate TF-IDF on the `test` subset of the dataset.\n",
    "- (5p) Analyze the search results based on your implemented TF-IDF. Does the search perform well? When does it fail? Discuss several examples that are we get an expected but also unexpected results (find at least 3 from each category). Provide reasons for the good/bad result in each case (e.g. is there some error in the data, is there some linguistic phenomenon that we don't capture, is something wrong with our modeling with average embeddings, ...)\n",
    "- (5p) Compare the results with the ones you got with the bag-of-words representation. Discuss the differences and similarities. Do you think TF-IDF is a better representation for this task? Why or why not? Provide examples to support your arguments.\n"
   ],
   "metadata": {
    "collapsed": false,
    "pycharm": {
     "name": "#%% md\n"
    }
   }
  },
  {
   "cell_type": "code",
   "source": [
    "### YOUR CODE HERE\n",
    "\n",
    "train_ds = split_ds['train'].map(bag_of_words_dataset)\n",
    "train_ds = train_ds.with_format('np', columns=['sentence_bow'], dtype='float')\n",
    "bows_train = train_ds['sentence_bow']\n",
    "\n",
    "idf_train = calculate_idf(bows_train)\n",
    "\n",
    "test_bows = test_ds['sentence_bow']\n",
    "test_tfidf = test_bows * idf_train\n",
    "\n",
    "queries = [\n",
    "    \"Effects of inflation\",\n",
    "    \"How to report a stolen card\",\n",
    "    \"Cancel my subscription\",\n",
    "    \"apple\",\n",
    "    \"Ways to stop paying for Netflix\",\n",
    "    \"repo man laws\"\n",
    "]\n",
    "\n",
    "for query in queries:\n",
    "    bow_embedded_query = embed_text(query, clean, tokenize, lambda x: bag_of_words(x, token_to_id))\n",
    "    bow_similarities = cosine_similarity_1_to_n(bow_embedded_query, test_bows)\n",
    "    bow_top_indices = top_k_indices(bow_similarities, k=5)\n",
    "    \n",
    "    tokens = tokenize(clean(query))\n",
    "    bow_query = bag_of_words(query, token_to_id)\n",
    "    tfidf_query = bow_query * idf_train\n",
    "    tfidf_similarities = cosine_similarity_1_to_n(tfidf_query, test_tfidf)\n",
    "    tfidf_top_indices = top_k_indices(tfidf_similarities, k=5)\n",
    "\n",
    "    print(f\"\\nQuery: '{query}'\")\n",
    "    print(\"=\"*50)\n",
    "    \n",
    "    print(\"\\nTop BOW Results:\")\n",
    "    for idx in bow_top_indices:\n",
    "        idx = int(idx)\n",
    "        print(f\"Score: {bow_similarities[idx]:.3f}\")\n",
    "        print(f\"Original: {split_ds['test'][idx]['set'][0]}\")\n",
    "        print(f\"Compressed: {split_ds['test'][idx]['set'][1]}\\n\")\n",
    "    \n",
    "    print(\"\\nTop TF-IDF Results:\")\n",
    "    for idx in tfidf_top_indices:\n",
    "        idx = int(idx)\n",
    "        print(f\"Score: {tfidf_similarities[idx]:.3f}\")\n",
    "        print(f\"Original: {split_ds['test'][idx]['set'][0]}\")\n",
    "        print(f\"Compressed: {split_ds['test'][idx]['set'][1]}\\n\")\n",
    "### YOUR CODE ENDS HERE\n",
    "\n",
    "### YOU CAN ADD MORE CELLS"
   ],
   "metadata": {
    "collapsed": false,
    "pycharm": {
     "name": "#%%\n"
    },
    "ExecuteTime": {
     "end_time": "2025-04-19T20:48:32.133471Z",
     "start_time": "2025-04-19T20:46:54.405258Z"
    }
   },
   "outputs": [
    {
     "data": {
      "text/plain": [
       "Map:   0%|          | 0/144000 [00:00<?, ? examples/s]"
      ],
      "application/vnd.jupyter.widget-view+json": {
       "version_major": 2,
       "version_minor": 0,
       "model_id": "5da2a15941e54bb9bf2ed4a67c8c022a"
      }
     },
     "metadata": {},
     "output_type": "display_data"
    },
    {
     "name": "stdout",
     "output_type": "stream",
     "text": [
      "\n",
      "Query: 'Effects of inflation'\n",
      "==================================================\n",
      "\n",
      "Top BOW Results:\n",
      "Score: 0.433\n",
      "Original: The wheat growers of the district are being deprived of fair price of their produces allegedly due to a syndicate of businessmen and slow pace of procurement drive of the government.\n",
      "Compressed: Growers deprived of fair price\n",
      "\n",
      "Score: 0.420\n",
      "Original: Belarusian agricultural companies completed the harvesting campaign of millet, reported the Main department of plant growing of the Ministry of Agriculture and Food of the Republic of Belarus.\n",
      "Compressed: Belarus completed the harvesting campaign of millet\n",
      "\n",
      "Score: 0.408\n",
      "Original: Hamid Karzai President of the Islamic Republic of Afghanistan on invitation of Italian premier left Kabul for Rome center of Italia to attend in 150th anniversary of Italian Union.\n",
      "Compressed: President Karzai leaves for italy\n",
      "\n",
      "Score: 0.408\n",
      "Original: Westfield London has been targeted by a gang of robbers who stole hundreds of thousands of pounds worth of jewellery.\n",
      "Compressed: Westfield London targeted by gang of robbers\n",
      "\n",
      "Score: 0.397\n",
      "Original: Sudarshan Sukhani of s2analytics.com is of the view that Pantaloon Retail has target of Rs 125-124.\n",
      "Compressed: Pantaloon Retail has target of Rs 125-124:\n",
      "\n",
      "\n",
      "Top TF-IDF Results:\n",
      "Score: 0.368\n",
      "Original: Markets are trading marginally higher in the early noon deals ahead of the September F&O expiry.\n",
      "Compressed: Markets trading marginally higher\n",
      "\n",
      "Score: 0.354\n",
      "Original: The Buckeyes stayed away from foul trouble in the first half, particularly F Jared Sullinger with one foul going against Cincinnati's Yancy Gates and F Deshaun Thomas with no fouls.\n",
      "Compressed: Buckeyes stay out of foul trouble in first half\n",
      "\n",
      "Score: 0.350\n",
      "Original: The Wire star Robert F. Chew has died at the age of 52.\n",
      "Compressed: 'The Wire' actor Robert F. Chew dies\n",
      "\n",
      "Score: 0.289\n",
      "Original: The F-15 fighter jet that crashed off Oahu Friday was in one piece when it hit the water.\n",
      "Compressed: Fighter jet in one piece before hitting water\n",
      "\n",
      "Score: 0.280\n",
      "Original: Turkey will play against Serbia in the Eurobasket 2009 second qualifying round Group F match in Poland.\n",
      "Compressed: Turkey to play against Serbia in Eurobasket 2009\n",
      "\n",
      "\n",
      "Query: 'How to report a stolen card'\n",
      "==================================================\n",
      "\n",
      "Top BOW Results:\n",
      "Score: 0.470\n",
      "Original: A Wednesday traffic stop led Greenville police to arrest and charge a man with possessing a stolen gun, according to a news release.\n",
      "Compressed: Traffic stop leads to arrest\n",
      "\n",
      "Score: 0.463\n",
      "Original: A sinkhole swallowed a pond in Newcastle, Calif., in a mere five hours according to a report.\n",
      "Compressed: Sinkhole swallows pond:\n",
      "\n",
      "Score: 0.458\n",
      "Original: A $10,000 International dump truck was stolen from a local business after the thief knocked a hole in a wall to get to it.\n",
      "Compressed: Dump truck stolen from local business\n",
      "\n",
      "Score: 0.455\n",
      "Original: Credit card companies may soon get more creative in finding a place to get you to sign up for a card.\n",
      "Compressed: Credit card companies get creative\n",
      "\n",
      "Score: 0.455\n",
      "Original: A Mountain Island Elementary School student brought a knife to school Feb. 11, according to a Charlotte-Mecklenburg police report.\n",
      "Compressed: Mountain Island Elementary student brings knife\n",
      "\n",
      "\n",
      "Top TF-IDF Results:\n",
      "Score: 0.279\n",
      "Original: Ange is the main healer in Tales of Innocence R, but she doesn't carry a cane, staff or mace.\n",
      "Compressed: Ange is a healer?\n",
      "\n",
      "Score: 0.279\n",
      "Original: LOS ANGELES ― Redmond O'Neal, the son of the late Farrah Fawcett and Ryan O'Neal, has successfully completed a drug diversion program.\n",
      "Compressed: Redmond O'Neal completes drug diversion program\n",
      "\n",
      "Score: 0.265\n",
      "Original: R&B star R. Kelly is facing foreclosure on his Chicago, Illinois mansion after defaulting on his mortgage.\n",
      "Compressed: R. Kelly faces foreclosure\n",
      "\n",
      "Score: 0.229\n",
      "Original: Trainer Aidan O'Brien led the tributes to Vincent O'Brien, the founder of Ballydoyle and legendary trainer, who died aged 92.\n",
      "Compressed: Aidan O'Brien leads tributes\n",
      "\n",
      "Score: 0.225\n",
      "Original: Redmond O'Neal pleaded not guilty to drug charges Wednesday in a Malibu, Calif., court.\n",
      "Compressed: Redmond O'Neal pleads not guilty to drug charges\n",
      "\n",
      "\n",
      "Query: 'Cancel my subscription'\n",
      "==================================================\n",
      "\n",
      "Top BOW Results:\n",
      "Score: 0.293\n",
      "Original: ``You touched my heart in my time of grief. My thanks to all of you from Jerusalem,'' wrote Netanyahu on his official Facebook page Saturday evening.\n",
      "Compressed: 'You touched my heart in my time of grief'\n",
      "\n",
      "Score: 0.261\n",
      "Original: ``Acting is my job and at the same time I don't compromise on my religious belief, hence I do my job and carry forward my duty as a Muslim too. Over the years this has become a practice for me and I am quite fine doing both,'' Mammootty said.\n",
      "Compressed: I don't compromise on my religious belief:\n",
      "\n",
      "Score: 0.231\n",
      "Original: When my journey here is over, and I go to meet my maker, may I hear His awesome voice say, ``Well done.''\n",
      "Compressed: When the journey is over\n",
      "\n",
      "Score: 0.226\n",
      "Original: ``Why wont my parakeet eat my diarrhea,'' one of the many crazy Google suggests out there, reached the top trending topic on Google trends.\n",
      "Compressed: 'Why wont my parakeet eat my diarrhea':\n",
      "\n",
      "Score: 0.224\n",
      "Original: I recently set out to find out how blogs work, I caught up with Hayley and she revealed the story behind her new blog and the name 'Home Sweet Home' ``It's my diary, it's the face of my fridge where I use alphabet magnets to stick all of my... all of my stuff! It's my scrap book, maybe it could even be my brag book! Home Sweet Home is a place where I can relax with a cup of tea, or maybe a refreshing drink or two, and so came the name Home Sweet Home.''\n",
      "Compressed: How blogs work!\n",
      "\n",
      "\n",
      "Top TF-IDF Results:\n",
      "Score: 0.314\n",
      "Original: in MUSIC NEWS ``I'm making an official announcement that i am taking a break from music. i'm trying to figure out who i am... w/out a mike, paper or pen. ``i promised myself that when it wasn't fun anymore i wouldn't do it. and here i am. i'm not saying i wont ever sing again in my life becuz i dont believe that. but in this moment... rt now... i got some things to figure out. ``i love you all and appreciate u soooooo much. u have no idea how much u've inspired me and fed my ego. but the truth is that i have to believe in me whether you all do or not. and thats what i'm lookin for. that belief in myself. me. I. i love us. thanks for being here for me and riding with me on this journey. let us continue.'' However the tweets were later removed from her page and she took to Twitter today to update concerned fans writing: ``i'm fine everyone. just switching things up a bit till i get it right.''\n",
      "Compressed: Jazmine sullivan to take a break from music\n",
      "\n",
      "Score: 0.287\n",
      "Original: It will be mainly sunny and warm in Bulgaria on Monday with maximum temperatures about 24°C-25°C in Eastern Bulgaria and up to 31°C-32°C in western regions, Hristo Hristov, a weather forecaster on duty in National Institute for Meteorology and Hydrology, told FOCUS News Agency.\n",
      "Compressed: It will be sunny in Bulgaria on Monday\n",
      "\n",
      "Score: 0.261\n",
      "Original: Despite all the Objective-C propaganda it was interesting to note that CoreUI was actually written in C++.\n",
      "Compressed: CoreUI actually written in C++\n",
      "\n",
      "Score: 0.239\n",
      "Original: Moody's Investors Service has downgraded Ukrprombank's local and foreign currency deposit ratings to C from Caa3, and the National Scale Rating to C.ua from Caa3.ua, the agency said in a statement.\n",
      "Compressed: Moody's downgrades Ukrprombank local and foreign currency ratings\n",
      "\n",
      "Score: 0.238\n",
      "Original: Latin America-focused gold mining firm Minera IRL has raised C$33.1m following the closing of an offering of shares at C$1.13 apiece.\n",
      "Compressed: Minera IRL raises C$33.1m\n",
      "\n",
      "\n",
      "Query: 'apple'\n",
      "==================================================\n",
      "\n",
      "Top BOW Results:\n",
      "Score: 0.408\n",
      "Original: The new Apple CEO, Tim Cook, has sent out an email first thing this morning stating, ``Apple is not going to change''.\n",
      "Compressed: ``Apple is not going to change'' --\n",
      "\n",
      "Score: 0.408\n",
      "Original: Apple will kick off its annual Worldwide Developers Conference with a keynote address on Monday, June 8 at 10:00 am A team of Apple executives, led by Philip Schiller, Apple's senior vice president of Worldwide Product Marketing, will deliver the keynote.\n",
      "Compressed: Apple Worldwide developers Conference to kick off with keynote address on Monday, June 8\n",
      "\n",
      "Score: 0.400\n",
      "Original: Apple has sued Motorola, alleging Motorola's smartphones infringe on Apple's intellectual property, according to a published media report.\n",
      "Compressed: Apple sues Motorola:\n",
      "\n",
      "Score: 0.392\n",
      "Original: Apple today released ProKit 5.0, an update to the framework that provides the controls and user interface for Apple's pro applications.\n",
      "Compressed: Apple releases ProKit 5.0\n",
      "\n",
      "Score: 0.392\n",
      "Original: It is being rumored that Apple has acquired speech technology company Nuance, after Steve Wozniak, co-founder of Apple, made this declaration in a video interview.\n",
      "Compressed: Apple acquires Nuance:\n",
      "\n",
      "\n",
      "Top TF-IDF Results:\n",
      "Score: 0.383\n",
      "Original: S&P raised its rating on Temple-Inland one notch to ``BBB'' from ``BBB-.''\n",
      "Compressed: S&P raises rating on Temple-Inland\n",
      "\n",
      "Score: 0.286\n",
      "Original: Finance Minister P Chidambaram has said that the ministry may overshoot budget fiscal deficit aim.\n",
      "Compressed: May overshoot budget fiscal deficit aim:\n",
      "\n",
      "Score: 0.283\n",
      "Original: The S&P/Case-Shiller home price index rose less-than-expected in August, industry data showed on Tuesday.\n",
      "Compressed: S&P/Case-Shiller home price index rises less-than-expected\n",
      "\n",
      "Score: 0.279\n",
      "Original: Huckabee will come to Kentucky on Oct. 1 to campaign for P'Pool at a Louisville fundraiser.\n",
      "Compressed: Huckabee coming to Kentucky to campaign for P'Pool\n",
      "\n",
      "Score: 0.278\n",
      "Original: Stony Brook's women's lacrosse team fell to American, 14-10, at Kenneth P. LaValle Stadium on Saturday.\n",
      "Compressed: Women's lacrosse falls to American, 14-10\n",
      "\n",
      "\n",
      "Query: 'Ways to stop paying for Netflix'\n",
      "==================================================\n",
      "\n",
      "Top BOW Results:\n",
      "Score: 0.365\n",
      "Original: Excessive pay for personnel needs to be tackled, one expert has said, suggesting several ways to approach the problem.\n",
      "Compressed: Excessive pay 'must be tackled'\n",
      "\n",
      "Score: 0.361\n",
      "Original: Barcelona captain Carles Puyol will have to go back to the knee surgery which will cause pause for three to four weeks for him, reported Blic.\n",
      "Compressed: Carles Puyol goes back to knee surgery\n",
      "\n",
      "Score: 0.361\n",
      "Original: Jason Roberts, Oak Cliff Renaissance Man, had 24 hours to raise $2,000 for application fees in order to file to run for Congress.\n",
      "Compressed: Jason Roberts is running for Congress\n",
      "\n",
      "Score: 0.357\n",
      "Original: Aviva has overhauled its large case underwriting processes to allow advisers to provide information over the phone for life cases up to £3m and for critical illness cases up to £750,000.\n",
      "Compressed: Aviva overhauls large case underwriting process\n",
      "\n",
      "Score: 0.357\n",
      "Original: I went to my country for a year then was on an F1 visa for 8 years for grad school during which i went to my home country for 2 months/year for 8years.\n",
      "Compressed: While on F1 visa I went to my home country for 2 months/year for 8years.\n",
      "\n",
      "\n",
      "Top TF-IDF Results:\n",
      "Score: 0.349\n",
      "Original: Estonian inflation continues to rise: in April CPI increased by 2.9% y/y -- up significantly from 1.7% y/y in March.\n",
      "Compressed: Estonia: inflation continues to rise\n",
      "\n",
      "Score: 0.273\n",
      "Original: Markets are trading marginally higher in the early noon deals ahead of the September F&O expiry.\n",
      "Compressed: Markets trading marginally higher\n",
      "\n",
      "Score: 0.256\n",
      "Original: Annual inflation in the West African CFA zone was reported to be down to 0.2% deflation y/y by the end of July according to West Africa 's BCEA central bank.\n",
      "Compressed: Annual inflation in the West African CFA zone down according to central bank:\n",
      "\n",
      "Score: 0.229\n",
      "Original: Cardinal Sean P. O'Malley, head of the Roman Catholic Archdiocese of Boston, will ordain five priests Saturday, the archdiocese said.\n",
      "Compressed: Cardinal O'Malley to ordain five priests\n",
      "\n",
      "Score: 0.226\n",
      "Original: Investec has forecast 2.5% y/y growth for South African in 2010, rising to 3.7% in 2011 and up to 4% in 2012, but warns that South Africa's economic performance will be dependent on the recovery of global demand.\n",
      "Compressed: Investec forecasts 2.5% growth for South Africa in 2010, rising to 3.7% in 2011.\n",
      "\n",
      "\n",
      "Query: 'repo man laws'\n",
      "==================================================\n",
      "\n",
      "Top BOW Results:\n",
      "Score: 0.452\n",
      "Original: A Pymatuning Township man shot another man Monday night after the man refused to drink with him.\n",
      "Compressed: Pymatuning Township man shot after refusing a drink\n",
      "\n",
      "Score: 0.324\n",
      "Original: A Calhoun County man was charged with murder after shooting a man who punched him.\n",
      "Compressed: Bigbend man charged with murder\n",
      "\n",
      "Score: 0.324\n",
      "Original: A 49-year-old Goodyear man has been arrested, accused of sexually assaulting a young man.\n",
      "Compressed: Goodyear man accused of sexually assaulting man\n",
      "\n",
      "Score: 0.309\n",
      "Original: A central Florida man has pleaded no contest to manslaughter for killing another man in a fight.\n",
      "Compressed: Man pleads no contest to manslaughter\n",
      "\n",
      "Score: 0.302\n",
      "Original: Police say a Lee County man has been charged with killing another man's dogs during a dispute.\n",
      "Compressed: Lee County man charged with killing another's dogs\n",
      "\n",
      "\n",
      "Top TF-IDF Results:\n",
      "Score: 0.263\n",
      "Original: New associates Eric R. Gray, Alicia M. Kirkpatrick and Ian P. McDonald have joined Polsinelli Shughart in Kansas City.\n",
      "Compressed: New associates join Polsinelli Shughart in Kansas City\n",
      "\n",
      "Score: 0.257\n",
      "Original: Samuel L. Jackson Surrenders to the N-word and Accepts His Designated 'Place'...\n",
      "Compressed: Samuel L. Jackson Surrenders to the n-word...\n",
      "\n",
      "Score: 0.232\n",
      "Original: If there is a decent pullback rally, M&M would do well but if the market falls, M&M would also fall with it.\n",
      "Compressed: If the market falls, M&M would fall with it:\n",
      "\n",
      "Score: 0.217\n",
      "Original: ``I will stay in Bordeaux,'' Fernando told L'Equipe.\n",
      "Compressed: Fernando staying with Bordeaux\n",
      "\n",
      "Score: 0.216\n",
      "Original: Sk?l members worldwide will rally to Bali throughout 2013 to join in celebrating Sk?l Bali's twentieth Anniversary year with the 180 members of Sk?l Bali, fourth largest Skal club worldwide.\n",
      "Compressed: Sk?l members worldwide will rally in Bali in 2013\n",
      "\n"
     ]
    }
   ],
   "execution_count": 40
  },
  {
   "cell_type": "markdown",
   "source": [
    "// your comments"
   ],
   "metadata": {
    "collapsed": false,
    "pycharm": {
     "name": "#%% md\n"
    }
   }
  },
  {
   "cell_type": "markdown",
   "source": [
    "## 4. Word Embeddings\n",
    "\n",
    "In this section you will load the pre-trained word embeddings model - Glove. You can read more about it [here](https://aclanthology.org/D14-1162/) ([https://aclanthology.org/D14-1162/](https://aclanthology.org/D14-1162/)). The embeddings are trained on a large corpus of text and are available in different dimensions. We will start with the dimension of 100, but later you will be asked to experiment with other dimensions.\n",
    "Gensim library maintains a storage containing some pre-trained models. You can read more about it [here](https://github.com/piskvorky/gensim-data) ([https://github.com/piskvorky/gensim-data](https://github.com/piskvorky/gensim-data)). Be sure to read the README of this repository.\n",
    "\n",
    "Let's first load the info of what models are available."
   ],
   "metadata": {
    "collapsed": false,
    "pycharm": {
     "name": "#%% md\n"
    }
   }
  },
  {
   "cell_type": "code",
   "source": [
    "import json\n",
    "import gensim.downloader as api\n",
    "\n",
    "info = api.info()  # show info about available models/datasets\n",
    "print(json.dumps(info['models'], indent=2))"
   ],
   "metadata": {
    "collapsed": false,
    "pycharm": {
     "name": "#%%\n"
    },
    "ExecuteTime": {
     "end_time": "2025-04-19T20:48:32.820985Z",
     "start_time": "2025-04-19T20:48:32.250325Z"
    }
   },
   "outputs": [
    {
     "name": "stdout",
     "output_type": "stream",
     "text": [
      "{\n",
      "  \"fasttext-wiki-news-subwords-300\": {\n",
      "    \"num_records\": 999999,\n",
      "    \"file_size\": 1005007116,\n",
      "    \"base_dataset\": \"Wikipedia 2017, UMBC webbase corpus and statmt.org news dataset (16B tokens)\",\n",
      "    \"reader_code\": \"https://github.com/RaRe-Technologies/gensim-data/releases/download/fasttext-wiki-news-subwords-300/__init__.py\",\n",
      "    \"license\": \"https://creativecommons.org/licenses/by-sa/3.0/\",\n",
      "    \"parameters\": {\n",
      "      \"dimension\": 300\n",
      "    },\n",
      "    \"description\": \"1 million word vectors trained on Wikipedia 2017, UMBC webbase corpus and statmt.org news dataset (16B tokens).\",\n",
      "    \"read_more\": [\n",
      "      \"https://fasttext.cc/docs/en/english-vectors.html\",\n",
      "      \"https://arxiv.org/abs/1712.09405\",\n",
      "      \"https://arxiv.org/abs/1607.01759\"\n",
      "    ],\n",
      "    \"checksum\": \"de2bb3a20c46ce65c9c131e1ad9a77af\",\n",
      "    \"file_name\": \"fasttext-wiki-news-subwords-300.gz\",\n",
      "    \"parts\": 1\n",
      "  },\n",
      "  \"conceptnet-numberbatch-17-06-300\": {\n",
      "    \"num_records\": 1917247,\n",
      "    \"file_size\": 1225497562,\n",
      "    \"base_dataset\": \"ConceptNet, word2vec, GloVe, and OpenSubtitles 2016\",\n",
      "    \"reader_code\": \"https://github.com/RaRe-Technologies/gensim-data/releases/download/conceptnet-numberbatch-17-06-300/__init__.py\",\n",
      "    \"license\": \"https://github.com/commonsense/conceptnet-numberbatch/blob/master/LICENSE.txt\",\n",
      "    \"parameters\": {\n",
      "      \"dimension\": 300\n",
      "    },\n",
      "    \"description\": \"ConceptNet Numberbatch consists of state-of-the-art semantic vectors (also known as word embeddings) that can be used directly as a representation of word meanings or as a starting point for further machine learning. ConceptNet Numberbatch is part of the ConceptNet open data project. ConceptNet provides lots of ways to compute with word meanings, one of which is word embeddings. ConceptNet Numberbatch is a snapshot of just the word embeddings. It is built using an ensemble that combines data from ConceptNet, word2vec, GloVe, and OpenSubtitles 2016, using a variation on retrofitting.\",\n",
      "    \"read_more\": [\n",
      "      \"http://aaai.org/ocs/index.php/AAAI/AAAI17/paper/view/14972\",\n",
      "      \"https://github.com/commonsense/conceptnet-numberbatch\",\n",
      "      \"http://conceptnet.io/\"\n",
      "    ],\n",
      "    \"checksum\": \"fd642d457adcd0ea94da0cd21b150847\",\n",
      "    \"file_name\": \"conceptnet-numberbatch-17-06-300.gz\",\n",
      "    \"parts\": 1\n",
      "  },\n",
      "  \"word2vec-ruscorpora-300\": {\n",
      "    \"num_records\": 184973,\n",
      "    \"file_size\": 208427381,\n",
      "    \"base_dataset\": \"Russian National Corpus (about 250M words)\",\n",
      "    \"reader_code\": \"https://github.com/RaRe-Technologies/gensim-data/releases/download/word2vec-ruscorpora-300/__init__.py\",\n",
      "    \"license\": \"https://creativecommons.org/licenses/by/4.0/deed.en\",\n",
      "    \"parameters\": {\n",
      "      \"dimension\": 300,\n",
      "      \"window_size\": 10\n",
      "    },\n",
      "    \"description\": \"Word2vec Continuous Skipgram vectors trained on full Russian National Corpus (about 250M words). The model contains 185K words.\",\n",
      "    \"preprocessing\": \"The corpus was lemmatized and tagged with Universal PoS\",\n",
      "    \"read_more\": [\n",
      "      \"https://www.academia.edu/24306935/WebVectors_a_Toolkit_for_Building_Web_Interfaces_for_Vector_Semantic_Models\",\n",
      "      \"http://rusvectores.org/en/\",\n",
      "      \"https://github.com/RaRe-Technologies/gensim-data/issues/3\"\n",
      "    ],\n",
      "    \"checksum\": \"9bdebdc8ae6d17d20839dd9b5af10bc4\",\n",
      "    \"file_name\": \"word2vec-ruscorpora-300.gz\",\n",
      "    \"parts\": 1\n",
      "  },\n",
      "  \"word2vec-google-news-300\": {\n",
      "    \"num_records\": 3000000,\n",
      "    \"file_size\": 1743563840,\n",
      "    \"base_dataset\": \"Google News (about 100 billion words)\",\n",
      "    \"reader_code\": \"https://github.com/RaRe-Technologies/gensim-data/releases/download/word2vec-google-news-300/__init__.py\",\n",
      "    \"license\": \"not found\",\n",
      "    \"parameters\": {\n",
      "      \"dimension\": 300\n",
      "    },\n",
      "    \"description\": \"Pre-trained vectors trained on a part of the Google News dataset (about 100 billion words). The model contains 300-dimensional vectors for 3 million words and phrases. The phrases were obtained using a simple data-driven approach described in 'Distributed Representations of Words and Phrases and their Compositionality' (https://code.google.com/archive/p/word2vec/).\",\n",
      "    \"read_more\": [\n",
      "      \"https://code.google.com/archive/p/word2vec/\",\n",
      "      \"https://arxiv.org/abs/1301.3781\",\n",
      "      \"https://arxiv.org/abs/1310.4546\",\n",
      "      \"https://www.microsoft.com/en-us/research/publication/linguistic-regularities-in-continuous-space-word-representations/?from=http%3A%2F%2Fresearch.microsoft.com%2Fpubs%2F189726%2Frvecs.pdf\"\n",
      "    ],\n",
      "    \"checksum\": \"a5e5354d40acb95f9ec66d5977d140ef\",\n",
      "    \"file_name\": \"word2vec-google-news-300.gz\",\n",
      "    \"parts\": 1\n",
      "  },\n",
      "  \"glove-wiki-gigaword-50\": {\n",
      "    \"num_records\": 400000,\n",
      "    \"file_size\": 69182535,\n",
      "    \"base_dataset\": \"Wikipedia 2014 + Gigaword 5 (6B tokens, uncased)\",\n",
      "    \"reader_code\": \"https://github.com/RaRe-Technologies/gensim-data/releases/download/glove-wiki-gigaword-50/__init__.py\",\n",
      "    \"license\": \"http://opendatacommons.org/licenses/pddl/\",\n",
      "    \"parameters\": {\n",
      "      \"dimension\": 50\n",
      "    },\n",
      "    \"description\": \"Pre-trained vectors based on Wikipedia 2014 + Gigaword, 5.6B tokens, 400K vocab, uncased (https://nlp.stanford.edu/projects/glove/).\",\n",
      "    \"preprocessing\": \"Converted to w2v format with `python -m gensim.scripts.glove2word2vec -i <fname> -o glove-wiki-gigaword-50.txt`.\",\n",
      "    \"read_more\": [\n",
      "      \"https://nlp.stanford.edu/projects/glove/\",\n",
      "      \"https://nlp.stanford.edu/pubs/glove.pdf\"\n",
      "    ],\n",
      "    \"checksum\": \"c289bc5d7f2f02c6dc9f2f9b67641813\",\n",
      "    \"file_name\": \"glove-wiki-gigaword-50.gz\",\n",
      "    \"parts\": 1\n",
      "  },\n",
      "  \"glove-wiki-gigaword-100\": {\n",
      "    \"num_records\": 400000,\n",
      "    \"file_size\": 134300434,\n",
      "    \"base_dataset\": \"Wikipedia 2014 + Gigaword 5 (6B tokens, uncased)\",\n",
      "    \"reader_code\": \"https://github.com/RaRe-Technologies/gensim-data/releases/download/glove-wiki-gigaword-100/__init__.py\",\n",
      "    \"license\": \"http://opendatacommons.org/licenses/pddl/\",\n",
      "    \"parameters\": {\n",
      "      \"dimension\": 100\n",
      "    },\n",
      "    \"description\": \"Pre-trained vectors based on Wikipedia 2014 + Gigaword 5.6B tokens, 400K vocab, uncased (https://nlp.stanford.edu/projects/glove/).\",\n",
      "    \"preprocessing\": \"Converted to w2v format with `python -m gensim.scripts.glove2word2vec -i <fname> -o glove-wiki-gigaword-100.txt`.\",\n",
      "    \"read_more\": [\n",
      "      \"https://nlp.stanford.edu/projects/glove/\",\n",
      "      \"https://nlp.stanford.edu/pubs/glove.pdf\"\n",
      "    ],\n",
      "    \"checksum\": \"40ec481866001177b8cd4cb0df92924f\",\n",
      "    \"file_name\": \"glove-wiki-gigaword-100.gz\",\n",
      "    \"parts\": 1\n",
      "  },\n",
      "  \"glove-wiki-gigaword-200\": {\n",
      "    \"num_records\": 400000,\n",
      "    \"file_size\": 264336934,\n",
      "    \"base_dataset\": \"Wikipedia 2014 + Gigaword 5 (6B tokens, uncased)\",\n",
      "    \"reader_code\": \"https://github.com/RaRe-Technologies/gensim-data/releases/download/glove-wiki-gigaword-200/__init__.py\",\n",
      "    \"license\": \"http://opendatacommons.org/licenses/pddl/\",\n",
      "    \"parameters\": {\n",
      "      \"dimension\": 200\n",
      "    },\n",
      "    \"description\": \"Pre-trained vectors based on Wikipedia 2014 + Gigaword, 5.6B tokens, 400K vocab, uncased (https://nlp.stanford.edu/projects/glove/).\",\n",
      "    \"preprocessing\": \"Converted to w2v format with `python -m gensim.scripts.glove2word2vec -i <fname> -o glove-wiki-gigaword-200.txt`.\",\n",
      "    \"read_more\": [\n",
      "      \"https://nlp.stanford.edu/projects/glove/\",\n",
      "      \"https://nlp.stanford.edu/pubs/glove.pdf\"\n",
      "    ],\n",
      "    \"checksum\": \"59652db361b7a87ee73834a6c391dfc1\",\n",
      "    \"file_name\": \"glove-wiki-gigaword-200.gz\",\n",
      "    \"parts\": 1\n",
      "  },\n",
      "  \"glove-wiki-gigaword-300\": {\n",
      "    \"num_records\": 400000,\n",
      "    \"file_size\": 394362229,\n",
      "    \"base_dataset\": \"Wikipedia 2014 + Gigaword 5 (6B tokens, uncased)\",\n",
      "    \"reader_code\": \"https://github.com/RaRe-Technologies/gensim-data/releases/download/glove-wiki-gigaword-300/__init__.py\",\n",
      "    \"license\": \"http://opendatacommons.org/licenses/pddl/\",\n",
      "    \"parameters\": {\n",
      "      \"dimension\": 300\n",
      "    },\n",
      "    \"description\": \"Pre-trained vectors based on Wikipedia 2014 + Gigaword, 5.6B tokens, 400K vocab, uncased (https://nlp.stanford.edu/projects/glove/).\",\n",
      "    \"preprocessing\": \"Converted to w2v format with `python -m gensim.scripts.glove2word2vec -i <fname> -o glove-wiki-gigaword-300.txt`.\",\n",
      "    \"read_more\": [\n",
      "      \"https://nlp.stanford.edu/projects/glove/\",\n",
      "      \"https://nlp.stanford.edu/pubs/glove.pdf\"\n",
      "    ],\n",
      "    \"checksum\": \"29e9329ac2241937d55b852e8284e89b\",\n",
      "    \"file_name\": \"glove-wiki-gigaword-300.gz\",\n",
      "    \"parts\": 1\n",
      "  },\n",
      "  \"glove-twitter-25\": {\n",
      "    \"num_records\": 1193514,\n",
      "    \"file_size\": 109885004,\n",
      "    \"base_dataset\": \"Twitter (2B tweets, 27B tokens, 1.2M vocab, uncased)\",\n",
      "    \"reader_code\": \"https://github.com/RaRe-Technologies/gensim-data/releases/download/glove-twitter-25/__init__.py\",\n",
      "    \"license\": \"http://opendatacommons.org/licenses/pddl/\",\n",
      "    \"parameters\": {\n",
      "      \"dimension\": 25\n",
      "    },\n",
      "    \"description\": \"Pre-trained vectors based on 2B tweets, 27B tokens, 1.2M vocab, uncased (https://nlp.stanford.edu/projects/glove/).\",\n",
      "    \"preprocessing\": \"Converted to w2v format with `python -m gensim.scripts.glove2word2vec -i <fname> -o glove-twitter-25.txt`.\",\n",
      "    \"read_more\": [\n",
      "      \"https://nlp.stanford.edu/projects/glove/\",\n",
      "      \"https://nlp.stanford.edu/pubs/glove.pdf\"\n",
      "    ],\n",
      "    \"checksum\": \"50db0211d7e7a2dcd362c6b774762793\",\n",
      "    \"file_name\": \"glove-twitter-25.gz\",\n",
      "    \"parts\": 1\n",
      "  },\n",
      "  \"glove-twitter-50\": {\n",
      "    \"num_records\": 1193514,\n",
      "    \"file_size\": 209216938,\n",
      "    \"base_dataset\": \"Twitter (2B tweets, 27B tokens, 1.2M vocab, uncased)\",\n",
      "    \"reader_code\": \"https://github.com/RaRe-Technologies/gensim-data/releases/download/glove-twitter-50/__init__.py\",\n",
      "    \"license\": \"http://opendatacommons.org/licenses/pddl/\",\n",
      "    \"parameters\": {\n",
      "      \"dimension\": 50\n",
      "    },\n",
      "    \"description\": \"Pre-trained vectors based on 2B tweets, 27B tokens, 1.2M vocab, uncased (https://nlp.stanford.edu/projects/glove/)\",\n",
      "    \"preprocessing\": \"Converted to w2v format with `python -m gensim.scripts.glove2word2vec -i <fname> -o glove-twitter-50.txt`.\",\n",
      "    \"read_more\": [\n",
      "      \"https://nlp.stanford.edu/projects/glove/\",\n",
      "      \"https://nlp.stanford.edu/pubs/glove.pdf\"\n",
      "    ],\n",
      "    \"checksum\": \"c168f18641f8c8a00fe30984c4799b2b\",\n",
      "    \"file_name\": \"glove-twitter-50.gz\",\n",
      "    \"parts\": 1\n",
      "  },\n",
      "  \"glove-twitter-100\": {\n",
      "    \"num_records\": 1193514,\n",
      "    \"file_size\": 405932991,\n",
      "    \"base_dataset\": \"Twitter (2B tweets, 27B tokens, 1.2M vocab, uncased)\",\n",
      "    \"reader_code\": \"https://github.com/RaRe-Technologies/gensim-data/releases/download/glove-twitter-100/__init__.py\",\n",
      "    \"license\": \"http://opendatacommons.org/licenses/pddl/\",\n",
      "    \"parameters\": {\n",
      "      \"dimension\": 100\n",
      "    },\n",
      "    \"description\": \"Pre-trained vectors based on  2B tweets, 27B tokens, 1.2M vocab, uncased (https://nlp.stanford.edu/projects/glove/)\",\n",
      "    \"preprocessing\": \"Converted to w2v format with `python -m gensim.scripts.glove2word2vec -i <fname> -o glove-twitter-100.txt`.\",\n",
      "    \"read_more\": [\n",
      "      \"https://nlp.stanford.edu/projects/glove/\",\n",
      "      \"https://nlp.stanford.edu/pubs/glove.pdf\"\n",
      "    ],\n",
      "    \"checksum\": \"b04f7bed38756d64cf55b58ce7e97b15\",\n",
      "    \"file_name\": \"glove-twitter-100.gz\",\n",
      "    \"parts\": 1\n",
      "  },\n",
      "  \"glove-twitter-200\": {\n",
      "    \"num_records\": 1193514,\n",
      "    \"file_size\": 795373100,\n",
      "    \"base_dataset\": \"Twitter (2B tweets, 27B tokens, 1.2M vocab, uncased)\",\n",
      "    \"reader_code\": \"https://github.com/RaRe-Technologies/gensim-data/releases/download/glove-twitter-200/__init__.py\",\n",
      "    \"license\": \"http://opendatacommons.org/licenses/pddl/\",\n",
      "    \"parameters\": {\n",
      "      \"dimension\": 200\n",
      "    },\n",
      "    \"description\": \"Pre-trained vectors based on 2B tweets, 27B tokens, 1.2M vocab, uncased (https://nlp.stanford.edu/projects/glove/).\",\n",
      "    \"preprocessing\": \"Converted to w2v format with `python -m gensim.scripts.glove2word2vec -i <fname> -o glove-twitter-200.txt`.\",\n",
      "    \"read_more\": [\n",
      "      \"https://nlp.stanford.edu/projects/glove/\",\n",
      "      \"https://nlp.stanford.edu/pubs/glove.pdf\"\n",
      "    ],\n",
      "    \"checksum\": \"e52e8392d1860b95d5308a525817d8f9\",\n",
      "    \"file_name\": \"glove-twitter-200.gz\",\n",
      "    \"parts\": 1\n",
      "  },\n",
      "  \"__testing_word2vec-matrix-synopsis\": {\n",
      "    \"description\": \"[THIS IS ONLY FOR TESTING] Word vecrors of the movie matrix.\",\n",
      "    \"parameters\": {\n",
      "      \"dimensions\": 50\n",
      "    },\n",
      "    \"preprocessing\": \"Converted to w2v using a preprocessed corpus. Converted to w2v format with `python3.5 -m gensim.models.word2vec -train <input_filename> -iter 50 -output <output_filename>`.\",\n",
      "    \"read_more\": [],\n",
      "    \"checksum\": \"534dcb8b56a360977a269b7bfc62d124\",\n",
      "    \"file_name\": \"__testing_word2vec-matrix-synopsis.gz\",\n",
      "    \"parts\": 1\n",
      "  }\n",
      "}\n"
     ]
    }
   ],
   "execution_count": 41
  },
  {
   "cell_type": "code",
   "source": [
    "glove_model = api.load(\"glove-wiki-gigaword-100\")"
   ],
   "metadata": {
    "collapsed": false,
    "pycharm": {
     "name": "#%%\n"
    },
    "ExecuteTime": {
     "end_time": "2025-04-19T20:50:52.519011Z",
     "start_time": "2025-04-19T20:48:32.921253Z"
    }
   },
   "outputs": [
    {
     "name": "stdout",
     "output_type": "stream",
     "text": [
      "[==================================================] 100.0% 128.1/128.1MB downloaded\n"
     ]
    }
   ],
   "execution_count": 42
  },
  {
   "cell_type": "markdown",
   "source": [
    "We can use the loaded model's `key_to_index` attribute to retrieve the whole vocabulary (aka for how many words we learned embeddings for)."
   ],
   "metadata": {
    "collapsed": false,
    "pycharm": {
     "name": "#%% md\n"
    }
   }
  },
  {
   "cell_type": "code",
   "source": [
    "vocab = list(glove_model.key_to_index)\n",
    "print(len(vocab))"
   ],
   "metadata": {
    "collapsed": false,
    "pycharm": {
     "name": "#%%\n"
    },
    "ExecuteTime": {
     "end_time": "2025-04-19T20:50:52.639012Z",
     "start_time": "2025-04-19T20:50:52.630233Z"
    }
   },
   "outputs": [
    {
     "name": "stdout",
     "output_type": "stream",
     "text": [
      "400000\n"
     ]
    }
   ],
   "execution_count": 43
  },
  {
   "cell_type": "markdown",
   "source": [
    "Let's explore a bit further the embeddings. In the following cells, the embedding of a single word is returned. Double-check the dimensions (as sanity check). This is like inspecting the `W` matrix (weights) that we discussed in the lecture."
   ],
   "metadata": {
    "collapsed": false,
    "pycharm": {
     "name": "#%% md\n"
    }
   }
  },
  {
   "cell_type": "code",
   "source": [
    "# vector of a particular model. note that it is 100 dimensional as specified.\n",
    "glove_model['what']"
   ],
   "metadata": {
    "collapsed": false,
    "pycharm": {
     "name": "#%%\n"
    },
    "ExecuteTime": {
     "end_time": "2025-04-19T20:50:52.765465Z",
     "start_time": "2025-04-19T20:50:52.758294Z"
    }
   },
   "outputs": [
    {
     "data": {
      "text/plain": [
       "array([-1.5180e-01,  3.8409e-01,  8.9340e-01, -4.2421e-01, -9.2161e-01,\n",
       "        3.7988e-02, -3.2026e-01,  3.4119e-03,  2.2101e-01, -2.2045e-01,\n",
       "        1.6661e-01,  2.1956e-01,  2.5325e-01, -2.9267e-01,  1.0171e-01,\n",
       "       -7.5491e-02, -6.0406e-02,  2.8194e-01, -5.8519e-01,  4.8271e-01,\n",
       "        1.7504e-02, -1.2086e-01, -1.0990e-01, -6.9554e-01,  1.5600e-01,\n",
       "        7.0558e-02, -1.5058e-01, -8.1811e-01, -1.8535e-01, -3.6863e-01,\n",
       "        3.1650e-02,  7.6616e-01,  8.4041e-02,  2.6928e-03, -2.7440e-01,\n",
       "        2.1815e-01, -3.5157e-02,  3.2569e-01,  1.0032e-01, -6.0932e-01,\n",
       "       -7.0316e-01,  1.8299e-01,  3.3134e-01, -1.2416e-01, -9.0542e-01,\n",
       "       -3.9157e-02,  4.4719e-01, -5.7338e-01, -4.0172e-01, -8.2234e-01,\n",
       "        5.5740e-01,  1.5101e-01,  2.4598e-01,  1.0113e+00, -4.6626e-01,\n",
       "       -2.7133e+00,  4.3273e-01, -1.6314e-01,  1.5828e+00,  5.5081e-01,\n",
       "       -2.4738e-01,  1.4184e+00, -1.6867e-02, -1.9368e-01,  1.0090e+00,\n",
       "       -5.9864e-02,  9.1853e-01,  4.3022e-01, -2.0624e-01,  7.6127e-02,\n",
       "        2.1595e-01, -2.6834e-01, -3.3342e-01, -3.7151e-01,  4.5197e-01,\n",
       "       -8.2460e-02,  3.2984e-01, -5.7376e-01, -1.3042e+00,  2.7121e-01,\n",
       "        6.6277e-01, -7.9626e-02, -7.9167e-01, -5.3662e-03, -1.7916e+00,\n",
       "       -3.3298e-01, -3.0698e-01, -3.3980e-01, -5.5618e-01, -6.9471e-01,\n",
       "        2.7427e-01, -2.1898e-01, -2.6714e-01,  2.2561e-03, -5.0178e-01,\n",
       "       -3.2775e-01, -4.5670e-01, -2.7123e-01,  2.2157e-01,  9.2112e-01],\n",
       "      dtype=float32)"
      ]
     },
     "execution_count": 44,
     "metadata": {},
     "output_type": "execute_result"
    }
   ],
   "execution_count": 44
  },
  {
   "cell_type": "markdown",
   "source": [
    "Gensim objects offers different methods to easily run very common tasks. For example, there are different functions to find the most similar words.\n",
    "\n",
    "Check the documentation on how [`most_similar`](https://tedboy.github.io/nlps/generated/generated/gensim.models.Word2Vec.most_similar.html) and [`similar_by_word`](https://tedboy.github.io/nlps/generated/generated/gensim.models.Word2Vec.similar_by_word.html) can be used."
   ],
   "metadata": {
    "collapsed": false,
    "pycharm": {
     "name": "#%% md\n"
    }
   }
  },
  {
   "cell_type": "code",
   "source": [
    "# most similar words to a given word\n",
    "print(glove_model.most_similar('what', topn=10))\n",
    "\n",
    "# also u can use\n",
    "print(glove_model.similar_by_word('miss', topn=5))"
   ],
   "metadata": {
    "collapsed": false,
    "pycharm": {
     "name": "#%%\n"
    },
    "ExecuteTime": {
     "end_time": "2025-04-19T20:50:52.968816Z",
     "start_time": "2025-04-19T20:50:52.877084Z"
    }
   },
   "outputs": [
    {
     "name": "stdout",
     "output_type": "stream",
     "text": [
      "[('how', 0.930321455001831), ('why', 0.9196363091468811), ('fact', 0.906943678855896), ('know', 0.8876389265060425), ('that', 0.8810365796089172), ('think', 0.8772971034049988), ('so', 0.875309944152832), ('even', 0.8751895427703857), ('something', 0.8747441172599792), ('if', 0.870254397392273)]\n",
      "[('play', 0.6266524791717529), ('missed', 0.608065128326416), ('she', 0.596325695514679), ('chance', 0.5839369893074036), ('tournament', 0.572258710861206)]\n"
     ]
    }
   ],
   "execution_count": 45
  },
  {
   "cell_type": "code",
   "source": [
    "print(glove_model.most_similar('why', topn=10))"
   ],
   "metadata": {
    "collapsed": false,
    "pycharm": {
     "name": "#%%\n"
    },
    "ExecuteTime": {
     "end_time": "2025-04-19T20:50:53.102376Z",
     "start_time": "2025-04-19T20:50:53.085206Z"
    }
   },
   "outputs": [
    {
     "name": "stdout",
     "output_type": "stream",
     "text": [
      "[('know', 0.9440940618515015), ('what', 0.9196362495422363), ('think', 0.9086558818817139), ('how', 0.9020736813545227), ('tell', 0.8923122882843018), (\"n't\", 0.8890628218650818), ('sure', 0.8870968818664551), ('thought', 0.8747686147689819), ('believe', 0.8745115995407104), ('say', 0.8730074763298035)]\n"
     ]
    }
   ],
   "execution_count": 46
  },
  {
   "cell_type": "code",
   "source": [
    "print(glove_model.similar_by_word('who', topn=5))"
   ],
   "metadata": {
    "collapsed": false,
    "pycharm": {
     "name": "#%%\n"
    },
    "ExecuteTime": {
     "end_time": "2025-04-19T20:50:53.233008Z",
     "start_time": "2025-04-19T20:50:53.216758Z"
    }
   },
   "outputs": [
    {
     "name": "stdout",
     "output_type": "stream",
     "text": [
      "[('whom', 0.8642492890357971), ('he', 0.8201969861984253), ('whose', 0.8143677711486816), ('had', 0.8035845160484314), ('others', 0.7708418965339661)]\n"
     ]
    }
   ],
   "execution_count": 47
  },
  {
   "cell_type": "markdown",
   "source": [
    "We can now compare our implementation with the one in the pre-trained model and confirm what we already expected."
   ],
   "metadata": {
    "collapsed": false,
    "pycharm": {
     "name": "#%% md\n"
    }
   }
  },
  {
   "cell_type": "code",
   "source": [
    "# simalarity between two words\n",
    "word1 = 'alive'\n",
    "word2 = 'biology'\n",
    "print(glove_model.similarity(word1, word2))\n",
    "print(cosine_similarity(glove_model[word1], glove_model[word2]))"
   ],
   "metadata": {
    "collapsed": false,
    "pycharm": {
     "name": "#%%\n"
    },
    "ExecuteTime": {
     "end_time": "2025-04-19T20:50:53.360894Z",
     "start_time": "2025-04-19T20:50:53.355826Z"
    }
   },
   "outputs": [
    {
     "name": "stdout",
     "output_type": "stream",
     "text": [
      "0.15712574\n",
      "0.15712574\n"
     ]
    }
   ],
   "execution_count": 48
  },
  {
   "cell_type": "code",
   "source": [
    "# simalarity between two words. similar words\n",
    "word1 = 'alive'\n",
    "word2 = 'life'\n",
    "print(glove_model.similarity(word1, word2))\n",
    "print(cosine_similarity(glove_model[word1], glove_model[word2]))"
   ],
   "metadata": {
    "collapsed": false,
    "pycharm": {
     "name": "#%%\n"
    },
    "ExecuteTime": {
     "end_time": "2025-04-19T20:50:53.461416Z",
     "start_time": "2025-04-19T20:50:53.457922Z"
    }
   },
   "outputs": [
    {
     "name": "stdout",
     "output_type": "stream",
     "text": [
      "0.6400604\n",
      "0.6400604\n"
     ]
    }
   ],
   "execution_count": 49
  },
  {
   "cell_type": "code",
   "source": [
    "# simalarity between two words. dissimilar words\n",
    "word1 = 'alive'\n",
    "word2 = 'dead'\n",
    "print(glove_model.similarity(word1, word2))\n",
    "print(cosine_similarity(glove_model[word1], glove_model[word2]))"
   ],
   "metadata": {
    "collapsed": false,
    "pycharm": {
     "name": "#%%\n"
    },
    "ExecuteTime": {
     "end_time": "2025-04-19T20:50:53.571436Z",
     "start_time": "2025-04-19T20:50:53.566595Z"
    }
   },
   "outputs": [
    {
     "name": "stdout",
     "output_type": "stream",
     "text": [
      "0.71035177\n",
      "0.71035177\n"
     ]
    }
   ],
   "execution_count": 50
  },
  {
   "cell_type": "code",
   "source": [
    "# simalarity between two words. unrelated words\n",
    "word1 = 'alive'\n",
    "word2 = 'horse'\n",
    "print(glove_model.similarity(word1, word2))\n",
    "print(cosine_similarity(glove_model[word1], glove_model[word2]))"
   ],
   "metadata": {
    "collapsed": false,
    "pycharm": {
     "name": "#%%\n"
    },
    "ExecuteTime": {
     "end_time": "2025-04-19T20:50:53.671129Z",
     "start_time": "2025-04-19T20:50:53.666549Z"
    }
   },
   "outputs": [
    {
     "name": "stdout",
     "output_type": "stream",
     "text": [
      "0.34625494\n",
      "0.3462549\n"
     ]
    }
   ],
   "execution_count": 51
  },
  {
   "cell_type": "code",
   "source": [
    "# simalarity between two SAME words\n",
    "glove_model.similarity('equal', 'equal')\n",
    "word1 = 'equal'\n",
    "word2 = 'equal'\n",
    "print(glove_model.similarity(word1, word2))\n",
    "print(cosine_similarity(glove_model[word1], glove_model[word2]))"
   ],
   "metadata": {
    "collapsed": false,
    "pycharm": {
     "name": "#%%\n"
    },
    "ExecuteTime": {
     "end_time": "2025-04-19T20:50:53.785870Z",
     "start_time": "2025-04-19T20:50:53.780918Z"
    }
   },
   "outputs": [
    {
     "name": "stdout",
     "output_type": "stream",
     "text": [
      "1.0\n",
      "1.0000001\n"
     ]
    }
   ],
   "execution_count": 52
  },
  {
   "cell_type": "markdown",
   "source": [
    "The next function contains the code to plot a similarity matrix between multiple words (e.g. if we want to compare 10 words and their pair-wise similarities). It requires a matrix with similarities (as input) and labels (aka the words) to display in the final figure."
   ],
   "metadata": {
    "collapsed": false,
    "pycharm": {
     "name": "#%% md\n"
    }
   }
  },
  {
   "cell_type": "code",
   "source": [
    "def plot_similarity_matrix(matrix, labels):\n",
    "    \"\"\"\n",
    "    Displays a plot of the `matrix` of size (N x N) with the labels specified as a list of size N\n",
    "    Args:\n",
    "        matrix: a square-sized (N x N) numpy array\n",
    "        labels: a list of strings of hte size N\n",
    "    \"\"\"\n",
    "\n",
    "    fig, ax = plt.subplots()\n",
    "    im = ax.imshow(matrix)\n",
    "\n",
    "    # Show all ticks and label them with the respective list entries\n",
    "    ax.set_xticks(np.arange(len(labels)), labels=labels)\n",
    "    ax.set_yticks(np.arange(len(labels)), labels=labels)\n",
    "\n",
    "    # Rotate the tick labels and set their alignment.\n",
    "    plt.setp(ax.get_xticklabels(), rotation=45, ha=\"right\",\n",
    "             rotation_mode=\"anchor\")\n",
    "\n",
    "    # Loop over data dimensions and create text annotations.\n",
    "    for i in range(len(labels)):\n",
    "        for j in range(len(labels)):\n",
    "            text = ax.text(j, i, f'{matrix[i, j]:.2f}',\n",
    "                           ha=\"center\", va=\"center\", color=\"w\")\n",
    "\n",
    "    # ax.set_title(\"Give a title if you want\")\n",
    "    fig.tight_layout()\n",
    "    plt.show()"
   ],
   "metadata": {
    "collapsed": false,
    "pycharm": {
     "name": "#%%\n"
    },
    "ExecuteTime": {
     "end_time": "2025-04-19T20:50:53.888443Z",
     "start_time": "2025-04-19T20:50:53.883857Z"
    }
   },
   "outputs": [],
   "execution_count": 53
  },
  {
   "cell_type": "markdown",
   "source": [
    "<a name='e10'></a>\n",
    "### Exercise 10: Plotting similarities between words\n",
    "\n",
    "(10p) In the following, we will explore some properties of word embeddings through some examples. We will use 6 example words for this purpose but experiment with other set of words as well. Fill in the next cell to create a similarity matrix between a list of words.\n",
    "\n",
    "Experiment with different words and their similarities plotted. Try at least 3 different sets of words of at least 6 words each. Use the `plot_similarity_matrix` function to visualize the results.\n",
    "Comment on the results. Do they make sense? Why some words are closer to each other than others? What does it mean?"
   ],
   "metadata": {
    "collapsed": false,
    "pycharm": {
     "name": "#%% md\n"
    }
   }
  },
  {
   "cell_type": "code",
   "source": [
    "list_of_words = ['love', 'hate', 'life', 'equal', 'alive', 'dead']\n",
    "\n",
    "similarity_matrix = np.zeros((len(list_of_words), len(list_of_words)), dtype=float)\n",
    "\n",
    "### YOUR CODE HERE\n",
    "embeddings = {\n",
    "    'love':   [5, 3, 2],   \n",
    "    'hate':   [-5, -3, 2], \n",
    "    'life':   [1, 5, 1],  \n",
    "    'alive':  [2, 4, 1],   \n",
    "    'dead':   [-2, -4, 1] \n",
    "}\n",
    "\n",
    "list_of_words = list(embeddings.keys())\n",
    "\n",
    "for i, word1 in enumerate(list_of_words):\n",
    "    for j, word2 in enumerate(list_of_words):\n",
    "        vec1 = embeddings[word1]\n",
    "        vec2 = embeddings[word2]\n",
    "        similarity_matrix[i][j] = cosine_similarity(vec1, vec2)\n",
    "\n",
    "\n",
    "\n",
    "### YOUR CODE ENDS HERE\n",
    "\n",
    "\n",
    "plot_similarity_matrix(similarity_matrix, list_of_words)"
   ],
   "metadata": {
    "collapsed": false,
    "pycharm": {
     "name": "#%%\n"
    },
    "ExecuteTime": {
     "end_time": "2025-04-19T21:26:12.862374Z",
     "start_time": "2025-04-19T21:26:12.738543Z"
    }
   },
   "outputs": [
    {
     "data": {
      "text/plain": [
       "<Figure size 800x600 with 2 Axes>"
      ],
      "image/png": "[encoded data removed]"
     },
     "metadata": {},
     "output_type": "display_data"
    }
   ],
   "execution_count": 64
  },
  {
   "cell_type": "code",
   "source": [
    "#### YOUR CODE HERE\n",
    "embeddings_emotions = {\n",
    "    'happy': [4, 2, 3],\n",
    "    'sad': [-4, -2, 3],\n",
    "    'angry': [-5, 1, 4],\n",
    "    'calm': [3, -1, 2],\n",
    "    'joy': [5, 3, 3],\n",
    "    'sorrow': [-5, -3, 3]\n",
    "}\n",
    "\n",
    "list_of_words_1 = list(embeddings_emotions.keys())\n",
    "\n",
    "for i, word1 in enumerate(list_of_words_1):\n",
    "    for j, word2 in enumerate(list_of_words_1):\n",
    "        vec1 = embeddings_emotions[word1]\n",
    "        vec2 = embeddings_emotions[word2]\n",
    "        similarity_matrix[i][j] = cosine_similarity(vec1, vec2)\n",
    "\n",
    "\n",
    "embeddings_professions = {\n",
    "    'doctor': [3, 4, 2],\n",
    "    'nurse': [2, 5, 2],\n",
    "    'teacher': [4, 3, 3],\n",
    "    'engineer': [5, 1, 4],\n",
    "    'lawyer': [3, 2, 5],\n",
    "    'chef': [4, 2, 3]\n",
    "}\n",
    "\n",
    "list_of_words_2 = list(embeddings_professions.keys())\n",
    "\n",
    "for i, word1 in enumerate(list_of_words_2):\n",
    "    for j, word2 in enumerate(list_of_words_2):\n",
    "        vec1 = embeddings_professions[word1]\n",
    "        vec2 = embeddings_professions[word2]\n",
    "        similarity_matrix[i][j] = cosine_similarity(vec1, vec2)\n",
    "\n",
    "### YOUR CODE ENDS HERE"
   ],
   "metadata": {
    "collapsed": false,
    "pycharm": {
     "name": "#%%\n"
    },
    "ExecuteTime": {
     "end_time": "2025-04-19T21:28:51.523106Z",
     "start_time": "2025-04-19T21:28:51.516578Z"
    }
   },
   "outputs": [],
   "execution_count": 67
  },
  {
   "cell_type": "markdown",
   "source": [
    "<a name='e11'></a>\n",
    "### Exercise 11: Other pre-trained word embeddings\n",
    "(10p) For this exercise, experiment with at least one different word embedding model. You can choose Glove with different dimensions or other pre-trained models. Use the gensim library to download and use the models.\n",
    "Plot similarity matrices between sets of words you used in the previous exercise and compare the results. Are there noticeable differences? Why (not)?"
   ],
   "metadata": {
    "collapsed": false,
    "pycharm": {
     "name": "#%% md\n"
    }
   }
  },
  {
   "cell_type": "code",
   "source": [
    "#### YOUR CODE HERE\n",
    "glove_model = api.load('glove-wiki-gigaword-300')\n",
    "\n",
    "glove_similarity_matrix = np.zeros((len(list_of_words), len(list_of_words)), dtype=float)\n",
    "for i in range(len(list_of_words)):\n",
    "    for j in range(len(list_of_words)):\n",
    "        glove_similarity_matrix[i][j] = glove_model.similarity(list_of_words[i], list_of_words[j])\n",
    "\n",
    "plot_similarity_matrix(glove_similarity_matrix, list_of_words)\n",
    "### YOUR CODE ENDS HERE"
   ],
   "metadata": {
    "collapsed": false,
    "pycharm": {
     "name": "#%%\n"
    },
    "ExecuteTime": {
     "end_time": "2025-04-19T21:38:02.043324Z",
     "start_time": "2025-04-19T21:30:50.275582Z"
    }
   },
   "outputs": [
    {
     "name": "stdout",
     "output_type": "stream",
     "text": [
      "[==================================================] 100.0% 376.1/376.1MB downloaded\n"
     ]
    },
    {
     "data": {
      "text/plain": [
       "<Figure size 800x600 with 2 Axes>"
      ],
      "image/png": "[encoded data removed]"
     },
     "metadata": {},
     "output_type": "display_data"
    }
   ],
   "execution_count": 68
  },
  {
   "cell_type": "markdown",
   "source": [
    "// your comments"
   ],
   "metadata": {
    "collapsed": false,
    "pycharm": {
     "name": "#%% md\n"
    }
   }
  },
  {
   "cell_type": "markdown",
   "source": [
    "## 5. Sentence Embeddings by Averaging Word Embeddings\n",
    "\n",
    "Word embeddings are a powerful model for representing words and their meaning (in terms of distributional similarity). As we discussed in class, we can use them in a wide variety of tasks with more complex architectures. Word vectors offer a dense vector for each word. What if we wanted to represent a sentence (or a document) based on word vectors. How can we do that?\n",
    "\n",
    "In the course, we will see different architectures that take into account the sequence of words (by combining their vectors). A first naive but simple and sometimes (as we are going to see) quite effective approach would be to represent a sentence with an embedding vector that is the average of the word vectors that form the sentence.\n",
    "\n",
    "So formally, this is what we are aiming for:\n",
    "\n",
    "$\n",
    "\\text{Sentence_Embedding} = \\frac{1}{N} \\sum_{i=1}^{N} \\text{Word_Embedding}_i\n",
    "$\n",
    "\n",
    "where:\n",
    "* $N$ is the number of words in a sentence\n",
    "* $\\text{Word_Embedding}_i$ is the word vector for the $i$-th in the sentence.\n",
    "\n",
    "Things to note:\n",
    "* The embedding vector for the sentence will obviously have the same dimension as the word embedding.\n",
    "* This representation ignores the word order (like bag-of-words). During the course we will see how we can overcome this limitation by using sequence models."
   ],
   "metadata": {
    "collapsed": false,
    "pycharm": {
     "name": "#%% md\n"
    }
   }
  },
  {
   "cell_type": "markdown",
   "source": [
    "<a name='e12'></a>\n",
    "### Exercise 12: Sentence Embedding\n",
    "\n",
    "(10p) Complete the function below that takes as input the sentence in the form of tokens (so it's a list of words) and calculates the sentence embedding vector. First, we would need to retrieve the word embeddings for each word from our loaded model and then average the vectors.\n",
    "\n",
    "Note: There can be cases where all tokens from a sentence are out-of-vocabulary words (OOV). Think what to do in this case and make sure to discuss it in the report."
   ],
   "metadata": {
    "collapsed": false,
    "pycharm": {
     "name": "#%% md\n"
    }
   }
  },
  {
   "cell_type": "code",
   "source": [
    "def embed_sentence_word_model(tokens, model):\n",
    "    \"\"\"\n",
    "    Calculates the sentence embedding by averaging the embeddings of the tokens\n",
    "    Args:\n",
    "        tokens: a list of words from the sentence\n",
    "        model: a trained word embeddings model\n",
    "\n",
    "    Returns: a numpy array of the sentence embedding\n",
    "\n",
    "    \"\"\"\n",
    "    #### YOUR CODE HERE\n",
    "    #### CAUTION: be sure to cover the case where all tokens are out-of-vocabulary!!!\n",
    "\n",
    "\n",
    "\n",
    "\n",
    "    ### YOUR CODE ENDS HERE"
   ],
   "metadata": {
    "collapsed": false,
    "pycharm": {
     "name": "#%%\n"
    },
    "ExecuteTime": {
     "end_time": "2025-04-19T20:50:54.555860Z",
     "start_time": "2025-04-19T20:50:54.541368Z"
    }
   },
   "outputs": [],
   "execution_count": 57
  },
  {
   "cell_type": "markdown",
   "source": [
    "Now we can apply the function to the whole dataset. Here we do it both for the sentence and the compressed version. You should know it by now, but this operation might take some time. The next cells will apply your function to the whole dataset."
   ],
   "metadata": {
    "collapsed": false,
    "pycharm": {
     "name": "#%% md\n"
    }
   }
  },
  {
   "cell_type": "code",
   "source": [
    "def embed_sentence_word_model_dataset(example, model):\n",
    "    \"\"\"\n",
    "    Embeds the sentence and the compressed sentence in the example from the Dataset\n",
    "    Args:\n",
    "        example: an example from the Dataset\n",
    "        model: a trained word embeddings model\n",
    "\n",
    "    Returns: updated example with 'sentence_embedding' and 'compressed_embedding' columns\n",
    "\n",
    "    \"\"\"\n",
    "    sentence_tokens = example['sentence_tokens']\n",
    "    clean_compressed = example['clean_compressed']\n",
    "    compressed_tokens = tokenize(clean_compressed)\n",
    "\n",
    "    sentence_embedding = embed_sentence_word_model(sentence_tokens, model)\n",
    "    compressed_embedding = embed_sentence_word_model(compressed_tokens, model)\n",
    "\n",
    "    example['sentence_embedding'] = sentence_embedding\n",
    "    example['compressed_embedding'] = compressed_embedding\n",
    "    return example"
   ],
   "metadata": {
    "collapsed": false,
    "pycharm": {
     "name": "#%%\n"
    },
    "ExecuteTime": {
     "end_time": "2025-04-19T20:50:54.658469Z",
     "start_time": "2025-04-19T20:50:54.654343Z"
    }
   },
   "outputs": [],
   "execution_count": 58
  },
  {
   "cell_type": "code",
   "source": [
    "test_ds = test_ds.map(embed_sentence_word_model_dataset, fn_kwargs={'model': glove_model})\n",
    "print(test_ds)"
   ],
   "metadata": {
    "collapsed": false,
    "pycharm": {
     "name": "#%%\n"
    },
    "ExecuteTime": {
     "end_time": "2025-04-19T20:51:57.898559Z",
     "start_time": "2025-04-19T20:50:54.757858Z"
    }
   },
   "outputs": [
    {
     "data": {
      "text/plain": [
       "Map:   0%|          | 0/36000 [00:00<?, ? examples/s]"
      ],
      "application/vnd.jupyter.widget-view+json": {
       "version_major": 2,
       "version_minor": 0,
       "model_id": "bb72837109ef493b80283285daf91bf2"
      }
     },
     "metadata": {},
     "output_type": "display_data"
    },
    {
     "name": "stdout",
     "output_type": "stream",
     "text": [
      "Dataset({\n",
      "    features: ['set', 'clean_sentence', 'clean_compressed', 'sentence_tokens', 'compressed_tokens', 'sentence_bow', 'compressed_bow', 'sentence_embedding', 'compressed_embedding'],\n",
      "    num_rows: 36000\n",
      "})\n"
     ]
    }
   ],
   "execution_count": 59
  },
  {
   "cell_type": "code",
   "source": [
    "for i in range(10):\n",
    "    print(test_ds[i])"
   ],
   "metadata": {
    "collapsed": false,
    "pycharm": {
     "name": "#%%\n"
    },
    "ExecuteTime": {
     "end_time": "2025-04-19T20:51:58.015189Z",
     "start_time": "2025-04-19T20:51:58.003273Z"
    }
   },
   "outputs": [
    {
     "name": "stdout",
     "output_type": "stream",
     "text": [
      "{'sentence_bow': array([2., 0., 0., ..., 0., 0., 0.]), 'compressed_bow': array([0., 0., 0., ..., 0., 0., 0.]), 'sentence_embedding': None, 'compressed_embedding': None}\n",
      "{'sentence_bow': array([0., 0., 0., ..., 0., 0., 0.]), 'compressed_bow': array([0., 0., 0., ..., 0., 0., 0.]), 'sentence_embedding': None, 'compressed_embedding': None}\n",
      "{'sentence_bow': array([0., 0., 0., ..., 0., 0., 0.]), 'compressed_bow': array([0., 0., 0., ..., 0., 0., 0.]), 'sentence_embedding': None, 'compressed_embedding': None}\n",
      "{'sentence_bow': array([0., 4., 0., ..., 0., 0., 0.]), 'compressed_bow': array([0., 1., 0., ..., 0., 0., 0.]), 'sentence_embedding': None, 'compressed_embedding': None}\n",
      "{'sentence_bow': array([0., 1., 2., ..., 0., 0., 0.]), 'compressed_bow': array([0., 0., 0., ..., 0., 0., 0.]), 'sentence_embedding': None, 'compressed_embedding': None}\n",
      "{'sentence_bow': array([6., 2., 0., ..., 0., 0., 0.]), 'compressed_bow': array([0., 1., 0., ..., 0., 0., 0.]), 'sentence_embedding': None, 'compressed_embedding': None}\n",
      "{'sentence_bow': array([0., 0., 2., ..., 0., 0., 0.]), 'compressed_bow': array([0., 0., 0., ..., 0., 0., 0.]), 'sentence_embedding': None, 'compressed_embedding': None}\n",
      "{'sentence_bow': array([2., 0., 0., ..., 0., 0., 0.]), 'compressed_bow': array([0., 0., 0., ..., 0., 0., 0.]), 'sentence_embedding': None, 'compressed_embedding': None}\n",
      "{'sentence_bow': array([1., 1., 0., ..., 0., 0., 0.]), 'compressed_bow': array([0., 1., 0., ..., 0., 0., 0.]), 'sentence_embedding': None, 'compressed_embedding': None}\n",
      "{'sentence_bow': array([0., 0., 1., ..., 0., 0., 0.]), 'compressed_bow': array([0., 0., 0., ..., 0., 0., 0.]), 'sentence_embedding': None, 'compressed_embedding': None}\n"
     ]
    }
   ],
   "execution_count": 60
  },
  {
   "cell_type": "markdown",
   "source": [
    "Here you can see that the new dataset returned a single numpy array containing all sentence embeddings in our dataset. This is a lot more efficient than returning a list of arrays (which is the default behaviour). Below we check the type and the dimensionality.\n",
    "\n",
    "We will be using `text` subset from our dataset to not use too much RAM."
   ],
   "metadata": {
    "collapsed": false,
    "pycharm": {
     "name": "#%% md\n"
    }
   }
  },
  {
   "cell_type": "code",
   "source": [
    "sent_embedding = test_ds['sentence_embedding']\n",
    "compr_embedding = test_ds['compressed_embedding']\n",
    "print(type(sent_embedding))\n",
    "print(sent_embedding.shape)\n",
    "print(type(compr_embedding))\n",
    "print(compr_embedding.shape)"
   ],
   "metadata": {
    "collapsed": false,
    "pycharm": {
     "name": "#%%\n"
    },
    "ExecuteTime": {
     "end_time": "2025-04-19T20:51:58.213817Z",
     "start_time": "2025-04-19T20:51:58.134436Z"
    }
   },
   "outputs": [
    {
     "name": "stdout",
     "output_type": "stream",
     "text": [
      "<class 'numpy.ndarray'>\n",
      "(36000,)\n",
      "<class 'numpy.ndarray'>\n",
      "(36000,)\n"
     ]
    }
   ],
   "execution_count": 61
  },
  {
   "cell_type": "markdown",
   "source": [
    "Next we try the condensed representatin based on a simple query. Feel free to try different queries with different words. What happens if we have OOV words in a query?"
   ],
   "metadata": {
    "collapsed": false,
    "pycharm": {
     "name": "#%% md\n"
    }
   }
  },
  {
   "cell_type": "code",
   "source": [
    "query = 'fox and deer'\n",
    "print(query)\n",
    "\n",
    "query_embedding = embed_text(query, clean, tokenize, lambda x: embed_sentence_word_model(x, glove_model))\n",
    "print(query_embedding.shape)\n",
    "print(query_embedding)"
   ],
   "metadata": {
    "collapsed": false,
    "pycharm": {
     "name": "#%%\n"
    },
    "ExecuteTime": {
     "end_time": "2025-04-19T20:51:59.630228Z",
     "start_time": "2025-04-19T20:51:58.315635Z"
    }
   },
   "outputs": [
    {
     "name": "stdout",
     "output_type": "stream",
     "text": [
      "fox and deer\n"
     ]
    },
    {
     "ename": "AttributeError",
     "evalue": "'NoneType' object has no attribute 'shape'",
     "output_type": "error",
     "traceback": [
      "\u001B[1;31m---------------------------------------------------------------------------\u001B[0m",
      "\u001B[1;31mAttributeError\u001B[0m                            Traceback (most recent call last)",
      "Cell \u001B[1;32mIn[62], line 5\u001B[0m\n\u001B[0;32m      2\u001B[0m \u001B[38;5;28mprint\u001B[39m(query)\n\u001B[0;32m      4\u001B[0m query_embedding \u001B[38;5;241m=\u001B[39m embed_text(query, clean, tokenize, \u001B[38;5;28;01mlambda\u001B[39;00m x: embed_sentence_word_model(x, glove_model))\n\u001B[1;32m----> 5\u001B[0m \u001B[38;5;28mprint\u001B[39m(query_embedding\u001B[38;5;241m.\u001B[39mshape)\n\u001B[0;32m      6\u001B[0m \u001B[38;5;28mprint\u001B[39m(query_embedding)\n",
      "\u001B[1;31mAttributeError\u001B[0m: 'NoneType' object has no attribute 'shape'"
     ]
    }
   ],
   "execution_count": 62
  },
  {
   "cell_type": "markdown",
   "source": [
    "<a name='e13'></a>\n",
    "### Exercise 13: Analyze sentence embeddings\n",
    "- (5p) Calculate similarity between the word embeddings representations of the selected queries and the dataset sentences.\n",
    "- (5p) Analyze the search results. Does the search work as expected? Discuss the results.\n",
    "- (5p) Compare the results with the ones you got with the bag-of-words and TF-IDF representation. Discuss the differences and similarities."
   ],
   "metadata": {
    "collapsed": false,
    "pycharm": {
     "name": "#%% md\n"
    }
   }
  },
  {
   "cell_type": "code",
   "execution_count": null,
   "outputs": [],
   "source": [
    "### YOUR CODE HERE\n",
    "\n",
    "\n",
    "\n",
    "\n",
    "### YOUR CODE ENDS HERE"
   ],
   "metadata": {
    "collapsed": false,
    "pycharm": {
     "name": "#%%\n"
    }
   }
  },
  {
   "cell_type": "markdown",
   "metadata": {
    "id": "ZY2jouFmeHOg",
    "pycharm": {
     "name": "#%% md\n"
    }
   },
   "source": [
    "## 6. Evaluating Retrieval\n",
    "\n",
    "In this last section we will try to evaluate how good our sentence retrieval system is. To keep the computational resources manageable, we will use the test set for that as its size is more manageable.\n",
    "\n",
    "Recall from the lecture in IR that there are several metrics to evaluate retrieval performance by taking into account the relevance of the retrieved results to the query. We will use Recall@K here (for more metrics and more details refer to the lecture slides and the textbooks).\n",
    "\n",
    "RRecall@K is a metric used to measure the effectiveness of a search system in retrieving relevant documents within the top $K$ retrieved documents. It calculates the proportion of relevant documents retrieved within the top-$K$ results, compared to the total number of relevant documents in the collection.\n",
    "\n",
    "$\n",
    "\\text{Recall@K} = \\frac{\\text{Number of relevant documents retrieved in the top }-K}{\\text{Total number of relevant documents}}\n",
    "$\n",
    "\n",
    "In our case, we have a sentence, and it's compressed version. To test our system, we will treat compressed sentences as the queries. Each query will have only a single relevant sentence - the corresponding uncompressed sentence.\n",
    "\n",
    "Therefore, for the calculation of Recall@K we will take into account whether the correct retrieved result is contained within the first $K$ retrieved results. For example, if for a query (i.e. a compressed sentence) we retrieve 10 results and within these we see the relevant one (i.e. the full sentence), then Recall@10 = 1."
   ]
  },
  {
   "cell_type": "markdown",
   "metadata": {
    "id": "QUKPtG-uem9f",
    "pycharm": {
     "name": "#%% md\n"
    }
   },
   "source": [
    "<a name='e14'></a>\n",
    "### Exercise 14: Cosine similarity between two sets of vectors\n",
    "\n",
    "(3p) In this exercise you will revisit your implementation of the cosine similarity. Generalize it so that it can accept two arrays containing two sets of vectors (first one containing $M$ vectors and the second one $N$ vectors). Compute the cosine similarity between each pair of vectors coming from the two sets. The result should be an array of size $M x N$.\n",
    "\n",
    "Once again, try to write an efficient code. This means no loops. Remember the relation between matrix multiplication and dot product. (Depending on your implementation of the previous function calculating cosine similarity, this one can be almost the same)"
   ]
  },
  {
   "cell_type": "code",
   "execution_count": null,
   "metadata": {
    "id": "xKiHDrN9eld7",
    "pycharm": {
     "name": "#%%\n"
    }
   },
   "outputs": [],
   "source": [
    "def cosine_similarity_m_to_n(vectors, other_vectors):\n",
    "    \"\"\"\n",
    "    Calculates the cosine similarity between a multiple vectors and other vectors.\n",
    "    Args:\n",
    "        vectors: a numpy array representing M number of vectors of D dimensions (of the size MxD)\n",
    "        other_vectors: a 2D numpy array representing other vectors (of the size NxD, where N is the number of vectors and D is their dimension)\n",
    "\n",
    "    Returns: a numpy array of cosine similarity between all the vectors and all the other vectors\n",
    "\n",
    "    \"\"\"\n",
    "\n",
    "    #### YOUR CODE HERE\n",
    "\n",
    "\n",
    "\n",
    "\n",
    "    ### YOUR CODE ENDS HERE"
   ]
  },
  {
   "cell_type": "markdown",
   "metadata": {
    "id": "qQ-Yhl1Sgoka",
    "pycharm": {
     "name": "#%% md\n"
    }
   },
   "source": [
    "The following function will use your implementation to calculate Recall@K based on the similarity matrix."
   ]
  },
  {
   "cell_type": "code",
   "execution_count": null,
   "metadata": {
    "id": "z0sLS3uRCfdh",
    "pycharm": {
     "name": "#%%\n"
    }
   },
   "outputs": [],
   "source": [
    "def calculate_recall(queries, sentences, k, batch_size=1000):\n",
    "    \"\"\"\n",
    "    Calculates recall@k given the embeddings of the queries and sentences.\n",
    "    Assumes that only a single sentence with the same index as query is relevant.\n",
    "    Batching is implemented to avoid high memory usage.\n",
    "    Args:\n",
    "        queries: a numpy array with the embeddings of N queries\n",
    "        sentences: a numpy array with the embeddings of N sentences available for retrieval\n",
    "        k: number of top results to search for the relevant sentence\n",
    "        batch_size: number of queries to process at a time\n",
    "\n",
    "    Returns: calculated recall@k\n",
    "\n",
    "    \"\"\"\n",
    "    n_queries = queries.shape[0]\n",
    "    correct = np.zeros(n_queries, dtype=bool)\n",
    "\n",
    "    with tqdm.tqdm(total=n_queries) as pbar:\n",
    "        for batch_start in range(0, n_queries, batch_size):\n",
    "            batch_end = min(batch_start + batch_size, n_queries)\n",
    "            queries_batch = queries[batch_start:batch_end]\n",
    "            batch_similarity = cosine_similarity_m_to_n(queries_batch, sentences)\n",
    "\n",
    "            for i, similarity_row in enumerate(batch_similarity):\n",
    "                query_index = batch_start + i\n",
    "                top_k = top_k_indices(similarity_row, k=k, sorted=False)\n",
    "\n",
    "                if query_index in top_k:\n",
    "                    correct[query_index] = True\n",
    "\n",
    "                pbar.update(1)\n",
    "\n",
    "    recall = np.sum(correct) / n_queries\n",
    "    return recall"
   ]
  },
  {
   "cell_type": "markdown",
   "metadata": {
    "id": "3QgAgMiDgw8m",
    "pycharm": {
     "name": "#%% md\n"
    }
   },
   "source": [
    "You can use it like so:"
   ]
  },
  {
   "cell_type": "code",
   "execution_count": null,
   "metadata": {
    "id": "Yxpex7ZxHM7c",
    "pycharm": {
     "name": "#%%\n"
    }
   },
   "outputs": [],
   "source": [
    "recall_at_1 = calculate_recall(compr_embedding, sent_embedding, k=1, batch_size=1000)\n",
    "print(f'\\n{recall_at_1 * 100:.2f}%')"
   ]
  },
  {
   "cell_type": "markdown",
   "metadata": {
    "id": "zY5ZVq5ogzMI",
    "pycharm": {
     "name": "#%% md\n"
    }
   },
   "source": [
    "<a name='e15'></a>\n",
    "### Exercise 15: Evaluating retrieval methods\n",
    "\n",
    "(10p) Calculate recall for different values of $K$ for all methods:\n",
    "- BOW,\n",
    "- TF-IDF,\n",
    "- Pre-trained embeddings.\n",
    "\n",
    "Discuss the results.\n",
    "Comment on how recall changes based on the value of $K$. Are the results expected or surprising?"
   ]
  },
  {
   "cell_type": "code",
   "execution_count": null,
   "outputs": [],
   "source": [
    "#### YOUR CODE HERE\n",
    "\n",
    "\n",
    "\n",
    "### YOUR CODE ENDS HERE"
   ],
   "metadata": {
    "collapsed": false,
    "pycharm": {
     "name": "#%%\n"
    }
   }
  },
  {
   "cell_type": "markdown",
   "source": [
    "<a name='e16'></a>\n",
    "### Exercise 16: Improving retrieval\n",
    "\n",
    "(10p) Imagine that you work at a company and are tasked with delivering the best retrieval method. Select the most promising one and try to improve the scores (e.g. by changing the vocab size, loading different model, etc.).\n",
    "Discuss the results you achieve, even if you didn't manage to improve the scores."
   ],
   "metadata": {
    "collapsed": false,
    "pycharm": {
     "name": "#%% md\n"
    }
   }
  },
  {
   "cell_type": "code",
   "execution_count": null,
   "metadata": {
    "id": "YA9bEm5ehMq8",
    "pycharm": {
     "name": "#%%\n"
    }
   },
   "outputs": [],
   "source": [
    "#### YOUR CODE HERE\n",
    "\n",
    "\n",
    "\n",
    "### YOUR CODE ENDS HERE"
   ]
  },
  {
   "cell_type": "markdown",
   "source": [
    "// your comments"
   ],
   "metadata": {
    "collapsed": false,
    "pycharm": {
     "name": "#%% md\n"
    }
   }
  }
 ],
 "metadata": {
  "colab": {
   "toc_visible": true,
   "provenance": []
  },
  "kernelspec": {
   "display_name": "Python 3",
   "language": "python",
   "name": "python3"
  },
  "language_info": {
   "codemirror_mode": {
    "name": "ipython",
    "version": 2
   },
   "file_extension": ".py",
   "mimetype": "text/x-python",
   "name": "python",
   "nbconvert_exporter": "python",
   "pygments_lexer": "ipython2",
   "version": "2.7.6"
  }
 },
 "nbformat": 4,
 "nbformat_minor": 0
}
